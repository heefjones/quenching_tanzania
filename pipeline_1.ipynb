{
 "cells": [
  {
   "cell_type": "code",
   "execution_count": 2,
   "metadata": {},
   "outputs": [],
   "source": [
    "import numpy as np\n",
    "import pandas as pd\n",
    "\n",
    "from sklearn.model_selection import train_test_split, cross_val_score, cross_validate\n",
    "from sklearn.preprocessing import OneHotEncoder, StandardScaler, PolynomialFeatures\n",
    "from sklearn.impute import SimpleImputer, MissingIndicator\n",
    "from sklearn.linear_model import LogisticRegression\n",
    "from sklearn.compose import ColumnTransformer\n",
    "from sklearn.dummy import DummyRegressor\n",
    "from sklearn.pipeline import Pipeline\n",
    "\n",
    "import matplotlib as plt\n",
    "import seaborn as sns\n",
    "%matplotlib inline\n",
    "\n",
    "pd.options.display.max_columns = 50"
   ]
  },
  {
   "cell_type": "code",
   "execution_count": 12,
   "metadata": {},
   "outputs": [],
   "source": [
    "features = pd.read_csv('data/x_train.csv').drop(['date_recorded', 'num_private', 'region', 'scheme_management', \n",
    "                                                 'extraction_type_class', 'extraction_type_group', 'payment', 'quality_group', \n",
    "                                                 'quantity_group', 'source_type', 'waterpoint_type_group'], axis=1)\n",
    "labels = pd.read_csv('data/y_train.csv')\n",
    "\n",
    "# master dataframe\n",
    "df = features.merge(labels, on='id').drop('id', axis=1)"
   ]
  },
  {
   "cell_type": "code",
   "execution_count": 13,
   "metadata": {},
   "outputs": [
    {
     "name": "stdout",
     "output_type": "stream",
     "text": [
      "<class 'pandas.core.frame.DataFrame'>\n",
      "Int64Index: 59400 entries, 0 to 59399\n",
      "Data columns (total 29 columns):\n",
      " #   Column             Non-Null Count  Dtype  \n",
      "---  ------             --------------  -----  \n",
      " 0   amount_tsh         59400 non-null  float64\n",
      " 1   funder             55765 non-null  object \n",
      " 2   gps_height         59400 non-null  int64  \n",
      " 3   installer          55745 non-null  object \n",
      " 4   longitude          59400 non-null  float64\n",
      " 5   latitude           59400 non-null  float64\n",
      " 6   wpt_name           59400 non-null  object \n",
      " 7   basin              59400 non-null  object \n",
      " 8   subvillage         59029 non-null  object \n",
      " 9   region_code        59400 non-null  int64  \n",
      " 10  district_code      59400 non-null  int64  \n",
      " 11  lga                59400 non-null  object \n",
      " 12  ward               59400 non-null  object \n",
      " 13  population         59400 non-null  int64  \n",
      " 14  public_meeting     56066 non-null  object \n",
      " 15  recorded_by        59400 non-null  object \n",
      " 16  scheme_name        31234 non-null  object \n",
      " 17  permit             56344 non-null  object \n",
      " 18  construction_year  59400 non-null  int64  \n",
      " 19  extraction_type    59400 non-null  object \n",
      " 20  management         59400 non-null  object \n",
      " 21  management_group   59400 non-null  object \n",
      " 22  payment_type       59400 non-null  object \n",
      " 23  water_quality      59400 non-null  object \n",
      " 24  quantity           59400 non-null  object \n",
      " 25  source             59400 non-null  object \n",
      " 26  source_class       59400 non-null  object \n",
      " 27  waterpoint_type    59400 non-null  object \n",
      " 28  status_group       59400 non-null  object \n",
      "dtypes: float64(3), int64(5), object(21)\n",
      "memory usage: 13.6+ MB\n"
     ]
    }
   ],
   "source": [
    "df.info()"
   ]
  },
  {
   "cell_type": "code",
   "execution_count": null,
   "metadata": {},
   "outputs": [],
   "source": [
    "# get numeric and object columns\n",
    "ncols"
   ]
  },
  {
   "cell_type": "code",
   "execution_count": null,
   "metadata": {},
   "outputs": [],
   "source": []
  },
  {
   "cell_type": "code",
   "execution_count": null,
   "metadata": {},
   "outputs": [],
   "source": []
  },
  {
   "cell_type": "code",
   "execution_count": null,
   "metadata": {},
   "outputs": [],
   "source": []
  },
  {
   "cell_type": "code",
   "execution_count": null,
   "metadata": {},
   "outputs": [],
   "source": []
  },
  {
   "cell_type": "code",
   "execution_count": null,
   "metadata": {},
   "outputs": [],
   "source": []
  },
  {
   "cell_type": "code",
   "execution_count": null,
   "metadata": {},
   "outputs": [],
   "source": []
  },
  {
   "cell_type": "code",
   "execution_count": null,
   "metadata": {},
   "outputs": [],
   "source": []
  },
  {
   "cell_type": "code",
   "execution_count": null,
   "metadata": {},
   "outputs": [],
   "source": []
  },
  {
   "cell_type": "code",
   "execution_count": null,
   "metadata": {},
   "outputs": [],
   "source": [
    "# create X and y\n",
    "X = df.drop('status_group', axis=1)\n",
    "y = df.status_group\n",
    "\n",
    "# split into train and test sets\n",
    "X_train, X_test, y_train, y_test = train_test_split(X, y, test_size=0.2, random_state=0)"
   ]
  }
 ],
 "metadata": {
  "kernelspec": {
   "display_name": "Python (learn-env)",
   "language": "python",
   "name": "learn-env"
  },
  "language_info": {
   "codemirror_mode": {
    "name": "ipython",
    "version": 3
   },
   "file_extension": ".py",
   "mimetype": "text/x-python",
   "name": "python",
   "nbconvert_exporter": "python",
   "pygments_lexer": "ipython3",
   "version": "3.8.5"
  }
 },
 "nbformat": 4,
 "nbformat_minor": 4
}
