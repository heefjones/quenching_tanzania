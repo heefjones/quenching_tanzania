{
 "cells": [
  {
   "cell_type": "markdown",
   "metadata": {
    "heading_collapsed": true
   },
   "source": [
    "# Clean dataset before injecting into pipeline\n",
    "- In this notebook, we analyze each individual column to determine the most useful features to include in the training of our final model."
   ]
  },
  {
   "cell_type": "code",
   "execution_count": 1,
   "metadata": {
    "ExecuteTime": {
     "end_time": "2023-10-07T02:33:35.945180Z",
     "start_time": "2023-10-07T02:33:34.402399Z"
    },
    "hidden": true
   },
   "outputs": [],
   "source": [
    "# import dependencies\n",
    "\n",
    "import numpy as np\n",
    "import pandas as pd\n",
    "\n",
    "import matplotlib as plt\n",
    "import seaborn as sns\n",
    "%matplotlib inline\n",
    "\n",
    "pd.options.display.max_columns = 100"
   ]
  },
  {
   "cell_type": "code",
   "execution_count": 2,
   "metadata": {
    "ExecuteTime": {
     "end_time": "2023-10-07T02:33:35.961194Z",
     "start_time": "2023-10-07T02:33:35.946182Z"
    },
    "hidden": true
   },
   "outputs": [],
   "source": [
    "# columns that i will be dropping\n",
    "drops = []"
   ]
  },
  {
   "cell_type": "markdown",
   "metadata": {
    "hidden": true
   },
   "source": [
    "## Load in data:"
   ]
  },
  {
   "cell_type": "code",
   "execution_count": 3,
   "metadata": {
    "ExecuteTime": {
     "end_time": "2023-10-07T02:33:36.391283Z",
     "start_time": "2023-10-07T02:33:35.963197Z"
    },
    "hidden": true
   },
   "outputs": [
    {
     "name": "stdout",
     "output_type": "stream",
     "text": [
      "Total wells in original dataset: 59400\n",
      "Number of columns: 41\n"
     ]
    }
   ],
   "source": [
    "features = pd.read_csv('data/x_train.csv')\n",
    "labels = pd.read_csv('data/y_train.csv')\n",
    "\n",
    "# merge the target col to the features df\n",
    "features = features.merge(labels, on='id')\n",
    "\n",
    "print(f'Total wells in original dataset: {features.shape[0]}\\nNumber of columns: {features.shape[1]}')"
   ]
  },
  {
   "cell_type": "markdown",
   "metadata": {
    "hidden": true
   },
   "source": [
    "### Dataset:\n",
    "- Almost 60,000 total wells to analyze.\n",
    "- 39 features (not including id or status_group)."
   ]
  },
  {
   "cell_type": "markdown",
   "metadata": {
    "heading_collapsed": true
   },
   "source": [
    "# Null values:\n",
    "- Null values are handled in the [pipeline notebook](./model_pipeline.ipynb) using sklearn's SimpleImputer and MissingIndicator."
   ]
  },
  {
   "cell_type": "code",
   "execution_count": 4,
   "metadata": {
    "ExecuteTime": {
     "end_time": "2023-10-07T02:33:36.470270Z",
     "start_time": "2023-10-07T02:33:36.392285Z"
    },
    "hidden": true
   },
   "outputs": [
    {
     "data": {
      "text/plain": [
       "id                           0\n",
       "amount_tsh                   0\n",
       "date_recorded                0\n",
       "funder                    3635\n",
       "gps_height                   0\n",
       "installer                 3655\n",
       "longitude                    0\n",
       "latitude                     0\n",
       "wpt_name                     0\n",
       "num_private                  0\n",
       "basin                        0\n",
       "subvillage                 371\n",
       "region                       0\n",
       "region_code                  0\n",
       "district_code                0\n",
       "lga                          0\n",
       "ward                         0\n",
       "population                   0\n",
       "public_meeting            3334\n",
       "recorded_by                  0\n",
       "scheme_management         3877\n",
       "scheme_name              28166\n",
       "permit                    3056\n",
       "construction_year            0\n",
       "extraction_type              0\n",
       "extraction_type_group        0\n",
       "extraction_type_class        0\n",
       "management                   0\n",
       "management_group             0\n",
       "payment                      0\n",
       "payment_type                 0\n",
       "water_quality                0\n",
       "quality_group                0\n",
       "quantity                     0\n",
       "quantity_group               0\n",
       "source                       0\n",
       "source_type                  0\n",
       "source_class                 0\n",
       "waterpoint_type              0\n",
       "waterpoint_type_group        0\n",
       "status_group                 0\n",
       "dtype: int64"
      ]
     },
     "execution_count": 4,
     "metadata": {},
     "output_type": "execute_result"
    }
   ],
   "source": [
    "# overview of null values\n",
    "features.isna().sum()"
   ]
  },
  {
   "cell_type": "markdown",
   "metadata": {
    "hidden": true
   },
   "source": [
    "- Most columns don't have null values.\n",
    "- Even the columns with nulls generally don't have many."
   ]
  },
  {
   "cell_type": "markdown",
   "metadata": {
    "heading_collapsed": true
   },
   "source": [
    "# Add \"age\" column:"
   ]
  },
  {
   "cell_type": "markdown",
   "metadata": {
    "hidden": true
   },
   "source": [
    "- Some values in the dataset may not be null, but instead filled with the placeholder of \"0\"."
   ]
  },
  {
   "cell_type": "code",
   "execution_count": 5,
   "metadata": {
    "ExecuteTime": {
     "end_time": "2023-10-07T02:33:36.486284Z",
     "start_time": "2023-10-07T02:33:36.471271Z"
    },
    "hidden": true
   },
   "outputs": [
    {
     "data": {
      "text/plain": [
       "dtype('O')"
      ]
     },
     "execution_count": 5,
     "metadata": {},
     "output_type": "execute_result"
    }
   ],
   "source": [
    "features.date_recorded.dtype"
   ]
  },
  {
   "cell_type": "code",
   "execution_count": 6,
   "metadata": {
    "ExecuteTime": {
     "end_time": "2023-10-07T02:33:36.518314Z",
     "start_time": "2023-10-07T02:33:36.487285Z"
    },
    "hidden": true
   },
   "outputs": [
    {
     "data": {
      "text/plain": [
       "(0, 41)"
      ]
     },
     "execution_count": 6,
     "metadata": {},
     "output_type": "execute_result"
    }
   ],
   "source": [
    "# check date_recorded for missing values\n",
    "features[features['date_recorded'] == '0'].shape"
   ]
  },
  {
   "cell_type": "code",
   "execution_count": 7,
   "metadata": {
    "ExecuteTime": {
     "end_time": "2023-10-07T02:33:36.534487Z",
     "start_time": "2023-10-07T02:33:36.519314Z"
    },
    "hidden": true
   },
   "outputs": [
    {
     "data": {
      "text/plain": [
       "dtype('int64')"
      ]
     },
     "execution_count": 7,
     "metadata": {},
     "output_type": "execute_result"
    }
   ],
   "source": [
    "features.construction_year.dtype"
   ]
  },
  {
   "cell_type": "code",
   "execution_count": 8,
   "metadata": {
    "ExecuteTime": {
     "end_time": "2023-10-07T02:33:36.565283Z",
     "start_time": "2023-10-07T02:33:36.536436Z"
    },
    "hidden": true
   },
   "outputs": [
    {
     "data": {
      "text/plain": [
       "(20709, 41)"
      ]
     },
     "execution_count": 8,
     "metadata": {},
     "output_type": "execute_result"
    }
   ],
   "source": [
    "# check construction_year for missing values\n",
    "features[features['construction_year'] == 0].shape"
   ]
  },
  {
   "cell_type": "markdown",
   "metadata": {
    "hidden": true
   },
   "source": [
    "- Over 20,000 wells missing construction_year (1/3 of the dataset).\n",
    "- If I want to use the age of the well as a feature, I need to fill these values with mean or median."
   ]
  },
  {
   "cell_type": "code",
   "execution_count": 9,
   "metadata": {
    "ExecuteTime": {
     "end_time": "2023-10-07T02:33:36.597314Z",
     "start_time": "2023-10-07T02:33:36.567285Z"
    },
    "hidden": true
   },
   "outputs": [
    {
     "data": {
      "text/html": [
       "<div>\n",
       "<style scoped>\n",
       "    .dataframe tbody tr th:only-of-type {\n",
       "        vertical-align: middle;\n",
       "    }\n",
       "\n",
       "    .dataframe tbody tr th {\n",
       "        vertical-align: top;\n",
       "    }\n",
       "\n",
       "    .dataframe thead th {\n",
       "        text-align: right;\n",
       "    }\n",
       "</style>\n",
       "<table border=\"1\" class=\"dataframe\">\n",
       "  <thead>\n",
       "    <tr style=\"text-align: right;\">\n",
       "      <th></th>\n",
       "      <th>count</th>\n",
       "      <th>mean</th>\n",
       "      <th>std</th>\n",
       "      <th>min</th>\n",
       "      <th>25%</th>\n",
       "      <th>50%</th>\n",
       "      <th>75%</th>\n",
       "      <th>max</th>\n",
       "    </tr>\n",
       "  </thead>\n",
       "  <tbody>\n",
       "    <tr>\n",
       "      <th>construction_year</th>\n",
       "      <td>59400.0</td>\n",
       "      <td>1300.652475</td>\n",
       "      <td>951.620547</td>\n",
       "      <td>0.0</td>\n",
       "      <td>0.0</td>\n",
       "      <td>1986.0</td>\n",
       "      <td>2004.0</td>\n",
       "      <td>2013.0</td>\n",
       "    </tr>\n",
       "  </tbody>\n",
       "</table>\n",
       "</div>"
      ],
      "text/plain": [
       "                     count         mean         std  min  25%     50%     75%  \\\n",
       "construction_year  59400.0  1300.652475  951.620547  0.0  0.0  1986.0  2004.0   \n",
       "\n",
       "                      max  \n",
       "construction_year  2013.0  "
      ]
     },
     "execution_count": 9,
     "metadata": {},
     "output_type": "execute_result"
    }
   ],
   "source": [
    "features[['construction_year']].describe().T"
   ]
  },
  {
   "cell_type": "markdown",
   "metadata": {
    "hidden": true
   },
   "source": [
    "- Mean (year 1300) is unrealistic. Median (1986) is a much better fill value."
   ]
  },
  {
   "cell_type": "code",
   "execution_count": 10,
   "metadata": {
    "ExecuteTime": {
     "end_time": "2023-10-07T02:33:36.645356Z",
     "start_time": "2023-10-07T02:33:36.598314Z"
    },
    "hidden": true
   },
   "outputs": [],
   "source": [
    "# mask for missing construction_year\n",
    "mask = features['construction_year'].astype(int) == 0\n",
    "\n",
    "# set construction_year to median (1986) if missing\n",
    "features.loc[mask, 'construction_year'] = features['construction_year'].median()\n",
    "\n",
    "# calculate age in years\n",
    "features['age_years'] = features['date_recorded'].str[:4].astype(int) - features['construction_year']"
   ]
  },
  {
   "cell_type": "code",
   "execution_count": 11,
   "metadata": {
    "ExecuteTime": {
     "end_time": "2023-10-07T02:33:36.661371Z",
     "start_time": "2023-10-07T02:33:36.646357Z"
    },
    "hidden": true
   },
   "outputs": [],
   "source": [
    "# drop the two date columns, as age_years should capture this information\n",
    "drops.append('date_recorded')\n",
    "drops.append('construction_year')"
   ]
  },
  {
   "cell_type": "markdown",
   "metadata": {},
   "source": [
    "# Individual column analysis:\n",
    "- Analyze each individual column by looking at unique values and potential pseudo-null (fill values)."
   ]
  },
  {
   "cell_type": "markdown",
   "metadata": {
    "heading_collapsed": true
   },
   "source": [
    "### total static head:\n",
    "- Change in elevatin between water source and discharge (where water is released). The distance that the water must travel to get from source to output."
   ]
  },
  {
   "cell_type": "code",
   "execution_count": 12,
   "metadata": {
    "ExecuteTime": {
     "end_time": "2023-10-07T02:33:36.677385Z",
     "start_time": "2023-10-07T02:33:36.662372Z"
    },
    "hidden": true
   },
   "outputs": [
    {
     "data": {
      "text/html": [
       "<div>\n",
       "<style scoped>\n",
       "    .dataframe tbody tr th:only-of-type {\n",
       "        vertical-align: middle;\n",
       "    }\n",
       "\n",
       "    .dataframe tbody tr th {\n",
       "        vertical-align: top;\n",
       "    }\n",
       "\n",
       "    .dataframe thead th {\n",
       "        text-align: right;\n",
       "    }\n",
       "</style>\n",
       "<table border=\"1\" class=\"dataframe\">\n",
       "  <thead>\n",
       "    <tr style=\"text-align: right;\">\n",
       "      <th></th>\n",
       "      <th>count</th>\n",
       "      <th>mean</th>\n",
       "      <th>std</th>\n",
       "      <th>min</th>\n",
       "      <th>25%</th>\n",
       "      <th>50%</th>\n",
       "      <th>75%</th>\n",
       "      <th>max</th>\n",
       "    </tr>\n",
       "  </thead>\n",
       "  <tbody>\n",
       "    <tr>\n",
       "      <th>amount_tsh</th>\n",
       "      <td>59400.0</td>\n",
       "      <td>317.650385</td>\n",
       "      <td>2997.574558</td>\n",
       "      <td>0.0</td>\n",
       "      <td>0.0</td>\n",
       "      <td>0.0</td>\n",
       "      <td>20.0</td>\n",
       "      <td>350000.0</td>\n",
       "    </tr>\n",
       "  </tbody>\n",
       "</table>\n",
       "</div>"
      ],
      "text/plain": [
       "              count        mean          std  min  25%  50%   75%       max\n",
       "amount_tsh  59400.0  317.650385  2997.574558  0.0  0.0  0.0  20.0  350000.0"
      ]
     },
     "execution_count": 12,
     "metadata": {},
     "output_type": "execute_result"
    }
   ],
   "source": [
    "features.amount_tsh.to_frame().describe().T"
   ]
  },
  {
   "cell_type": "markdown",
   "metadata": {
    "hidden": true
   },
   "source": [
    "- Lots of TSH of 0. Even the median (50%) value is 0. This could be due to missing values or different pump types.\n",
    "- Standard deviation is massive (almost 10x the mean)."
   ]
  },
  {
   "cell_type": "markdown",
   "metadata": {
    "heading_collapsed": true
   },
   "source": [
    "### funder:"
   ]
  },
  {
   "cell_type": "code",
   "execution_count": 13,
   "metadata": {
    "ExecuteTime": {
     "end_time": "2023-10-07T02:33:36.693400Z",
     "start_time": "2023-10-07T02:33:36.678386Z"
    },
    "hidden": true
   },
   "outputs": [
    {
     "data": {
      "text/plain": [
       "1897"
      ]
     },
     "execution_count": 13,
     "metadata": {},
     "output_type": "execute_result"
    }
   ],
   "source": [
    "features.funder.nunique()"
   ]
  },
  {
   "cell_type": "markdown",
   "metadata": {
    "hidden": true
   },
   "source": [
    "- almost 1900 unique funders\n",
    "- This may be too many columns to encode"
   ]
  },
  {
   "cell_type": "code",
   "execution_count": 14,
   "metadata": {
    "ExecuteTime": {
     "end_time": "2023-10-07T02:33:36.709414Z",
     "start_time": "2023-10-07T02:33:36.694401Z"
    },
    "hidden": true
   },
   "outputs": [],
   "source": [
    "# get counts of num wells funded for each funder\n",
    "funders = features.funder.value_counts()\n",
    "\n",
    "# funders that have funded at least 100 wells\n",
    "top_funders = funders[funders >= 100].index.tolist()\n",
    "vals = funders[funders >= 100].values.tolist()"
   ]
  },
  {
   "cell_type": "code",
   "execution_count": 15,
   "metadata": {
    "ExecuteTime": {
     "end_time": "2023-10-07T02:33:36.725429Z",
     "start_time": "2023-10-07T02:33:36.710415Z"
    },
    "hidden": true
   },
   "outputs": [
    {
     "data": {
      "text/plain": [
       "91"
      ]
     },
     "execution_count": 15,
     "metadata": {},
     "output_type": "execute_result"
    }
   ],
   "source": [
    "num_funders = len(top_funders)\n",
    "num_funders"
   ]
  },
  {
   "cell_type": "markdown",
   "metadata": {
    "hidden": true
   },
   "source": [
    "- 91 / 1897 funders have built more than 100 wells."
   ]
  },
  {
   "cell_type": "code",
   "execution_count": 16,
   "metadata": {
    "ExecuteTime": {
     "end_time": "2023-10-07T02:33:36.741443Z",
     "start_time": "2023-10-07T02:33:36.726431Z"
    },
    "hidden": true
   },
   "outputs": [
    {
     "name": "stdout",
     "output_type": "stream",
     "text": [
      "The top 4.8% of funders make up 73.0% of the data.\n"
     ]
    }
   ],
   "source": [
    "print(f'''The top {num_funders / features.funder.nunique() * 100 :.1f}% of funders make up \\\n",
    "{sum(vals) / features.shape[0] * 100 :.1f}% of the data.''')"
   ]
  },
  {
   "cell_type": "markdown",
   "metadata": {
    "hidden": true
   },
   "source": [
    "- Taking funders with 100+ wells funded in dataset.\n",
    "- This will result in less One-hot encoded columns and make training process smoother."
   ]
  },
  {
   "cell_type": "code",
   "execution_count": 17,
   "metadata": {
    "ExecuteTime": {
     "end_time": "2023-10-07T02:33:36.757458Z",
     "start_time": "2023-10-07T02:33:36.742445Z"
    },
    "hidden": true
   },
   "outputs": [],
   "source": [
    "# replace other funders with \"other\"\n",
    "features['funder'] = features['funder'].where(features['funder'].isin(top_funders), 'other')"
   ]
  },
  {
   "cell_type": "markdown",
   "metadata": {
    "heading_collapsed": true
   },
   "source": [
    "### gps_height:\n",
    "- Indicates the altitude of the well, presumably compared to sea level."
   ]
  },
  {
   "cell_type": "code",
   "execution_count": 18,
   "metadata": {
    "ExecuteTime": {
     "end_time": "2023-10-07T02:33:36.773473Z",
     "start_time": "2023-10-07T02:33:36.758459Z"
    },
    "hidden": true
   },
   "outputs": [],
   "source": [
    "# cast this col from int to float\n",
    "features.gps_height = features.gps_height.astype(float)"
   ]
  },
  {
   "cell_type": "code",
   "execution_count": 19,
   "metadata": {
    "ExecuteTime": {
     "end_time": "2023-10-07T02:33:36.804862Z",
     "start_time": "2023-10-07T02:33:36.774474Z"
    },
    "hidden": true
   },
   "outputs": [
    {
     "data": {
      "text/html": [
       "<div>\n",
       "<style scoped>\n",
       "    .dataframe tbody tr th:only-of-type {\n",
       "        vertical-align: middle;\n",
       "    }\n",
       "\n",
       "    .dataframe tbody tr th {\n",
       "        vertical-align: top;\n",
       "    }\n",
       "\n",
       "    .dataframe thead th {\n",
       "        text-align: right;\n",
       "    }\n",
       "</style>\n",
       "<table border=\"1\" class=\"dataframe\">\n",
       "  <thead>\n",
       "    <tr style=\"text-align: right;\">\n",
       "      <th></th>\n",
       "      <th>count</th>\n",
       "      <th>mean</th>\n",
       "      <th>std</th>\n",
       "      <th>min</th>\n",
       "      <th>25%</th>\n",
       "      <th>50%</th>\n",
       "      <th>75%</th>\n",
       "      <th>max</th>\n",
       "    </tr>\n",
       "  </thead>\n",
       "  <tbody>\n",
       "    <tr>\n",
       "      <th>gps_height</th>\n",
       "      <td>59400.0</td>\n",
       "      <td>668.297239</td>\n",
       "      <td>693.11635</td>\n",
       "      <td>-90.0</td>\n",
       "      <td>0.0</td>\n",
       "      <td>369.0</td>\n",
       "      <td>1319.25</td>\n",
       "      <td>2770.0</td>\n",
       "    </tr>\n",
       "  </tbody>\n",
       "</table>\n",
       "</div>"
      ],
      "text/plain": [
       "              count        mean        std   min  25%    50%      75%     max\n",
       "gps_height  59400.0  668.297239  693.11635 -90.0  0.0  369.0  1319.25  2770.0"
      ]
     },
     "execution_count": 19,
     "metadata": {},
     "output_type": "execute_result"
    }
   ],
   "source": [
    "features[['gps_height']].describe().T"
   ]
  },
  {
   "cell_type": "markdown",
   "metadata": {
    "hidden": true
   },
   "source": [
    "- Minimum is -90, indicating a well located below sea level.\n",
    "- Max is 2770, indicating a well in an elevated region."
   ]
  },
  {
   "cell_type": "markdown",
   "metadata": {
    "heading_collapsed": true
   },
   "source": [
    "### installer:"
   ]
  },
  {
   "cell_type": "code",
   "execution_count": 20,
   "metadata": {
    "ExecuteTime": {
     "end_time": "2023-10-07T02:33:36.820871Z",
     "start_time": "2023-10-07T02:33:36.805819Z"
    },
    "hidden": true
   },
   "outputs": [
    {
     "data": {
      "text/plain": [
       "2145"
      ]
     },
     "execution_count": 20,
     "metadata": {},
     "output_type": "execute_result"
    }
   ],
   "source": [
    "features.installer.nunique()"
   ]
  },
  {
   "cell_type": "markdown",
   "metadata": {
    "hidden": true
   },
   "source": [
    "- Over 2100 unique installers.\n",
    "- Once again, alot of columns to encode."
   ]
  },
  {
   "cell_type": "code",
   "execution_count": 21,
   "metadata": {
    "ExecuteTime": {
     "end_time": "2023-10-07T02:33:36.836885Z",
     "start_time": "2023-10-07T02:33:36.821872Z"
    },
    "hidden": true
   },
   "outputs": [],
   "source": [
    "# get counts of num wells funded for each funder\n",
    "installers = features.installer.value_counts()\n",
    "\n",
    "# installers that have installed at least 100 wells\n",
    "top_installers = installers[installers >= 100].index.tolist()\n",
    "vals = installers[installers >= 100].values.tolist()"
   ]
  },
  {
   "cell_type": "code",
   "execution_count": 22,
   "metadata": {
    "ExecuteTime": {
     "end_time": "2023-10-07T02:33:36.852899Z",
     "start_time": "2023-10-07T02:33:36.837886Z"
    },
    "hidden": true
   },
   "outputs": [
    {
     "data": {
      "text/plain": [
       "84"
      ]
     },
     "execution_count": 22,
     "metadata": {},
     "output_type": "execute_result"
    }
   ],
   "source": [
    "num_installers = len(top_installers)\n",
    "num_installers"
   ]
  },
  {
   "cell_type": "markdown",
   "metadata": {
    "hidden": true
   },
   "source": [
    "- 84 / 2145 installers have built more than 100 wells."
   ]
  },
  {
   "cell_type": "code",
   "execution_count": 23,
   "metadata": {
    "ExecuteTime": {
     "end_time": "2023-10-07T02:33:36.868914Z",
     "start_time": "2023-10-07T02:33:36.856904Z"
    },
    "hidden": true,
    "scrolled": true
   },
   "outputs": [
    {
     "name": "stdout",
     "output_type": "stream",
     "text": [
      "The top 3.9% of installers make up 71.0% of the data.\n"
     ]
    }
   ],
   "source": [
    "print(f'''The top {num_installers / features.installer.nunique() * 100 :.1f}% of installers make up \\\n",
    "{sum(vals) / features.shape[0] * 100 :.1f}% of the data.''')"
   ]
  },
  {
   "cell_type": "markdown",
   "metadata": {
    "hidden": true
   },
   "source": [
    "- Taking installers with 100+ wells installed in dataset."
   ]
  },
  {
   "cell_type": "code",
   "execution_count": 24,
   "metadata": {
    "ExecuteTime": {
     "end_time": "2023-10-07T02:33:36.884928Z",
     "start_time": "2023-10-07T02:33:36.870916Z"
    },
    "hidden": true
   },
   "outputs": [],
   "source": [
    "# replace other installers with \"other\"\n",
    "features['installer'] = features['installer'].where(features['installer'].isin(top_installers), 'other')"
   ]
  },
  {
   "cell_type": "markdown",
   "metadata": {
    "heading_collapsed": true
   },
   "source": [
    "### longitude and latitude:"
   ]
  },
  {
   "cell_type": "markdown",
   "metadata": {
    "hidden": true
   },
   "source": [
    "- Tanzania's longitude spans from roughly 29 to 41 degrees.\n",
    "- Tanzania's latitude spans from roughly -12 to -1 degrees.\n",
    "- All vals should fall in between these ranges."
   ]
  },
  {
   "cell_type": "code",
   "execution_count": 25,
   "metadata": {
    "ExecuteTime": {
     "end_time": "2023-10-07T02:33:36.900943Z",
     "start_time": "2023-10-07T02:33:36.885930Z"
    },
    "hidden": true
   },
   "outputs": [
    {
     "data": {
      "text/html": [
       "<div>\n",
       "<style scoped>\n",
       "    .dataframe tbody tr th:only-of-type {\n",
       "        vertical-align: middle;\n",
       "    }\n",
       "\n",
       "    .dataframe tbody tr th {\n",
       "        vertical-align: top;\n",
       "    }\n",
       "\n",
       "    .dataframe thead th {\n",
       "        text-align: right;\n",
       "    }\n",
       "</style>\n",
       "<table border=\"1\" class=\"dataframe\">\n",
       "  <thead>\n",
       "    <tr style=\"text-align: right;\">\n",
       "      <th></th>\n",
       "      <th>count</th>\n",
       "      <th>mean</th>\n",
       "      <th>std</th>\n",
       "      <th>min</th>\n",
       "      <th>25%</th>\n",
       "      <th>50%</th>\n",
       "      <th>75%</th>\n",
       "      <th>max</th>\n",
       "    </tr>\n",
       "  </thead>\n",
       "  <tbody>\n",
       "    <tr>\n",
       "      <th>longitude</th>\n",
       "      <td>59400.0</td>\n",
       "      <td>34.077427</td>\n",
       "      <td>6.567432</td>\n",
       "      <td>0.0</td>\n",
       "      <td>33.090347</td>\n",
       "      <td>34.908743</td>\n",
       "      <td>37.178387</td>\n",
       "      <td>40.345193</td>\n",
       "    </tr>\n",
       "  </tbody>\n",
       "</table>\n",
       "</div>"
      ],
      "text/plain": [
       "             count       mean       std  min        25%        50%        75%  \\\n",
       "longitude  59400.0  34.077427  6.567432  0.0  33.090347  34.908743  37.178387   \n",
       "\n",
       "                 max  \n",
       "longitude  40.345193  "
      ]
     },
     "execution_count": 25,
     "metadata": {},
     "output_type": "execute_result"
    }
   ],
   "source": [
    "features[['longitude']].describe().T"
   ]
  },
  {
   "cell_type": "markdown",
   "metadata": {
    "hidden": true
   },
   "source": [
    "- Seems like several of the longitude vals are below 29 degrees. None are over 41 degrees."
   ]
  },
  {
   "cell_type": "code",
   "execution_count": 26,
   "metadata": {
    "ExecuteTime": {
     "end_time": "2023-10-07T02:33:36.965001Z",
     "start_time": "2023-10-07T02:33:36.901944Z"
    },
    "hidden": true
   },
   "outputs": [
    {
     "data": {
      "text/html": [
       "<div>\n",
       "<style scoped>\n",
       "    .dataframe tbody tr th:only-of-type {\n",
       "        vertical-align: middle;\n",
       "    }\n",
       "\n",
       "    .dataframe tbody tr th {\n",
       "        vertical-align: top;\n",
       "    }\n",
       "\n",
       "    .dataframe thead th {\n",
       "        text-align: right;\n",
       "    }\n",
       "</style>\n",
       "<table border=\"1\" class=\"dataframe\">\n",
       "  <thead>\n",
       "    <tr style=\"text-align: right;\">\n",
       "      <th></th>\n",
       "      <th>21</th>\n",
       "      <th>53</th>\n",
       "      <th>168</th>\n",
       "      <th>177</th>\n",
       "      <th>253</th>\n",
       "      <th>256</th>\n",
       "      <th>285</th>\n",
       "      <th>301</th>\n",
       "      <th>306</th>\n",
       "      <th>321</th>\n",
       "      <th>323</th>\n",
       "      <th>326</th>\n",
       "      <th>346</th>\n",
       "      <th>370</th>\n",
       "      <th>433</th>\n",
       "      <th>659</th>\n",
       "      <th>678</th>\n",
       "      <th>697</th>\n",
       "      <th>720</th>\n",
       "      <th>733</th>\n",
       "      <th>753</th>\n",
       "      <th>755</th>\n",
       "      <th>798</th>\n",
       "      <th>839</th>\n",
       "      <th>911</th>\n",
       "      <th>939</th>\n",
       "      <th>960</th>\n",
       "      <th>965</th>\n",
       "      <th>971</th>\n",
       "      <th>992</th>\n",
       "      <th>1054</th>\n",
       "      <th>1079</th>\n",
       "      <th>1122</th>\n",
       "      <th>1168</th>\n",
       "      <th>1191</th>\n",
       "      <th>1208</th>\n",
       "      <th>1217</th>\n",
       "      <th>1240</th>\n",
       "      <th>1250</th>\n",
       "      <th>1252</th>\n",
       "      <th>1303</th>\n",
       "      <th>1333</th>\n",
       "      <th>1334</th>\n",
       "      <th>1424</th>\n",
       "      <th>1449</th>\n",
       "      <th>1454</th>\n",
       "      <th>1463</th>\n",
       "      <th>1502</th>\n",
       "      <th>1525</th>\n",
       "      <th>1549</th>\n",
       "      <th>...</th>\n",
       "      <th>57748</th>\n",
       "      <th>57789</th>\n",
       "      <th>57794</th>\n",
       "      <th>57807</th>\n",
       "      <th>57812</th>\n",
       "      <th>57823</th>\n",
       "      <th>57827</th>\n",
       "      <th>57861</th>\n",
       "      <th>57918</th>\n",
       "      <th>58005</th>\n",
       "      <th>58039</th>\n",
       "      <th>58045</th>\n",
       "      <th>58046</th>\n",
       "      <th>58071</th>\n",
       "      <th>58077</th>\n",
       "      <th>58102</th>\n",
       "      <th>58257</th>\n",
       "      <th>58397</th>\n",
       "      <th>58413</th>\n",
       "      <th>58415</th>\n",
       "      <th>58416</th>\n",
       "      <th>58435</th>\n",
       "      <th>58446</th>\n",
       "      <th>58463</th>\n",
       "      <th>58517</th>\n",
       "      <th>58545</th>\n",
       "      <th>58550</th>\n",
       "      <th>58555</th>\n",
       "      <th>58607</th>\n",
       "      <th>58678</th>\n",
       "      <th>58735</th>\n",
       "      <th>58771</th>\n",
       "      <th>58837</th>\n",
       "      <th>58859</th>\n",
       "      <th>58969</th>\n",
       "      <th>58997</th>\n",
       "      <th>59017</th>\n",
       "      <th>59033</th>\n",
       "      <th>59111</th>\n",
       "      <th>59120</th>\n",
       "      <th>59135</th>\n",
       "      <th>59158</th>\n",
       "      <th>59162</th>\n",
       "      <th>59166</th>\n",
       "      <th>59184</th>\n",
       "      <th>59189</th>\n",
       "      <th>59208</th>\n",
       "      <th>59295</th>\n",
       "      <th>59324</th>\n",
       "      <th>59374</th>\n",
       "    </tr>\n",
       "  </thead>\n",
       "  <tbody>\n",
       "    <tr>\n",
       "      <th>longitude</th>\n",
       "      <td>0.0</td>\n",
       "      <td>0.0</td>\n",
       "      <td>0.0</td>\n",
       "      <td>0.0</td>\n",
       "      <td>0.0</td>\n",
       "      <td>0.0</td>\n",
       "      <td>0.0</td>\n",
       "      <td>0.0</td>\n",
       "      <td>0.0</td>\n",
       "      <td>0.0</td>\n",
       "      <td>0.0</td>\n",
       "      <td>0.0</td>\n",
       "      <td>0.0</td>\n",
       "      <td>0.0</td>\n",
       "      <td>0.0</td>\n",
       "      <td>0.0</td>\n",
       "      <td>0.0</td>\n",
       "      <td>0.0</td>\n",
       "      <td>0.0</td>\n",
       "      <td>0.0</td>\n",
       "      <td>0.0</td>\n",
       "      <td>0.0</td>\n",
       "      <td>0.0</td>\n",
       "      <td>0.0</td>\n",
       "      <td>0.0</td>\n",
       "      <td>0.0</td>\n",
       "      <td>0.0</td>\n",
       "      <td>0.0</td>\n",
       "      <td>0.0</td>\n",
       "      <td>0.0</td>\n",
       "      <td>0.0</td>\n",
       "      <td>0.0</td>\n",
       "      <td>0.0</td>\n",
       "      <td>0.0</td>\n",
       "      <td>0.0</td>\n",
       "      <td>0.0</td>\n",
       "      <td>0.0</td>\n",
       "      <td>0.0</td>\n",
       "      <td>0.0</td>\n",
       "      <td>0.0</td>\n",
       "      <td>0.0</td>\n",
       "      <td>0.0</td>\n",
       "      <td>0.0</td>\n",
       "      <td>0.0</td>\n",
       "      <td>0.0</td>\n",
       "      <td>0.0</td>\n",
       "      <td>0.0</td>\n",
       "      <td>0.0</td>\n",
       "      <td>0.0</td>\n",
       "      <td>0.0</td>\n",
       "      <td>...</td>\n",
       "      <td>0.0</td>\n",
       "      <td>0.0</td>\n",
       "      <td>0.0</td>\n",
       "      <td>0.0</td>\n",
       "      <td>0.0</td>\n",
       "      <td>0.0</td>\n",
       "      <td>0.0</td>\n",
       "      <td>0.0</td>\n",
       "      <td>0.0</td>\n",
       "      <td>0.0</td>\n",
       "      <td>0.0</td>\n",
       "      <td>0.0</td>\n",
       "      <td>0.0</td>\n",
       "      <td>0.0</td>\n",
       "      <td>0.0</td>\n",
       "      <td>0.0</td>\n",
       "      <td>0.0</td>\n",
       "      <td>0.0</td>\n",
       "      <td>0.0</td>\n",
       "      <td>0.0</td>\n",
       "      <td>0.0</td>\n",
       "      <td>0.0</td>\n",
       "      <td>0.0</td>\n",
       "      <td>0.0</td>\n",
       "      <td>0.0</td>\n",
       "      <td>0.0</td>\n",
       "      <td>0.0</td>\n",
       "      <td>0.0</td>\n",
       "      <td>0.0</td>\n",
       "      <td>0.0</td>\n",
       "      <td>0.0</td>\n",
       "      <td>0.0</td>\n",
       "      <td>0.0</td>\n",
       "      <td>0.0</td>\n",
       "      <td>0.0</td>\n",
       "      <td>0.0</td>\n",
       "      <td>0.0</td>\n",
       "      <td>0.0</td>\n",
       "      <td>0.0</td>\n",
       "      <td>0.0</td>\n",
       "      <td>0.0</td>\n",
       "      <td>0.0</td>\n",
       "      <td>0.0</td>\n",
       "      <td>0.0</td>\n",
       "      <td>0.0</td>\n",
       "      <td>0.0</td>\n",
       "      <td>0.0</td>\n",
       "      <td>0.0</td>\n",
       "      <td>0.0</td>\n",
       "      <td>0.0</td>\n",
       "    </tr>\n",
       "  </tbody>\n",
       "</table>\n",
       "<p>1 rows × 1812 columns</p>\n",
       "</div>"
      ],
      "text/plain": [
       "           21     53     168    177    253    256    285    301    306    \\\n",
       "longitude    0.0    0.0    0.0    0.0    0.0    0.0    0.0    0.0    0.0   \n",
       "\n",
       "           321    323    326    346    370    433    659    678    697    \\\n",
       "longitude    0.0    0.0    0.0    0.0    0.0    0.0    0.0    0.0    0.0   \n",
       "\n",
       "           720    733    753    755    798    839    911    939    960    \\\n",
       "longitude    0.0    0.0    0.0    0.0    0.0    0.0    0.0    0.0    0.0   \n",
       "\n",
       "           965    971    992    1054   1079   1122   1168   1191   1208   \\\n",
       "longitude    0.0    0.0    0.0    0.0    0.0    0.0    0.0    0.0    0.0   \n",
       "\n",
       "           1217   1240   1250   1252   1303   1333   1334   1424   1449   \\\n",
       "longitude    0.0    0.0    0.0    0.0    0.0    0.0    0.0    0.0    0.0   \n",
       "\n",
       "           1454   1463   1502   1525   1549   ...  57748  57789  57794  57807  \\\n",
       "longitude    0.0    0.0    0.0    0.0    0.0  ...    0.0    0.0    0.0    0.0   \n",
       "\n",
       "           57812  57823  57827  57861  57918  58005  58039  58045  58046  \\\n",
       "longitude    0.0    0.0    0.0    0.0    0.0    0.0    0.0    0.0    0.0   \n",
       "\n",
       "           58071  58077  58102  58257  58397  58413  58415  58416  58435  \\\n",
       "longitude    0.0    0.0    0.0    0.0    0.0    0.0    0.0    0.0    0.0   \n",
       "\n",
       "           58446  58463  58517  58545  58550  58555  58607  58678  58735  \\\n",
       "longitude    0.0    0.0    0.0    0.0    0.0    0.0    0.0    0.0    0.0   \n",
       "\n",
       "           58771  58837  58859  58969  58997  59017  59033  59111  59120  \\\n",
       "longitude    0.0    0.0    0.0    0.0    0.0    0.0    0.0    0.0    0.0   \n",
       "\n",
       "           59135  59158  59162  59166  59184  59189  59208  59295  59324  \\\n",
       "longitude    0.0    0.0    0.0    0.0    0.0    0.0    0.0    0.0    0.0   \n",
       "\n",
       "           59374  \n",
       "longitude    0.0  \n",
       "\n",
       "[1 rows x 1812 columns]"
      ]
     },
     "execution_count": 26,
     "metadata": {},
     "output_type": "execute_result"
    }
   ],
   "source": [
    "features[features['longitude'] < 29]['longitude'].to_frame().T"
   ]
  },
  {
   "cell_type": "markdown",
   "metadata": {
    "hidden": true
   },
   "source": [
    "- 1812 rows where longitude vals are 0 (invalid)."
   ]
  },
  {
   "cell_type": "code",
   "execution_count": 27,
   "metadata": {
    "ExecuteTime": {
     "end_time": "2023-10-07T02:33:36.981016Z",
     "start_time": "2023-10-07T02:33:36.966003Z"
    },
    "hidden": true
   },
   "outputs": [],
   "source": [
    "# set the above indices to nan\n",
    "indices = features[features['longitude'] < 29].index\n",
    "features.loc[indices, 'longitude'] = np.nan"
   ]
  },
  {
   "cell_type": "code",
   "execution_count": 28,
   "metadata": {
    "ExecuteTime": {
     "end_time": "2023-10-07T02:33:36.997031Z",
     "start_time": "2023-10-07T02:33:36.983018Z"
    },
    "hidden": true
   },
   "outputs": [
    {
     "data": {
      "text/html": [
       "<div>\n",
       "<style scoped>\n",
       "    .dataframe tbody tr th:only-of-type {\n",
       "        vertical-align: middle;\n",
       "    }\n",
       "\n",
       "    .dataframe tbody tr th {\n",
       "        vertical-align: top;\n",
       "    }\n",
       "\n",
       "    .dataframe thead th {\n",
       "        text-align: right;\n",
       "    }\n",
       "</style>\n",
       "<table border=\"1\" class=\"dataframe\">\n",
       "  <thead>\n",
       "    <tr style=\"text-align: right;\">\n",
       "      <th></th>\n",
       "    </tr>\n",
       "  </thead>\n",
       "  <tbody>\n",
       "    <tr>\n",
       "      <th>longitude</th>\n",
       "    </tr>\n",
       "  </tbody>\n",
       "</table>\n",
       "</div>"
      ],
      "text/plain": [
       "Empty DataFrame\n",
       "Columns: []\n",
       "Index: [longitude]"
      ]
     },
     "execution_count": 28,
     "metadata": {},
     "output_type": "execute_result"
    }
   ],
   "source": [
    "# show that all '<29' rows are gone\n",
    "features[features['longitude'] < 29]['longitude'].to_frame().T"
   ]
  },
  {
   "cell_type": "code",
   "execution_count": 29,
   "metadata": {
    "ExecuteTime": {
     "end_time": "2023-10-07T02:33:37.013045Z",
     "start_time": "2023-10-07T02:33:36.998032Z"
    },
    "hidden": true
   },
   "outputs": [
    {
     "data": {
      "text/html": [
       "<div>\n",
       "<style scoped>\n",
       "    .dataframe tbody tr th:only-of-type {\n",
       "        vertical-align: middle;\n",
       "    }\n",
       "\n",
       "    .dataframe tbody tr th {\n",
       "        vertical-align: top;\n",
       "    }\n",
       "\n",
       "    .dataframe thead th {\n",
       "        text-align: right;\n",
       "    }\n",
       "</style>\n",
       "<table border=\"1\" class=\"dataframe\">\n",
       "  <thead>\n",
       "    <tr style=\"text-align: right;\">\n",
       "      <th></th>\n",
       "      <th>count</th>\n",
       "      <th>mean</th>\n",
       "      <th>std</th>\n",
       "      <th>min</th>\n",
       "      <th>25%</th>\n",
       "      <th>50%</th>\n",
       "      <th>75%</th>\n",
       "      <th>max</th>\n",
       "    </tr>\n",
       "  </thead>\n",
       "  <tbody>\n",
       "    <tr>\n",
       "      <th>latitude</th>\n",
       "      <td>59400.0</td>\n",
       "      <td>-5.706033</td>\n",
       "      <td>2.946019</td>\n",
       "      <td>-11.64944</td>\n",
       "      <td>-8.540621</td>\n",
       "      <td>-5.021597</td>\n",
       "      <td>-3.326156</td>\n",
       "      <td>-2.000000e-08</td>\n",
       "    </tr>\n",
       "  </tbody>\n",
       "</table>\n",
       "</div>"
      ],
      "text/plain": [
       "            count      mean       std       min       25%       50%       75%  \\\n",
       "latitude  59400.0 -5.706033  2.946019 -11.64944 -8.540621 -5.021597 -3.326156   \n",
       "\n",
       "                   max  \n",
       "latitude -2.000000e-08  "
      ]
     },
     "execution_count": 29,
     "metadata": {},
     "output_type": "execute_result"
    }
   ],
   "source": [
    "features[['latitude']].describe().T"
   ]
  },
  {
   "cell_type": "markdown",
   "metadata": {
    "hidden": true
   },
   "source": [
    "- Several of the latitude vals are greater than -1 degrees. None are below -12 degrees."
   ]
  },
  {
   "cell_type": "code",
   "execution_count": 30,
   "metadata": {
    "ExecuteTime": {
     "end_time": "2023-10-07T02:33:37.077104Z",
     "start_time": "2023-10-07T02:33:37.014046Z"
    },
    "hidden": true
   },
   "outputs": [
    {
     "data": {
      "text/html": [
       "<div>\n",
       "<style scoped>\n",
       "    .dataframe tbody tr th:only-of-type {\n",
       "        vertical-align: middle;\n",
       "    }\n",
       "\n",
       "    .dataframe tbody tr th {\n",
       "        vertical-align: top;\n",
       "    }\n",
       "\n",
       "    .dataframe thead th {\n",
       "        text-align: right;\n",
       "    }\n",
       "</style>\n",
       "<table border=\"1\" class=\"dataframe\">\n",
       "  <thead>\n",
       "    <tr style=\"text-align: right;\">\n",
       "      <th></th>\n",
       "      <th>21</th>\n",
       "      <th>53</th>\n",
       "      <th>168</th>\n",
       "      <th>177</th>\n",
       "      <th>253</th>\n",
       "      <th>256</th>\n",
       "      <th>285</th>\n",
       "      <th>301</th>\n",
       "      <th>306</th>\n",
       "      <th>321</th>\n",
       "      <th>323</th>\n",
       "      <th>326</th>\n",
       "      <th>346</th>\n",
       "      <th>370</th>\n",
       "      <th>433</th>\n",
       "      <th>659</th>\n",
       "      <th>678</th>\n",
       "      <th>697</th>\n",
       "      <th>720</th>\n",
       "      <th>733</th>\n",
       "      <th>753</th>\n",
       "      <th>755</th>\n",
       "      <th>798</th>\n",
       "      <th>839</th>\n",
       "      <th>911</th>\n",
       "      <th>939</th>\n",
       "      <th>960</th>\n",
       "      <th>965</th>\n",
       "      <th>971</th>\n",
       "      <th>992</th>\n",
       "      <th>1054</th>\n",
       "      <th>1079</th>\n",
       "      <th>1122</th>\n",
       "      <th>1168</th>\n",
       "      <th>1191</th>\n",
       "      <th>1208</th>\n",
       "      <th>1217</th>\n",
       "      <th>1240</th>\n",
       "      <th>1250</th>\n",
       "      <th>1252</th>\n",
       "      <th>1303</th>\n",
       "      <th>1333</th>\n",
       "      <th>1334</th>\n",
       "      <th>1424</th>\n",
       "      <th>1449</th>\n",
       "      <th>1454</th>\n",
       "      <th>1463</th>\n",
       "      <th>1502</th>\n",
       "      <th>1525</th>\n",
       "      <th>1549</th>\n",
       "      <th>...</th>\n",
       "      <th>57748</th>\n",
       "      <th>57789</th>\n",
       "      <th>57794</th>\n",
       "      <th>57807</th>\n",
       "      <th>57812</th>\n",
       "      <th>57823</th>\n",
       "      <th>57827</th>\n",
       "      <th>57861</th>\n",
       "      <th>57918</th>\n",
       "      <th>58005</th>\n",
       "      <th>58039</th>\n",
       "      <th>58045</th>\n",
       "      <th>58046</th>\n",
       "      <th>58071</th>\n",
       "      <th>58077</th>\n",
       "      <th>58102</th>\n",
       "      <th>58257</th>\n",
       "      <th>58397</th>\n",
       "      <th>58413</th>\n",
       "      <th>58415</th>\n",
       "      <th>58416</th>\n",
       "      <th>58435</th>\n",
       "      <th>58446</th>\n",
       "      <th>58463</th>\n",
       "      <th>58517</th>\n",
       "      <th>58545</th>\n",
       "      <th>58550</th>\n",
       "      <th>58555</th>\n",
       "      <th>58607</th>\n",
       "      <th>58678</th>\n",
       "      <th>58735</th>\n",
       "      <th>58771</th>\n",
       "      <th>58837</th>\n",
       "      <th>58859</th>\n",
       "      <th>58969</th>\n",
       "      <th>58997</th>\n",
       "      <th>59017</th>\n",
       "      <th>59033</th>\n",
       "      <th>59111</th>\n",
       "      <th>59120</th>\n",
       "      <th>59135</th>\n",
       "      <th>59158</th>\n",
       "      <th>59162</th>\n",
       "      <th>59166</th>\n",
       "      <th>59184</th>\n",
       "      <th>59189</th>\n",
       "      <th>59208</th>\n",
       "      <th>59295</th>\n",
       "      <th>59324</th>\n",
       "      <th>59374</th>\n",
       "    </tr>\n",
       "  </thead>\n",
       "  <tbody>\n",
       "    <tr>\n",
       "      <th>latitude</th>\n",
       "      <td>-2.000000e-08</td>\n",
       "      <td>-2.000000e-08</td>\n",
       "      <td>-2.000000e-08</td>\n",
       "      <td>-2.000000e-08</td>\n",
       "      <td>-2.000000e-08</td>\n",
       "      <td>-2.000000e-08</td>\n",
       "      <td>-2.000000e-08</td>\n",
       "      <td>-2.000000e-08</td>\n",
       "      <td>-2.000000e-08</td>\n",
       "      <td>-2.000000e-08</td>\n",
       "      <td>-2.000000e-08</td>\n",
       "      <td>-2.000000e-08</td>\n",
       "      <td>-2.000000e-08</td>\n",
       "      <td>-2.000000e-08</td>\n",
       "      <td>-2.000000e-08</td>\n",
       "      <td>-2.000000e-08</td>\n",
       "      <td>-2.000000e-08</td>\n",
       "      <td>-2.000000e-08</td>\n",
       "      <td>-2.000000e-08</td>\n",
       "      <td>-2.000000e-08</td>\n",
       "      <td>-2.000000e-08</td>\n",
       "      <td>-2.000000e-08</td>\n",
       "      <td>-2.000000e-08</td>\n",
       "      <td>-2.000000e-08</td>\n",
       "      <td>-2.000000e-08</td>\n",
       "      <td>-2.000000e-08</td>\n",
       "      <td>-2.000000e-08</td>\n",
       "      <td>-2.000000e-08</td>\n",
       "      <td>-2.000000e-08</td>\n",
       "      <td>-2.000000e-08</td>\n",
       "      <td>-2.000000e-08</td>\n",
       "      <td>-2.000000e-08</td>\n",
       "      <td>-2.000000e-08</td>\n",
       "      <td>-2.000000e-08</td>\n",
       "      <td>-2.000000e-08</td>\n",
       "      <td>-2.000000e-08</td>\n",
       "      <td>-2.000000e-08</td>\n",
       "      <td>-2.000000e-08</td>\n",
       "      <td>-2.000000e-08</td>\n",
       "      <td>-2.000000e-08</td>\n",
       "      <td>-2.000000e-08</td>\n",
       "      <td>-2.000000e-08</td>\n",
       "      <td>-2.000000e-08</td>\n",
       "      <td>-2.000000e-08</td>\n",
       "      <td>-2.000000e-08</td>\n",
       "      <td>-2.000000e-08</td>\n",
       "      <td>-2.000000e-08</td>\n",
       "      <td>-2.000000e-08</td>\n",
       "      <td>-2.000000e-08</td>\n",
       "      <td>-2.000000e-08</td>\n",
       "      <td>...</td>\n",
       "      <td>-2.000000e-08</td>\n",
       "      <td>-2.000000e-08</td>\n",
       "      <td>-2.000000e-08</td>\n",
       "      <td>-2.000000e-08</td>\n",
       "      <td>-2.000000e-08</td>\n",
       "      <td>-2.000000e-08</td>\n",
       "      <td>-2.000000e-08</td>\n",
       "      <td>-2.000000e-08</td>\n",
       "      <td>-2.000000e-08</td>\n",
       "      <td>-2.000000e-08</td>\n",
       "      <td>-2.000000e-08</td>\n",
       "      <td>-2.000000e-08</td>\n",
       "      <td>-2.000000e-08</td>\n",
       "      <td>-2.000000e-08</td>\n",
       "      <td>-2.000000e-08</td>\n",
       "      <td>-2.000000e-08</td>\n",
       "      <td>-2.000000e-08</td>\n",
       "      <td>-2.000000e-08</td>\n",
       "      <td>-2.000000e-08</td>\n",
       "      <td>-2.000000e-08</td>\n",
       "      <td>-2.000000e-08</td>\n",
       "      <td>-2.000000e-08</td>\n",
       "      <td>-2.000000e-08</td>\n",
       "      <td>-2.000000e-08</td>\n",
       "      <td>-2.000000e-08</td>\n",
       "      <td>-2.000000e-08</td>\n",
       "      <td>-2.000000e-08</td>\n",
       "      <td>-2.000000e-08</td>\n",
       "      <td>-2.000000e-08</td>\n",
       "      <td>-2.000000e-08</td>\n",
       "      <td>-2.000000e-08</td>\n",
       "      <td>-2.000000e-08</td>\n",
       "      <td>-2.000000e-08</td>\n",
       "      <td>-2.000000e-08</td>\n",
       "      <td>-2.000000e-08</td>\n",
       "      <td>-2.000000e-08</td>\n",
       "      <td>-2.000000e-08</td>\n",
       "      <td>-2.000000e-08</td>\n",
       "      <td>-2.000000e-08</td>\n",
       "      <td>-2.000000e-08</td>\n",
       "      <td>-2.000000e-08</td>\n",
       "      <td>-2.000000e-08</td>\n",
       "      <td>-2.000000e-08</td>\n",
       "      <td>-2.000000e-08</td>\n",
       "      <td>-2.000000e-08</td>\n",
       "      <td>-2.000000e-08</td>\n",
       "      <td>-2.000000e-08</td>\n",
       "      <td>-2.000000e-08</td>\n",
       "      <td>-2.000000e-08</td>\n",
       "      <td>-2.000000e-08</td>\n",
       "    </tr>\n",
       "  </tbody>\n",
       "</table>\n",
       "<p>1 rows × 1812 columns</p>\n",
       "</div>"
      ],
      "text/plain": [
       "                 21            53            168           177    \\\n",
       "latitude -2.000000e-08 -2.000000e-08 -2.000000e-08 -2.000000e-08   \n",
       "\n",
       "                 253           256           285           301    \\\n",
       "latitude -2.000000e-08 -2.000000e-08 -2.000000e-08 -2.000000e-08   \n",
       "\n",
       "                 306           321           323           326    \\\n",
       "latitude -2.000000e-08 -2.000000e-08 -2.000000e-08 -2.000000e-08   \n",
       "\n",
       "                 346           370           433           659    \\\n",
       "latitude -2.000000e-08 -2.000000e-08 -2.000000e-08 -2.000000e-08   \n",
       "\n",
       "                 678           697           720           733    \\\n",
       "latitude -2.000000e-08 -2.000000e-08 -2.000000e-08 -2.000000e-08   \n",
       "\n",
       "                 753           755           798           839    \\\n",
       "latitude -2.000000e-08 -2.000000e-08 -2.000000e-08 -2.000000e-08   \n",
       "\n",
       "                 911           939           960           965    \\\n",
       "latitude -2.000000e-08 -2.000000e-08 -2.000000e-08 -2.000000e-08   \n",
       "\n",
       "                 971           992           1054          1079   \\\n",
       "latitude -2.000000e-08 -2.000000e-08 -2.000000e-08 -2.000000e-08   \n",
       "\n",
       "                 1122          1168          1191          1208   \\\n",
       "latitude -2.000000e-08 -2.000000e-08 -2.000000e-08 -2.000000e-08   \n",
       "\n",
       "                 1217          1240          1250          1252   \\\n",
       "latitude -2.000000e-08 -2.000000e-08 -2.000000e-08 -2.000000e-08   \n",
       "\n",
       "                 1303          1333          1334          1424   \\\n",
       "latitude -2.000000e-08 -2.000000e-08 -2.000000e-08 -2.000000e-08   \n",
       "\n",
       "                 1449          1454          1463          1502   \\\n",
       "latitude -2.000000e-08 -2.000000e-08 -2.000000e-08 -2.000000e-08   \n",
       "\n",
       "                 1525          1549   ...         57748         57789  \\\n",
       "latitude -2.000000e-08 -2.000000e-08  ... -2.000000e-08 -2.000000e-08   \n",
       "\n",
       "                 57794         57807         57812         57823  \\\n",
       "latitude -2.000000e-08 -2.000000e-08 -2.000000e-08 -2.000000e-08   \n",
       "\n",
       "                 57827         57861         57918         58005  \\\n",
       "latitude -2.000000e-08 -2.000000e-08 -2.000000e-08 -2.000000e-08   \n",
       "\n",
       "                 58039         58045         58046         58071  \\\n",
       "latitude -2.000000e-08 -2.000000e-08 -2.000000e-08 -2.000000e-08   \n",
       "\n",
       "                 58077         58102         58257         58397  \\\n",
       "latitude -2.000000e-08 -2.000000e-08 -2.000000e-08 -2.000000e-08   \n",
       "\n",
       "                 58413         58415         58416         58435  \\\n",
       "latitude -2.000000e-08 -2.000000e-08 -2.000000e-08 -2.000000e-08   \n",
       "\n",
       "                 58446         58463         58517         58545  \\\n",
       "latitude -2.000000e-08 -2.000000e-08 -2.000000e-08 -2.000000e-08   \n",
       "\n",
       "                 58550         58555         58607         58678  \\\n",
       "latitude -2.000000e-08 -2.000000e-08 -2.000000e-08 -2.000000e-08   \n",
       "\n",
       "                 58735         58771         58837         58859  \\\n",
       "latitude -2.000000e-08 -2.000000e-08 -2.000000e-08 -2.000000e-08   \n",
       "\n",
       "                 58969         58997         59017         59033  \\\n",
       "latitude -2.000000e-08 -2.000000e-08 -2.000000e-08 -2.000000e-08   \n",
       "\n",
       "                 59111         59120         59135         59158  \\\n",
       "latitude -2.000000e-08 -2.000000e-08 -2.000000e-08 -2.000000e-08   \n",
       "\n",
       "                 59162         59166         59184         59189  \\\n",
       "latitude -2.000000e-08 -2.000000e-08 -2.000000e-08 -2.000000e-08   \n",
       "\n",
       "                 59208         59295         59324         59374  \n",
       "latitude -2.000000e-08 -2.000000e-08 -2.000000e-08 -2.000000e-08  \n",
       "\n",
       "[1 rows x 1812 columns]"
      ]
     },
     "execution_count": 30,
     "metadata": {},
     "output_type": "execute_result"
    }
   ],
   "source": [
    "# using -0.9 instead of -1 as there were 7 valid values in this range\n",
    "features[features['latitude'] > -0.9]['latitude'].to_frame().T"
   ]
  },
  {
   "cell_type": "markdown",
   "metadata": {
    "hidden": true
   },
   "source": [
    "- Like longitude, 1812 rows with invalid latitude."
   ]
  },
  {
   "cell_type": "code",
   "execution_count": 31,
   "metadata": {
    "ExecuteTime": {
     "end_time": "2023-10-07T02:33:37.093118Z",
     "start_time": "2023-10-07T02:33:37.078104Z"
    },
    "hidden": true
   },
   "outputs": [],
   "source": [
    "# set the above indices to nan\n",
    "indices = features[features['latitude'] > -0.9].index\n",
    "features.loc[indices, 'latitude'] = np.nan"
   ]
  },
  {
   "cell_type": "code",
   "execution_count": 32,
   "metadata": {
    "ExecuteTime": {
     "end_time": "2023-10-07T02:33:37.109133Z",
     "start_time": "2023-10-07T02:33:37.094119Z"
    },
    "hidden": true
   },
   "outputs": [
    {
     "data": {
      "text/html": [
       "<div>\n",
       "<style scoped>\n",
       "    .dataframe tbody tr th:only-of-type {\n",
       "        vertical-align: middle;\n",
       "    }\n",
       "\n",
       "    .dataframe tbody tr th {\n",
       "        vertical-align: top;\n",
       "    }\n",
       "\n",
       "    .dataframe thead th {\n",
       "        text-align: right;\n",
       "    }\n",
       "</style>\n",
       "<table border=\"1\" class=\"dataframe\">\n",
       "  <thead>\n",
       "    <tr style=\"text-align: right;\">\n",
       "      <th></th>\n",
       "    </tr>\n",
       "  </thead>\n",
       "  <tbody>\n",
       "    <tr>\n",
       "      <th>latitude</th>\n",
       "    </tr>\n",
       "  </tbody>\n",
       "</table>\n",
       "</div>"
      ],
      "text/plain": [
       "Empty DataFrame\n",
       "Columns: []\n",
       "Index: [latitude]"
      ]
     },
     "execution_count": 32,
     "metadata": {},
     "output_type": "execute_result"
    }
   ],
   "source": [
    "# show that all '>-0.9' rows are gone\n",
    "features[features['latitude'] > -0.9]['latitude'].to_frame().T"
   ]
  },
  {
   "cell_type": "markdown",
   "metadata": {
    "heading_collapsed": true
   },
   "source": [
    "### wpt_name:"
   ]
  },
  {
   "cell_type": "code",
   "execution_count": 33,
   "metadata": {
    "ExecuteTime": {
     "end_time": "2023-10-07T02:33:37.125147Z",
     "start_time": "2023-10-07T02:33:37.110134Z"
    },
    "hidden": true
   },
   "outputs": [
    {
     "data": {
      "text/plain": [
       "37400"
      ]
     },
     "execution_count": 33,
     "metadata": {},
     "output_type": "execute_result"
    }
   ],
   "source": [
    "features.wpt_name.nunique()"
   ]
  },
  {
   "cell_type": "markdown",
   "metadata": {
    "hidden": true
   },
   "source": [
    "- This column is for well name. Shouldn't have impact on pump functionality, so we're going to drop."
   ]
  },
  {
   "cell_type": "code",
   "execution_count": 34,
   "metadata": {
    "ExecuteTime": {
     "end_time": "2023-10-07T02:33:37.141161Z",
     "start_time": "2023-10-07T02:33:37.126147Z"
    },
    "hidden": true
   },
   "outputs": [],
   "source": [
    "drops.append('wpt_name')"
   ]
  },
  {
   "cell_type": "markdown",
   "metadata": {
    "heading_collapsed": true
   },
   "source": [
    "### num_private:"
   ]
  },
  {
   "cell_type": "code",
   "execution_count": 35,
   "metadata": {
    "ExecuteTime": {
     "end_time": "2023-10-07T02:33:37.157180Z",
     "start_time": "2023-10-07T02:33:37.142163Z"
    },
    "hidden": true
   },
   "outputs": [
    {
     "data": {
      "text/plain": [
       "count    59400.000000\n",
       "mean         0.474141\n",
       "std         12.236230\n",
       "min          0.000000\n",
       "25%          0.000000\n",
       "50%          0.000000\n",
       "75%          0.000000\n",
       "max       1776.000000\n",
       "Name: num_private, dtype: float64"
      ]
     },
     "execution_count": 35,
     "metadata": {},
     "output_type": "execute_result"
    }
   ],
   "source": [
    "features['num_private'].describe()"
   ]
  },
  {
   "cell_type": "code",
   "execution_count": 36,
   "metadata": {
    "ExecuteTime": {
     "end_time": "2023-10-07T02:33:37.173161Z",
     "start_time": "2023-10-07T02:33:37.158188Z"
    },
    "hidden": true
   },
   "outputs": [
    {
     "data": {
      "text/plain": [
       "65"
      ]
     },
     "execution_count": 36,
     "metadata": {},
     "output_type": "execute_result"
    }
   ],
   "source": [
    "features.num_private.nunique()"
   ]
  },
  {
   "cell_type": "code",
   "execution_count": 37,
   "metadata": {
    "ExecuteTime": {
     "end_time": "2023-10-07T02:33:37.188839Z",
     "start_time": "2023-10-07T02:33:37.174162Z"
    },
    "hidden": true
   },
   "outputs": [
    {
     "data": {
      "text/plain": [
       "0    0.987256\n",
       "6    0.001364\n",
       "1    0.001229\n",
       "Name: num_private, dtype: float64"
      ]
     },
     "execution_count": 37,
     "metadata": {},
     "output_type": "execute_result"
    }
   ],
   "source": [
    "features['num_private'].value_counts(normalize=True).head(3)"
   ]
  },
  {
   "cell_type": "markdown",
   "metadata": {
    "hidden": true
   },
   "source": [
    "- Vast majority of vals are 0.\n",
    "- The meaning of this column isn't quite clear, but keeping it as it may contain important information."
   ]
  },
  {
   "cell_type": "markdown",
   "metadata": {
    "heading_collapsed": true
   },
   "source": [
    "### basin and subvillage:"
   ]
  },
  {
   "cell_type": "code",
   "execution_count": 38,
   "metadata": {
    "ExecuteTime": {
     "end_time": "2023-10-07T02:33:37.204155Z",
     "start_time": "2023-10-07T02:33:37.189821Z"
    },
    "hidden": true
   },
   "outputs": [
    {
     "data": {
      "text/plain": [
       "(9,\n",
       " array(['Lake Nyasa', 'Lake Victoria', 'Pangani',\n",
       "        'Ruvuma / Southern Coast', 'Internal', 'Lake Tanganyika',\n",
       "        'Wami / Ruvu', 'Rufiji', 'Lake Rukwa'], dtype=object))"
      ]
     },
     "execution_count": 38,
     "metadata": {},
     "output_type": "execute_result"
    }
   ],
   "source": [
    "# unique basins\n",
    "features.basin.nunique(), features.basin.unique()"
   ]
  },
  {
   "cell_type": "code",
   "execution_count": 39,
   "metadata": {
    "ExecuteTime": {
     "end_time": "2023-10-07T02:33:37.219170Z",
     "start_time": "2023-10-07T02:33:37.205157Z"
    },
    "hidden": true
   },
   "outputs": [
    {
     "data": {
      "text/plain": [
       "19287"
      ]
     },
     "execution_count": 39,
     "metadata": {},
     "output_type": "execute_result"
    }
   ],
   "source": [
    "# unique subvillages\n",
    "features.subvillage.nunique()"
   ]
  },
  {
   "cell_type": "markdown",
   "metadata": {
    "hidden": true
   },
   "source": [
    "- Going to drop subvillage. Region code, latitude, longitude, and basin should capture enough locational information."
   ]
  },
  {
   "cell_type": "code",
   "execution_count": 40,
   "metadata": {
    "ExecuteTime": {
     "end_time": "2023-10-07T02:33:37.235184Z",
     "start_time": "2023-10-07T02:33:37.220170Z"
    },
    "hidden": true
   },
   "outputs": [],
   "source": [
    "drops.append('subvillage')"
   ]
  },
  {
   "cell_type": "markdown",
   "metadata": {
    "heading_collapsed": true
   },
   "source": [
    "### region and region_code:"
   ]
  },
  {
   "cell_type": "code",
   "execution_count": 41,
   "metadata": {
    "ExecuteTime": {
     "end_time": "2023-10-07T02:33:37.251198Z",
     "start_time": "2023-10-07T02:33:37.236185Z"
    },
    "hidden": true
   },
   "outputs": [
    {
     "data": {
      "text/plain": [
       "21"
      ]
     },
     "execution_count": 41,
     "metadata": {},
     "output_type": "execute_result"
    }
   ],
   "source": [
    "# unique regions\n",
    "features.region.nunique()"
   ]
  },
  {
   "cell_type": "code",
   "execution_count": 42,
   "metadata": {
    "ExecuteTime": {
     "end_time": "2023-10-07T02:33:37.267108Z",
     "start_time": "2023-10-07T02:33:37.253199Z"
    },
    "hidden": true
   },
   "outputs": [
    {
     "data": {
      "text/plain": [
       "27"
      ]
     },
     "execution_count": 42,
     "metadata": {},
     "output_type": "execute_result"
    }
   ],
   "source": [
    "# unique region_codes\n",
    "features.region_code.nunique()"
   ]
  },
  {
   "cell_type": "code",
   "execution_count": 43,
   "metadata": {
    "ExecuteTime": {
     "end_time": "2023-10-07T02:33:37.360727Z",
     "start_time": "2023-10-07T02:33:37.268109Z"
    },
    "hidden": true
   },
   "outputs": [
    {
     "data": {
      "text/plain": [
       "dict_keys([('Arusha', 2), ('Arusha', 24), ('Dar es Salaam', 7), ('Dodoma', 1), ('Iringa', 11), ('Kagera', 18), ('Kigoma', 16), ('Kilimanjaro', 3), ('Lindi', 8), ('Lindi', 18), ('Lindi', 80), ('Manyara', 21), ('Mara', 20), ('Mbeya', 12), ('Morogoro', 5), ('Mtwara', 9), ('Mtwara', 90), ('Mtwara', 99), ('Mwanza', 17), ('Mwanza', 19), ('Pwani', 6), ('Pwani', 40), ('Pwani', 60), ('Rukwa', 15), ('Ruvuma', 10), ('Shinyanga', 11), ('Shinyanga', 14), ('Shinyanga', 17), ('Singida', 13), ('Tabora', 14), ('Tanga', 4), ('Tanga', 5)])"
      ]
     },
     "execution_count": 43,
     "metadata": {},
     "output_type": "execute_result"
    }
   ],
   "source": [
    "# look at combinations of region and region_code\n",
    "features.groupby(['region', 'region_code']).groups.keys()"
   ]
  },
  {
   "cell_type": "markdown",
   "metadata": {
    "hidden": true
   },
   "source": [
    "- 7 regions have multiple codes.\n",
    "- Dropping \"region\" as it is redundant and less specific than region_code."
   ]
  },
  {
   "cell_type": "code",
   "execution_count": 44,
   "metadata": {
    "ExecuteTime": {
     "end_time": "2023-10-07T02:33:37.376742Z",
     "start_time": "2023-10-07T02:33:37.361728Z"
    },
    "hidden": true
   },
   "outputs": [],
   "source": [
    "# drop 'region'\n",
    "drops.append('region')"
   ]
  },
  {
   "cell_type": "code",
   "execution_count": 45,
   "metadata": {
    "ExecuteTime": {
     "end_time": "2023-10-07T02:33:37.392512Z",
     "start_time": "2023-10-07T02:33:37.377743Z"
    },
    "hidden": true
   },
   "outputs": [
    {
     "data": {
      "text/plain": [
       "dtype('int64')"
      ]
     },
     "execution_count": 45,
     "metadata": {},
     "output_type": "execute_result"
    }
   ],
   "source": [
    "# check data type of region_code\n",
    "features.region_code.dtypes"
   ]
  },
  {
   "cell_type": "markdown",
   "metadata": {
    "hidden": true
   },
   "source": [
    "- Converting region_code to 'object' to ensure it's treated as a category."
   ]
  },
  {
   "cell_type": "code",
   "execution_count": 46,
   "metadata": {
    "ExecuteTime": {
     "end_time": "2023-10-07T02:33:37.407526Z",
     "start_time": "2023-10-07T02:33:37.393513Z"
    },
    "hidden": true
   },
   "outputs": [
    {
     "data": {
      "text/plain": [
       "dtype('O')"
      ]
     },
     "execution_count": 46,
     "metadata": {},
     "output_type": "execute_result"
    }
   ],
   "source": [
    "# convert from int to str (Object)\n",
    "features['region_code'] = features['region_code'].astype('O')\n",
    "features.region_code.dtypes"
   ]
  },
  {
   "cell_type": "markdown",
   "metadata": {
    "heading_collapsed": true
   },
   "source": [
    "### district_code"
   ]
  },
  {
   "cell_type": "code",
   "execution_count": 47,
   "metadata": {
    "ExecuteTime": {
     "end_time": "2023-10-07T02:33:37.423540Z",
     "start_time": "2023-10-07T02:33:37.408527Z"
    },
    "hidden": true
   },
   "outputs": [
    {
     "data": {
      "text/plain": [
       "(20,\n",
       " array([ 5,  2,  4, 63,  1,  8,  3,  6, 43,  7, 23, 33, 53, 62, 60, 30, 13,\n",
       "         0, 80, 67], dtype=int64))"
      ]
     },
     "execution_count": 47,
     "metadata": {},
     "output_type": "execute_result"
    }
   ],
   "source": [
    "# unique district_codes\n",
    "features.district_code.nunique(), features.district_code.unique()"
   ]
  },
  {
   "cell_type": "markdown",
   "metadata": {
    "hidden": true
   },
   "source": [
    "- Like region_code, need to convert to categorical column."
   ]
  },
  {
   "cell_type": "code",
   "execution_count": 48,
   "metadata": {
    "ExecuteTime": {
     "end_time": "2023-10-07T02:33:37.439555Z",
     "start_time": "2023-10-07T02:33:37.424542Z"
    },
    "hidden": true
   },
   "outputs": [
    {
     "data": {
      "text/plain": [
       "dtype('O')"
      ]
     },
     "execution_count": 48,
     "metadata": {},
     "output_type": "execute_result"
    }
   ],
   "source": [
    "# convert from int to str (Object)\n",
    "features['district_code'] = features['district_code'].astype('O')\n",
    "features.district_code.dtypes"
   ]
  },
  {
   "cell_type": "markdown",
   "metadata": {
    "heading_collapsed": true
   },
   "source": [
    "### lga and ward\n",
    "- Local Government Area: an administrative division within the country.\n",
    "- Ward: a smaller division of an LGA."
   ]
  },
  {
   "cell_type": "code",
   "execution_count": 49,
   "metadata": {
    "ExecuteTime": {
     "end_time": "2023-10-07T02:33:37.455569Z",
     "start_time": "2023-10-07T02:33:37.440556Z"
    },
    "hidden": true
   },
   "outputs": [
    {
     "data": {
      "text/plain": [
       "125"
      ]
     },
     "execution_count": 49,
     "metadata": {},
     "output_type": "execute_result"
    }
   ],
   "source": [
    "# unique LGA\n",
    "features.lga.nunique()"
   ]
  },
  {
   "cell_type": "code",
   "execution_count": 50,
   "metadata": {
    "ExecuteTime": {
     "end_time": "2023-10-07T02:33:37.471584Z",
     "start_time": "2023-10-07T02:33:37.456571Z"
    },
    "hidden": true
   },
   "outputs": [
    {
     "data": {
      "text/plain": [
       "2092"
      ]
     },
     "execution_count": 50,
     "metadata": {},
     "output_type": "execute_result"
    }
   ],
   "source": [
    "# unique ward\n",
    "features.ward.nunique()"
   ]
  },
  {
   "cell_type": "markdown",
   "metadata": {
    "hidden": true
   },
   "source": [
    "- Dropping 'ward' as LGA should provide enough information."
   ]
  },
  {
   "cell_type": "code",
   "execution_count": 51,
   "metadata": {
    "ExecuteTime": {
     "end_time": "2023-10-07T02:33:37.487598Z",
     "start_time": "2023-10-07T02:33:37.472585Z"
    },
    "hidden": true
   },
   "outputs": [],
   "source": [
    "# drop \"ward\"\n",
    "drops.append('ward')"
   ]
  },
  {
   "cell_type": "markdown",
   "metadata": {
    "heading_collapsed": true
   },
   "source": [
    "### population"
   ]
  },
  {
   "cell_type": "code",
   "execution_count": 52,
   "metadata": {
    "ExecuteTime": {
     "end_time": "2023-10-07T02:33:37.503613Z",
     "start_time": "2023-10-07T02:33:37.488600Z"
    },
    "hidden": true
   },
   "outputs": [
    {
     "data": {
      "text/html": [
       "<div>\n",
       "<style scoped>\n",
       "    .dataframe tbody tr th:only-of-type {\n",
       "        vertical-align: middle;\n",
       "    }\n",
       "\n",
       "    .dataframe tbody tr th {\n",
       "        vertical-align: top;\n",
       "    }\n",
       "\n",
       "    .dataframe thead th {\n",
       "        text-align: right;\n",
       "    }\n",
       "</style>\n",
       "<table border=\"1\" class=\"dataframe\">\n",
       "  <thead>\n",
       "    <tr style=\"text-align: right;\">\n",
       "      <th></th>\n",
       "      <th>count</th>\n",
       "      <th>mean</th>\n",
       "      <th>std</th>\n",
       "      <th>min</th>\n",
       "      <th>25%</th>\n",
       "      <th>50%</th>\n",
       "      <th>75%</th>\n",
       "      <th>max</th>\n",
       "    </tr>\n",
       "  </thead>\n",
       "  <tbody>\n",
       "    <tr>\n",
       "      <th>population</th>\n",
       "      <td>59400.0</td>\n",
       "      <td>179.909983</td>\n",
       "      <td>471.482176</td>\n",
       "      <td>0.0</td>\n",
       "      <td>0.0</td>\n",
       "      <td>25.0</td>\n",
       "      <td>215.0</td>\n",
       "      <td>30500.0</td>\n",
       "    </tr>\n",
       "  </tbody>\n",
       "</table>\n",
       "</div>"
      ],
      "text/plain": [
       "              count        mean         std  min  25%   50%    75%      max\n",
       "population  59400.0  179.909983  471.482176  0.0  0.0  25.0  215.0  30500.0"
      ]
     },
     "execution_count": 52,
     "metadata": {},
     "output_type": "execute_result"
    }
   ],
   "source": [
    "features.population.describe().to_frame().T"
   ]
  },
  {
   "cell_type": "markdown",
   "metadata": {
    "hidden": true
   },
   "source": [
    "- Min and 25th percentile both show populations of 0."
   ]
  },
  {
   "cell_type": "code",
   "execution_count": 53,
   "metadata": {
    "ExecuteTime": {
     "end_time": "2023-10-07T02:33:37.535642Z",
     "start_time": "2023-10-07T02:33:37.504614Z"
    },
    "hidden": true
   },
   "outputs": [
    {
     "data": {
      "text/plain": [
       "(21381, 42)"
      ]
     },
     "execution_count": 53,
     "metadata": {},
     "output_type": "execute_result"
    }
   ],
   "source": [
    "# populations of 0\n",
    "features[features.population == 0].shape"
   ]
  },
  {
   "cell_type": "markdown",
   "metadata": {
    "hidden": true
   },
   "source": [
    "- over 21,000 rows with a population of 0. Could be a missing value.\n",
    "- could also just be wells located in remote areas with populations of 0."
   ]
  },
  {
   "cell_type": "code",
   "execution_count": 54,
   "metadata": {
    "ExecuteTime": {
     "end_time": "2023-10-07T02:33:37.551657Z",
     "start_time": "2023-10-07T02:33:37.536643Z"
    },
    "hidden": true
   },
   "outputs": [
    {
     "data": {
      "text/plain": [
       "(7025, 42)"
      ]
     },
     "execution_count": 54,
     "metadata": {},
     "output_type": "execute_result"
    }
   ],
   "source": [
    "# populations of 1\n",
    "features[features.population == 1].shape"
   ]
  },
  {
   "cell_type": "code",
   "execution_count": 55,
   "metadata": {
    "ExecuteTime": {
     "end_time": "2023-10-07T02:33:37.567671Z",
     "start_time": "2023-10-07T02:33:37.552658Z"
    },
    "hidden": true
   },
   "outputs": [
    {
     "data": {
      "text/plain": [
       "(28527, 42)"
      ]
     },
     "execution_count": 55,
     "metadata": {},
     "output_type": "execute_result"
    }
   ],
   "source": [
    "# populations of less than 10\n",
    "features[features.population < 10].shape"
   ]
  },
  {
   "cell_type": "markdown",
   "metadata": {
    "hidden": true
   },
   "source": [
    "- 7,000 rows with a population of 1. This may indicate that the population values are accurate.\n",
    "- Almost half of our dataset has a very small population (<10). These population values very well could be accurate. \n",
    "- Keeping column unmodified."
   ]
  },
  {
   "cell_type": "markdown",
   "metadata": {
    "heading_collapsed": true
   },
   "source": [
    "### public_meeting\n",
    "- Boolean column indicate whether a meeting was held regarding the well"
   ]
  },
  {
   "cell_type": "code",
   "execution_count": 56,
   "metadata": {
    "ExecuteTime": {
     "end_time": "2023-10-07T02:33:37.583686Z",
     "start_time": "2023-10-07T02:33:37.568672Z"
    },
    "hidden": true
   },
   "outputs": [
    {
     "data": {
      "text/plain": [
       "True     51011\n",
       "False     5055\n",
       "Name: public_meeting, dtype: int64"
      ]
     },
     "execution_count": 56,
     "metadata": {},
     "output_type": "execute_result"
    }
   ],
   "source": [
    "features.public_meeting.value_counts()"
   ]
  },
  {
   "cell_type": "markdown",
   "metadata": {
    "heading_collapsed": true
   },
   "source": [
    "### recorded_by\n",
    "- The body responsible for recording that row's data."
   ]
  },
  {
   "cell_type": "code",
   "execution_count": 57,
   "metadata": {
    "ExecuteTime": {
     "end_time": "2023-10-07T02:33:37.599701Z",
     "start_time": "2023-10-07T02:33:37.584686Z"
    },
    "hidden": true
   },
   "outputs": [
    {
     "data": {
      "text/plain": [
       "1"
      ]
     },
     "execution_count": 57,
     "metadata": {},
     "output_type": "execute_result"
    }
   ],
   "source": [
    "# unique recorded_by\n",
    "features.recorded_by.nunique()"
   ]
  },
  {
   "cell_type": "code",
   "execution_count": 58,
   "metadata": {
    "ExecuteTime": {
     "end_time": "2023-10-07T02:33:37.615715Z",
     "start_time": "2023-10-07T02:33:37.600702Z"
    },
    "hidden": true
   },
   "outputs": [
    {
     "data": {
      "text/plain": [
       "GeoData Consultants Ltd    59400\n",
       "Name: recorded_by, dtype: int64"
      ]
     },
     "execution_count": 58,
     "metadata": {},
     "output_type": "execute_result"
    }
   ],
   "source": [
    "features.recorded_by.value_counts()"
   ]
  },
  {
   "cell_type": "markdown",
   "metadata": {
    "hidden": true
   },
   "source": [
    "- All well data was recorded by GeoData Consultants Ltd.\n",
    "- Dropping the column."
   ]
  },
  {
   "cell_type": "code",
   "execution_count": 59,
   "metadata": {
    "ExecuteTime": {
     "end_time": "2023-10-07T02:33:37.631729Z",
     "start_time": "2023-10-07T02:33:37.616715Z"
    },
    "hidden": true
   },
   "outputs": [],
   "source": [
    "# drop recorded_by\n",
    "drops.append('recorded_by')"
   ]
  },
  {
   "cell_type": "markdown",
   "metadata": {
    "heading_collapsed": true
   },
   "source": [
    "### scheme_management, management , and management_group"
   ]
  },
  {
   "cell_type": "code",
   "execution_count": 60,
   "metadata": {
    "ExecuteTime": {
     "end_time": "2023-10-07T02:33:37.647744Z",
     "start_time": "2023-10-07T02:33:37.632730Z"
    },
    "hidden": true
   },
   "outputs": [
    {
     "data": {
      "text/plain": [
       "(12,\n",
       " array(['VWC', 'Other', nan, 'Private operator', 'WUG', 'Water Board',\n",
       "        'WUA', 'Water authority', 'Company', 'Parastatal', 'Trust', 'SWC',\n",
       "        'None'], dtype=object))"
      ]
     },
     "execution_count": 60,
     "metadata": {},
     "output_type": "execute_result"
    }
   ],
   "source": [
    "# unique scheme_management\n",
    "features['scheme_management'].nunique(), features['scheme_management'].unique()"
   ]
  },
  {
   "cell_type": "code",
   "execution_count": 61,
   "metadata": {
    "ExecuteTime": {
     "end_time": "2023-10-07T02:33:37.663758Z",
     "start_time": "2023-10-07T02:33:37.648745Z"
    },
    "hidden": true
   },
   "outputs": [
    {
     "data": {
      "text/plain": [
       "VWC                 36793\n",
       "WUG                  5206\n",
       "Water authority      3153\n",
       "WUA                  2883\n",
       "Water Board          2748\n",
       "Parastatal           1680\n",
       "Private operator     1063\n",
       "Company              1061\n",
       "Other                 766\n",
       "SWC                    97\n",
       "Trust                  72\n",
       "None                    1\n",
       "Name: scheme_management, dtype: int64"
      ]
     },
     "execution_count": 61,
     "metadata": {},
     "output_type": "execute_result"
    }
   ],
   "source": [
    "features['scheme_management'].value_counts()"
   ]
  },
  {
   "cell_type": "code",
   "execution_count": 62,
   "metadata": {
    "ExecuteTime": {
     "end_time": "2023-10-07T02:33:37.679773Z",
     "start_time": "2023-10-07T02:33:37.664759Z"
    },
    "hidden": true
   },
   "outputs": [
    {
     "data": {
      "text/plain": [
       "(12,\n",
       " array(['vwc', 'wug', 'other', 'private operator', 'water board', 'wua',\n",
       "        'company', 'water authority', 'parastatal', 'unknown',\n",
       "        'other - school', 'trust'], dtype=object))"
      ]
     },
     "execution_count": 62,
     "metadata": {},
     "output_type": "execute_result"
    }
   ],
   "source": [
    "# unique management\n",
    "features['management'].nunique(), features['management'].unique()"
   ]
  },
  {
   "cell_type": "code",
   "execution_count": 63,
   "metadata": {
    "ExecuteTime": {
     "end_time": "2023-10-07T02:33:37.694787Z",
     "start_time": "2023-10-07T02:33:37.680774Z"
    },
    "hidden": true
   },
   "outputs": [
    {
     "data": {
      "text/plain": [
       "vwc                 40507\n",
       "wug                  6515\n",
       "water board          2933\n",
       "wua                  2535\n",
       "private operator     1971\n",
       "parastatal           1768\n",
       "water authority       904\n",
       "other                 844\n",
       "company               685\n",
       "unknown               561\n",
       "other - school         99\n",
       "trust                  78\n",
       "Name: management, dtype: int64"
      ]
     },
     "execution_count": 63,
     "metadata": {},
     "output_type": "execute_result"
    }
   ],
   "source": [
    "features['management'].value_counts()"
   ]
  },
  {
   "cell_type": "code",
   "execution_count": 64,
   "metadata": {
    "ExecuteTime": {
     "end_time": "2023-10-07T02:33:37.710802Z",
     "start_time": "2023-10-07T02:33:37.695788Z"
    },
    "hidden": true
   },
   "outputs": [
    {
     "data": {
      "text/plain": [
       "(5,\n",
       " array(['user-group', 'other', 'commercial', 'parastatal', 'unknown'],\n",
       "       dtype=object))"
      ]
     },
     "execution_count": 64,
     "metadata": {},
     "output_type": "execute_result"
    }
   ],
   "source": [
    "# unique management_groups\n",
    "features['management_group'].nunique(), features['management_group'].unique()"
   ]
  },
  {
   "cell_type": "code",
   "execution_count": 65,
   "metadata": {
    "ExecuteTime": {
     "end_time": "2023-10-07T02:33:37.726816Z",
     "start_time": "2023-10-07T02:33:37.711802Z"
    },
    "hidden": true
   },
   "outputs": [
    {
     "data": {
      "text/plain": [
       "user-group    52490\n",
       "commercial     3638\n",
       "parastatal     1768\n",
       "other           943\n",
       "unknown         561\n",
       "Name: management_group, dtype: int64"
      ]
     },
     "execution_count": 65,
     "metadata": {},
     "output_type": "execute_result"
    }
   ],
   "source": [
    "features['management_group'].value_counts()"
   ]
  },
  {
   "cell_type": "markdown",
   "metadata": {
    "hidden": true
   },
   "source": [
    "- Scheme_management and management seem to capture the same data. Using 'management' as it has less unknown values.\n",
    "- Management_group seems to also capture the same data, at a less granular level.\n",
    "- Dropping scheme_management and management_group."
   ]
  },
  {
   "cell_type": "code",
   "execution_count": 66,
   "metadata": {
    "ExecuteTime": {
     "end_time": "2023-10-07T02:33:37.741830Z",
     "start_time": "2023-10-07T02:33:37.727817Z"
    },
    "hidden": true
   },
   "outputs": [],
   "source": [
    "# drop scheme_management and management_group\n",
    "drops.append('scheme_management')\n",
    "drops.append('management_group')"
   ]
  },
  {
   "cell_type": "markdown",
   "metadata": {
    "heading_collapsed": true
   },
   "source": [
    "### scheme_name\n",
    "- The name of the scheme/program in which the well operates under.\n",
    "- This is the column with the most nulls by far (28,000)."
   ]
  },
  {
   "cell_type": "code",
   "execution_count": 67,
   "metadata": {
    "ExecuteTime": {
     "end_time": "2023-10-07T02:33:37.757844Z",
     "start_time": "2023-10-07T02:33:37.742831Z"
    },
    "hidden": true
   },
   "outputs": [
    {
     "data": {
      "text/plain": [
       "2696"
      ]
     },
     "execution_count": 67,
     "metadata": {},
     "output_type": "execute_result"
    }
   ],
   "source": [
    "# unique scheme_name\n",
    "features['scheme_name'].nunique()"
   ]
  },
  {
   "cell_type": "code",
   "execution_count": 68,
   "metadata": {
    "ExecuteTime": {
     "end_time": "2023-10-07T02:33:37.789873Z",
     "start_time": "2023-10-07T02:33:37.763850Z"
    },
    "hidden": true
   },
   "outputs": [
    {
     "data": {
      "text/plain": [
       "(K                             682\n",
       " None                          644\n",
       " Borehole                      546\n",
       " Chalinze wate                 405\n",
       " M                             400\n",
       "                              ... \n",
       " Kwaikuru water supply           1\n",
       " Mshi                            1\n",
       " Islamic                         1\n",
       " Imesela                         1\n",
       " Charles Mushi  Branch line      1\n",
       " Name: scheme_name, Length: 2696, dtype: int64,\n",
       " 31234)"
      ]
     },
     "execution_count": 68,
     "metadata": {},
     "output_type": "execute_result"
    }
   ],
   "source": [
    "# get counts of scheme_names\n",
    "schemes = features.scheme_name.value_counts()\n",
    "schemes, schemes.sum()"
   ]
  },
  {
   "cell_type": "markdown",
   "metadata": {
    "hidden": true
   },
   "source": [
    "- Only 31,000/59,000 rows have scheme_name.\n",
    "- Could use a SimpleImpute strategy like \"most_frequent\". However, this could be innaccurate as there isn't a clear most frequent. Top value \"K\" barely edges out \"None\", and than at least 3 others are close behind."
   ]
  },
  {
   "cell_type": "code",
   "execution_count": 69,
   "metadata": {
    "ExecuteTime": {
     "end_time": "2023-10-07T02:33:37.805888Z",
     "start_time": "2023-10-07T02:33:37.791875Z"
    },
    "hidden": true
   },
   "outputs": [
    {
     "data": {
      "text/plain": [
       "353"
      ]
     },
     "execution_count": 69,
     "metadata": {},
     "output_type": "execute_result"
    }
   ],
   "source": [
    "# schemes with 20 or more rows in data\n",
    "top_schemes = schemes[schemes >= 20].index\n",
    "vals = schemes[schemes >= 20].values\n",
    "\n",
    "num_schemes = len(top_schemes)\n",
    "num_schemes"
   ]
  },
  {
   "cell_type": "markdown",
   "metadata": {
    "hidden": true
   },
   "source": [
    "- 353 scheme_names with 20 or more rows."
   ]
  },
  {
   "cell_type": "code",
   "execution_count": 70,
   "metadata": {
    "ExecuteTime": {
     "end_time": "2023-10-07T02:33:37.821902Z",
     "start_time": "2023-10-07T02:33:37.806889Z"
    },
    "hidden": true
   },
   "outputs": [
    {
     "name": "stdout",
     "output_type": "stream",
     "text": [
      "The top 13.1% of schemes make up 61.1% of the data. Keep in mind, the data here is only 31,000 rows.\n"
     ]
    }
   ],
   "source": [
    "print(f'''The top {num_schemes / features.scheme_name.nunique() * 100 :.1f}% of schemes make up \\\n",
    "{sum(vals) / 31234 * 100 :.1f}% of the data. Keep in mind, the data here is only 31,000 rows.''')"
   ]
  },
  {
   "cell_type": "markdown",
   "metadata": {
    "hidden": true
   },
   "source": [
    "- Scheme_name is more dispersed than top-heavy cols like funder and installer. This makes it harder to take the \"top slice\" of the column.\n",
    "- Keeping this column and all of it's unique vals, as it may be very important."
   ]
  },
  {
   "cell_type": "markdown",
   "metadata": {
    "heading_collapsed": true
   },
   "source": [
    "### permit\n",
    "- Permit is a boolean column that holds whether the builder of the well had a permit."
   ]
  },
  {
   "cell_type": "code",
   "execution_count": 71,
   "metadata": {
    "ExecuteTime": {
     "end_time": "2023-10-07T02:33:37.837917Z",
     "start_time": "2023-10-07T02:33:37.822903Z"
    },
    "hidden": true,
    "scrolled": true
   },
   "outputs": [
    {
     "data": {
      "text/plain": [
       "(2, array([False, True, nan], dtype=object))"
      ]
     },
     "execution_count": 71,
     "metadata": {},
     "output_type": "execute_result"
    }
   ],
   "source": [
    "# unique permits\n",
    "features['permit'].nunique(), features['permit'].unique()"
   ]
  },
  {
   "cell_type": "code",
   "execution_count": 72,
   "metadata": {
    "ExecuteTime": {
     "end_time": "2023-10-07T02:33:37.853931Z",
     "start_time": "2023-10-07T02:33:37.838918Z"
    },
    "hidden": true
   },
   "outputs": [
    {
     "data": {
      "text/plain": [
       "True     0.68955\n",
       "False    0.31045\n",
       "Name: permit, dtype: float64"
      ]
     },
     "execution_count": 72,
     "metadata": {},
     "output_type": "execute_result"
    }
   ],
   "source": [
    "features['permit'].value_counts(normalize=True)"
   ]
  },
  {
   "cell_type": "markdown",
   "metadata": {
    "heading_collapsed": true
   },
   "source": [
    "### extraction_type, extraction_type_group, extraction_type_class\n",
    "- 3 columns describe the type of pump used."
   ]
  },
  {
   "cell_type": "code",
   "execution_count": 73,
   "metadata": {
    "ExecuteTime": {
     "end_time": "2023-10-07T02:33:37.869866Z",
     "start_time": "2023-10-07T02:33:37.855934Z"
    },
    "hidden": true
   },
   "outputs": [
    {
     "data": {
      "text/plain": [
       "(18,\n",
       " array(['gravity', 'submersible', 'swn 80', 'nira/tanira', 'india mark ii',\n",
       "        'other', 'ksb', 'mono', 'windmill', 'afridev', 'other - rope pump',\n",
       "        'india mark iii', 'other - swn 81', 'other - play pump', 'cemo',\n",
       "        'climax', 'walimi', 'other - mkulima/shinyanga'], dtype=object))"
      ]
     },
     "execution_count": 73,
     "metadata": {},
     "output_type": "execute_result"
    }
   ],
   "source": [
    "# unique extraction_type\n",
    "features['extraction_type'].nunique(), features['extraction_type'].unique()"
   ]
  },
  {
   "cell_type": "code",
   "execution_count": 74,
   "metadata": {
    "ExecuteTime": {
     "end_time": "2023-10-07T02:33:37.885881Z",
     "start_time": "2023-10-07T02:33:37.870867Z"
    },
    "hidden": true
   },
   "outputs": [
    {
     "data": {
      "text/plain": [
       "(7,\n",
       " array(['gravity', 'submersible', 'handpump', 'other', 'motorpump',\n",
       "        'wind-powered', 'rope pump'], dtype=object))"
      ]
     },
     "execution_count": 74,
     "metadata": {},
     "output_type": "execute_result"
    }
   ],
   "source": [
    "# unique extraction_type_class\n",
    "features['extraction_type_class'].nunique(), features['extraction_type_class'].unique()"
   ]
  },
  {
   "cell_type": "code",
   "execution_count": 75,
   "metadata": {
    "ExecuteTime": {
     "end_time": "2023-10-07T02:33:37.901895Z",
     "start_time": "2023-10-07T02:33:37.886882Z"
    },
    "hidden": true
   },
   "outputs": [
    {
     "data": {
      "text/plain": [
       "(13,\n",
       " array(['gravity', 'submersible', 'swn 80', 'nira/tanira', 'india mark ii',\n",
       "        'other', 'mono', 'wind-powered', 'afridev', 'rope pump',\n",
       "        'india mark iii', 'other handpump', 'other motorpump'],\n",
       "       dtype=object))"
      ]
     },
     "execution_count": 75,
     "metadata": {},
     "output_type": "execute_result"
    }
   ],
   "source": [
    "# unique extraction_type_group\n",
    "features['extraction_type_group'].nunique(), features['extraction_type_group'].unique()"
   ]
  },
  {
   "cell_type": "markdown",
   "metadata": {
    "hidden": true
   },
   "source": [
    "- Extraction_type seems to hold the most detail with 18 unique values.\n",
    "- Extraction_type_group holds similar data to extraction_type but less specific.\n",
    "- Keeping extraction_type_class, as it holds broader well type data and may have meaning.\n",
    "- Dropping extraction_type_group."
   ]
  },
  {
   "cell_type": "code",
   "execution_count": 76,
   "metadata": {
    "ExecuteTime": {
     "end_time": "2023-10-07T02:33:37.917910Z",
     "start_time": "2023-10-07T02:33:37.902897Z"
    },
    "hidden": true
   },
   "outputs": [],
   "source": [
    "# drop extraction_type_group\n",
    "drops.append('extraction_type_group')"
   ]
  },
  {
   "cell_type": "markdown",
   "metadata": {
    "heading_collapsed": true
   },
   "source": [
    "### payment, payment_type"
   ]
  },
  {
   "cell_type": "code",
   "execution_count": 77,
   "metadata": {
    "ExecuteTime": {
     "end_time": "2023-10-07T02:33:37.933924Z",
     "start_time": "2023-10-07T02:33:37.918911Z"
    },
    "hidden": true
   },
   "outputs": [
    {
     "data": {
      "text/plain": [
       "(7,\n",
       " array(['pay annually', 'never pay', 'pay per bucket', 'unknown',\n",
       "        'pay when scheme fails', 'other', 'pay monthly'], dtype=object))"
      ]
     },
     "execution_count": 77,
     "metadata": {},
     "output_type": "execute_result"
    }
   ],
   "source": [
    "# unique payments\n",
    "features['payment'].nunique(), features['payment'].unique()"
   ]
  },
  {
   "cell_type": "code",
   "execution_count": 78,
   "metadata": {
    "ExecuteTime": {
     "end_time": "2023-10-07T02:33:37.949939Z",
     "start_time": "2023-10-07T02:33:37.934926Z"
    },
    "hidden": true
   },
   "outputs": [
    {
     "data": {
      "text/plain": [
       "never pay                25348\n",
       "pay per bucket            8985\n",
       "pay monthly               8300\n",
       "unknown                   8157\n",
       "pay when scheme fails     3914\n",
       "pay annually              3642\n",
       "other                     1054\n",
       "Name: payment, dtype: int64"
      ]
     },
     "execution_count": 78,
     "metadata": {},
     "output_type": "execute_result"
    }
   ],
   "source": [
    "features['payment'].value_counts()"
   ]
  },
  {
   "cell_type": "code",
   "execution_count": 79,
   "metadata": {
    "ExecuteTime": {
     "end_time": "2023-10-07T02:33:37.965954Z",
     "start_time": "2023-10-07T02:33:37.950939Z"
    },
    "hidden": true,
    "scrolled": true
   },
   "outputs": [
    {
     "data": {
      "text/plain": [
       "(7,\n",
       " array(['annually', 'never pay', 'per bucket', 'unknown', 'on failure',\n",
       "        'other', 'monthly'], dtype=object))"
      ]
     },
     "execution_count": 79,
     "metadata": {},
     "output_type": "execute_result"
    }
   ],
   "source": [
    "# unique payment_types\n",
    "features['payment_type'].nunique(), features['payment_type'].unique()"
   ]
  },
  {
   "cell_type": "code",
   "execution_count": 80,
   "metadata": {
    "ExecuteTime": {
     "end_time": "2023-10-07T02:33:37.981968Z",
     "start_time": "2023-10-07T02:33:37.966955Z"
    },
    "hidden": true
   },
   "outputs": [
    {
     "data": {
      "text/plain": [
       "never pay     25348\n",
       "per bucket     8985\n",
       "monthly        8300\n",
       "unknown        8157\n",
       "on failure     3914\n",
       "annually       3642\n",
       "other          1054\n",
       "Name: payment_type, dtype: int64"
      ]
     },
     "execution_count": 80,
     "metadata": {},
     "output_type": "execute_result"
    }
   ],
   "source": [
    "features['payment_type'].value_counts()"
   ]
  },
  {
   "cell_type": "markdown",
   "metadata": {
    "hidden": true
   },
   "source": [
    "- True duplicate cols with identical value counts.\n",
    "- Dropping \"payment_type\"."
   ]
  },
  {
   "cell_type": "code",
   "execution_count": 81,
   "metadata": {
    "ExecuteTime": {
     "end_time": "2023-10-07T02:33:37.997983Z",
     "start_time": "2023-10-07T02:33:37.982970Z"
    },
    "hidden": true
   },
   "outputs": [],
   "source": [
    "# drop payment_type\n",
    "drops.append('payment_type')"
   ]
  },
  {
   "cell_type": "markdown",
   "metadata": {
    "heading_collapsed": true
   },
   "source": [
    "### water_quality, quality_group"
   ]
  },
  {
   "cell_type": "code",
   "execution_count": 82,
   "metadata": {
    "ExecuteTime": {
     "end_time": "2023-10-07T02:33:38.013997Z",
     "start_time": "2023-10-07T02:33:37.998984Z"
    },
    "hidden": true
   },
   "outputs": [
    {
     "data": {
      "text/plain": [
       "(8,\n",
       " array(['soft', 'salty', 'milky', 'unknown', 'fluoride', 'coloured',\n",
       "        'salty abandoned', 'fluoride abandoned'], dtype=object))"
      ]
     },
     "execution_count": 82,
     "metadata": {},
     "output_type": "execute_result"
    }
   ],
   "source": [
    "# unique water_quality\n",
    "features['water_quality'].nunique(), features['water_quality'].unique()"
   ]
  },
  {
   "cell_type": "code",
   "execution_count": 83,
   "metadata": {
    "ExecuteTime": {
     "end_time": "2023-10-07T02:33:38.030012Z",
     "start_time": "2023-10-07T02:33:38.014999Z"
    },
    "hidden": true
   },
   "outputs": [
    {
     "data": {
      "text/plain": [
       "soft                  50818\n",
       "salty                  4856\n",
       "unknown                1876\n",
       "milky                   804\n",
       "coloured                490\n",
       "salty abandoned         339\n",
       "fluoride                200\n",
       "fluoride abandoned       17\n",
       "Name: water_quality, dtype: int64"
      ]
     },
     "execution_count": 83,
     "metadata": {},
     "output_type": "execute_result"
    }
   ],
   "source": [
    "features['water_quality'].value_counts()"
   ]
  },
  {
   "cell_type": "code",
   "execution_count": 84,
   "metadata": {
    "ExecuteTime": {
     "end_time": "2023-10-07T02:33:38.046026Z",
     "start_time": "2023-10-07T02:33:38.031013Z"
    },
    "hidden": true
   },
   "outputs": [
    {
     "data": {
      "text/plain": [
       "(6,\n",
       " array(['good', 'salty', 'milky', 'unknown', 'fluoride', 'colored'],\n",
       "       dtype=object))"
      ]
     },
     "execution_count": 84,
     "metadata": {},
     "output_type": "execute_result"
    }
   ],
   "source": [
    "# unique quality_group\n",
    "features['quality_group'].nunique(), features['quality_group'].unique()"
   ]
  },
  {
   "cell_type": "code",
   "execution_count": 85,
   "metadata": {
    "ExecuteTime": {
     "end_time": "2023-10-07T02:33:38.062041Z",
     "start_time": "2023-10-07T02:33:38.047027Z"
    },
    "hidden": true
   },
   "outputs": [
    {
     "data": {
      "text/plain": [
       "good        50818\n",
       "salty        5195\n",
       "unknown      1876\n",
       "milky         804\n",
       "colored       490\n",
       "fluoride      217\n",
       "Name: quality_group, dtype: int64"
      ]
     },
     "execution_count": 85,
     "metadata": {},
     "output_type": "execute_result"
    }
   ],
   "source": [
    "features['quality_group'].value_counts()"
   ]
  },
  {
   "cell_type": "markdown",
   "metadata": {
    "hidden": true
   },
   "source": [
    "- Water_quality seems to be more granular with two extra unique values.\n",
    "- Dropping quality_group."
   ]
  },
  {
   "cell_type": "code",
   "execution_count": 86,
   "metadata": {
    "ExecuteTime": {
     "end_time": "2023-10-07T02:33:38.078055Z",
     "start_time": "2023-10-07T02:33:38.063042Z"
    },
    "hidden": true
   },
   "outputs": [],
   "source": [
    "# drop quality_group\n",
    "drops.append('quality_group')"
   ]
  },
  {
   "cell_type": "markdown",
   "metadata": {
    "heading_collapsed": true
   },
   "source": [
    "### quantity, quantity_group"
   ]
  },
  {
   "cell_type": "code",
   "execution_count": 87,
   "metadata": {
    "ExecuteTime": {
     "end_time": "2023-10-07T02:33:38.094070Z",
     "start_time": "2023-10-07T02:33:38.080058Z"
    },
    "hidden": true
   },
   "outputs": [
    {
     "data": {
      "text/plain": [
       "(5,\n",
       " array(['enough', 'insufficient', 'dry', 'seasonal', 'unknown'],\n",
       "       dtype=object))"
      ]
     },
     "execution_count": 87,
     "metadata": {},
     "output_type": "execute_result"
    }
   ],
   "source": [
    "# unique quantity\n",
    "features['quantity'].nunique(), features['quantity'].unique()"
   ]
  },
  {
   "cell_type": "code",
   "execution_count": 88,
   "metadata": {
    "ExecuteTime": {
     "end_time": "2023-10-07T02:33:38.110085Z",
     "start_time": "2023-10-07T02:33:38.095071Z"
    },
    "hidden": true
   },
   "outputs": [
    {
     "data": {
      "text/plain": [
       "enough          33186\n",
       "insufficient    15129\n",
       "dry              6246\n",
       "seasonal         4050\n",
       "unknown           789\n",
       "Name: quantity, dtype: int64"
      ]
     },
     "execution_count": 88,
     "metadata": {},
     "output_type": "execute_result"
    }
   ],
   "source": [
    "features['quantity'].value_counts()"
   ]
  },
  {
   "cell_type": "code",
   "execution_count": 89,
   "metadata": {
    "ExecuteTime": {
     "end_time": "2023-10-07T02:33:38.126100Z",
     "start_time": "2023-10-07T02:33:38.111086Z"
    },
    "hidden": true
   },
   "outputs": [
    {
     "data": {
      "text/plain": [
       "(5,\n",
       " array(['enough', 'insufficient', 'dry', 'seasonal', 'unknown'],\n",
       "       dtype=object))"
      ]
     },
     "execution_count": 89,
     "metadata": {},
     "output_type": "execute_result"
    }
   ],
   "source": [
    "# unique quantity_group\n",
    "features['quantity_group'].nunique(), features['quantity_group'].unique()"
   ]
  },
  {
   "cell_type": "code",
   "execution_count": 90,
   "metadata": {
    "ExecuteTime": {
     "end_time": "2023-10-07T02:33:38.142114Z",
     "start_time": "2023-10-07T02:33:38.127101Z"
    },
    "hidden": true
   },
   "outputs": [
    {
     "data": {
      "text/plain": [
       "enough          33186\n",
       "insufficient    15129\n",
       "dry              6246\n",
       "seasonal         4050\n",
       "unknown           789\n",
       "Name: quantity_group, dtype: int64"
      ]
     },
     "execution_count": 90,
     "metadata": {},
     "output_type": "execute_result"
    }
   ],
   "source": [
    "features['quantity_group'].value_counts()"
   ]
  },
  {
   "cell_type": "markdown",
   "metadata": {
    "hidden": true
   },
   "source": [
    "- Duplicate columns.\n",
    "- Dropping quantity_group."
   ]
  },
  {
   "cell_type": "code",
   "execution_count": 91,
   "metadata": {
    "ExecuteTime": {
     "end_time": "2023-10-07T02:33:38.158128Z",
     "start_time": "2023-10-07T02:33:38.143115Z"
    },
    "hidden": true
   },
   "outputs": [],
   "source": [
    "# drop quantity_group\n",
    "drops.append('quantity_group')"
   ]
  },
  {
   "cell_type": "markdown",
   "metadata": {
    "heading_collapsed": true
   },
   "source": [
    "### source, source_type, source_class\t"
   ]
  },
  {
   "cell_type": "code",
   "execution_count": 92,
   "metadata": {
    "ExecuteTime": {
     "end_time": "2023-10-07T02:33:38.174143Z",
     "start_time": "2023-10-07T02:33:38.159129Z"
    },
    "hidden": true
   },
   "outputs": [
    {
     "data": {
      "text/plain": [
       "(10,\n",
       " array(['spring', 'rainwater harvesting', 'dam', 'machine dbh', 'other',\n",
       "        'shallow well', 'river', 'hand dtw', 'lake', 'unknown'],\n",
       "       dtype=object))"
      ]
     },
     "execution_count": 92,
     "metadata": {},
     "output_type": "execute_result"
    }
   ],
   "source": [
    "# unique source\n",
    "features['source'].nunique(), features['source'].unique()"
   ]
  },
  {
   "cell_type": "code",
   "execution_count": 93,
   "metadata": {
    "ExecuteTime": {
     "end_time": "2023-10-07T02:33:38.190157Z",
     "start_time": "2023-10-07T02:33:38.175144Z"
    },
    "hidden": true
   },
   "outputs": [
    {
     "data": {
      "text/plain": [
       "spring                  17021\n",
       "shallow well            16824\n",
       "machine dbh             11075\n",
       "river                    9612\n",
       "rainwater harvesting     2295\n",
       "hand dtw                  874\n",
       "lake                      765\n",
       "dam                       656\n",
       "other                     212\n",
       "unknown                    66\n",
       "Name: source, dtype: int64"
      ]
     },
     "execution_count": 93,
     "metadata": {},
     "output_type": "execute_result"
    }
   ],
   "source": [
    "features['source'].value_counts()"
   ]
  },
  {
   "cell_type": "code",
   "execution_count": 94,
   "metadata": {
    "ExecuteTime": {
     "end_time": "2023-10-07T02:33:38.206173Z",
     "start_time": "2023-10-07T02:33:38.191159Z"
    },
    "hidden": true
   },
   "outputs": [
    {
     "data": {
      "text/plain": [
       "(7,\n",
       " array(['spring', 'rainwater harvesting', 'dam', 'borehole', 'other',\n",
       "        'shallow well', 'river/lake'], dtype=object))"
      ]
     },
     "execution_count": 94,
     "metadata": {},
     "output_type": "execute_result"
    }
   ],
   "source": [
    "# unique source_type\n",
    "features['source_type'].nunique(), features['source_type'].unique()"
   ]
  },
  {
   "cell_type": "code",
   "execution_count": 95,
   "metadata": {
    "ExecuteTime": {
     "end_time": "2023-10-07T02:33:38.222187Z",
     "start_time": "2023-10-07T02:33:38.207174Z"
    },
    "hidden": true
   },
   "outputs": [
    {
     "data": {
      "text/plain": [
       "spring                  17021\n",
       "shallow well            16824\n",
       "borehole                11949\n",
       "river/lake              10377\n",
       "rainwater harvesting     2295\n",
       "dam                       656\n",
       "other                     278\n",
       "Name: source_type, dtype: int64"
      ]
     },
     "execution_count": 95,
     "metadata": {},
     "output_type": "execute_result"
    }
   ],
   "source": [
    "features['source_type'].value_counts()"
   ]
  },
  {
   "cell_type": "code",
   "execution_count": 96,
   "metadata": {
    "ExecuteTime": {
     "end_time": "2023-10-07T02:33:38.238201Z",
     "start_time": "2023-10-07T02:33:38.223188Z"
    },
    "hidden": true
   },
   "outputs": [
    {
     "data": {
      "text/plain": [
       "(3, array(['groundwater', 'surface', 'unknown'], dtype=object))"
      ]
     },
     "execution_count": 96,
     "metadata": {},
     "output_type": "execute_result"
    }
   ],
   "source": [
    "# unique source_class\n",
    "features['source_class'].nunique(), features['source_class'].unique()"
   ]
  },
  {
   "cell_type": "code",
   "execution_count": 97,
   "metadata": {
    "ExecuteTime": {
     "end_time": "2023-10-07T02:33:38.254216Z",
     "start_time": "2023-10-07T02:33:38.239202Z"
    },
    "hidden": true
   },
   "outputs": [
    {
     "data": {
      "text/plain": [
       "groundwater    45794\n",
       "surface        13328\n",
       "unknown          278\n",
       "Name: source_class, dtype: int64"
      ]
     },
     "execution_count": 97,
     "metadata": {},
     "output_type": "execute_result"
    }
   ],
   "source": [
    "features['source_class'].value_counts()"
   ]
  },
  {
   "cell_type": "markdown",
   "metadata": {
    "hidden": true
   },
   "source": [
    "- Keeping source_class as it distinguishes above and below ground water sources.\n",
    "- Dropping source_type. \"source\" is more specific."
   ]
  },
  {
   "cell_type": "code",
   "execution_count": 98,
   "metadata": {
    "ExecuteTime": {
     "end_time": "2023-10-07T02:33:38.269230Z",
     "start_time": "2023-10-07T02:33:38.255217Z"
    },
    "hidden": true
   },
   "outputs": [],
   "source": [
    "# drop source_type\n",
    "drops.append('source_type')"
   ]
  },
  {
   "cell_type": "markdown",
   "metadata": {
    "heading_collapsed": true
   },
   "source": [
    "### waterpoint_type, waterpoint_type_group"
   ]
  },
  {
   "cell_type": "code",
   "execution_count": 99,
   "metadata": {
    "ExecuteTime": {
     "end_time": "2023-10-07T02:33:38.285244Z",
     "start_time": "2023-10-07T02:33:38.270230Z"
    },
    "hidden": true
   },
   "outputs": [
    {
     "data": {
      "text/plain": [
       "(7,\n",
       " array(['communal standpipe', 'communal standpipe multiple', 'hand pump',\n",
       "        'other', 'improved spring', 'cattle trough', 'dam'], dtype=object))"
      ]
     },
     "execution_count": 99,
     "metadata": {},
     "output_type": "execute_result"
    }
   ],
   "source": [
    "# unique waterpoint_type\n",
    "features['waterpoint_type'].nunique(), features['waterpoint_type'].unique()"
   ]
  },
  {
   "cell_type": "code",
   "execution_count": 100,
   "metadata": {
    "ExecuteTime": {
     "end_time": "2023-10-07T02:33:38.301259Z",
     "start_time": "2023-10-07T02:33:38.286245Z"
    },
    "hidden": true
   },
   "outputs": [
    {
     "data": {
      "text/plain": [
       "communal standpipe             28522\n",
       "hand pump                      17488\n",
       "other                           6380\n",
       "communal standpipe multiple     6103\n",
       "improved spring                  784\n",
       "cattle trough                    116\n",
       "dam                                7\n",
       "Name: waterpoint_type, dtype: int64"
      ]
     },
     "execution_count": 100,
     "metadata": {},
     "output_type": "execute_result"
    }
   ],
   "source": [
    "features['waterpoint_type'].value_counts()"
   ]
  },
  {
   "cell_type": "code",
   "execution_count": 101,
   "metadata": {
    "ExecuteTime": {
     "end_time": "2023-10-07T02:33:38.317273Z",
     "start_time": "2023-10-07T02:33:38.302259Z"
    },
    "hidden": true
   },
   "outputs": [
    {
     "data": {
      "text/plain": [
       "(6,\n",
       " array(['communal standpipe', 'hand pump', 'other', 'improved spring',\n",
       "        'cattle trough', 'dam'], dtype=object))"
      ]
     },
     "execution_count": 101,
     "metadata": {},
     "output_type": "execute_result"
    }
   ],
   "source": [
    "# unique waterpoint_type_group\n",
    "features['waterpoint_type_group'].nunique(), features['waterpoint_type_group'].unique()"
   ]
  },
  {
   "cell_type": "code",
   "execution_count": 102,
   "metadata": {
    "ExecuteTime": {
     "end_time": "2023-10-07T02:33:38.332857Z",
     "start_time": "2023-10-07T02:33:38.318274Z"
    },
    "hidden": true
   },
   "outputs": [
    {
     "data": {
      "text/plain": [
       "communal standpipe    34625\n",
       "hand pump             17488\n",
       "other                  6380\n",
       "improved spring         784\n",
       "cattle trough           116\n",
       "dam                       7\n",
       "Name: waterpoint_type_group, dtype: int64"
      ]
     },
     "execution_count": 102,
     "metadata": {},
     "output_type": "execute_result"
    }
   ],
   "source": [
    "features['waterpoint_type_group'].value_counts()"
   ]
  },
  {
   "cell_type": "markdown",
   "metadata": {
    "hidden": true
   },
   "source": [
    "- Dropping waterpoint_type_group. Waterpoint_type is more specific. It differentiates the two communal standpipe cats (extra information)."
   ]
  },
  {
   "cell_type": "code",
   "execution_count": 103,
   "metadata": {
    "ExecuteTime": {
     "end_time": "2023-10-07T02:33:38.348871Z",
     "start_time": "2023-10-07T02:33:38.333858Z"
    },
    "hidden": true
   },
   "outputs": [],
   "source": [
    "# drop waterpoint_type_group\n",
    "drops.append('waterpoint_type_group')"
   ]
  },
  {
   "cell_type": "markdown",
   "metadata": {
    "heading_collapsed": true
   },
   "source": [
    "# Drop columns:"
   ]
  },
  {
   "cell_type": "code",
   "execution_count": 104,
   "metadata": {
    "ExecuteTime": {
     "end_time": "2023-10-07T02:33:38.364889Z",
     "start_time": "2023-10-07T02:33:38.349873Z"
    },
    "hidden": true,
    "scrolled": true
   },
   "outputs": [
    {
     "data": {
      "text/plain": [
       "(['date_recorded',\n",
       "  'construction_year',\n",
       "  'wpt_name',\n",
       "  'subvillage',\n",
       "  'region',\n",
       "  'ward',\n",
       "  'recorded_by',\n",
       "  'scheme_management',\n",
       "  'management_group',\n",
       "  'extraction_type_group',\n",
       "  'payment_type',\n",
       "  'quality_group',\n",
       "  'quantity_group',\n",
       "  'source_type',\n",
       "  'waterpoint_type_group'],\n",
       " 15)"
      ]
     },
     "execution_count": 104,
     "metadata": {},
     "output_type": "execute_result"
    }
   ],
   "source": [
    "# cols to drop\n",
    "drops, len(drops)"
   ]
  },
  {
   "cell_type": "markdown",
   "metadata": {
    "hidden": true
   },
   "source": [
    "- 15 columns removed."
   ]
  },
  {
   "cell_type": "markdown",
   "metadata": {},
   "source": [
    "# Export final df:"
   ]
  },
  {
   "cell_type": "code",
   "execution_count": 105,
   "metadata": {
    "ExecuteTime": {
     "end_time": "2023-10-07T02:33:38.380904Z",
     "start_time": "2023-10-07T02:33:38.365890Z"
    }
   },
   "outputs": [
    {
     "data": {
      "text/plain": [
       "(59400, 27)"
      ]
     },
     "execution_count": 105,
     "metadata": {},
     "output_type": "execute_result"
    }
   ],
   "source": [
    "df = features.drop(drops, axis=1)\n",
    "df.shape"
   ]
  },
  {
   "cell_type": "markdown",
   "metadata": {},
   "source": [
    "- 25 features + id and status_group columns."
   ]
  },
  {
   "cell_type": "code",
   "execution_count": 106,
   "metadata": {
    "ExecuteTime": {
     "end_time": "2023-10-07T02:33:39.000079Z",
     "start_time": "2023-10-07T02:33:38.381905Z"
    }
   },
   "outputs": [],
   "source": [
    "df.to_csv('data/features_cleaned.csv')"
   ]
  },
  {
   "cell_type": "code",
   "execution_count": null,
   "metadata": {},
   "outputs": [],
   "source": []
  }
 ],
 "metadata": {
  "kernelspec": {
   "display_name": "Python (learn-env)",
   "language": "python",
   "name": "learn-env"
  },
  "language_info": {
   "codemirror_mode": {
    "name": "ipython",
    "version": 3
   },
   "file_extension": ".py",
   "mimetype": "text/x-python",
   "name": "python",
   "nbconvert_exporter": "python",
   "pygments_lexer": "ipython3",
   "version": "3.8.5"
  },
  "toc": {
   "base_numbering": 1,
   "nav_menu": {},
   "number_sections": true,
   "sideBar": true,
   "skip_h1_title": false,
   "title_cell": "Table of Contents",
   "title_sidebar": "Contents",
   "toc_cell": false,
   "toc_position": {},
   "toc_section_display": true,
   "toc_window_display": false
  }
 },
 "nbformat": 4,
 "nbformat_minor": 4
}
