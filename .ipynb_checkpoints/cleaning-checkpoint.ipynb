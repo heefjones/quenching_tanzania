{
 "cells": [
  {
   "cell_type": "markdown",
   "metadata": {
    "heading_collapsed": true
   },
   "source": [
    "# Clean dataset before injecting into pipeline\n",
    "- In this notebook, we analyze each individual column to determine the most useful features to include in the training of our final model"
   ]
  },
  {
   "cell_type": "code",
   "execution_count": 251,
   "metadata": {
    "hidden": true
   },
   "outputs": [],
   "source": [
    "# import dependencies\n",
    "\n",
    "import numpy as np\n",
    "import pandas as pd\n",
    "\n",
    "import matplotlib as plt\n",
    "import seaborn as sns\n",
    "%matplotlib inline\n",
    "\n",
    "pd.options.display.max_columns = 100"
   ]
  },
  {
   "cell_type": "code",
   "execution_count": 252,
   "metadata": {
    "hidden": true
   },
   "outputs": [],
   "source": [
    "# columns that i will be dropping\n",
    "drops = []"
   ]
  },
  {
   "cell_type": "markdown",
   "metadata": {
    "hidden": true
   },
   "source": [
    "## Load in data:"
   ]
  },
  {
   "cell_type": "code",
   "execution_count": 253,
   "metadata": {
    "hidden": true
   },
   "outputs": [
    {
     "name": "stdout",
     "output_type": "stream",
     "text": [
      "Total wells in original dataset: 59400\n",
      "Number of columns: 41\n"
     ]
    }
   ],
   "source": [
    "features = pd.read_csv('data/x_train.csv')\n",
    "labels = pd.read_csv('data/y_train.csv')\n",
    "\n",
    "# merge the target col to the features df\n",
    "features = features.merge(labels, on='id')\n",
    "\n",
    "print(f'Total wells in original dataset: {features.shape[0]}\\nNumber of columns: {features.shape[1]}')"
   ]
  },
  {
   "cell_type": "markdown",
   "metadata": {
    "hidden": true
   },
   "source": [
    "### Dataset:\n",
    "- Almost 60,000 total wells to analyze\n",
    "- 39 features (not including id or status_group)"
   ]
  },
  {
   "cell_type": "markdown",
   "metadata": {
    "heading_collapsed": true
   },
   "source": [
    "# Null values:\n",
    "- Null values are handled in model_pipeline.ipynb using sklearn's SimpleImputer and MissingIndicator\n",
    "- Pseudo-null values (like fill values of 0) are set to \"nan\" in the \"Individual column analysis\" section of this notebook and are also accounted for in model_pipeline.ipynb."
   ]
  },
  {
   "cell_type": "code",
   "execution_count": 254,
   "metadata": {
    "hidden": true
   },
   "outputs": [
    {
     "data": {
      "text/plain": [
       "id                           0\n",
       "amount_tsh                   0\n",
       "date_recorded                0\n",
       "funder                    3635\n",
       "gps_height                   0\n",
       "installer                 3655\n",
       "longitude                    0\n",
       "latitude                     0\n",
       "wpt_name                     0\n",
       "num_private                  0\n",
       "basin                        0\n",
       "subvillage                 371\n",
       "region                       0\n",
       "region_code                  0\n",
       "district_code                0\n",
       "lga                          0\n",
       "ward                         0\n",
       "population                   0\n",
       "public_meeting            3334\n",
       "recorded_by                  0\n",
       "scheme_management         3877\n",
       "scheme_name              28166\n",
       "permit                    3056\n",
       "construction_year            0\n",
       "extraction_type              0\n",
       "extraction_type_group        0\n",
       "extraction_type_class        0\n",
       "management                   0\n",
       "management_group             0\n",
       "payment                      0\n",
       "payment_type                 0\n",
       "water_quality                0\n",
       "quality_group                0\n",
       "quantity                     0\n",
       "quantity_group               0\n",
       "source                       0\n",
       "source_type                  0\n",
       "source_class                 0\n",
       "waterpoint_type              0\n",
       "waterpoint_type_group        0\n",
       "status_group                 0\n",
       "dtype: int64"
      ]
     },
     "execution_count": 254,
     "metadata": {},
     "output_type": "execute_result"
    }
   ],
   "source": [
    "features.isna().sum()"
   ]
  },
  {
   "cell_type": "markdown",
   "metadata": {
    "hidden": true
   },
   "source": [
    "- Most columns don't have null values\n",
    "- Even the columns with nulls generally don't have many"
   ]
  },
  {
   "cell_type": "markdown",
   "metadata": {
    "heading_collapsed": true
   },
   "source": [
    "# Add \"age\" column:"
   ]
  },
  {
   "cell_type": "markdown",
   "metadata": {
    "hidden": true
   },
   "source": [
    "- Some values in the dataset may not be null, but instead filled with the placeholder of \"0\"."
   ]
  },
  {
   "cell_type": "code",
   "execution_count": 255,
   "metadata": {
    "hidden": true
   },
   "outputs": [
    {
     "data": {
      "text/plain": [
       "dtype('O')"
      ]
     },
     "execution_count": 255,
     "metadata": {},
     "output_type": "execute_result"
    }
   ],
   "source": [
    "features.date_recorded.dtype"
   ]
  },
  {
   "cell_type": "code",
   "execution_count": 256,
   "metadata": {
    "hidden": true
   },
   "outputs": [
    {
     "data": {
      "text/plain": [
       "(0, 41)"
      ]
     },
     "execution_count": 256,
     "metadata": {},
     "output_type": "execute_result"
    }
   ],
   "source": [
    "# check date_recorded for missing values\n",
    "features[features['date_recorded'] == '0'].shape"
   ]
  },
  {
   "cell_type": "code",
   "execution_count": 257,
   "metadata": {
    "hidden": true
   },
   "outputs": [
    {
     "data": {
      "text/plain": [
       "dtype('int64')"
      ]
     },
     "execution_count": 257,
     "metadata": {},
     "output_type": "execute_result"
    }
   ],
   "source": [
    "features.construction_year.dtype"
   ]
  },
  {
   "cell_type": "code",
   "execution_count": 258,
   "metadata": {
    "hidden": true
   },
   "outputs": [
    {
     "data": {
      "text/plain": [
       "(20709, 41)"
      ]
     },
     "execution_count": 258,
     "metadata": {},
     "output_type": "execute_result"
    }
   ],
   "source": [
    "# check construction_year for missing values\n",
    "features[features['construction_year'] == 0].shape"
   ]
  },
  {
   "cell_type": "markdown",
   "metadata": {
    "hidden": true
   },
   "source": [
    "- Over 20,000 wells missing construction_year (1/3 of the dataset)\n",
    "- If I want to use the age of the well as a feature, I need to fill these values with mean or median"
   ]
  },
  {
   "cell_type": "code",
   "execution_count": 259,
   "metadata": {
    "hidden": true
   },
   "outputs": [
    {
     "data": {
      "text/html": [
       "<div>\n",
       "<style scoped>\n",
       "    .dataframe tbody tr th:only-of-type {\n",
       "        vertical-align: middle;\n",
       "    }\n",
       "\n",
       "    .dataframe tbody tr th {\n",
       "        vertical-align: top;\n",
       "    }\n",
       "\n",
       "    .dataframe thead th {\n",
       "        text-align: right;\n",
       "    }\n",
       "</style>\n",
       "<table border=\"1\" class=\"dataframe\">\n",
       "  <thead>\n",
       "    <tr style=\"text-align: right;\">\n",
       "      <th></th>\n",
       "      <th>count</th>\n",
       "      <th>mean</th>\n",
       "      <th>std</th>\n",
       "      <th>min</th>\n",
       "      <th>25%</th>\n",
       "      <th>50%</th>\n",
       "      <th>75%</th>\n",
       "      <th>max</th>\n",
       "    </tr>\n",
       "  </thead>\n",
       "  <tbody>\n",
       "    <tr>\n",
       "      <th>construction_year</th>\n",
       "      <td>59400.0</td>\n",
       "      <td>1300.652475</td>\n",
       "      <td>951.620547</td>\n",
       "      <td>0.0</td>\n",
       "      <td>0.0</td>\n",
       "      <td>1986.0</td>\n",
       "      <td>2004.0</td>\n",
       "      <td>2013.0</td>\n",
       "    </tr>\n",
       "  </tbody>\n",
       "</table>\n",
       "</div>"
      ],
      "text/plain": [
       "                     count         mean         std  min  25%     50%     75%  \\\n",
       "construction_year  59400.0  1300.652475  951.620547  0.0  0.0  1986.0  2004.0   \n",
       "\n",
       "                      max  \n",
       "construction_year  2013.0  "
      ]
     },
     "execution_count": 259,
     "metadata": {},
     "output_type": "execute_result"
    }
   ],
   "source": [
    "features[['construction_year']].describe().T"
   ]
  },
  {
   "cell_type": "markdown",
   "metadata": {
    "hidden": true
   },
   "source": [
    "- Mean (year 1300) is unrealistic. Median (1986) is a much better fill value."
   ]
  },
  {
   "cell_type": "code",
   "execution_count": 260,
   "metadata": {
    "hidden": true
   },
   "outputs": [],
   "source": [
    "# mask for missing construction_year\n",
    "mask = features['construction_year'].astype(int) == 0\n",
    "\n",
    "# set construction_year to median (1986) if missing\n",
    "features.loc[mask, 'construction_year'] = features['construction_year'].median()\n",
    "\n",
    "# calculate age in years\n",
    "features['age_years'] = features['date_recorded'].str[:4].astype(int) - features['construction_year']"
   ]
  },
  {
   "cell_type": "code",
   "execution_count": 261,
   "metadata": {
    "hidden": true
   },
   "outputs": [],
   "source": [
    "# drop the two date columns, as age_years should capture this information\n",
    "drops.append('date_recorded')\n",
    "drops.append('construction_year')"
   ]
  },
  {
   "cell_type": "markdown",
   "metadata": {},
   "source": [
    "# Individual column analysis:"
   ]
  },
  {
   "cell_type": "markdown",
   "metadata": {
    "heading_collapsed": true
   },
   "source": [
    "## total static head:\n",
    "- Change in elevatin between water source and discharge (where water is released). The distance that the water must travel to get from source to output."
   ]
  },
  {
   "cell_type": "code",
   "execution_count": 262,
   "metadata": {
    "hidden": true
   },
   "outputs": [
    {
     "data": {
      "text/html": [
       "<div>\n",
       "<style scoped>\n",
       "    .dataframe tbody tr th:only-of-type {\n",
       "        vertical-align: middle;\n",
       "    }\n",
       "\n",
       "    .dataframe tbody tr th {\n",
       "        vertical-align: top;\n",
       "    }\n",
       "\n",
       "    .dataframe thead th {\n",
       "        text-align: right;\n",
       "    }\n",
       "</style>\n",
       "<table border=\"1\" class=\"dataframe\">\n",
       "  <thead>\n",
       "    <tr style=\"text-align: right;\">\n",
       "      <th></th>\n",
       "      <th>count</th>\n",
       "      <th>mean</th>\n",
       "      <th>std</th>\n",
       "      <th>min</th>\n",
       "      <th>25%</th>\n",
       "      <th>50%</th>\n",
       "      <th>75%</th>\n",
       "      <th>max</th>\n",
       "    </tr>\n",
       "  </thead>\n",
       "  <tbody>\n",
       "    <tr>\n",
       "      <th>amount_tsh</th>\n",
       "      <td>59400.0</td>\n",
       "      <td>317.650385</td>\n",
       "      <td>2997.574558</td>\n",
       "      <td>0.0</td>\n",
       "      <td>0.0</td>\n",
       "      <td>0.0</td>\n",
       "      <td>20.0</td>\n",
       "      <td>350000.0</td>\n",
       "    </tr>\n",
       "  </tbody>\n",
       "</table>\n",
       "</div>"
      ],
      "text/plain": [
       "              count        mean          std  min  25%  50%   75%       max\n",
       "amount_tsh  59400.0  317.650385  2997.574558  0.0  0.0  0.0  20.0  350000.0"
      ]
     },
     "execution_count": 262,
     "metadata": {},
     "output_type": "execute_result"
    }
   ],
   "source": [
    "features.amount_tsh.to_frame().describe().T"
   ]
  },
  {
   "cell_type": "markdown",
   "metadata": {
    "hidden": true
   },
   "source": [
    "- Lots of TSH of 0. Even the median (50%) value is 0. This could be due to missing values or different pump types.\n",
    "- Standard deviation is massive (almost 10x the mean)."
   ]
  },
  {
   "cell_type": "markdown",
   "metadata": {
    "heading_collapsed": true
   },
   "source": [
    "## funder:"
   ]
  },
  {
   "cell_type": "code",
   "execution_count": 263,
   "metadata": {
    "hidden": true
   },
   "outputs": [
    {
     "data": {
      "text/plain": [
       "1897"
      ]
     },
     "execution_count": 263,
     "metadata": {},
     "output_type": "execute_result"
    }
   ],
   "source": [
    "features.funder.nunique()"
   ]
  },
  {
   "cell_type": "markdown",
   "metadata": {
    "hidden": true
   },
   "source": [
    "- almost 1900 unique funders\n",
    "- This may be too many columns to encode"
   ]
  },
  {
   "cell_type": "code",
   "execution_count": 264,
   "metadata": {
    "hidden": true
   },
   "outputs": [],
   "source": [
    "# get counts of num wells funded for each funder\n",
    "funders = features.funder.value_counts()\n",
    "\n",
    "# funders that have funded at least 100 wells\n",
    "top_funders = funders[funders >= 100].index.tolist()\n",
    "vals = funders[funders >= 100].values.tolist()"
   ]
  },
  {
   "cell_type": "code",
   "execution_count": 265,
   "metadata": {
    "hidden": true
   },
   "outputs": [
    {
     "data": {
      "text/plain": [
       "91"
      ]
     },
     "execution_count": 265,
     "metadata": {},
     "output_type": "execute_result"
    }
   ],
   "source": [
    "num_funders = len(top_funders)\n",
    "num_funders"
   ]
  },
  {
   "cell_type": "markdown",
   "metadata": {
    "hidden": true
   },
   "source": [
    "- 91 / 1897 funders have built more than 100 wells."
   ]
  },
  {
   "cell_type": "code",
   "execution_count": 266,
   "metadata": {
    "hidden": true
   },
   "outputs": [
    {
     "name": "stdout",
     "output_type": "stream",
     "text": [
      "The top 4.8% of funders make up 73.0% of the data\n"
     ]
    }
   ],
   "source": [
    "print(f'''The top {num_funders / features.funder.nunique() * 100 :.1f}% of funders make up \\\n",
    "{sum(vals) / features.shape[0] * 100 :.1f}% of the data''')"
   ]
  },
  {
   "cell_type": "markdown",
   "metadata": {
    "hidden": true
   },
   "source": [
    "- Taking funders with 100+ wells funded in dataset.\n",
    "- This will result in less One-hot encoded columns and make training process smoother."
   ]
  },
  {
   "cell_type": "code",
   "execution_count": 267,
   "metadata": {
    "hidden": true
   },
   "outputs": [],
   "source": [
    "# replace other funders with \"other\"\n",
    "features['funder'] = features['funder'].where(features['funder'].isin(top_funders), 'other')"
   ]
  },
  {
   "cell_type": "markdown",
   "metadata": {
    "heading_collapsed": true
   },
   "source": [
    "## gps_height:\n",
    "- Indicates the altitude of the well, presumably compared to sea level."
   ]
  },
  {
   "cell_type": "code",
   "execution_count": 268,
   "metadata": {
    "hidden": true
   },
   "outputs": [],
   "source": [
    "# cast this col from int to float\n",
    "features.gps_height = features.gps_height.astype(float)"
   ]
  },
  {
   "cell_type": "code",
   "execution_count": 269,
   "metadata": {
    "hidden": true
   },
   "outputs": [
    {
     "data": {
      "text/html": [
       "<div>\n",
       "<style scoped>\n",
       "    .dataframe tbody tr th:only-of-type {\n",
       "        vertical-align: middle;\n",
       "    }\n",
       "\n",
       "    .dataframe tbody tr th {\n",
       "        vertical-align: top;\n",
       "    }\n",
       "\n",
       "    .dataframe thead th {\n",
       "        text-align: right;\n",
       "    }\n",
       "</style>\n",
       "<table border=\"1\" class=\"dataframe\">\n",
       "  <thead>\n",
       "    <tr style=\"text-align: right;\">\n",
       "      <th></th>\n",
       "      <th>count</th>\n",
       "      <th>mean</th>\n",
       "      <th>std</th>\n",
       "      <th>min</th>\n",
       "      <th>25%</th>\n",
       "      <th>50%</th>\n",
       "      <th>75%</th>\n",
       "      <th>max</th>\n",
       "    </tr>\n",
       "  </thead>\n",
       "  <tbody>\n",
       "    <tr>\n",
       "      <th>gps_height</th>\n",
       "      <td>59400.0</td>\n",
       "      <td>668.297239</td>\n",
       "      <td>693.11635</td>\n",
       "      <td>-90.0</td>\n",
       "      <td>0.0</td>\n",
       "      <td>369.0</td>\n",
       "      <td>1319.25</td>\n",
       "      <td>2770.0</td>\n",
       "    </tr>\n",
       "  </tbody>\n",
       "</table>\n",
       "</div>"
      ],
      "text/plain": [
       "              count        mean        std   min  25%    50%      75%     max\n",
       "gps_height  59400.0  668.297239  693.11635 -90.0  0.0  369.0  1319.25  2770.0"
      ]
     },
     "execution_count": 269,
     "metadata": {},
     "output_type": "execute_result"
    }
   ],
   "source": [
    "features[['gps_height']].describe().T"
   ]
  },
  {
   "cell_type": "markdown",
   "metadata": {
    "hidden": true
   },
   "source": [
    "- Minimum is -90, indicating a well located below sea level.\n",
    "- Max is 2770, indicating a well in an elevated region."
   ]
  },
  {
   "cell_type": "markdown",
   "metadata": {
    "heading_collapsed": true
   },
   "source": [
    "## installer:"
   ]
  },
  {
   "cell_type": "code",
   "execution_count": 270,
   "metadata": {
    "hidden": true
   },
   "outputs": [
    {
     "data": {
      "text/plain": [
       "2145"
      ]
     },
     "execution_count": 270,
     "metadata": {},
     "output_type": "execute_result"
    }
   ],
   "source": [
    "features.installer.nunique()"
   ]
  },
  {
   "cell_type": "markdown",
   "metadata": {
    "hidden": true
   },
   "source": [
    "- Over 2100 unique installers\n",
    "- Once again, too many columns to encode"
   ]
  },
  {
   "cell_type": "code",
   "execution_count": 271,
   "metadata": {
    "hidden": true
   },
   "outputs": [],
   "source": [
    "# get counts of num wells funded for each funder\n",
    "installers = features.installer.value_counts()\n",
    "\n",
    "# installers that have installed at least 100 wells\n",
    "top_installers = installers[installers >= 100].index.tolist()\n",
    "vals = installers[installers >= 100].values.tolist()"
   ]
  },
  {
   "cell_type": "code",
   "execution_count": 272,
   "metadata": {
    "hidden": true
   },
   "outputs": [
    {
     "data": {
      "text/plain": [
       "84"
      ]
     },
     "execution_count": 272,
     "metadata": {},
     "output_type": "execute_result"
    }
   ],
   "source": [
    "num_installers = len(top_installers)\n",
    "num_installers"
   ]
  },
  {
   "cell_type": "markdown",
   "metadata": {
    "hidden": true
   },
   "source": [
    "- 84 / 2145 installers have built more than 100 wells"
   ]
  },
  {
   "cell_type": "code",
   "execution_count": 273,
   "metadata": {
    "hidden": true,
    "scrolled": true
   },
   "outputs": [
    {
     "name": "stdout",
     "output_type": "stream",
     "text": [
      "The top 3.9% of installers make up 71.0% of the data\n"
     ]
    }
   ],
   "source": [
    "print(f'''The top {num_installers / features.installer.nunique() * 100 :.1f}% of installers make up \\\n",
    "{sum(vals) / features.shape[0] * 100 :.1f}% of the data''')"
   ]
  },
  {
   "cell_type": "markdown",
   "metadata": {
    "hidden": true
   },
   "source": [
    "- Taking installers with 100+ wells installed in dataset"
   ]
  },
  {
   "cell_type": "code",
   "execution_count": 274,
   "metadata": {
    "hidden": true
   },
   "outputs": [],
   "source": [
    "# replace other installers with \"other\"\n",
    "features['installer'] = features['installer'].where(features['installer'].isin(top_installers), 'other')"
   ]
  },
  {
   "cell_type": "markdown",
   "metadata": {
    "heading_collapsed": true
   },
   "source": [
    "## longitude and latitude:"
   ]
  },
  {
   "cell_type": "markdown",
   "metadata": {
    "hidden": true
   },
   "source": [
    "- Tanzania's longitude spans from roughly 29 to 41 degrees.\n",
    "- Tanzania's latitude spans from roughly -12 to -1 degrees.\n",
    "- All vals should fall in between these ranges."
   ]
  },
  {
   "cell_type": "code",
   "execution_count": 275,
   "metadata": {
    "hidden": true
   },
   "outputs": [
    {
     "data": {
      "text/html": [
       "<div>\n",
       "<style scoped>\n",
       "    .dataframe tbody tr th:only-of-type {\n",
       "        vertical-align: middle;\n",
       "    }\n",
       "\n",
       "    .dataframe tbody tr th {\n",
       "        vertical-align: top;\n",
       "    }\n",
       "\n",
       "    .dataframe thead th {\n",
       "        text-align: right;\n",
       "    }\n",
       "</style>\n",
       "<table border=\"1\" class=\"dataframe\">\n",
       "  <thead>\n",
       "    <tr style=\"text-align: right;\">\n",
       "      <th></th>\n",
       "      <th>count</th>\n",
       "      <th>mean</th>\n",
       "      <th>std</th>\n",
       "      <th>min</th>\n",
       "      <th>25%</th>\n",
       "      <th>50%</th>\n",
       "      <th>75%</th>\n",
       "      <th>max</th>\n",
       "    </tr>\n",
       "  </thead>\n",
       "  <tbody>\n",
       "    <tr>\n",
       "      <th>longitude</th>\n",
       "      <td>59400.0</td>\n",
       "      <td>34.077427</td>\n",
       "      <td>6.567432</td>\n",
       "      <td>0.0</td>\n",
       "      <td>33.090347</td>\n",
       "      <td>34.908743</td>\n",
       "      <td>37.178387</td>\n",
       "      <td>40.345193</td>\n",
       "    </tr>\n",
       "  </tbody>\n",
       "</table>\n",
       "</div>"
      ],
      "text/plain": [
       "             count       mean       std  min        25%        50%        75%  \\\n",
       "longitude  59400.0  34.077427  6.567432  0.0  33.090347  34.908743  37.178387   \n",
       "\n",
       "                 max  \n",
       "longitude  40.345193  "
      ]
     },
     "execution_count": 275,
     "metadata": {},
     "output_type": "execute_result"
    }
   ],
   "source": [
    "features[['longitude']].describe().T"
   ]
  },
  {
   "cell_type": "markdown",
   "metadata": {
    "hidden": true
   },
   "source": [
    "- Seems like several of the longitude vals are below 29 degrees. None are over 41 degrees."
   ]
  },
  {
   "cell_type": "code",
   "execution_count": 276,
   "metadata": {
    "hidden": true
   },
   "outputs": [
    {
     "data": {
      "text/html": [
       "<div>\n",
       "<style scoped>\n",
       "    .dataframe tbody tr th:only-of-type {\n",
       "        vertical-align: middle;\n",
       "    }\n",
       "\n",
       "    .dataframe tbody tr th {\n",
       "        vertical-align: top;\n",
       "    }\n",
       "\n",
       "    .dataframe thead th {\n",
       "        text-align: right;\n",
       "    }\n",
       "</style>\n",
       "<table border=\"1\" class=\"dataframe\">\n",
       "  <thead>\n",
       "    <tr style=\"text-align: right;\">\n",
       "      <th></th>\n",
       "      <th>21</th>\n",
       "      <th>53</th>\n",
       "      <th>168</th>\n",
       "      <th>177</th>\n",
       "      <th>253</th>\n",
       "      <th>256</th>\n",
       "      <th>285</th>\n",
       "      <th>301</th>\n",
       "      <th>306</th>\n",
       "      <th>321</th>\n",
       "      <th>323</th>\n",
       "      <th>326</th>\n",
       "      <th>346</th>\n",
       "      <th>370</th>\n",
       "      <th>433</th>\n",
       "      <th>659</th>\n",
       "      <th>678</th>\n",
       "      <th>697</th>\n",
       "      <th>720</th>\n",
       "      <th>733</th>\n",
       "      <th>753</th>\n",
       "      <th>755</th>\n",
       "      <th>798</th>\n",
       "      <th>839</th>\n",
       "      <th>911</th>\n",
       "      <th>939</th>\n",
       "      <th>960</th>\n",
       "      <th>965</th>\n",
       "      <th>971</th>\n",
       "      <th>992</th>\n",
       "      <th>1054</th>\n",
       "      <th>1079</th>\n",
       "      <th>1122</th>\n",
       "      <th>1168</th>\n",
       "      <th>1191</th>\n",
       "      <th>1208</th>\n",
       "      <th>1217</th>\n",
       "      <th>1240</th>\n",
       "      <th>1250</th>\n",
       "      <th>1252</th>\n",
       "      <th>1303</th>\n",
       "      <th>1333</th>\n",
       "      <th>1334</th>\n",
       "      <th>1424</th>\n",
       "      <th>1449</th>\n",
       "      <th>1454</th>\n",
       "      <th>1463</th>\n",
       "      <th>1502</th>\n",
       "      <th>1525</th>\n",
       "      <th>1549</th>\n",
       "      <th>...</th>\n",
       "      <th>57748</th>\n",
       "      <th>57789</th>\n",
       "      <th>57794</th>\n",
       "      <th>57807</th>\n",
       "      <th>57812</th>\n",
       "      <th>57823</th>\n",
       "      <th>57827</th>\n",
       "      <th>57861</th>\n",
       "      <th>57918</th>\n",
       "      <th>58005</th>\n",
       "      <th>58039</th>\n",
       "      <th>58045</th>\n",
       "      <th>58046</th>\n",
       "      <th>58071</th>\n",
       "      <th>58077</th>\n",
       "      <th>58102</th>\n",
       "      <th>58257</th>\n",
       "      <th>58397</th>\n",
       "      <th>58413</th>\n",
       "      <th>58415</th>\n",
       "      <th>58416</th>\n",
       "      <th>58435</th>\n",
       "      <th>58446</th>\n",
       "      <th>58463</th>\n",
       "      <th>58517</th>\n",
       "      <th>58545</th>\n",
       "      <th>58550</th>\n",
       "      <th>58555</th>\n",
       "      <th>58607</th>\n",
       "      <th>58678</th>\n",
       "      <th>58735</th>\n",
       "      <th>58771</th>\n",
       "      <th>58837</th>\n",
       "      <th>58859</th>\n",
       "      <th>58969</th>\n",
       "      <th>58997</th>\n",
       "      <th>59017</th>\n",
       "      <th>59033</th>\n",
       "      <th>59111</th>\n",
       "      <th>59120</th>\n",
       "      <th>59135</th>\n",
       "      <th>59158</th>\n",
       "      <th>59162</th>\n",
       "      <th>59166</th>\n",
       "      <th>59184</th>\n",
       "      <th>59189</th>\n",
       "      <th>59208</th>\n",
       "      <th>59295</th>\n",
       "      <th>59324</th>\n",
       "      <th>59374</th>\n",
       "    </tr>\n",
       "  </thead>\n",
       "  <tbody>\n",
       "    <tr>\n",
       "      <th>longitude</th>\n",
       "      <td>0.0</td>\n",
       "      <td>0.0</td>\n",
       "      <td>0.0</td>\n",
       "      <td>0.0</td>\n",
       "      <td>0.0</td>\n",
       "      <td>0.0</td>\n",
       "      <td>0.0</td>\n",
       "      <td>0.0</td>\n",
       "      <td>0.0</td>\n",
       "      <td>0.0</td>\n",
       "      <td>0.0</td>\n",
       "      <td>0.0</td>\n",
       "      <td>0.0</td>\n",
       "      <td>0.0</td>\n",
       "      <td>0.0</td>\n",
       "      <td>0.0</td>\n",
       "      <td>0.0</td>\n",
       "      <td>0.0</td>\n",
       "      <td>0.0</td>\n",
       "      <td>0.0</td>\n",
       "      <td>0.0</td>\n",
       "      <td>0.0</td>\n",
       "      <td>0.0</td>\n",
       "      <td>0.0</td>\n",
       "      <td>0.0</td>\n",
       "      <td>0.0</td>\n",
       "      <td>0.0</td>\n",
       "      <td>0.0</td>\n",
       "      <td>0.0</td>\n",
       "      <td>0.0</td>\n",
       "      <td>0.0</td>\n",
       "      <td>0.0</td>\n",
       "      <td>0.0</td>\n",
       "      <td>0.0</td>\n",
       "      <td>0.0</td>\n",
       "      <td>0.0</td>\n",
       "      <td>0.0</td>\n",
       "      <td>0.0</td>\n",
       "      <td>0.0</td>\n",
       "      <td>0.0</td>\n",
       "      <td>0.0</td>\n",
       "      <td>0.0</td>\n",
       "      <td>0.0</td>\n",
       "      <td>0.0</td>\n",
       "      <td>0.0</td>\n",
       "      <td>0.0</td>\n",
       "      <td>0.0</td>\n",
       "      <td>0.0</td>\n",
       "      <td>0.0</td>\n",
       "      <td>0.0</td>\n",
       "      <td>...</td>\n",
       "      <td>0.0</td>\n",
       "      <td>0.0</td>\n",
       "      <td>0.0</td>\n",
       "      <td>0.0</td>\n",
       "      <td>0.0</td>\n",
       "      <td>0.0</td>\n",
       "      <td>0.0</td>\n",
       "      <td>0.0</td>\n",
       "      <td>0.0</td>\n",
       "      <td>0.0</td>\n",
       "      <td>0.0</td>\n",
       "      <td>0.0</td>\n",
       "      <td>0.0</td>\n",
       "      <td>0.0</td>\n",
       "      <td>0.0</td>\n",
       "      <td>0.0</td>\n",
       "      <td>0.0</td>\n",
       "      <td>0.0</td>\n",
       "      <td>0.0</td>\n",
       "      <td>0.0</td>\n",
       "      <td>0.0</td>\n",
       "      <td>0.0</td>\n",
       "      <td>0.0</td>\n",
       "      <td>0.0</td>\n",
       "      <td>0.0</td>\n",
       "      <td>0.0</td>\n",
       "      <td>0.0</td>\n",
       "      <td>0.0</td>\n",
       "      <td>0.0</td>\n",
       "      <td>0.0</td>\n",
       "      <td>0.0</td>\n",
       "      <td>0.0</td>\n",
       "      <td>0.0</td>\n",
       "      <td>0.0</td>\n",
       "      <td>0.0</td>\n",
       "      <td>0.0</td>\n",
       "      <td>0.0</td>\n",
       "      <td>0.0</td>\n",
       "      <td>0.0</td>\n",
       "      <td>0.0</td>\n",
       "      <td>0.0</td>\n",
       "      <td>0.0</td>\n",
       "      <td>0.0</td>\n",
       "      <td>0.0</td>\n",
       "      <td>0.0</td>\n",
       "      <td>0.0</td>\n",
       "      <td>0.0</td>\n",
       "      <td>0.0</td>\n",
       "      <td>0.0</td>\n",
       "      <td>0.0</td>\n",
       "    </tr>\n",
       "  </tbody>\n",
       "</table>\n",
       "<p>1 rows × 1812 columns</p>\n",
       "</div>"
      ],
      "text/plain": [
       "           21     53     168    177    253    256    285    301    306    \\\n",
       "longitude    0.0    0.0    0.0    0.0    0.0    0.0    0.0    0.0    0.0   \n",
       "\n",
       "           321    323    326    346    370    433    659    678    697    \\\n",
       "longitude    0.0    0.0    0.0    0.0    0.0    0.0    0.0    0.0    0.0   \n",
       "\n",
       "           720    733    753    755    798    839    911    939    960    \\\n",
       "longitude    0.0    0.0    0.0    0.0    0.0    0.0    0.0    0.0    0.0   \n",
       "\n",
       "           965    971    992    1054   1079   1122   1168   1191   1208   \\\n",
       "longitude    0.0    0.0    0.0    0.0    0.0    0.0    0.0    0.0    0.0   \n",
       "\n",
       "           1217   1240   1250   1252   1303   1333   1334   1424   1449   \\\n",
       "longitude    0.0    0.0    0.0    0.0    0.0    0.0    0.0    0.0    0.0   \n",
       "\n",
       "           1454   1463   1502   1525   1549   ...  57748  57789  57794  57807  \\\n",
       "longitude    0.0    0.0    0.0    0.0    0.0  ...    0.0    0.0    0.0    0.0   \n",
       "\n",
       "           57812  57823  57827  57861  57918  58005  58039  58045  58046  \\\n",
       "longitude    0.0    0.0    0.0    0.0    0.0    0.0    0.0    0.0    0.0   \n",
       "\n",
       "           58071  58077  58102  58257  58397  58413  58415  58416  58435  \\\n",
       "longitude    0.0    0.0    0.0    0.0    0.0    0.0    0.0    0.0    0.0   \n",
       "\n",
       "           58446  58463  58517  58545  58550  58555  58607  58678  58735  \\\n",
       "longitude    0.0    0.0    0.0    0.0    0.0    0.0    0.0    0.0    0.0   \n",
       "\n",
       "           58771  58837  58859  58969  58997  59017  59033  59111  59120  \\\n",
       "longitude    0.0    0.0    0.0    0.0    0.0    0.0    0.0    0.0    0.0   \n",
       "\n",
       "           59135  59158  59162  59166  59184  59189  59208  59295  59324  \\\n",
       "longitude    0.0    0.0    0.0    0.0    0.0    0.0    0.0    0.0    0.0   \n",
       "\n",
       "           59374  \n",
       "longitude    0.0  \n",
       "\n",
       "[1 rows x 1812 columns]"
      ]
     },
     "execution_count": 276,
     "metadata": {},
     "output_type": "execute_result"
    }
   ],
   "source": [
    "features[features['longitude'] < 29]['longitude'].to_frame().T"
   ]
  },
  {
   "cell_type": "markdown",
   "metadata": {
    "hidden": true
   },
   "source": [
    "- 1812 rows where longitude vals are 0 (invalid)."
   ]
  },
  {
   "cell_type": "code",
   "execution_count": 277,
   "metadata": {
    "hidden": true
   },
   "outputs": [],
   "source": [
    "# set the above indices to nan\n",
    "indices = features[features['longitude'] < 29].index\n",
    "features.loc[indices, 'longitude'] = np.nan"
   ]
  },
  {
   "cell_type": "code",
   "execution_count": 278,
   "metadata": {
    "hidden": true
   },
   "outputs": [
    {
     "data": {
      "text/html": [
       "<div>\n",
       "<style scoped>\n",
       "    .dataframe tbody tr th:only-of-type {\n",
       "        vertical-align: middle;\n",
       "    }\n",
       "\n",
       "    .dataframe tbody tr th {\n",
       "        vertical-align: top;\n",
       "    }\n",
       "\n",
       "    .dataframe thead th {\n",
       "        text-align: right;\n",
       "    }\n",
       "</style>\n",
       "<table border=\"1\" class=\"dataframe\">\n",
       "  <thead>\n",
       "    <tr style=\"text-align: right;\">\n",
       "      <th></th>\n",
       "    </tr>\n",
       "  </thead>\n",
       "  <tbody>\n",
       "    <tr>\n",
       "      <th>longitude</th>\n",
       "    </tr>\n",
       "  </tbody>\n",
       "</table>\n",
       "</div>"
      ],
      "text/plain": [
       "Empty DataFrame\n",
       "Columns: []\n",
       "Index: [longitude]"
      ]
     },
     "execution_count": 278,
     "metadata": {},
     "output_type": "execute_result"
    }
   ],
   "source": [
    "# show that all '<29' rows are gone\n",
    "features[features['longitude'] < 29]['longitude'].to_frame().T"
   ]
  },
  {
   "cell_type": "code",
   "execution_count": 279,
   "metadata": {
    "hidden": true
   },
   "outputs": [
    {
     "data": {
      "text/html": [
       "<div>\n",
       "<style scoped>\n",
       "    .dataframe tbody tr th:only-of-type {\n",
       "        vertical-align: middle;\n",
       "    }\n",
       "\n",
       "    .dataframe tbody tr th {\n",
       "        vertical-align: top;\n",
       "    }\n",
       "\n",
       "    .dataframe thead th {\n",
       "        text-align: right;\n",
       "    }\n",
       "</style>\n",
       "<table border=\"1\" class=\"dataframe\">\n",
       "  <thead>\n",
       "    <tr style=\"text-align: right;\">\n",
       "      <th></th>\n",
       "      <th>count</th>\n",
       "      <th>mean</th>\n",
       "      <th>std</th>\n",
       "      <th>min</th>\n",
       "      <th>25%</th>\n",
       "      <th>50%</th>\n",
       "      <th>75%</th>\n",
       "      <th>max</th>\n",
       "    </tr>\n",
       "  </thead>\n",
       "  <tbody>\n",
       "    <tr>\n",
       "      <th>latitude</th>\n",
       "      <td>59400.0</td>\n",
       "      <td>-5.706033</td>\n",
       "      <td>2.946019</td>\n",
       "      <td>-11.64944</td>\n",
       "      <td>-8.540621</td>\n",
       "      <td>-5.021597</td>\n",
       "      <td>-3.326156</td>\n",
       "      <td>-2.000000e-08</td>\n",
       "    </tr>\n",
       "  </tbody>\n",
       "</table>\n",
       "</div>"
      ],
      "text/plain": [
       "            count      mean       std       min       25%       50%       75%  \\\n",
       "latitude  59400.0 -5.706033  2.946019 -11.64944 -8.540621 -5.021597 -3.326156   \n",
       "\n",
       "                   max  \n",
       "latitude -2.000000e-08  "
      ]
     },
     "execution_count": 279,
     "metadata": {},
     "output_type": "execute_result"
    }
   ],
   "source": [
    "features[['latitude']].describe().T"
   ]
  },
  {
   "cell_type": "markdown",
   "metadata": {
    "hidden": true
   },
   "source": [
    "- Several of the latitude vals are greater than -1 degrees. None are below -12 degrees"
   ]
  },
  {
   "cell_type": "code",
   "execution_count": 280,
   "metadata": {
    "hidden": true
   },
   "outputs": [
    {
     "data": {
      "text/html": [
       "<div>\n",
       "<style scoped>\n",
       "    .dataframe tbody tr th:only-of-type {\n",
       "        vertical-align: middle;\n",
       "    }\n",
       "\n",
       "    .dataframe tbody tr th {\n",
       "        vertical-align: top;\n",
       "    }\n",
       "\n",
       "    .dataframe thead th {\n",
       "        text-align: right;\n",
       "    }\n",
       "</style>\n",
       "<table border=\"1\" class=\"dataframe\">\n",
       "  <thead>\n",
       "    <tr style=\"text-align: right;\">\n",
       "      <th></th>\n",
       "      <th>21</th>\n",
       "      <th>53</th>\n",
       "      <th>168</th>\n",
       "      <th>177</th>\n",
       "      <th>253</th>\n",
       "      <th>256</th>\n",
       "      <th>285</th>\n",
       "      <th>301</th>\n",
       "      <th>306</th>\n",
       "      <th>321</th>\n",
       "      <th>323</th>\n",
       "      <th>326</th>\n",
       "      <th>346</th>\n",
       "      <th>370</th>\n",
       "      <th>433</th>\n",
       "      <th>659</th>\n",
       "      <th>678</th>\n",
       "      <th>697</th>\n",
       "      <th>720</th>\n",
       "      <th>733</th>\n",
       "      <th>753</th>\n",
       "      <th>755</th>\n",
       "      <th>798</th>\n",
       "      <th>839</th>\n",
       "      <th>911</th>\n",
       "      <th>939</th>\n",
       "      <th>960</th>\n",
       "      <th>965</th>\n",
       "      <th>971</th>\n",
       "      <th>992</th>\n",
       "      <th>1054</th>\n",
       "      <th>1079</th>\n",
       "      <th>1122</th>\n",
       "      <th>1168</th>\n",
       "      <th>1191</th>\n",
       "      <th>1208</th>\n",
       "      <th>1217</th>\n",
       "      <th>1240</th>\n",
       "      <th>1250</th>\n",
       "      <th>1252</th>\n",
       "      <th>1303</th>\n",
       "      <th>1333</th>\n",
       "      <th>1334</th>\n",
       "      <th>1424</th>\n",
       "      <th>1449</th>\n",
       "      <th>1454</th>\n",
       "      <th>1463</th>\n",
       "      <th>1502</th>\n",
       "      <th>1525</th>\n",
       "      <th>1549</th>\n",
       "      <th>...</th>\n",
       "      <th>57748</th>\n",
       "      <th>57789</th>\n",
       "      <th>57794</th>\n",
       "      <th>57807</th>\n",
       "      <th>57812</th>\n",
       "      <th>57823</th>\n",
       "      <th>57827</th>\n",
       "      <th>57861</th>\n",
       "      <th>57918</th>\n",
       "      <th>58005</th>\n",
       "      <th>58039</th>\n",
       "      <th>58045</th>\n",
       "      <th>58046</th>\n",
       "      <th>58071</th>\n",
       "      <th>58077</th>\n",
       "      <th>58102</th>\n",
       "      <th>58257</th>\n",
       "      <th>58397</th>\n",
       "      <th>58413</th>\n",
       "      <th>58415</th>\n",
       "      <th>58416</th>\n",
       "      <th>58435</th>\n",
       "      <th>58446</th>\n",
       "      <th>58463</th>\n",
       "      <th>58517</th>\n",
       "      <th>58545</th>\n",
       "      <th>58550</th>\n",
       "      <th>58555</th>\n",
       "      <th>58607</th>\n",
       "      <th>58678</th>\n",
       "      <th>58735</th>\n",
       "      <th>58771</th>\n",
       "      <th>58837</th>\n",
       "      <th>58859</th>\n",
       "      <th>58969</th>\n",
       "      <th>58997</th>\n",
       "      <th>59017</th>\n",
       "      <th>59033</th>\n",
       "      <th>59111</th>\n",
       "      <th>59120</th>\n",
       "      <th>59135</th>\n",
       "      <th>59158</th>\n",
       "      <th>59162</th>\n",
       "      <th>59166</th>\n",
       "      <th>59184</th>\n",
       "      <th>59189</th>\n",
       "      <th>59208</th>\n",
       "      <th>59295</th>\n",
       "      <th>59324</th>\n",
       "      <th>59374</th>\n",
       "    </tr>\n",
       "  </thead>\n",
       "  <tbody>\n",
       "    <tr>\n",
       "      <th>latitude</th>\n",
       "      <td>-2.000000e-08</td>\n",
       "      <td>-2.000000e-08</td>\n",
       "      <td>-2.000000e-08</td>\n",
       "      <td>-2.000000e-08</td>\n",
       "      <td>-2.000000e-08</td>\n",
       "      <td>-2.000000e-08</td>\n",
       "      <td>-2.000000e-08</td>\n",
       "      <td>-2.000000e-08</td>\n",
       "      <td>-2.000000e-08</td>\n",
       "      <td>-2.000000e-08</td>\n",
       "      <td>-2.000000e-08</td>\n",
       "      <td>-2.000000e-08</td>\n",
       "      <td>-2.000000e-08</td>\n",
       "      <td>-2.000000e-08</td>\n",
       "      <td>-2.000000e-08</td>\n",
       "      <td>-2.000000e-08</td>\n",
       "      <td>-2.000000e-08</td>\n",
       "      <td>-2.000000e-08</td>\n",
       "      <td>-2.000000e-08</td>\n",
       "      <td>-2.000000e-08</td>\n",
       "      <td>-2.000000e-08</td>\n",
       "      <td>-2.000000e-08</td>\n",
       "      <td>-2.000000e-08</td>\n",
       "      <td>-2.000000e-08</td>\n",
       "      <td>-2.000000e-08</td>\n",
       "      <td>-2.000000e-08</td>\n",
       "      <td>-2.000000e-08</td>\n",
       "      <td>-2.000000e-08</td>\n",
       "      <td>-2.000000e-08</td>\n",
       "      <td>-2.000000e-08</td>\n",
       "      <td>-2.000000e-08</td>\n",
       "      <td>-2.000000e-08</td>\n",
       "      <td>-2.000000e-08</td>\n",
       "      <td>-2.000000e-08</td>\n",
       "      <td>-2.000000e-08</td>\n",
       "      <td>-2.000000e-08</td>\n",
       "      <td>-2.000000e-08</td>\n",
       "      <td>-2.000000e-08</td>\n",
       "      <td>-2.000000e-08</td>\n",
       "      <td>-2.000000e-08</td>\n",
       "      <td>-2.000000e-08</td>\n",
       "      <td>-2.000000e-08</td>\n",
       "      <td>-2.000000e-08</td>\n",
       "      <td>-2.000000e-08</td>\n",
       "      <td>-2.000000e-08</td>\n",
       "      <td>-2.000000e-08</td>\n",
       "      <td>-2.000000e-08</td>\n",
       "      <td>-2.000000e-08</td>\n",
       "      <td>-2.000000e-08</td>\n",
       "      <td>-2.000000e-08</td>\n",
       "      <td>...</td>\n",
       "      <td>-2.000000e-08</td>\n",
       "      <td>-2.000000e-08</td>\n",
       "      <td>-2.000000e-08</td>\n",
       "      <td>-2.000000e-08</td>\n",
       "      <td>-2.000000e-08</td>\n",
       "      <td>-2.000000e-08</td>\n",
       "      <td>-2.000000e-08</td>\n",
       "      <td>-2.000000e-08</td>\n",
       "      <td>-2.000000e-08</td>\n",
       "      <td>-2.000000e-08</td>\n",
       "      <td>-2.000000e-08</td>\n",
       "      <td>-2.000000e-08</td>\n",
       "      <td>-2.000000e-08</td>\n",
       "      <td>-2.000000e-08</td>\n",
       "      <td>-2.000000e-08</td>\n",
       "      <td>-2.000000e-08</td>\n",
       "      <td>-2.000000e-08</td>\n",
       "      <td>-2.000000e-08</td>\n",
       "      <td>-2.000000e-08</td>\n",
       "      <td>-2.000000e-08</td>\n",
       "      <td>-2.000000e-08</td>\n",
       "      <td>-2.000000e-08</td>\n",
       "      <td>-2.000000e-08</td>\n",
       "      <td>-2.000000e-08</td>\n",
       "      <td>-2.000000e-08</td>\n",
       "      <td>-2.000000e-08</td>\n",
       "      <td>-2.000000e-08</td>\n",
       "      <td>-2.000000e-08</td>\n",
       "      <td>-2.000000e-08</td>\n",
       "      <td>-2.000000e-08</td>\n",
       "      <td>-2.000000e-08</td>\n",
       "      <td>-2.000000e-08</td>\n",
       "      <td>-2.000000e-08</td>\n",
       "      <td>-2.000000e-08</td>\n",
       "      <td>-2.000000e-08</td>\n",
       "      <td>-2.000000e-08</td>\n",
       "      <td>-2.000000e-08</td>\n",
       "      <td>-2.000000e-08</td>\n",
       "      <td>-2.000000e-08</td>\n",
       "      <td>-2.000000e-08</td>\n",
       "      <td>-2.000000e-08</td>\n",
       "      <td>-2.000000e-08</td>\n",
       "      <td>-2.000000e-08</td>\n",
       "      <td>-2.000000e-08</td>\n",
       "      <td>-2.000000e-08</td>\n",
       "      <td>-2.000000e-08</td>\n",
       "      <td>-2.000000e-08</td>\n",
       "      <td>-2.000000e-08</td>\n",
       "      <td>-2.000000e-08</td>\n",
       "      <td>-2.000000e-08</td>\n",
       "    </tr>\n",
       "  </tbody>\n",
       "</table>\n",
       "<p>1 rows × 1812 columns</p>\n",
       "</div>"
      ],
      "text/plain": [
       "                 21            53            168           177    \\\n",
       "latitude -2.000000e-08 -2.000000e-08 -2.000000e-08 -2.000000e-08   \n",
       "\n",
       "                 253           256           285           301    \\\n",
       "latitude -2.000000e-08 -2.000000e-08 -2.000000e-08 -2.000000e-08   \n",
       "\n",
       "                 306           321           323           326    \\\n",
       "latitude -2.000000e-08 -2.000000e-08 -2.000000e-08 -2.000000e-08   \n",
       "\n",
       "                 346           370           433           659    \\\n",
       "latitude -2.000000e-08 -2.000000e-08 -2.000000e-08 -2.000000e-08   \n",
       "\n",
       "                 678           697           720           733    \\\n",
       "latitude -2.000000e-08 -2.000000e-08 -2.000000e-08 -2.000000e-08   \n",
       "\n",
       "                 753           755           798           839    \\\n",
       "latitude -2.000000e-08 -2.000000e-08 -2.000000e-08 -2.000000e-08   \n",
       "\n",
       "                 911           939           960           965    \\\n",
       "latitude -2.000000e-08 -2.000000e-08 -2.000000e-08 -2.000000e-08   \n",
       "\n",
       "                 971           992           1054          1079   \\\n",
       "latitude -2.000000e-08 -2.000000e-08 -2.000000e-08 -2.000000e-08   \n",
       "\n",
       "                 1122          1168          1191          1208   \\\n",
       "latitude -2.000000e-08 -2.000000e-08 -2.000000e-08 -2.000000e-08   \n",
       "\n",
       "                 1217          1240          1250          1252   \\\n",
       "latitude -2.000000e-08 -2.000000e-08 -2.000000e-08 -2.000000e-08   \n",
       "\n",
       "                 1303          1333          1334          1424   \\\n",
       "latitude -2.000000e-08 -2.000000e-08 -2.000000e-08 -2.000000e-08   \n",
       "\n",
       "                 1449          1454          1463          1502   \\\n",
       "latitude -2.000000e-08 -2.000000e-08 -2.000000e-08 -2.000000e-08   \n",
       "\n",
       "                 1525          1549   ...         57748         57789  \\\n",
       "latitude -2.000000e-08 -2.000000e-08  ... -2.000000e-08 -2.000000e-08   \n",
       "\n",
       "                 57794         57807         57812         57823  \\\n",
       "latitude -2.000000e-08 -2.000000e-08 -2.000000e-08 -2.000000e-08   \n",
       "\n",
       "                 57827         57861         57918         58005  \\\n",
       "latitude -2.000000e-08 -2.000000e-08 -2.000000e-08 -2.000000e-08   \n",
       "\n",
       "                 58039         58045         58046         58071  \\\n",
       "latitude -2.000000e-08 -2.000000e-08 -2.000000e-08 -2.000000e-08   \n",
       "\n",
       "                 58077         58102         58257         58397  \\\n",
       "latitude -2.000000e-08 -2.000000e-08 -2.000000e-08 -2.000000e-08   \n",
       "\n",
       "                 58413         58415         58416         58435  \\\n",
       "latitude -2.000000e-08 -2.000000e-08 -2.000000e-08 -2.000000e-08   \n",
       "\n",
       "                 58446         58463         58517         58545  \\\n",
       "latitude -2.000000e-08 -2.000000e-08 -2.000000e-08 -2.000000e-08   \n",
       "\n",
       "                 58550         58555         58607         58678  \\\n",
       "latitude -2.000000e-08 -2.000000e-08 -2.000000e-08 -2.000000e-08   \n",
       "\n",
       "                 58735         58771         58837         58859  \\\n",
       "latitude -2.000000e-08 -2.000000e-08 -2.000000e-08 -2.000000e-08   \n",
       "\n",
       "                 58969         58997         59017         59033  \\\n",
       "latitude -2.000000e-08 -2.000000e-08 -2.000000e-08 -2.000000e-08   \n",
       "\n",
       "                 59111         59120         59135         59158  \\\n",
       "latitude -2.000000e-08 -2.000000e-08 -2.000000e-08 -2.000000e-08   \n",
       "\n",
       "                 59162         59166         59184         59189  \\\n",
       "latitude -2.000000e-08 -2.000000e-08 -2.000000e-08 -2.000000e-08   \n",
       "\n",
       "                 59208         59295         59324         59374  \n",
       "latitude -2.000000e-08 -2.000000e-08 -2.000000e-08 -2.000000e-08  \n",
       "\n",
       "[1 rows x 1812 columns]"
      ]
     },
     "execution_count": 280,
     "metadata": {},
     "output_type": "execute_result"
    }
   ],
   "source": [
    "# using -0.9 instead of -1 as there were 7 valid values in this range\n",
    "features[features['latitude'] > -0.9]['latitude'].to_frame().T"
   ]
  },
  {
   "cell_type": "markdown",
   "metadata": {
    "hidden": true
   },
   "source": [
    "- Like longitude, 1812 rows with invalid latitude"
   ]
  },
  {
   "cell_type": "code",
   "execution_count": 281,
   "metadata": {
    "hidden": true
   },
   "outputs": [],
   "source": [
    "# set the above indices to nan\n",
    "indices = features[features['latitude'] > -0.9].index\n",
    "features.loc[indices, 'latitude'] = np.nan"
   ]
  },
  {
   "cell_type": "code",
   "execution_count": 282,
   "metadata": {
    "hidden": true
   },
   "outputs": [
    {
     "data": {
      "text/html": [
       "<div>\n",
       "<style scoped>\n",
       "    .dataframe tbody tr th:only-of-type {\n",
       "        vertical-align: middle;\n",
       "    }\n",
       "\n",
       "    .dataframe tbody tr th {\n",
       "        vertical-align: top;\n",
       "    }\n",
       "\n",
       "    .dataframe thead th {\n",
       "        text-align: right;\n",
       "    }\n",
       "</style>\n",
       "<table border=\"1\" class=\"dataframe\">\n",
       "  <thead>\n",
       "    <tr style=\"text-align: right;\">\n",
       "      <th></th>\n",
       "    </tr>\n",
       "  </thead>\n",
       "  <tbody>\n",
       "    <tr>\n",
       "      <th>latitude</th>\n",
       "    </tr>\n",
       "  </tbody>\n",
       "</table>\n",
       "</div>"
      ],
      "text/plain": [
       "Empty DataFrame\n",
       "Columns: []\n",
       "Index: [latitude]"
      ]
     },
     "execution_count": 282,
     "metadata": {},
     "output_type": "execute_result"
    }
   ],
   "source": [
    "# show that all '>-0.9' rows are gone\n",
    "features[features['latitude'] > -0.9]['latitude'].to_frame().T"
   ]
  },
  {
   "cell_type": "markdown",
   "metadata": {
    "heading_collapsed": true
   },
   "source": [
    "## wpt_name:"
   ]
  },
  {
   "cell_type": "code",
   "execution_count": 283,
   "metadata": {
    "hidden": true
   },
   "outputs": [
    {
     "data": {
      "text/plain": [
       "37400"
      ]
     },
     "execution_count": 283,
     "metadata": {},
     "output_type": "execute_result"
    }
   ],
   "source": [
    "features.wpt_name.nunique()"
   ]
  },
  {
   "cell_type": "markdown",
   "metadata": {
    "hidden": true
   },
   "source": [
    "- This column is for well name. Shouldn't have impact on pump functionality, so we're going to drop."
   ]
  },
  {
   "cell_type": "code",
   "execution_count": 284,
   "metadata": {
    "hidden": true
   },
   "outputs": [],
   "source": [
    "drops.append('wpt_name')"
   ]
  },
  {
   "cell_type": "markdown",
   "metadata": {
    "heading_collapsed": true
   },
   "source": [
    "## num_private:"
   ]
  },
  {
   "cell_type": "code",
   "execution_count": 285,
   "metadata": {
    "hidden": true
   },
   "outputs": [
    {
     "data": {
      "text/plain": [
       "count    59400.000000\n",
       "mean         0.474141\n",
       "std         12.236230\n",
       "min          0.000000\n",
       "25%          0.000000\n",
       "50%          0.000000\n",
       "75%          0.000000\n",
       "max       1776.000000\n",
       "Name: num_private, dtype: float64"
      ]
     },
     "execution_count": 285,
     "metadata": {},
     "output_type": "execute_result"
    }
   ],
   "source": [
    "features['num_private'].describe()"
   ]
  },
  {
   "cell_type": "code",
   "execution_count": 286,
   "metadata": {
    "hidden": true
   },
   "outputs": [
    {
     "data": {
      "text/plain": [
       "65"
      ]
     },
     "execution_count": 286,
     "metadata": {},
     "output_type": "execute_result"
    }
   ],
   "source": [
    "features.num_private.nunique()"
   ]
  },
  {
   "cell_type": "code",
   "execution_count": 287,
   "metadata": {
    "hidden": true
   },
   "outputs": [
    {
     "data": {
      "text/plain": [
       "0    0.987256\n",
       "6    0.001364\n",
       "1    0.001229\n",
       "Name: num_private, dtype: float64"
      ]
     },
     "execution_count": 287,
     "metadata": {},
     "output_type": "execute_result"
    }
   ],
   "source": [
    "features['num_private'].value_counts(normalize=True).head(3)"
   ]
  },
  {
   "cell_type": "markdown",
   "metadata": {
    "hidden": true
   },
   "source": [
    "- Vast majority of vals are 0"
   ]
  },
  {
   "cell_type": "code",
   "execution_count": 288,
   "metadata": {
    "hidden": true
   },
   "outputs": [
    {
     "data": {
      "text/plain": [
       "24"
      ]
     },
     "execution_count": 288,
     "metadata": {},
     "output_type": "execute_result"
    }
   ],
   "source": [
    "# get counts of rows for each num_private value\n",
    "num_privates = features.num_private.value_counts()\n",
    "\n",
    "# at least 10 rows\n",
    "top_num_privates = num_privates[num_privates >= 10].index.tolist()\n",
    "vals = num_privates[num_privates >= 10].values.tolist()\n",
    "\n",
    "len(top_num_privates)"
   ]
  },
  {
   "cell_type": "markdown",
   "metadata": {
    "hidden": true
   },
   "source": [
    "- 24 num_private values have at least 10 rows in dataset. May revisit this column later"
   ]
  },
  {
   "cell_type": "code",
   "execution_count": 289,
   "metadata": {
    "hidden": true
   },
   "outputs": [],
   "source": [
    "# subset df where num_private values have at least 10 rows\n",
    "at_least_10 = features[features['num_private'].isin(top_num_privates)]"
   ]
  },
  {
   "cell_type": "code",
   "execution_count": 290,
   "metadata": {
    "hidden": true
   },
   "outputs": [
    {
     "data": {
      "text/html": [
       "<div>\n",
       "<style scoped>\n",
       "    .dataframe tbody tr th:only-of-type {\n",
       "        vertical-align: middle;\n",
       "    }\n",
       "\n",
       "    .dataframe tbody tr th {\n",
       "        vertical-align: top;\n",
       "    }\n",
       "\n",
       "    .dataframe thead tr th {\n",
       "        text-align: left;\n",
       "    }\n",
       "</style>\n",
       "<table border=\"1\" class=\"dataframe\">\n",
       "  <thead>\n",
       "    <tr>\n",
       "      <th>num_private</th>\n",
       "      <th colspan=\"3\" halign=\"left\">0</th>\n",
       "      <th colspan=\"3\" halign=\"left\">1</th>\n",
       "      <th colspan=\"2\" halign=\"left\">2</th>\n",
       "      <th colspan=\"3\" halign=\"left\">3</th>\n",
       "      <th colspan=\"2\" halign=\"left\">4</th>\n",
       "      <th colspan=\"2\" halign=\"left\">5</th>\n",
       "      <th colspan=\"3\" halign=\"left\">6</th>\n",
       "      <th colspan=\"3\" halign=\"left\">7</th>\n",
       "      <th colspan=\"3\" halign=\"left\">8</th>\n",
       "      <th colspan=\"2\" halign=\"left\">11</th>\n",
       "      <th colspan=\"3\" halign=\"left\">15</th>\n",
       "      <th colspan=\"3\" halign=\"left\">17</th>\n",
       "      <th colspan=\"3\" halign=\"left\">20</th>\n",
       "      <th colspan=\"3\" halign=\"left\">25</th>\n",
       "      <th colspan=\"2\" halign=\"left\">32</th>\n",
       "      <th colspan=\"2\" halign=\"left\">34</th>\n",
       "      <th colspan=\"2\" halign=\"left\">39</th>\n",
       "      <th colspan=\"2\" halign=\"left\">41</th>\n",
       "      <th colspan=\"3\" halign=\"left\">45</th>\n",
       "      <th colspan=\"3\" halign=\"left\">47</th>\n",
       "      <th colspan=\"2\" halign=\"left\">65</th>\n",
       "      <th colspan=\"2\" halign=\"left\">80</th>\n",
       "      <th colspan=\"3\" halign=\"left\">93</th>\n",
       "      <th colspan=\"2\" halign=\"left\">102</th>\n",
       "    </tr>\n",
       "    <tr>\n",
       "      <th>status_group</th>\n",
       "      <th>functional</th>\n",
       "      <th>non functional</th>\n",
       "      <th>functional needs repair</th>\n",
       "      <th>functional</th>\n",
       "      <th>non functional</th>\n",
       "      <th>functional needs repair</th>\n",
       "      <th>functional</th>\n",
       "      <th>non functional</th>\n",
       "      <th>functional</th>\n",
       "      <th>non functional</th>\n",
       "      <th>functional needs repair</th>\n",
       "      <th>non functional</th>\n",
       "      <th>functional</th>\n",
       "      <th>functional</th>\n",
       "      <th>non functional</th>\n",
       "      <th>functional</th>\n",
       "      <th>non functional</th>\n",
       "      <th>functional needs repair</th>\n",
       "      <th>functional</th>\n",
       "      <th>non functional</th>\n",
       "      <th>functional needs repair</th>\n",
       "      <th>functional</th>\n",
       "      <th>functional needs repair</th>\n",
       "      <th>non functional</th>\n",
       "      <th>non functional</th>\n",
       "      <th>functional</th>\n",
       "      <th>functional</th>\n",
       "      <th>functional needs repair</th>\n",
       "      <th>non functional</th>\n",
       "      <th>functional</th>\n",
       "      <th>functional needs repair</th>\n",
       "      <th>non functional</th>\n",
       "      <th>non functional</th>\n",
       "      <th>functional</th>\n",
       "      <th>functional needs repair</th>\n",
       "      <th>functional</th>\n",
       "      <th>non functional</th>\n",
       "      <th>functional needs repair</th>\n",
       "      <th>functional</th>\n",
       "      <th>non functional</th>\n",
       "      <th>non functional</th>\n",
       "      <th>functional</th>\n",
       "      <th>non functional</th>\n",
       "      <th>functional</th>\n",
       "      <th>functional</th>\n",
       "      <th>non functional</th>\n",
       "      <th>functional</th>\n",
       "      <th>non functional</th>\n",
       "      <th>functional needs repair</th>\n",
       "      <th>functional</th>\n",
       "      <th>non functional</th>\n",
       "      <th>functional needs repair</th>\n",
       "      <th>functional</th>\n",
       "      <th>non functional</th>\n",
       "      <th>non functional</th>\n",
       "      <th>functional</th>\n",
       "      <th>functional</th>\n",
       "      <th>functional needs repair</th>\n",
       "      <th>non functional</th>\n",
       "      <th>functional</th>\n",
       "      <th>non functional</th>\n",
       "    </tr>\n",
       "  </thead>\n",
       "  <tbody>\n",
       "    <tr>\n",
       "      <th>status_group</th>\n",
       "      <td>0.54223</td>\n",
       "      <td>0.384973</td>\n",
       "      <td>0.072796</td>\n",
       "      <td>0.547945</td>\n",
       "      <td>0.369863</td>\n",
       "      <td>0.082192</td>\n",
       "      <td>0.608696</td>\n",
       "      <td>0.391304</td>\n",
       "      <td>0.444444</td>\n",
       "      <td>0.444444</td>\n",
       "      <td>0.111111</td>\n",
       "      <td>0.55</td>\n",
       "      <td>0.45</td>\n",
       "      <td>0.673913</td>\n",
       "      <td>0.326087</td>\n",
       "      <td>0.679012</td>\n",
       "      <td>0.246914</td>\n",
       "      <td>0.074074</td>\n",
       "      <td>0.576923</td>\n",
       "      <td>0.384615</td>\n",
       "      <td>0.038462</td>\n",
       "      <td>0.673913</td>\n",
       "      <td>0.173913</td>\n",
       "      <td>0.152174</td>\n",
       "      <td>0.545455</td>\n",
       "      <td>0.454545</td>\n",
       "      <td>0.771429</td>\n",
       "      <td>0.114286</td>\n",
       "      <td>0.114286</td>\n",
       "      <td>0.588235</td>\n",
       "      <td>0.235294</td>\n",
       "      <td>0.176471</td>\n",
       "      <td>0.642857</td>\n",
       "      <td>0.285714</td>\n",
       "      <td>0.071429</td>\n",
       "      <td>0.5</td>\n",
       "      <td>0.416667</td>\n",
       "      <td>0.083333</td>\n",
       "      <td>0.975</td>\n",
       "      <td>0.025</td>\n",
       "      <td>0.7</td>\n",
       "      <td>0.3</td>\n",
       "      <td>0.733333</td>\n",
       "      <td>0.266667</td>\n",
       "      <td>0.7</td>\n",
       "      <td>0.3</td>\n",
       "      <td>0.722222</td>\n",
       "      <td>0.25</td>\n",
       "      <td>0.027778</td>\n",
       "      <td>0.571429</td>\n",
       "      <td>0.380952</td>\n",
       "      <td>0.047619</td>\n",
       "      <td>0.5</td>\n",
       "      <td>0.5</td>\n",
       "      <td>0.933333</td>\n",
       "      <td>0.066667</td>\n",
       "      <td>0.75</td>\n",
       "      <td>0.214286</td>\n",
       "      <td>0.035714</td>\n",
       "      <td>0.7</td>\n",
       "      <td>0.3</td>\n",
       "    </tr>\n",
       "  </tbody>\n",
       "</table>\n",
       "</div>"
      ],
      "text/plain": [
       "num_private         0                                                 1    \\\n",
       "status_group functional non functional functional needs repair functional   \n",
       "status_group    0.54223       0.384973                0.072796   0.547945   \n",
       "\n",
       "num_private                                                2                   \\\n",
       "status_group non functional functional needs repair functional non functional   \n",
       "status_group       0.369863                0.082192   0.608696       0.391304   \n",
       "\n",
       "num_private         3                                                     4    \\\n",
       "status_group functional non functional functional needs repair non functional   \n",
       "status_group   0.444444       0.444444                0.111111           0.55   \n",
       "\n",
       "num_private                    5                         6                   \\\n",
       "status_group functional functional non functional functional non functional   \n",
       "status_group       0.45   0.673913       0.326087   0.679012       0.246914   \n",
       "\n",
       "num_private                                 7                   \\\n",
       "status_group functional needs repair functional non functional   \n",
       "status_group                0.074074   0.576923       0.384615   \n",
       "\n",
       "num_private                                 8                            \\\n",
       "status_group functional needs repair functional functional needs repair   \n",
       "status_group                0.038462   0.673913                0.173913   \n",
       "\n",
       "num_private                            11                    15   \\\n",
       "status_group non functional non functional functional functional   \n",
       "status_group       0.152174       0.545455   0.454545   0.771429   \n",
       "\n",
       "num_private                                                17   \\\n",
       "status_group functional needs repair non functional functional   \n",
       "status_group                0.114286       0.114286   0.588235   \n",
       "\n",
       "num_private                                                    20              \\\n",
       "status_group functional needs repair non functional non functional functional   \n",
       "status_group                0.235294       0.176471       0.642857   0.285714   \n",
       "\n",
       "num_private                                 25                  \\\n",
       "status_group functional needs repair functional non functional   \n",
       "status_group                0.071429        0.5       0.416667   \n",
       "\n",
       "num_private                                 32                            34   \\\n",
       "status_group functional needs repair functional non functional non functional   \n",
       "status_group                0.083333      0.975          0.025            0.7   \n",
       "\n",
       "num_private                        39                    41                  \\\n",
       "status_group functional non functional functional functional non functional   \n",
       "status_group        0.3       0.733333   0.266667        0.7            0.3   \n",
       "\n",
       "num_private         45                                                47   \\\n",
       "status_group functional non functional functional needs repair functional   \n",
       "status_group   0.722222           0.25                0.027778   0.571429   \n",
       "\n",
       "num_private                                                65                  \\\n",
       "status_group non functional functional needs repair functional non functional   \n",
       "status_group       0.380952                0.047619        0.5            0.5   \n",
       "\n",
       "num_private             80                    93                           \\\n",
       "status_group non functional functional functional functional needs repair   \n",
       "status_group       0.933333   0.066667       0.75                0.214286   \n",
       "\n",
       "num_private                        102                 \n",
       "status_group non functional functional non functional  \n",
       "status_group       0.035714        0.7            0.3  "
      ]
     },
     "execution_count": 290,
     "metadata": {},
     "output_type": "execute_result"
    }
   ],
   "source": [
    "at_least_10.groupby(['num_private'])['status_group'].value_counts(normalize=True).to_frame().T"
   ]
  },
  {
   "cell_type": "markdown",
   "metadata": {
    "heading_collapsed": true
   },
   "source": [
    "## basin and subvillage:"
   ]
  },
  {
   "cell_type": "code",
   "execution_count": 291,
   "metadata": {
    "hidden": true
   },
   "outputs": [
    {
     "data": {
      "text/plain": [
       "(9,\n",
       " array(['Lake Nyasa', 'Lake Victoria', 'Pangani',\n",
       "        'Ruvuma / Southern Coast', 'Internal', 'Lake Tanganyika',\n",
       "        'Wami / Ruvu', 'Rufiji', 'Lake Rukwa'], dtype=object))"
      ]
     },
     "execution_count": 291,
     "metadata": {},
     "output_type": "execute_result"
    }
   ],
   "source": [
    "# unique basins\n",
    "features.basin.nunique(), features.basin.unique()"
   ]
  },
  {
   "cell_type": "code",
   "execution_count": 292,
   "metadata": {
    "hidden": true
   },
   "outputs": [
    {
     "data": {
      "text/plain": [
       "19287"
      ]
     },
     "execution_count": 292,
     "metadata": {},
     "output_type": "execute_result"
    }
   ],
   "source": [
    "# unique subvillages\n",
    "features.subvillage.nunique()"
   ]
  },
  {
   "cell_type": "markdown",
   "metadata": {
    "hidden": true
   },
   "source": [
    "- Going to drop subvillage. Region code, latitude, longitude, and basin should capture enough locational information."
   ]
  },
  {
   "cell_type": "code",
   "execution_count": 293,
   "metadata": {
    "hidden": true
   },
   "outputs": [],
   "source": [
    "drops.append('subvillage')"
   ]
  },
  {
   "cell_type": "markdown",
   "metadata": {
    "heading_collapsed": true
   },
   "source": [
    "## region and region_code:"
   ]
  },
  {
   "cell_type": "code",
   "execution_count": 294,
   "metadata": {
    "hidden": true
   },
   "outputs": [
    {
     "data": {
      "text/plain": [
       "21"
      ]
     },
     "execution_count": 294,
     "metadata": {},
     "output_type": "execute_result"
    }
   ],
   "source": [
    "# unique regions\n",
    "features.region.nunique()"
   ]
  },
  {
   "cell_type": "code",
   "execution_count": 295,
   "metadata": {
    "hidden": true
   },
   "outputs": [
    {
     "data": {
      "text/plain": [
       "27"
      ]
     },
     "execution_count": 295,
     "metadata": {},
     "output_type": "execute_result"
    }
   ],
   "source": [
    "# unique region_codes\n",
    "features.region_code.nunique()"
   ]
  },
  {
   "cell_type": "code",
   "execution_count": 296,
   "metadata": {
    "hidden": true
   },
   "outputs": [
    {
     "data": {
      "text/plain": [
       "dict_keys([('Arusha', 2), ('Arusha', 24), ('Dar es Salaam', 7), ('Dodoma', 1), ('Iringa', 11), ('Kagera', 18), ('Kigoma', 16), ('Kilimanjaro', 3), ('Lindi', 8), ('Lindi', 18), ('Lindi', 80), ('Manyara', 21), ('Mara', 20), ('Mbeya', 12), ('Morogoro', 5), ('Mtwara', 9), ('Mtwara', 90), ('Mtwara', 99), ('Mwanza', 17), ('Mwanza', 19), ('Pwani', 6), ('Pwani', 40), ('Pwani', 60), ('Rukwa', 15), ('Ruvuma', 10), ('Shinyanga', 11), ('Shinyanga', 14), ('Shinyanga', 17), ('Singida', 13), ('Tabora', 14), ('Tanga', 4), ('Tanga', 5)])"
      ]
     },
     "execution_count": 296,
     "metadata": {},
     "output_type": "execute_result"
    }
   ],
   "source": [
    "features.groupby(['region', 'region_code']).groups.keys()"
   ]
  },
  {
   "cell_type": "markdown",
   "metadata": {
    "hidden": true
   },
   "source": [
    "- 7 regions have multiple codes.\n",
    "- Dropping \"region\" as it is redundant and less specific than region_code."
   ]
  },
  {
   "cell_type": "code",
   "execution_count": 297,
   "metadata": {
    "hidden": true
   },
   "outputs": [],
   "source": [
    "# drop 'region'\n",
    "drops.append('region')"
   ]
  },
  {
   "cell_type": "code",
   "execution_count": 298,
   "metadata": {
    "hidden": true
   },
   "outputs": [
    {
     "data": {
      "text/plain": [
       "dtype('int64')"
      ]
     },
     "execution_count": 298,
     "metadata": {},
     "output_type": "execute_result"
    }
   ],
   "source": [
    "# check data type of region_code\n",
    "features.region_code.dtypes"
   ]
  },
  {
   "cell_type": "markdown",
   "metadata": {
    "hidden": true
   },
   "source": [
    "- Converting region_code to 'object' to ensure it's treated as a category."
   ]
  },
  {
   "cell_type": "code",
   "execution_count": 299,
   "metadata": {
    "hidden": true
   },
   "outputs": [
    {
     "data": {
      "text/plain": [
       "dtype('O')"
      ]
     },
     "execution_count": 299,
     "metadata": {},
     "output_type": "execute_result"
    }
   ],
   "source": [
    "# convert from int to str (Object)\n",
    "features['region_code'] = features['region_code'].astype('O')\n",
    "features.region_code.dtypes"
   ]
  },
  {
   "cell_type": "markdown",
   "metadata": {
    "heading_collapsed": true
   },
   "source": [
    "## district_code"
   ]
  },
  {
   "cell_type": "code",
   "execution_count": 300,
   "metadata": {
    "hidden": true
   },
   "outputs": [
    {
     "data": {
      "text/plain": [
       "(20,\n",
       " array([ 5,  2,  4, 63,  1,  8,  3,  6, 43,  7, 23, 33, 53, 62, 60, 30, 13,\n",
       "         0, 80, 67], dtype=int64))"
      ]
     },
     "execution_count": 300,
     "metadata": {},
     "output_type": "execute_result"
    }
   ],
   "source": [
    "# unique district_codes\n",
    "features.district_code.nunique(), features.district_code.unique()"
   ]
  },
  {
   "cell_type": "markdown",
   "metadata": {
    "hidden": true
   },
   "source": [
    "- Like region_code, need to convert to categorical column."
   ]
  },
  {
   "cell_type": "code",
   "execution_count": 301,
   "metadata": {
    "hidden": true
   },
   "outputs": [
    {
     "data": {
      "text/plain": [
       "dtype('O')"
      ]
     },
     "execution_count": 301,
     "metadata": {},
     "output_type": "execute_result"
    }
   ],
   "source": [
    "# convert from int to str (Object)\n",
    "features['district_code'] = features['district_code'].astype('O')\n",
    "features.district_code.dtypes"
   ]
  },
  {
   "cell_type": "markdown",
   "metadata": {
    "heading_collapsed": true
   },
   "source": [
    "## lga and ward\n",
    "- Local Government Area: an administrative division within the country\n",
    "- Ward: a smaller division of an LGA"
   ]
  },
  {
   "cell_type": "code",
   "execution_count": 302,
   "metadata": {
    "hidden": true
   },
   "outputs": [
    {
     "data": {
      "text/plain": [
       "125"
      ]
     },
     "execution_count": 302,
     "metadata": {},
     "output_type": "execute_result"
    }
   ],
   "source": [
    "# unique LGA\n",
    "features.lga.nunique()"
   ]
  },
  {
   "cell_type": "code",
   "execution_count": 303,
   "metadata": {
    "hidden": true
   },
   "outputs": [
    {
     "data": {
      "text/plain": [
       "2092"
      ]
     },
     "execution_count": 303,
     "metadata": {},
     "output_type": "execute_result"
    }
   ],
   "source": [
    "# unique ward\n",
    "features.ward.nunique()"
   ]
  },
  {
   "cell_type": "markdown",
   "metadata": {
    "hidden": true
   },
   "source": [
    "- Dropping 'ward' as LGA should provide enough information."
   ]
  },
  {
   "cell_type": "code",
   "execution_count": 304,
   "metadata": {
    "hidden": true
   },
   "outputs": [],
   "source": [
    "# drop \"ward\"\n",
    "drops.append('ward')"
   ]
  },
  {
   "cell_type": "markdown",
   "metadata": {
    "heading_collapsed": true
   },
   "source": [
    "## population"
   ]
  },
  {
   "cell_type": "code",
   "execution_count": 305,
   "metadata": {
    "hidden": true
   },
   "outputs": [
    {
     "data": {
      "text/html": [
       "<div>\n",
       "<style scoped>\n",
       "    .dataframe tbody tr th:only-of-type {\n",
       "        vertical-align: middle;\n",
       "    }\n",
       "\n",
       "    .dataframe tbody tr th {\n",
       "        vertical-align: top;\n",
       "    }\n",
       "\n",
       "    .dataframe thead th {\n",
       "        text-align: right;\n",
       "    }\n",
       "</style>\n",
       "<table border=\"1\" class=\"dataframe\">\n",
       "  <thead>\n",
       "    <tr style=\"text-align: right;\">\n",
       "      <th></th>\n",
       "      <th>count</th>\n",
       "      <th>mean</th>\n",
       "      <th>std</th>\n",
       "      <th>min</th>\n",
       "      <th>25%</th>\n",
       "      <th>50%</th>\n",
       "      <th>75%</th>\n",
       "      <th>max</th>\n",
       "    </tr>\n",
       "  </thead>\n",
       "  <tbody>\n",
       "    <tr>\n",
       "      <th>population</th>\n",
       "      <td>59400.0</td>\n",
       "      <td>179.909983</td>\n",
       "      <td>471.482176</td>\n",
       "      <td>0.0</td>\n",
       "      <td>0.0</td>\n",
       "      <td>25.0</td>\n",
       "      <td>215.0</td>\n",
       "      <td>30500.0</td>\n",
       "    </tr>\n",
       "  </tbody>\n",
       "</table>\n",
       "</div>"
      ],
      "text/plain": [
       "              count        mean         std  min  25%   50%    75%      max\n",
       "population  59400.0  179.909983  471.482176  0.0  0.0  25.0  215.0  30500.0"
      ]
     },
     "execution_count": 305,
     "metadata": {},
     "output_type": "execute_result"
    }
   ],
   "source": [
    "features.population.describe().to_frame().T"
   ]
  },
  {
   "cell_type": "markdown",
   "metadata": {
    "hidden": true
   },
   "source": [
    "- Min and 25th percentile both show populations of 0."
   ]
  },
  {
   "cell_type": "code",
   "execution_count": 306,
   "metadata": {
    "hidden": true
   },
   "outputs": [
    {
     "data": {
      "text/plain": [
       "(21381, 42)"
      ]
     },
     "execution_count": 306,
     "metadata": {},
     "output_type": "execute_result"
    }
   ],
   "source": [
    "# populations of 0\n",
    "features[features.population == 0].shape"
   ]
  },
  {
   "cell_type": "markdown",
   "metadata": {
    "hidden": true
   },
   "source": [
    "- over 21,000 rows with a population of 0. Could be a missing value.\n",
    "- could also just be wells located in remote areas with populations of 0."
   ]
  },
  {
   "cell_type": "code",
   "execution_count": 307,
   "metadata": {
    "hidden": true
   },
   "outputs": [
    {
     "data": {
      "text/plain": [
       "(7025, 42)"
      ]
     },
     "execution_count": 307,
     "metadata": {},
     "output_type": "execute_result"
    }
   ],
   "source": [
    "# populations of 1\n",
    "features[features.population == 1].shape"
   ]
  },
  {
   "cell_type": "code",
   "execution_count": 308,
   "metadata": {
    "hidden": true
   },
   "outputs": [
    {
     "data": {
      "text/plain": [
       "(28527, 42)"
      ]
     },
     "execution_count": 308,
     "metadata": {},
     "output_type": "execute_result"
    }
   ],
   "source": [
    "# populations of less than 10\n",
    "features[features.population < 10].shape"
   ]
  },
  {
   "cell_type": "markdown",
   "metadata": {
    "hidden": true
   },
   "source": [
    "- 7,000 rows with a population of 1. This may indicate that the population values are accurate.\n",
    "- Almost half of our dataset has a very small population (<10). These population values very well could be accurate. \n",
    "- Keeping column unmodified."
   ]
  },
  {
   "cell_type": "markdown",
   "metadata": {
    "heading_collapsed": true
   },
   "source": [
    "## public_meeting\n",
    "- Boolean column indicate whether a meeting was held regarding the well"
   ]
  },
  {
   "cell_type": "code",
   "execution_count": 309,
   "metadata": {
    "hidden": true
   },
   "outputs": [
    {
     "data": {
      "text/plain": [
       "True     51011\n",
       "False     5055\n",
       "Name: public_meeting, dtype: int64"
      ]
     },
     "execution_count": 309,
     "metadata": {},
     "output_type": "execute_result"
    }
   ],
   "source": [
    "features.public_meeting.value_counts()"
   ]
  },
  {
   "cell_type": "markdown",
   "metadata": {
    "heading_collapsed": true
   },
   "source": [
    "## recorded_by\n",
    "- The body responsible for recording that row's data."
   ]
  },
  {
   "cell_type": "code",
   "execution_count": 310,
   "metadata": {
    "hidden": true
   },
   "outputs": [
    {
     "data": {
      "text/plain": [
       "1"
      ]
     },
     "execution_count": 310,
     "metadata": {},
     "output_type": "execute_result"
    }
   ],
   "source": [
    "# unique recorded_by\n",
    "features.recorded_by.nunique()"
   ]
  },
  {
   "cell_type": "code",
   "execution_count": 311,
   "metadata": {
    "hidden": true
   },
   "outputs": [
    {
     "data": {
      "text/plain": [
       "GeoData Consultants Ltd    59400\n",
       "Name: recorded_by, dtype: int64"
      ]
     },
     "execution_count": 311,
     "metadata": {},
     "output_type": "execute_result"
    }
   ],
   "source": [
    "features.recorded_by.value_counts()"
   ]
  },
  {
   "cell_type": "markdown",
   "metadata": {
    "hidden": true
   },
   "source": [
    "- All well data was recorded by GeoData Consultants Ltd.\n",
    "- Dropping the column."
   ]
  },
  {
   "cell_type": "code",
   "execution_count": 312,
   "metadata": {
    "hidden": true
   },
   "outputs": [],
   "source": [
    "# drop recorded_by\n",
    "drops.append('recorded_by')"
   ]
  },
  {
   "cell_type": "markdown",
   "metadata": {
    "heading_collapsed": true
   },
   "source": [
    "## scheme_management, management , and management_group"
   ]
  },
  {
   "cell_type": "code",
   "execution_count": 313,
   "metadata": {
    "hidden": true
   },
   "outputs": [
    {
     "data": {
      "text/plain": [
       "(12,\n",
       " array(['VWC', 'Other', nan, 'Private operator', 'WUG', 'Water Board',\n",
       "        'WUA', 'Water authority', 'Company', 'Parastatal', 'Trust', 'SWC',\n",
       "        'None'], dtype=object))"
      ]
     },
     "execution_count": 313,
     "metadata": {},
     "output_type": "execute_result"
    }
   ],
   "source": [
    "features['scheme_management'].nunique(), features['scheme_management'].unique()"
   ]
  },
  {
   "cell_type": "code",
   "execution_count": 314,
   "metadata": {
    "hidden": true
   },
   "outputs": [
    {
     "data": {
      "text/plain": [
       "VWC                 36793\n",
       "WUG                  5206\n",
       "Water authority      3153\n",
       "WUA                  2883\n",
       "Water Board          2748\n",
       "Parastatal           1680\n",
       "Private operator     1063\n",
       "Company              1061\n",
       "Other                 766\n",
       "SWC                    97\n",
       "Trust                  72\n",
       "None                    1\n",
       "Name: scheme_management, dtype: int64"
      ]
     },
     "execution_count": 314,
     "metadata": {},
     "output_type": "execute_result"
    }
   ],
   "source": [
    "features['scheme_management'].value_counts()"
   ]
  },
  {
   "cell_type": "code",
   "execution_count": 315,
   "metadata": {
    "hidden": true
   },
   "outputs": [
    {
     "data": {
      "text/plain": [
       "(12,\n",
       " array(['vwc', 'wug', 'other', 'private operator', 'water board', 'wua',\n",
       "        'company', 'water authority', 'parastatal', 'unknown',\n",
       "        'other - school', 'trust'], dtype=object))"
      ]
     },
     "execution_count": 315,
     "metadata": {},
     "output_type": "execute_result"
    }
   ],
   "source": [
    "features['management'].nunique(), features['management'].unique()"
   ]
  },
  {
   "cell_type": "code",
   "execution_count": 316,
   "metadata": {
    "hidden": true
   },
   "outputs": [
    {
     "data": {
      "text/plain": [
       "vwc                 40507\n",
       "wug                  6515\n",
       "water board          2933\n",
       "wua                  2535\n",
       "private operator     1971\n",
       "parastatal           1768\n",
       "water authority       904\n",
       "other                 844\n",
       "company               685\n",
       "unknown               561\n",
       "other - school         99\n",
       "trust                  78\n",
       "Name: management, dtype: int64"
      ]
     },
     "execution_count": 316,
     "metadata": {},
     "output_type": "execute_result"
    }
   ],
   "source": [
    "features['management'].value_counts()"
   ]
  },
  {
   "cell_type": "code",
   "execution_count": 317,
   "metadata": {
    "hidden": true
   },
   "outputs": [
    {
     "data": {
      "text/plain": [
       "(5,\n",
       " array(['user-group', 'other', 'commercial', 'parastatal', 'unknown'],\n",
       "       dtype=object))"
      ]
     },
     "execution_count": 317,
     "metadata": {},
     "output_type": "execute_result"
    }
   ],
   "source": [
    "features['management_group'].nunique(), features['management_group'].unique()"
   ]
  },
  {
   "cell_type": "code",
   "execution_count": 318,
   "metadata": {
    "hidden": true
   },
   "outputs": [
    {
     "data": {
      "text/plain": [
       "user-group    52490\n",
       "commercial     3638\n",
       "parastatal     1768\n",
       "other           943\n",
       "unknown         561\n",
       "Name: management_group, dtype: int64"
      ]
     },
     "execution_count": 318,
     "metadata": {},
     "output_type": "execute_result"
    }
   ],
   "source": [
    "features['management_group'].value_counts()"
   ]
  },
  {
   "cell_type": "markdown",
   "metadata": {
    "hidden": true
   },
   "source": [
    "- Scheme_management and management seem to capture the same data. Using 'management' as it has less unknown values.\n",
    "- Management_group seems to also capture the same data, at a less granular level.\n",
    "- Dropping scheme_management and management_group."
   ]
  },
  {
   "cell_type": "code",
   "execution_count": 319,
   "metadata": {
    "hidden": true
   },
   "outputs": [],
   "source": [
    "# drop scheme_management and management_group\n",
    "drops.append('scheme_management')\n",
    "drops.append('management_group')"
   ]
  },
  {
   "cell_type": "markdown",
   "metadata": {
    "heading_collapsed": true
   },
   "source": [
    "## scheme_name\n",
    "- The name of the scheme/program in which the well operates under.\n",
    "- This is the column with the most nulls by far (28,000)."
   ]
  },
  {
   "cell_type": "code",
   "execution_count": 320,
   "metadata": {
    "hidden": true
   },
   "outputs": [
    {
     "data": {
      "text/plain": [
       "2696"
      ]
     },
     "execution_count": 320,
     "metadata": {},
     "output_type": "execute_result"
    }
   ],
   "source": [
    "# unique scheme_name\n",
    "features['scheme_name'].nunique()"
   ]
  },
  {
   "cell_type": "code",
   "execution_count": 321,
   "metadata": {
    "hidden": true
   },
   "outputs": [
    {
     "data": {
      "text/plain": [
       "(K                         682\n",
       " None                      644\n",
       " Borehole                  546\n",
       " Chalinze wate             405\n",
       " M                         400\n",
       "                          ... \n",
       " Lerang'wa waterbsupply      1\n",
       " Mtunguruzi                  1\n",
       " Heka water supply           1\n",
       " Samunge water scheme        1\n",
       " Ntang'whale                 1\n",
       " Name: scheme_name, Length: 2696, dtype: int64,\n",
       " 31234)"
      ]
     },
     "execution_count": 321,
     "metadata": {},
     "output_type": "execute_result"
    }
   ],
   "source": [
    "# get counts of scheme_names\n",
    "schemes = features.scheme_name.value_counts()\n",
    "schemes, schemes.sum()"
   ]
  },
  {
   "cell_type": "markdown",
   "metadata": {
    "hidden": true
   },
   "source": [
    "- Only 31,000/59,000 rows have scheme_name.\n",
    "- Could use a SimpleImpute strategy like \"most_frequent\". However, this could be innaccurate as there isn't a clear most frequent. Top value \"K\" barely edges out \"None\", and than at least 3 others are close behind."
   ]
  },
  {
   "cell_type": "code",
   "execution_count": 322,
   "metadata": {
    "hidden": true
   },
   "outputs": [
    {
     "data": {
      "text/plain": [
       "353"
      ]
     },
     "execution_count": 322,
     "metadata": {},
     "output_type": "execute_result"
    }
   ],
   "source": [
    "# schemes with 20 or more rows in data\n",
    "top_schemes = schemes[schemes >= 20].index\n",
    "vals = schemes[schemes >= 20].values\n",
    "\n",
    "num_schemes = len(top_schemes)\n",
    "num_schemes"
   ]
  },
  {
   "cell_type": "markdown",
   "metadata": {
    "hidden": true
   },
   "source": [
    "- 353 scheme_names with 20 or more rows."
   ]
  },
  {
   "cell_type": "code",
   "execution_count": 323,
   "metadata": {
    "hidden": true
   },
   "outputs": [
    {
     "name": "stdout",
     "output_type": "stream",
     "text": [
      "The top 13.1% of schemes make up 61.1% of the data. Keep in mind, the data here is only 31,000 rows.\n"
     ]
    }
   ],
   "source": [
    "print(f'''The top {num_schemes / features.scheme_name.nunique() * 100 :.1f}% of schemes make up \\\n",
    "{sum(vals) / 31234 * 100 :.1f}% of the data. Keep in mind, the data here is only 31,000 rows.''')"
   ]
  },
  {
   "cell_type": "markdown",
   "metadata": {
    "hidden": true
   },
   "source": [
    "- Scheme_name is more dispersed than top-heavy cols like funder and installer. This makes it harder to take the \"top slice\" of the column.\n",
    "- Keeping this column and all of it's unique vals, as it may be very important."
   ]
  },
  {
   "cell_type": "markdown",
   "metadata": {
    "heading_collapsed": true
   },
   "source": [
    "## permit\n",
    "- Permit is a boolean column that holds whether the builder of the well had a permit"
   ]
  },
  {
   "cell_type": "code",
   "execution_count": 324,
   "metadata": {
    "hidden": true,
    "scrolled": true
   },
   "outputs": [
    {
     "data": {
      "text/plain": [
       "(2, array([False, True, nan], dtype=object))"
      ]
     },
     "execution_count": 324,
     "metadata": {},
     "output_type": "execute_result"
    }
   ],
   "source": [
    "# unique permits\n",
    "features['permit'].nunique(), features['permit'].unique()"
   ]
  },
  {
   "cell_type": "code",
   "execution_count": 325,
   "metadata": {
    "hidden": true
   },
   "outputs": [
    {
     "data": {
      "text/plain": [
       "True     0.68955\n",
       "False    0.31045\n",
       "Name: permit, dtype: float64"
      ]
     },
     "execution_count": 325,
     "metadata": {},
     "output_type": "execute_result"
    }
   ],
   "source": [
    "features['permit'].value_counts(normalize=True)"
   ]
  },
  {
   "cell_type": "markdown",
   "metadata": {
    "heading_collapsed": true
   },
   "source": [
    "## extraction_type, extraction_type_group, extraction_type_class\n",
    "- 3 columns describe the type of pump used."
   ]
  },
  {
   "cell_type": "code",
   "execution_count": 326,
   "metadata": {
    "hidden": true
   },
   "outputs": [
    {
     "data": {
      "text/plain": [
       "(18,\n",
       " array(['gravity', 'submersible', 'swn 80', 'nira/tanira', 'india mark ii',\n",
       "        'other', 'ksb', 'mono', 'windmill', 'afridev', 'other - rope pump',\n",
       "        'india mark iii', 'other - swn 81', 'other - play pump', 'cemo',\n",
       "        'climax', 'walimi', 'other - mkulima/shinyanga'], dtype=object))"
      ]
     },
     "execution_count": 326,
     "metadata": {},
     "output_type": "execute_result"
    }
   ],
   "source": [
    "# unique extraction_type\n",
    "features['extraction_type'].nunique(), features['extraction_type'].unique()"
   ]
  },
  {
   "cell_type": "code",
   "execution_count": 327,
   "metadata": {
    "hidden": true
   },
   "outputs": [
    {
     "data": {
      "text/plain": [
       "(7,\n",
       " array(['gravity', 'submersible', 'handpump', 'other', 'motorpump',\n",
       "        'wind-powered', 'rope pump'], dtype=object))"
      ]
     },
     "execution_count": 327,
     "metadata": {},
     "output_type": "execute_result"
    }
   ],
   "source": [
    "# unique extraction_type_class\n",
    "features['extraction_type_class'].nunique(), features['extraction_type_class'].unique()"
   ]
  },
  {
   "cell_type": "code",
   "execution_count": 328,
   "metadata": {
    "hidden": true
   },
   "outputs": [
    {
     "data": {
      "text/plain": [
       "(13,\n",
       " array(['gravity', 'submersible', 'swn 80', 'nira/tanira', 'india mark ii',\n",
       "        'other', 'mono', 'wind-powered', 'afridev', 'rope pump',\n",
       "        'india mark iii', 'other handpump', 'other motorpump'],\n",
       "       dtype=object))"
      ]
     },
     "execution_count": 328,
     "metadata": {},
     "output_type": "execute_result"
    }
   ],
   "source": [
    "# unique extraction_type_group\n",
    "features['extraction_type_group'].nunique(), features['extraction_type_group'].unique()"
   ]
  },
  {
   "cell_type": "code",
   "execution_count": 329,
   "metadata": {
    "hidden": true
   },
   "outputs": [
    {
     "data": {
      "text/plain": [
       "dict_keys([('gravity', 'gravity'), ('handpump', 'afridev'), ('handpump', 'india mark ii'), ('handpump', 'india mark iii'), ('handpump', 'nira/tanira'), ('handpump', 'other - mkulima/shinyanga'), ('handpump', 'other - play pump'), ('handpump', 'other - swn 81'), ('handpump', 'swn 80'), ('handpump', 'walimi'), ('motorpump', 'cemo'), ('motorpump', 'climax'), ('motorpump', 'mono'), ('other', 'other'), ('rope pump', 'other - rope pump'), ('submersible', 'ksb'), ('submersible', 'submersible'), ('wind-powered', 'windmill')])"
      ]
     },
     "execution_count": 329,
     "metadata": {},
     "output_type": "execute_result"
    }
   ],
   "source": [
    "features.groupby(['extraction_type_class', 'extraction_type']).groups.keys()"
   ]
  },
  {
   "cell_type": "markdown",
   "metadata": {
    "hidden": true
   },
   "source": [
    "- Extraction_type seems to hold the most detail with 18 unique values.\n",
    "- Extraction_type_group holds similar data to extraction_type but less specific.\n",
    "- Keeping extraction_type_class, as it holds broader well type data and may have meaning.\n",
    "- Dropping extraction_type_group."
   ]
  },
  {
   "cell_type": "code",
   "execution_count": 330,
   "metadata": {
    "hidden": true
   },
   "outputs": [],
   "source": [
    "# drop extraction_type_group\n",
    "drops.append('extraction_type_group')"
   ]
  },
  {
   "cell_type": "markdown",
   "metadata": {
    "heading_collapsed": true
   },
   "source": [
    "## payment, payment_type"
   ]
  },
  {
   "cell_type": "code",
   "execution_count": 331,
   "metadata": {
    "hidden": true
   },
   "outputs": [
    {
     "data": {
      "text/plain": [
       "(7,\n",
       " array(['pay annually', 'never pay', 'pay per bucket', 'unknown',\n",
       "        'pay when scheme fails', 'other', 'pay monthly'], dtype=object))"
      ]
     },
     "execution_count": 331,
     "metadata": {},
     "output_type": "execute_result"
    }
   ],
   "source": [
    "# unique payments\n",
    "features['payment'].nunique(), features['payment'].unique()"
   ]
  },
  {
   "cell_type": "code",
   "execution_count": 332,
   "metadata": {
    "hidden": true
   },
   "outputs": [
    {
     "data": {
      "text/plain": [
       "never pay                25348\n",
       "pay per bucket            8985\n",
       "pay monthly               8300\n",
       "unknown                   8157\n",
       "pay when scheme fails     3914\n",
       "pay annually              3642\n",
       "other                     1054\n",
       "Name: payment, dtype: int64"
      ]
     },
     "execution_count": 332,
     "metadata": {},
     "output_type": "execute_result"
    }
   ],
   "source": [
    "features['payment'].value_counts()"
   ]
  },
  {
   "cell_type": "code",
   "execution_count": 333,
   "metadata": {
    "hidden": true,
    "scrolled": true
   },
   "outputs": [
    {
     "data": {
      "text/plain": [
       "(7,\n",
       " array(['annually', 'never pay', 'per bucket', 'unknown', 'on failure',\n",
       "        'other', 'monthly'], dtype=object))"
      ]
     },
     "execution_count": 333,
     "metadata": {},
     "output_type": "execute_result"
    }
   ],
   "source": [
    "# unique payment_types\n",
    "features['payment_type'].nunique(), features['payment_type'].unique()"
   ]
  },
  {
   "cell_type": "code",
   "execution_count": 334,
   "metadata": {
    "hidden": true
   },
   "outputs": [
    {
     "data": {
      "text/plain": [
       "never pay     25348\n",
       "per bucket     8985\n",
       "monthly        8300\n",
       "unknown        8157\n",
       "on failure     3914\n",
       "annually       3642\n",
       "other          1054\n",
       "Name: payment_type, dtype: int64"
      ]
     },
     "execution_count": 334,
     "metadata": {},
     "output_type": "execute_result"
    }
   ],
   "source": [
    "features['payment_type'].value_counts()"
   ]
  },
  {
   "cell_type": "markdown",
   "metadata": {
    "hidden": true
   },
   "source": [
    "- True duplicate cols with identical value counts.\n",
    "- Dropping \"payment_type\"."
   ]
  },
  {
   "cell_type": "code",
   "execution_count": 335,
   "metadata": {
    "hidden": true
   },
   "outputs": [],
   "source": [
    "# drop payment_type\n",
    "drops.append('payment_type')"
   ]
  },
  {
   "cell_type": "markdown",
   "metadata": {
    "heading_collapsed": true
   },
   "source": [
    "## water_quality, quality_group"
   ]
  },
  {
   "cell_type": "code",
   "execution_count": 336,
   "metadata": {
    "hidden": true
   },
   "outputs": [
    {
     "data": {
      "text/plain": [
       "(8,\n",
       " array(['soft', 'salty', 'milky', 'unknown', 'fluoride', 'coloured',\n",
       "        'salty abandoned', 'fluoride abandoned'], dtype=object))"
      ]
     },
     "execution_count": 336,
     "metadata": {},
     "output_type": "execute_result"
    }
   ],
   "source": [
    "# unique water_quality\n",
    "features['water_quality'].nunique(), features['water_quality'].unique()"
   ]
  },
  {
   "cell_type": "code",
   "execution_count": 337,
   "metadata": {
    "hidden": true
   },
   "outputs": [
    {
     "data": {
      "text/plain": [
       "soft                  50818\n",
       "salty                  4856\n",
       "unknown                1876\n",
       "milky                   804\n",
       "coloured                490\n",
       "salty abandoned         339\n",
       "fluoride                200\n",
       "fluoride abandoned       17\n",
       "Name: water_quality, dtype: int64"
      ]
     },
     "execution_count": 337,
     "metadata": {},
     "output_type": "execute_result"
    }
   ],
   "source": [
    "features['water_quality'].value_counts()"
   ]
  },
  {
   "cell_type": "code",
   "execution_count": 338,
   "metadata": {
    "hidden": true
   },
   "outputs": [
    {
     "data": {
      "text/plain": [
       "(6,\n",
       " array(['good', 'salty', 'milky', 'unknown', 'fluoride', 'colored'],\n",
       "       dtype=object))"
      ]
     },
     "execution_count": 338,
     "metadata": {},
     "output_type": "execute_result"
    }
   ],
   "source": [
    "# unique quality_group\n",
    "features['quality_group'].nunique(), features['quality_group'].unique()"
   ]
  },
  {
   "cell_type": "code",
   "execution_count": 339,
   "metadata": {
    "hidden": true
   },
   "outputs": [
    {
     "data": {
      "text/plain": [
       "good        50818\n",
       "salty        5195\n",
       "unknown      1876\n",
       "milky         804\n",
       "colored       490\n",
       "fluoride      217\n",
       "Name: quality_group, dtype: int64"
      ]
     },
     "execution_count": 339,
     "metadata": {},
     "output_type": "execute_result"
    }
   ],
   "source": [
    "features['quality_group'].value_counts()"
   ]
  },
  {
   "cell_type": "markdown",
   "metadata": {
    "hidden": true
   },
   "source": [
    "- Water_quality seems to be more granular with two extra unique values.\n",
    "- Dropping quality_group."
   ]
  },
  {
   "cell_type": "code",
   "execution_count": 340,
   "metadata": {
    "hidden": true
   },
   "outputs": [],
   "source": [
    "# drop quality_group\n",
    "drops.append('quality_group')"
   ]
  },
  {
   "cell_type": "markdown",
   "metadata": {
    "heading_collapsed": true
   },
   "source": [
    "## quantity, quantity_group"
   ]
  },
  {
   "cell_type": "code",
   "execution_count": 341,
   "metadata": {
    "hidden": true
   },
   "outputs": [
    {
     "data": {
      "text/plain": [
       "(5,\n",
       " array(['enough', 'insufficient', 'dry', 'seasonal', 'unknown'],\n",
       "       dtype=object))"
      ]
     },
     "execution_count": 341,
     "metadata": {},
     "output_type": "execute_result"
    }
   ],
   "source": [
    "# unique quantity\n",
    "features['quantity'].nunique(), features['quantity'].unique()"
   ]
  },
  {
   "cell_type": "code",
   "execution_count": 342,
   "metadata": {
    "hidden": true
   },
   "outputs": [
    {
     "data": {
      "text/plain": [
       "enough          33186\n",
       "insufficient    15129\n",
       "dry              6246\n",
       "seasonal         4050\n",
       "unknown           789\n",
       "Name: quantity, dtype: int64"
      ]
     },
     "execution_count": 342,
     "metadata": {},
     "output_type": "execute_result"
    }
   ],
   "source": [
    "features['quantity'].value_counts()"
   ]
  },
  {
   "cell_type": "code",
   "execution_count": 343,
   "metadata": {
    "hidden": true
   },
   "outputs": [
    {
     "data": {
      "text/plain": [
       "(5,\n",
       " array(['enough', 'insufficient', 'dry', 'seasonal', 'unknown'],\n",
       "       dtype=object))"
      ]
     },
     "execution_count": 343,
     "metadata": {},
     "output_type": "execute_result"
    }
   ],
   "source": [
    "# unique quantity_group\n",
    "features['quantity_group'].nunique(), features['quantity_group'].unique()"
   ]
  },
  {
   "cell_type": "code",
   "execution_count": 344,
   "metadata": {
    "hidden": true
   },
   "outputs": [
    {
     "data": {
      "text/plain": [
       "enough          33186\n",
       "insufficient    15129\n",
       "dry              6246\n",
       "seasonal         4050\n",
       "unknown           789\n",
       "Name: quantity_group, dtype: int64"
      ]
     },
     "execution_count": 344,
     "metadata": {},
     "output_type": "execute_result"
    }
   ],
   "source": [
    "features['quantity_group'].value_counts()"
   ]
  },
  {
   "cell_type": "markdown",
   "metadata": {
    "hidden": true
   },
   "source": [
    "- Duplicate columns.\n",
    "- Dropping quantity_group"
   ]
  },
  {
   "cell_type": "code",
   "execution_count": 345,
   "metadata": {
    "hidden": true
   },
   "outputs": [],
   "source": [
    "# drop quantity_group\n",
    "drops.append('quantity_group')"
   ]
  },
  {
   "cell_type": "markdown",
   "metadata": {
    "heading_collapsed": true
   },
   "source": [
    "## source, source_type, source_class\t"
   ]
  },
  {
   "cell_type": "code",
   "execution_count": 346,
   "metadata": {
    "hidden": true
   },
   "outputs": [
    {
     "data": {
      "text/plain": [
       "(10,\n",
       " array(['spring', 'rainwater harvesting', 'dam', 'machine dbh', 'other',\n",
       "        'shallow well', 'river', 'hand dtw', 'lake', 'unknown'],\n",
       "       dtype=object))"
      ]
     },
     "execution_count": 346,
     "metadata": {},
     "output_type": "execute_result"
    }
   ],
   "source": [
    "# unique source\n",
    "features['source'].nunique(), features['source'].unique()"
   ]
  },
  {
   "cell_type": "code",
   "execution_count": 347,
   "metadata": {
    "hidden": true
   },
   "outputs": [
    {
     "data": {
      "text/plain": [
       "spring                  17021\n",
       "shallow well            16824\n",
       "machine dbh             11075\n",
       "river                    9612\n",
       "rainwater harvesting     2295\n",
       "hand dtw                  874\n",
       "lake                      765\n",
       "dam                       656\n",
       "other                     212\n",
       "unknown                    66\n",
       "Name: source, dtype: int64"
      ]
     },
     "execution_count": 347,
     "metadata": {},
     "output_type": "execute_result"
    }
   ],
   "source": [
    "features['source'].value_counts()"
   ]
  },
  {
   "cell_type": "code",
   "execution_count": 348,
   "metadata": {
    "hidden": true
   },
   "outputs": [
    {
     "data": {
      "text/plain": [
       "(7,\n",
       " array(['spring', 'rainwater harvesting', 'dam', 'borehole', 'other',\n",
       "        'shallow well', 'river/lake'], dtype=object))"
      ]
     },
     "execution_count": 348,
     "metadata": {},
     "output_type": "execute_result"
    }
   ],
   "source": [
    "# unique source_type\n",
    "features['source_type'].nunique(), features['source_type'].unique()"
   ]
  },
  {
   "cell_type": "code",
   "execution_count": 349,
   "metadata": {
    "hidden": true
   },
   "outputs": [
    {
     "data": {
      "text/plain": [
       "spring                  17021\n",
       "shallow well            16824\n",
       "borehole                11949\n",
       "river/lake              10377\n",
       "rainwater harvesting     2295\n",
       "dam                       656\n",
       "other                     278\n",
       "Name: source_type, dtype: int64"
      ]
     },
     "execution_count": 349,
     "metadata": {},
     "output_type": "execute_result"
    }
   ],
   "source": [
    "features['source_type'].value_counts()"
   ]
  },
  {
   "cell_type": "code",
   "execution_count": 350,
   "metadata": {
    "hidden": true
   },
   "outputs": [
    {
     "data": {
      "text/plain": [
       "(3, array(['groundwater', 'surface', 'unknown'], dtype=object))"
      ]
     },
     "execution_count": 350,
     "metadata": {},
     "output_type": "execute_result"
    }
   ],
   "source": [
    "# unique source_class\n",
    "features['source_class'].nunique(), features['source_class'].unique()"
   ]
  },
  {
   "cell_type": "code",
   "execution_count": 351,
   "metadata": {
    "hidden": true
   },
   "outputs": [
    {
     "data": {
      "text/plain": [
       "groundwater    45794\n",
       "surface        13328\n",
       "unknown          278\n",
       "Name: source_class, dtype: int64"
      ]
     },
     "execution_count": 351,
     "metadata": {},
     "output_type": "execute_result"
    }
   ],
   "source": [
    "features['source_class'].value_counts()"
   ]
  },
  {
   "cell_type": "markdown",
   "metadata": {
    "hidden": true
   },
   "source": [
    "- Keeping source_class as it distinguishes above and below ground water sources.\n",
    "- Dropping source_type. \"source\" is more specific."
   ]
  },
  {
   "cell_type": "code",
   "execution_count": 352,
   "metadata": {
    "hidden": true
   },
   "outputs": [],
   "source": [
    "# drop source_type\n",
    "drops.append('source_type')"
   ]
  },
  {
   "cell_type": "markdown",
   "metadata": {
    "heading_collapsed": true
   },
   "source": [
    "## waterpoint_type, waterpoint_type_group"
   ]
  },
  {
   "cell_type": "code",
   "execution_count": 353,
   "metadata": {
    "hidden": true
   },
   "outputs": [
    {
     "data": {
      "text/plain": [
       "(7,\n",
       " array(['communal standpipe', 'communal standpipe multiple', 'hand pump',\n",
       "        'other', 'improved spring', 'cattle trough', 'dam'], dtype=object))"
      ]
     },
     "execution_count": 353,
     "metadata": {},
     "output_type": "execute_result"
    }
   ],
   "source": [
    "# unique waterpoint_type\n",
    "features['waterpoint_type'].nunique(), features['waterpoint_type'].unique()"
   ]
  },
  {
   "cell_type": "code",
   "execution_count": 354,
   "metadata": {
    "hidden": true
   },
   "outputs": [
    {
     "data": {
      "text/plain": [
       "communal standpipe             28522\n",
       "hand pump                      17488\n",
       "other                           6380\n",
       "communal standpipe multiple     6103\n",
       "improved spring                  784\n",
       "cattle trough                    116\n",
       "dam                                7\n",
       "Name: waterpoint_type, dtype: int64"
      ]
     },
     "execution_count": 354,
     "metadata": {},
     "output_type": "execute_result"
    }
   ],
   "source": [
    "features['waterpoint_type'].value_counts()"
   ]
  },
  {
   "cell_type": "code",
   "execution_count": 355,
   "metadata": {
    "hidden": true
   },
   "outputs": [
    {
     "data": {
      "text/plain": [
       "(6,\n",
       " array(['communal standpipe', 'hand pump', 'other', 'improved spring',\n",
       "        'cattle trough', 'dam'], dtype=object))"
      ]
     },
     "execution_count": 355,
     "metadata": {},
     "output_type": "execute_result"
    }
   ],
   "source": [
    "# unique waterpoint_type_group\n",
    "features['waterpoint_type_group'].nunique(), features['waterpoint_type_group'].unique()"
   ]
  },
  {
   "cell_type": "code",
   "execution_count": 356,
   "metadata": {
    "hidden": true
   },
   "outputs": [
    {
     "data": {
      "text/plain": [
       "communal standpipe    34625\n",
       "hand pump             17488\n",
       "other                  6380\n",
       "improved spring         784\n",
       "cattle trough           116\n",
       "dam                       7\n",
       "Name: waterpoint_type_group, dtype: int64"
      ]
     },
     "execution_count": 356,
     "metadata": {},
     "output_type": "execute_result"
    }
   ],
   "source": [
    "features['waterpoint_type_group'].value_counts()"
   ]
  },
  {
   "cell_type": "markdown",
   "metadata": {
    "hidden": true
   },
   "source": [
    "- Dropping waterpoint_type_group. Waterpoint_type is more specific. It differentiates the two communal standpipe cats (extra information)."
   ]
  },
  {
   "cell_type": "code",
   "execution_count": 357,
   "metadata": {
    "hidden": true
   },
   "outputs": [],
   "source": [
    "# drop waterpoint_type_group\n",
    "drops.append('waterpoint_type_group')"
   ]
  },
  {
   "cell_type": "markdown",
   "metadata": {
    "heading_collapsed": true
   },
   "source": [
    "# Drop columns:"
   ]
  },
  {
   "cell_type": "code",
   "execution_count": 358,
   "metadata": {
    "hidden": true,
    "scrolled": true
   },
   "outputs": [
    {
     "data": {
      "text/plain": [
       "(['date_recorded',\n",
       "  'construction_year',\n",
       "  'wpt_name',\n",
       "  'subvillage',\n",
       "  'region',\n",
       "  'ward',\n",
       "  'recorded_by',\n",
       "  'scheme_management',\n",
       "  'management_group',\n",
       "  'extraction_type_group',\n",
       "  'payment_type',\n",
       "  'quality_group',\n",
       "  'quantity_group',\n",
       "  'source_type',\n",
       "  'waterpoint_type_group'],\n",
       " 15)"
      ]
     },
     "execution_count": 358,
     "metadata": {},
     "output_type": "execute_result"
    }
   ],
   "source": [
    "# cols to drop\n",
    "drops, len(drops)"
   ]
  },
  {
   "cell_type": "markdown",
   "metadata": {
    "hidden": true
   },
   "source": [
    "- 15 columns removed."
   ]
  },
  {
   "cell_type": "markdown",
   "metadata": {},
   "source": [
    "# Export final df:"
   ]
  },
  {
   "cell_type": "code",
   "execution_count": 359,
   "metadata": {},
   "outputs": [
    {
     "data": {
      "text/plain": [
       "(59400, 27)"
      ]
     },
     "execution_count": 359,
     "metadata": {},
     "output_type": "execute_result"
    }
   ],
   "source": [
    "df = features.drop(drops, axis=1)\n",
    "df.shape"
   ]
  },
  {
   "cell_type": "markdown",
   "metadata": {},
   "source": [
    "- 25 features + id and status_group columns."
   ]
  },
  {
   "cell_type": "code",
   "execution_count": 360,
   "metadata": {},
   "outputs": [],
   "source": [
    "df.to_csv('data/features_cleaned.csv')"
   ]
  },
  {
   "cell_type": "code",
   "execution_count": null,
   "metadata": {},
   "outputs": [],
   "source": []
  }
 ],
 "metadata": {
  "kernelspec": {
   "display_name": "Python (learn-env)",
   "language": "python",
   "name": "learn-env"
  },
  "language_info": {
   "codemirror_mode": {
    "name": "ipython",
    "version": 3
   },
   "file_extension": ".py",
   "mimetype": "text/x-python",
   "name": "python",
   "nbconvert_exporter": "python",
   "pygments_lexer": "ipython3",
   "version": "3.8.5"
  }
 },
 "nbformat": 4,
 "nbformat_minor": 4
}
