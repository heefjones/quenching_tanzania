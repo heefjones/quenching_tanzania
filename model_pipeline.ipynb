{
 "cells": [
  {
   "cell_type": "markdown",
   "metadata": {},
   "source": [
    "# Business Problem:\n",
    "\n",
    "Tanzania is a country where 16 million people lack access to safe water. This is 27% of the population. We want to create a predictive model that can predict water well functionality based on several [input features](./features.txt). We especially want to be able to predict when a well isn't functional, so we can repair it accordingly. In this notebook, we attempt to find the best combination of hyperparamters that produces the most accurate predictions.\n",
    "\n",
    "We would like to recommend a predictive model to [The US Agency of international development](https://www.usaid.gov/) so that they can identify non-functional wells in Tanzania, and then take the proper repair actions to prevent human deaths.\n",
    "\n",
    "- Our primary goal is to beat the benchmark test accuracy (77.7%) and benchmark dysfunctional accuracy (63.5%) from the default Logistic Regression from [simple_models.ipynb](./simple_models.ipynb)."
   ]
  },
  {
   "cell_type": "markdown",
   "metadata": {
    "heading_collapsed": true
   },
   "source": [
    "## Vision for the final model:\n",
    "- __NOTE__: \"Dysfunctional\" well refers to either a \"needs repair\" or \"non-functional\" well.\n",
    "- Overall accuracy is important, but identifying dysfunctional wells should also be a priority.\n",
    "- The cost of misidentifying a functional well is extra money spent. The cost of misidentifying a dysfunctional is much greater: human health and potentially human lives.\n",
    "- Therefore, want to maximize __recall__ (class-specific accuracy) for the dysfunctional wells (classes 1 and 2)."
   ]
  },
  {
   "cell_type": "markdown",
   "metadata": {},
   "source": [
    "# Load in data:"
   ]
  },
  {
   "cell_type": "code",
   "execution_count": 1,
   "metadata": {
    "ExecuteTime": {
     "end_time": "2023-10-07T20:32:28.550305Z",
     "start_time": "2023-10-07T20:32:27.325197Z"
    }
   },
   "outputs": [],
   "source": [
    "# import dependencies\n",
    "\n",
    "import numpy as np\n",
    "import pandas as pd\n",
    "\n",
    "from sklearn.model_selection import train_test_split, cross_val_score, cross_validate, GridSearchCV\n",
    "from sklearn.preprocessing import OneHotEncoder, LabelEncoder, StandardScaler, PolynomialFeatures\n",
    "from sklearn.metrics import ConfusionMatrixDisplay, RocCurveDisplay, classification_report\n",
    "from sklearn.impute import SimpleImputer, MissingIndicator\n",
    "from sklearn.linear_model import LogisticRegression\n",
    "from sklearn.compose import ColumnTransformer\n",
    "from sklearn.dummy import DummyClassifier\n",
    "\n",
    "from imblearn.over_sampling import SMOTE\n",
    "from imblearn.pipeline import Pipeline\n",
    "\n",
    "import matplotlib.pyplot as plt\n",
    "import seaborn as sns\n",
    "%matplotlib inline"
   ]
  },
  {
   "cell_type": "code",
   "execution_count": 2,
   "metadata": {
    "ExecuteTime": {
     "end_time": "2023-10-07T20:32:28.709542Z",
     "start_time": "2023-10-07T20:32:28.551307Z"
    }
   },
   "outputs": [],
   "source": [
    "# import cleaned data from cleaning.ipynb\n",
    "df = pd.read_csv('data/features_cleaned.csv', index_col='Unnamed: 0').drop('id', axis=1)"
   ]
  },
  {
   "cell_type": "code",
   "execution_count": 64,
   "metadata": {
    "ExecuteTime": {
     "end_time": "2023-10-09T03:44:40.453916Z",
     "start_time": "2023-10-09T03:44:40.422889Z"
    }
   },
   "outputs": [
    {
     "data": {
      "text/plain": [
       "{0, 1, 2}"
      ]
     },
     "execution_count": 64,
     "metadata": {},
     "output_type": "execute_result"
    }
   ],
   "source": [
    "# create features and target\n",
    "X = df.drop('status_group', axis=1)\n",
    "y = df.status_group\n",
    "\n",
    "# encode y into labels [0, 1, 2]\n",
    "le = LabelEncoder()\n",
    "\n",
    "# 3-label multiclass targets\n",
    "y_encoded = le.fit_transform(y)\n",
    "\n",
    "# 3-label target\n",
    "set(y_encoded)"
   ]
  },
  {
   "cell_type": "code",
   "execution_count": 65,
   "metadata": {
    "ExecuteTime": {
     "end_time": "2023-10-09T03:44:40.721399Z",
     "start_time": "2023-10-09T03:44:40.679926Z"
    }
   },
   "outputs": [],
   "source": [
    "# split into train and test sets\n",
    "X_train, X_test, y_train, y_test = train_test_split(X, y_encoded, test_size=0.2, random_state=0)"
   ]
  },
  {
   "cell_type": "markdown",
   "metadata": {
    "heading_collapsed": true
   },
   "source": [
    "# Create sub-pipelines:"
   ]
  },
  {
   "cell_type": "code",
   "execution_count": 5,
   "metadata": {
    "ExecuteTime": {
     "end_time": "2023-10-07T20:32:29.991318Z",
     "start_time": "2023-10-07T20:32:29.987314Z"
    },
    "hidden": true
   },
   "outputs": [],
   "source": [
    "# get numeric and object columns\n",
    "num_cols = []\n",
    "cat_cols = []\n",
    "\n",
    "for col in X.columns:\n",
    "    if np.issubdtype(X[col].dtype, np.number):\n",
    "        num_cols.append(col)\n",
    "    else:\n",
    "        cat_cols.append(col)"
   ]
  },
  {
   "cell_type": "code",
   "execution_count": 6,
   "metadata": {
    "ExecuteTime": {
     "end_time": "2023-10-07T20:32:30.655260Z",
     "start_time": "2023-10-07T20:32:30.637243Z"
    },
    "hidden": true
   },
   "outputs": [],
   "source": [
    "# create numeric and categorical subpipes for different column types\n",
    "num_pipe = Pipeline(steps=[\n",
    "    ('num_impute', SimpleImputer(strategy='mean', add_indicator=True)),\n",
    "    ('ss', StandardScaler())\n",
    "])\n",
    "\n",
    "cat_pipe = Pipeline(steps=[\n",
    "    ('cat_impute', SimpleImputer(strategy='most_frequent', add_indicator=True)),\n",
    "    ('ohe', OneHotEncoder(handle_unknown='ignore', sparse_output=True))\n",
    "])"
   ]
  },
  {
   "cell_type": "code",
   "execution_count": 7,
   "metadata": {
    "ExecuteTime": {
     "end_time": "2023-10-07T20:32:31.022340Z",
     "start_time": "2023-10-07T20:32:31.004324Z"
    },
    "hidden": true
   },
   "outputs": [],
   "source": [
    "# transform the columns\n",
    "\n",
    "ct = ColumnTransformer(transformers=[\n",
    "    \n",
    "    ('nums', num_pipe, num_cols),\n",
    "    ('cats', cat_pipe, cat_cols)\n",
    "    \n",
    "], remainder='passthrough', n_jobs=-1)"
   ]
  },
  {
   "cell_type": "markdown",
   "metadata": {
    "heading_collapsed": true
   },
   "source": [
    "# First optimized model:\n",
    "- Using the most consistent hyperparameters found from __model_pipeline_21_feats.ipynb__."
   ]
  },
  {
   "cell_type": "code",
   "execution_count": 8,
   "metadata": {
    "ExecuteTime": {
     "end_time": "2023-10-07T02:58:09.792679Z",
     "start_time": "2023-10-07T02:55:36.189632Z"
    },
    "hidden": true
   },
   "outputs": [
    {
     "data": {
      "text/html": [
       "<style>#sk-container-id-1 {color: black;}#sk-container-id-1 pre{padding: 0;}#sk-container-id-1 div.sk-toggleable {background-color: white;}#sk-container-id-1 label.sk-toggleable__label {cursor: pointer;display: block;width: 100%;margin-bottom: 0;padding: 0.3em;box-sizing: border-box;text-align: center;}#sk-container-id-1 label.sk-toggleable__label-arrow:before {content: \"▸\";float: left;margin-right: 0.25em;color: #696969;}#sk-container-id-1 label.sk-toggleable__label-arrow:hover:before {color: black;}#sk-container-id-1 div.sk-estimator:hover label.sk-toggleable__label-arrow:before {color: black;}#sk-container-id-1 div.sk-toggleable__content {max-height: 0;max-width: 0;overflow: hidden;text-align: left;background-color: #f0f8ff;}#sk-container-id-1 div.sk-toggleable__content pre {margin: 0.2em;color: black;border-radius: 0.25em;background-color: #f0f8ff;}#sk-container-id-1 input.sk-toggleable__control:checked~div.sk-toggleable__content {max-height: 200px;max-width: 100%;overflow: auto;}#sk-container-id-1 input.sk-toggleable__control:checked~label.sk-toggleable__label-arrow:before {content: \"▾\";}#sk-container-id-1 div.sk-estimator input.sk-toggleable__control:checked~label.sk-toggleable__label {background-color: #d4ebff;}#sk-container-id-1 div.sk-label input.sk-toggleable__control:checked~label.sk-toggleable__label {background-color: #d4ebff;}#sk-container-id-1 input.sk-hidden--visually {border: 0;clip: rect(1px 1px 1px 1px);clip: rect(1px, 1px, 1px, 1px);height: 1px;margin: -1px;overflow: hidden;padding: 0;position: absolute;width: 1px;}#sk-container-id-1 div.sk-estimator {font-family: monospace;background-color: #f0f8ff;border: 1px dotted black;border-radius: 0.25em;box-sizing: border-box;margin-bottom: 0.5em;}#sk-container-id-1 div.sk-estimator:hover {background-color: #d4ebff;}#sk-container-id-1 div.sk-parallel-item::after {content: \"\";width: 100%;border-bottom: 1px solid gray;flex-grow: 1;}#sk-container-id-1 div.sk-label:hover label.sk-toggleable__label {background-color: #d4ebff;}#sk-container-id-1 div.sk-serial::before {content: \"\";position: absolute;border-left: 1px solid gray;box-sizing: border-box;top: 0;bottom: 0;left: 50%;z-index: 0;}#sk-container-id-1 div.sk-serial {display: flex;flex-direction: column;align-items: center;background-color: white;padding-right: 0.2em;padding-left: 0.2em;position: relative;}#sk-container-id-1 div.sk-item {position: relative;z-index: 1;}#sk-container-id-1 div.sk-parallel {display: flex;align-items: stretch;justify-content: center;background-color: white;position: relative;}#sk-container-id-1 div.sk-item::before, #sk-container-id-1 div.sk-parallel-item::before {content: \"\";position: absolute;border-left: 1px solid gray;box-sizing: border-box;top: 0;bottom: 0;left: 50%;z-index: -1;}#sk-container-id-1 div.sk-parallel-item {display: flex;flex-direction: column;z-index: 1;position: relative;background-color: white;}#sk-container-id-1 div.sk-parallel-item:first-child::after {align-self: flex-end;width: 50%;}#sk-container-id-1 div.sk-parallel-item:last-child::after {align-self: flex-start;width: 50%;}#sk-container-id-1 div.sk-parallel-item:only-child::after {width: 0;}#sk-container-id-1 div.sk-dashed-wrapped {border: 1px dashed gray;margin: 0 0.4em 0.5em 0.4em;box-sizing: border-box;padding-bottom: 0.4em;background-color: white;}#sk-container-id-1 div.sk-label label {font-family: monospace;font-weight: bold;display: inline-block;line-height: 1.2em;}#sk-container-id-1 div.sk-label-container {text-align: center;}#sk-container-id-1 div.sk-container {/* jupyter's `normalize.less` sets `[hidden] { display: none; }` but bootstrap.min.css set `[hidden] { display: none !important; }` so we also need the `!important` here to be able to override the default hidden behavior on the sphinx rendered scikit-learn.org. See: https://github.com/scikit-learn/scikit-learn/issues/21755 */display: inline-block !important;position: relative;}#sk-container-id-1 div.sk-text-repr-fallback {display: none;}</style><div id=\"sk-container-id-1\" class=\"sk-top-container\"><div class=\"sk-text-repr-fallback\"><pre>Pipeline(steps=[(&#x27;ct&#x27;,\n",
       "                 ColumnTransformer(n_jobs=-1, remainder=&#x27;passthrough&#x27;,\n",
       "                                   transformers=[(&#x27;nums&#x27;,\n",
       "                                                  Pipeline(steps=[(&#x27;num_impute&#x27;,\n",
       "                                                                   SimpleImputer(add_indicator=True)),\n",
       "                                                                  (&#x27;ss&#x27;,\n",
       "                                                                   StandardScaler())]),\n",
       "                                                  [&#x27;amount_tsh&#x27;, &#x27;gps_height&#x27;,\n",
       "                                                   &#x27;longitude&#x27;, &#x27;latitude&#x27;,\n",
       "                                                   &#x27;num_private&#x27;, &#x27;region_code&#x27;,\n",
       "                                                   &#x27;district_code&#x27;,\n",
       "                                                   &#x27;population&#x27;, &#x27;age_years&#x27;]),\n",
       "                                                 (&#x27;cats&#x27;,\n",
       "                                                  Pipeline(steps=[(&#x27;cat_impute&#x27;,\n",
       "                                                                   Simp...\n",
       "                                                                   OneHotEncoder(handle_unknown=&#x27;ignore&#x27;))]),\n",
       "                                                  [&#x27;funder&#x27;, &#x27;installer&#x27;,\n",
       "                                                   &#x27;basin&#x27;, &#x27;lga&#x27;,\n",
       "                                                   &#x27;public_meeting&#x27;,\n",
       "                                                   &#x27;scheme_name&#x27;, &#x27;permit&#x27;,\n",
       "                                                   &#x27;extraction_type&#x27;,\n",
       "                                                   &#x27;extraction_type_class&#x27;,\n",
       "                                                   &#x27;management&#x27;, &#x27;payment&#x27;,\n",
       "                                                   &#x27;water_quality&#x27;, &#x27;quantity&#x27;,\n",
       "                                                   &#x27;source&#x27;, &#x27;source_class&#x27;,\n",
       "                                                   &#x27;waterpoint_type&#x27;])])),\n",
       "                (&#x27;model_base&#x27;,\n",
       "                 LogisticRegression(multi_class=&#x27;multinomial&#x27;, n_jobs=-1,\n",
       "                                    penalty=None, solver=&#x27;newton-cg&#x27;))])</pre><b>In a Jupyter environment, please rerun this cell to show the HTML representation or trust the notebook. <br />On GitHub, the HTML representation is unable to render, please try loading this page with nbviewer.org.</b></div><div class=\"sk-container\" hidden><div class=\"sk-item sk-dashed-wrapped\"><div class=\"sk-label-container\"><div class=\"sk-label sk-toggleable\"><input class=\"sk-toggleable__control sk-hidden--visually\" id=\"sk-estimator-id-1\" type=\"checkbox\" ><label for=\"sk-estimator-id-1\" class=\"sk-toggleable__label sk-toggleable__label-arrow\">Pipeline</label><div class=\"sk-toggleable__content\"><pre>Pipeline(steps=[(&#x27;ct&#x27;,\n",
       "                 ColumnTransformer(n_jobs=-1, remainder=&#x27;passthrough&#x27;,\n",
       "                                   transformers=[(&#x27;nums&#x27;,\n",
       "                                                  Pipeline(steps=[(&#x27;num_impute&#x27;,\n",
       "                                                                   SimpleImputer(add_indicator=True)),\n",
       "                                                                  (&#x27;ss&#x27;,\n",
       "                                                                   StandardScaler())]),\n",
       "                                                  [&#x27;amount_tsh&#x27;, &#x27;gps_height&#x27;,\n",
       "                                                   &#x27;longitude&#x27;, &#x27;latitude&#x27;,\n",
       "                                                   &#x27;num_private&#x27;, &#x27;region_code&#x27;,\n",
       "                                                   &#x27;district_code&#x27;,\n",
       "                                                   &#x27;population&#x27;, &#x27;age_years&#x27;]),\n",
       "                                                 (&#x27;cats&#x27;,\n",
       "                                                  Pipeline(steps=[(&#x27;cat_impute&#x27;,\n",
       "                                                                   Simp...\n",
       "                                                                   OneHotEncoder(handle_unknown=&#x27;ignore&#x27;))]),\n",
       "                                                  [&#x27;funder&#x27;, &#x27;installer&#x27;,\n",
       "                                                   &#x27;basin&#x27;, &#x27;lga&#x27;,\n",
       "                                                   &#x27;public_meeting&#x27;,\n",
       "                                                   &#x27;scheme_name&#x27;, &#x27;permit&#x27;,\n",
       "                                                   &#x27;extraction_type&#x27;,\n",
       "                                                   &#x27;extraction_type_class&#x27;,\n",
       "                                                   &#x27;management&#x27;, &#x27;payment&#x27;,\n",
       "                                                   &#x27;water_quality&#x27;, &#x27;quantity&#x27;,\n",
       "                                                   &#x27;source&#x27;, &#x27;source_class&#x27;,\n",
       "                                                   &#x27;waterpoint_type&#x27;])])),\n",
       "                (&#x27;model_base&#x27;,\n",
       "                 LogisticRegression(multi_class=&#x27;multinomial&#x27;, n_jobs=-1,\n",
       "                                    penalty=None, solver=&#x27;newton-cg&#x27;))])</pre></div></div></div><div class=\"sk-serial\"><div class=\"sk-item sk-dashed-wrapped\"><div class=\"sk-label-container\"><div class=\"sk-label sk-toggleable\"><input class=\"sk-toggleable__control sk-hidden--visually\" id=\"sk-estimator-id-2\" type=\"checkbox\" ><label for=\"sk-estimator-id-2\" class=\"sk-toggleable__label sk-toggleable__label-arrow\">ct: ColumnTransformer</label><div class=\"sk-toggleable__content\"><pre>ColumnTransformer(n_jobs=-1, remainder=&#x27;passthrough&#x27;,\n",
       "                  transformers=[(&#x27;nums&#x27;,\n",
       "                                 Pipeline(steps=[(&#x27;num_impute&#x27;,\n",
       "                                                  SimpleImputer(add_indicator=True)),\n",
       "                                                 (&#x27;ss&#x27;, StandardScaler())]),\n",
       "                                 [&#x27;amount_tsh&#x27;, &#x27;gps_height&#x27;, &#x27;longitude&#x27;,\n",
       "                                  &#x27;latitude&#x27;, &#x27;num_private&#x27;, &#x27;region_code&#x27;,\n",
       "                                  &#x27;district_code&#x27;, &#x27;population&#x27;, &#x27;age_years&#x27;]),\n",
       "                                (&#x27;cats&#x27;,\n",
       "                                 Pipeline(steps=[(&#x27;cat_impute&#x27;,\n",
       "                                                  SimpleImputer(add_indicator=True,\n",
       "                                                                strategy=&#x27;most_frequent&#x27;)),\n",
       "                                                 (&#x27;ohe&#x27;,\n",
       "                                                  OneHotEncoder(handle_unknown=&#x27;ignore&#x27;))]),\n",
       "                                 [&#x27;funder&#x27;, &#x27;installer&#x27;, &#x27;basin&#x27;, &#x27;lga&#x27;,\n",
       "                                  &#x27;public_meeting&#x27;, &#x27;scheme_name&#x27;, &#x27;permit&#x27;,\n",
       "                                  &#x27;extraction_type&#x27;, &#x27;extraction_type_class&#x27;,\n",
       "                                  &#x27;management&#x27;, &#x27;payment&#x27;, &#x27;water_quality&#x27;,\n",
       "                                  &#x27;quantity&#x27;, &#x27;source&#x27;, &#x27;source_class&#x27;,\n",
       "                                  &#x27;waterpoint_type&#x27;])])</pre></div></div></div><div class=\"sk-parallel\"><div class=\"sk-parallel-item\"><div class=\"sk-item\"><div class=\"sk-label-container\"><div class=\"sk-label sk-toggleable\"><input class=\"sk-toggleable__control sk-hidden--visually\" id=\"sk-estimator-id-3\" type=\"checkbox\" ><label for=\"sk-estimator-id-3\" class=\"sk-toggleable__label sk-toggleable__label-arrow\">nums</label><div class=\"sk-toggleable__content\"><pre>[&#x27;amount_tsh&#x27;, &#x27;gps_height&#x27;, &#x27;longitude&#x27;, &#x27;latitude&#x27;, &#x27;num_private&#x27;, &#x27;region_code&#x27;, &#x27;district_code&#x27;, &#x27;population&#x27;, &#x27;age_years&#x27;]</pre></div></div></div><div class=\"sk-serial\"><div class=\"sk-item\"><div class=\"sk-serial\"><div class=\"sk-item\"><div class=\"sk-estimator sk-toggleable\"><input class=\"sk-toggleable__control sk-hidden--visually\" id=\"sk-estimator-id-4\" type=\"checkbox\" ><label for=\"sk-estimator-id-4\" class=\"sk-toggleable__label sk-toggleable__label-arrow\">SimpleImputer</label><div class=\"sk-toggleable__content\"><pre>SimpleImputer(add_indicator=True)</pre></div></div></div><div class=\"sk-item\"><div class=\"sk-estimator sk-toggleable\"><input class=\"sk-toggleable__control sk-hidden--visually\" id=\"sk-estimator-id-5\" type=\"checkbox\" ><label for=\"sk-estimator-id-5\" class=\"sk-toggleable__label sk-toggleable__label-arrow\">StandardScaler</label><div class=\"sk-toggleable__content\"><pre>StandardScaler()</pre></div></div></div></div></div></div></div></div><div class=\"sk-parallel-item\"><div class=\"sk-item\"><div class=\"sk-label-container\"><div class=\"sk-label sk-toggleable\"><input class=\"sk-toggleable__control sk-hidden--visually\" id=\"sk-estimator-id-6\" type=\"checkbox\" ><label for=\"sk-estimator-id-6\" class=\"sk-toggleable__label sk-toggleable__label-arrow\">cats</label><div class=\"sk-toggleable__content\"><pre>[&#x27;funder&#x27;, &#x27;installer&#x27;, &#x27;basin&#x27;, &#x27;lga&#x27;, &#x27;public_meeting&#x27;, &#x27;scheme_name&#x27;, &#x27;permit&#x27;, &#x27;extraction_type&#x27;, &#x27;extraction_type_class&#x27;, &#x27;management&#x27;, &#x27;payment&#x27;, &#x27;water_quality&#x27;, &#x27;quantity&#x27;, &#x27;source&#x27;, &#x27;source_class&#x27;, &#x27;waterpoint_type&#x27;]</pre></div></div></div><div class=\"sk-serial\"><div class=\"sk-item\"><div class=\"sk-serial\"><div class=\"sk-item\"><div class=\"sk-estimator sk-toggleable\"><input class=\"sk-toggleable__control sk-hidden--visually\" id=\"sk-estimator-id-7\" type=\"checkbox\" ><label for=\"sk-estimator-id-7\" class=\"sk-toggleable__label sk-toggleable__label-arrow\">SimpleImputer</label><div class=\"sk-toggleable__content\"><pre>SimpleImputer(add_indicator=True, strategy=&#x27;most_frequent&#x27;)</pre></div></div></div><div class=\"sk-item\"><div class=\"sk-estimator sk-toggleable\"><input class=\"sk-toggleable__control sk-hidden--visually\" id=\"sk-estimator-id-8\" type=\"checkbox\" ><label for=\"sk-estimator-id-8\" class=\"sk-toggleable__label sk-toggleable__label-arrow\">OneHotEncoder</label><div class=\"sk-toggleable__content\"><pre>OneHotEncoder(handle_unknown=&#x27;ignore&#x27;)</pre></div></div></div></div></div></div></div></div><div class=\"sk-parallel-item\"><div class=\"sk-item\"><div class=\"sk-label-container\"><div class=\"sk-label sk-toggleable\"><input class=\"sk-toggleable__control sk-hidden--visually\" id=\"sk-estimator-id-9\" type=\"checkbox\" ><label for=\"sk-estimator-id-9\" class=\"sk-toggleable__label sk-toggleable__label-arrow\">remainder</label><div class=\"sk-toggleable__content\"><pre>[]</pre></div></div></div><div class=\"sk-serial\"><div class=\"sk-item\"><div class=\"sk-estimator sk-toggleable\"><input class=\"sk-toggleable__control sk-hidden--visually\" id=\"sk-estimator-id-10\" type=\"checkbox\" ><label for=\"sk-estimator-id-10\" class=\"sk-toggleable__label sk-toggleable__label-arrow\">passthrough</label><div class=\"sk-toggleable__content\"><pre>passthrough</pre></div></div></div></div></div></div></div></div><div class=\"sk-item\"><div class=\"sk-estimator sk-toggleable\"><input class=\"sk-toggleable__control sk-hidden--visually\" id=\"sk-estimator-id-11\" type=\"checkbox\" ><label for=\"sk-estimator-id-11\" class=\"sk-toggleable__label sk-toggleable__label-arrow\">LogisticRegression</label><div class=\"sk-toggleable__content\"><pre>LogisticRegression(multi_class=&#x27;multinomial&#x27;, n_jobs=-1, penalty=None,\n",
       "                   solver=&#x27;newton-cg&#x27;)</pre></div></div></div></div></div></div></div>"
      ],
      "text/plain": [
       "Pipeline(steps=[('ct',\n",
       "                 ColumnTransformer(n_jobs=-1, remainder='passthrough',\n",
       "                                   transformers=[('nums',\n",
       "                                                  Pipeline(steps=[('num_impute',\n",
       "                                                                   SimpleImputer(add_indicator=True)),\n",
       "                                                                  ('ss',\n",
       "                                                                   StandardScaler())]),\n",
       "                                                  ['amount_tsh', 'gps_height',\n",
       "                                                   'longitude', 'latitude',\n",
       "                                                   'num_private', 'region_code',\n",
       "                                                   'district_code',\n",
       "                                                   'population', 'age_years']),\n",
       "                                                 ('cats',\n",
       "                                                  Pipeline(steps=[('cat_impute',\n",
       "                                                                   Simp...\n",
       "                                                                   OneHotEncoder(handle_unknown='ignore'))]),\n",
       "                                                  ['funder', 'installer',\n",
       "                                                   'basin', 'lga',\n",
       "                                                   'public_meeting',\n",
       "                                                   'scheme_name', 'permit',\n",
       "                                                   'extraction_type',\n",
       "                                                   'extraction_type_class',\n",
       "                                                   'management', 'payment',\n",
       "                                                   'water_quality', 'quantity',\n",
       "                                                   'source', 'source_class',\n",
       "                                                   'waterpoint_type'])])),\n",
       "                ('model_base',\n",
       "                 LogisticRegression(multi_class='multinomial', n_jobs=-1,\n",
       "                                    penalty=None, solver='newton-cg'))])"
      ]
     },
     "execution_count": 8,
     "metadata": {},
     "output_type": "execute_result"
    }
   ],
   "source": [
    "# no regularization\n",
    "\n",
    "model_base = Pipeline([\n",
    "    ('ct', ct),\n",
    "    ('model_base', LogisticRegression(multi_class='multinomial', solver='newton-cg', penalty=None, n_jobs=-1))\n",
    "])\n",
    "\n",
    "model_base.fit(X_train, y_train)"
   ]
  },
  {
   "cell_type": "code",
   "execution_count": 9,
   "metadata": {
    "ExecuteTime": {
     "end_time": "2023-10-07T02:58:10.950380Z",
     "start_time": "2023-10-07T02:58:09.793679Z"
    },
    "hidden": true
   },
   "outputs": [
    {
     "data": {
      "image/png": "[encoded data removed]",
      "text/plain": [
       "<Figure size 720x720 with 2 Axes>"
      ]
     },
     "metadata": {
      "needs_background": "light"
     },
     "output_type": "display_data"
    }
   ],
   "source": [
    "# display the confision matrix\n",
    "fig, ax = plt.subplots(figsize=(10,10))\n",
    "plt.title('model_base', fontsize=20)\n",
    "\n",
    "ConfusionMatrixDisplay.from_estimator(model_base, X_test, y_test, ax=ax);"
   ]
  },
  {
   "cell_type": "code",
   "execution_count": 10,
   "metadata": {
    "ExecuteTime": {
     "end_time": "2023-10-07T02:58:13.160183Z",
     "start_time": "2023-10-07T02:58:10.951380Z"
    },
    "hidden": true
   },
   "outputs": [
    {
     "data": {
      "text/plain": [
       "(0.798526936026936, 0.775084175084175)"
      ]
     },
     "execution_count": 10,
     "metadata": {},
     "output_type": "execute_result"
    }
   ],
   "source": [
    "# accuracy scores\n",
    "model_base.score(X_train, y_train), model_base.score(X_test, y_test)"
   ]
  },
  {
   "cell_type": "markdown",
   "metadata": {
    "hidden": true
   },
   "source": [
    "- 79.9% training acc, 77.5% testing acc. Slightly worse than benchmark (-0.2%)\n",
    "- The 2.4% higher train accuracy may indicate overfitting. This makes sense, as we used no regularization for this model."
   ]
  },
  {
   "cell_type": "code",
   "execution_count": 11,
   "metadata": {
    "ExecuteTime": {
     "end_time": "2023-10-07T02:58:14.105042Z",
     "start_time": "2023-10-07T02:58:13.162185Z"
    },
    "hidden": true
   },
   "outputs": [
    {
     "name": "stdout",
     "output_type": "stream",
     "text": [
      "              precision    recall  f1-score   support\n",
      "\n",
      "           0       0.77      0.89      0.82      6444\n",
      "           1       0.56      0.26      0.36       867\n",
      "           2       0.82      0.72      0.76      4569\n",
      "\n",
      "    accuracy                           0.78     11880\n",
      "   macro avg       0.71      0.62      0.65     11880\n",
      "weighted avg       0.77      0.78      0.76     11880\n",
      "\n"
     ]
    }
   ],
   "source": [
    "# analyze f1 scores\n",
    "print(classification_report(y_test, model_base.predict(X_test)))"
   ]
  },
  {
   "cell_type": "markdown",
   "metadata": {
    "hidden": true
   },
   "source": [
    "- f1 scores for class 0 and class 2 are impressive: 0.82 and 0.76 respectively.\n",
    "- f1 for class 1 is quite poor (0.36). May try the class_weight parameter or reincorporate SMOTE."
   ]
  },
  {
   "cell_type": "markdown",
   "metadata": {
    "heading_collapsed": true
   },
   "source": [
    "#  Dysfunctional accuracy:\n",
    "- Create a function that calculates a model's accuracy at predicting dysfunctional wells.\n",
    "- Create a function that returns a df that contains model parameters, test_score, and dysfunctional accuracies for a group of models."
   ]
  },
  {
   "cell_type": "code",
   "execution_count": 8,
   "metadata": {
    "ExecuteTime": {
     "end_time": "2023-10-07T20:32:35.014350Z",
     "start_time": "2023-10-07T20:32:35.003340Z"
    },
    "hidden": true
   },
   "outputs": [],
   "source": [
    "def calc_dys(model, X_test, y_test):\n",
    "    # get predictions\n",
    "    preds = model.predict(X_test)\n",
    "        \n",
    "    # 3-class (multi)\n",
    "    if len(np.bincount(y_test)) == 3:\n",
    "        \n",
    "        # total times class 1 predictions were correct\n",
    "        correct_1 = ((preds == y_test) & (preds == 1)).sum()\n",
    "\n",
    "        # class 1 accuracy\n",
    "        acc_1 = correct_1 / np.bincount(y_test)[1]\n",
    "\n",
    "\n",
    "        # total times class 2 predictions were correct\n",
    "        correct_2 = ((preds == y_test) & (preds == 2)).sum()\n",
    "\n",
    "        # class 2 accuracy\n",
    "        acc_2 = correct_2 / np.bincount(y_test)[2]\n",
    "\n",
    "\n",
    "        # 'dysfunctional' accuracy - the total acc of our model on classes 1 and 2\n",
    "        dys_acc = (correct_1 + correct_2) / (np.bincount(y_test)[1] +np.bincount(y_test)[2])\n",
    "\n",
    "        # return dysfunctional acc\n",
    "        return dys_acc\n",
    "    \n",
    "    # 2-class (binary)\n",
    "    else:\n",
    "        # total times class 1 predictions were correct\n",
    "        correct_1 = ((preds == y_test) & (preds == 1)).sum()\n",
    "\n",
    "        # class 1 accuracy\n",
    "        acc_1 = correct_1 / np.bincount(y_test)[1]\n",
    "\n",
    "        # return class 1 acc\n",
    "        return acc_1"
   ]
  },
  {
   "cell_type": "code",
   "execution_count": 14,
   "metadata": {
    "ExecuteTime": {
     "end_time": "2023-10-07T03:02:22.715807Z",
     "start_time": "2023-10-07T03:02:22.177317Z"
    },
    "hidden": true
   },
   "outputs": [
    {
     "name": "stdout",
     "output_type": "stream",
     "text": [
      "Dysfunctional accuracy: 64.28%\n"
     ]
    }
   ],
   "source": [
    "# test calc_dys on model_base\n",
    "dys_acc = calc_dys(model_base, X_test, y_test)\n",
    "\n",
    "print(f'Dysfunctional accuracy: {dys_acc*100:.2f}%')"
   ]
  },
  {
   "cell_type": "markdown",
   "metadata": {
    "hidden": true
   },
   "source": [
    "- The dysfunctional accuracy of our model is 64%."
   ]
  },
  {
   "cell_type": "code",
   "execution_count": 17,
   "metadata": {
    "ExecuteTime": {
     "end_time": "2023-10-08T21:54:04.561823Z",
     "start_time": "2023-10-08T21:54:04.550813Z"
    },
    "hidden": true
   },
   "outputs": [],
   "source": [
    "def get_df(grid_search, model_name, smote=False):\n",
    "    \n",
    "    '''\n",
    "    \n",
    "    Looks at the top 10% of mean_test_scores from the grid_search argument. Calculates dysfunctional accuracy for these values \n",
    "    and returns a 3-column dataframe.\n",
    "    \n",
    "    \n",
    "    Parameters\n",
    "    ---------------\n",
    "    grid_search : GridSearchCV, fitted GridSearchCV object.\n",
    "    model_name: str, the name of the model from the grid search.\n",
    "    smote: boolean, if True, the pipeline includes smote.\n",
    "    \n",
    "    \n",
    "    \n",
    "    Returns\n",
    "    ---------------\n",
    "    models_df : pandas.DataFrame, holds model parameters, test_score, and dysfunctional accuracy.\n",
    "    \n",
    "    \n",
    "    \n",
    "    '''\n",
    "    \n",
    "    # get results of grid search into df, drop most columns\n",
    "    df = pd.DataFrame.from_dict(grid_search.cv_results_).drop(\n",
    "        ['mean_fit_time', 'std_fit_time', 'mean_score_time', 'std_score_time', 'split0_test_score', 'split1_test_score', \n",
    "         'split2_test_score', 'split3_test_score', 'split4_test_score', 'rank_test_score', 'std_test_score'], axis=1)\n",
    "    \n",
    "    # num rows in top 10% of df, the +1 rounds up to a whole number\n",
    "    num_rows = (len(df) // 10) + 1\n",
    "    \n",
    "    # new df holding top 10% of test_scores from df\n",
    "    top_10_percent = df.sort_values('mean_test_score', ascending=False).iloc[:num_rows]\n",
    "    \n",
    "    # acc of the final row. the minimum model accuracy that will be included in the returned dataframe\n",
    "    threshold = top_10_percent.iloc[[-1]]['mean_test_score'].values[0]\n",
    "    \n",
    "    # models with test acc above threshold\n",
    "    top_models = df[df['mean_test_score'] > threshold]\n",
    "\n",
    "    # create default pipeline object\n",
    "    if smote:\n",
    "        pipeline = Pipeline([\n",
    "            ('ct', ct),\n",
    "            ('smote', SMOTE()),\n",
    "            (model_name, LogisticRegression(n_jobs=-1))\n",
    "        ])\n",
    "    else:\n",
    "        pipeline = Pipeline([\n",
    "            ('ct', ct),\n",
    "            (model_name, LogisticRegression(n_jobs=-1))\n",
    "        ])\n",
    "\n",
    "    # get list of model parameters from top_models\n",
    "    params_list = top_models.params.tolist()\n",
    "\n",
    "    # get list of model test_scores from top_models\n",
    "    scores_list = top_models.mean_test_score.tolist()\n",
    "\n",
    "    # to store dysfunctional accuracies\n",
    "    dys_accs = []\n",
    "\n",
    "    for params in params_list:\n",
    "        # Set parameters of the pipeline, fit\n",
    "        pipeline.set_params(**params)  \n",
    "        pipeline.fit(X_train, y_train)\n",
    "\n",
    "        # calculate dys_acc\n",
    "        dys_acc = calc_dys(pipeline, X_test, y_test)\n",
    "        dys_accs.append(dys_acc)\n",
    "\n",
    "\n",
    "    data_dict = {\n",
    "        'params': params_list,\n",
    "        'test_score': scores_list,\n",
    "        'dys_acc': dys_accs\n",
    "    }    \n",
    "\n",
    "    # create a models_df to hold the important results\n",
    "    models_df = pd.DataFrame(data=data_dict)\n",
    "    \n",
    "    return models_df"
   ]
  },
  {
   "cell_type": "markdown",
   "metadata": {
    "heading_collapsed": true
   },
   "source": [
    "# Grid search 1:"
   ]
  },
  {
   "cell_type": "code",
   "execution_count": 10,
   "metadata": {
    "ExecuteTime": {
     "end_time": "2023-10-07T03:11:12.492678Z",
     "start_time": "2023-10-07T03:11:08.650356Z"
    },
    "hidden": true
   },
   "outputs": [
    {
     "data": {
      "text/html": [
       "<style>#sk-container-id-1 {color: black;}#sk-container-id-1 pre{padding: 0;}#sk-container-id-1 div.sk-toggleable {background-color: white;}#sk-container-id-1 label.sk-toggleable__label {cursor: pointer;display: block;width: 100%;margin-bottom: 0;padding: 0.3em;box-sizing: border-box;text-align: center;}#sk-container-id-1 label.sk-toggleable__label-arrow:before {content: \"▸\";float: left;margin-right: 0.25em;color: #696969;}#sk-container-id-1 label.sk-toggleable__label-arrow:hover:before {color: black;}#sk-container-id-1 div.sk-estimator:hover label.sk-toggleable__label-arrow:before {color: black;}#sk-container-id-1 div.sk-toggleable__content {max-height: 0;max-width: 0;overflow: hidden;text-align: left;background-color: #f0f8ff;}#sk-container-id-1 div.sk-toggleable__content pre {margin: 0.2em;color: black;border-radius: 0.25em;background-color: #f0f8ff;}#sk-container-id-1 input.sk-toggleable__control:checked~div.sk-toggleable__content {max-height: 200px;max-width: 100%;overflow: auto;}#sk-container-id-1 input.sk-toggleable__control:checked~label.sk-toggleable__label-arrow:before {content: \"▾\";}#sk-container-id-1 div.sk-estimator input.sk-toggleable__control:checked~label.sk-toggleable__label {background-color: #d4ebff;}#sk-container-id-1 div.sk-label input.sk-toggleable__control:checked~label.sk-toggleable__label {background-color: #d4ebff;}#sk-container-id-1 input.sk-hidden--visually {border: 0;clip: rect(1px 1px 1px 1px);clip: rect(1px, 1px, 1px, 1px);height: 1px;margin: -1px;overflow: hidden;padding: 0;position: absolute;width: 1px;}#sk-container-id-1 div.sk-estimator {font-family: monospace;background-color: #f0f8ff;border: 1px dotted black;border-radius: 0.25em;box-sizing: border-box;margin-bottom: 0.5em;}#sk-container-id-1 div.sk-estimator:hover {background-color: #d4ebff;}#sk-container-id-1 div.sk-parallel-item::after {content: \"\";width: 100%;border-bottom: 1px solid gray;flex-grow: 1;}#sk-container-id-1 div.sk-label:hover label.sk-toggleable__label {background-color: #d4ebff;}#sk-container-id-1 div.sk-serial::before {content: \"\";position: absolute;border-left: 1px solid gray;box-sizing: border-box;top: 0;bottom: 0;left: 50%;z-index: 0;}#sk-container-id-1 div.sk-serial {display: flex;flex-direction: column;align-items: center;background-color: white;padding-right: 0.2em;padding-left: 0.2em;position: relative;}#sk-container-id-1 div.sk-item {position: relative;z-index: 1;}#sk-container-id-1 div.sk-parallel {display: flex;align-items: stretch;justify-content: center;background-color: white;position: relative;}#sk-container-id-1 div.sk-item::before, #sk-container-id-1 div.sk-parallel-item::before {content: \"\";position: absolute;border-left: 1px solid gray;box-sizing: border-box;top: 0;bottom: 0;left: 50%;z-index: -1;}#sk-container-id-1 div.sk-parallel-item {display: flex;flex-direction: column;z-index: 1;position: relative;background-color: white;}#sk-container-id-1 div.sk-parallel-item:first-child::after {align-self: flex-end;width: 50%;}#sk-container-id-1 div.sk-parallel-item:last-child::after {align-self: flex-start;width: 50%;}#sk-container-id-1 div.sk-parallel-item:only-child::after {width: 0;}#sk-container-id-1 div.sk-dashed-wrapped {border: 1px dashed gray;margin: 0 0.4em 0.5em 0.4em;box-sizing: border-box;padding-bottom: 0.4em;background-color: white;}#sk-container-id-1 div.sk-label label {font-family: monospace;font-weight: bold;display: inline-block;line-height: 1.2em;}#sk-container-id-1 div.sk-label-container {text-align: center;}#sk-container-id-1 div.sk-container {/* jupyter's `normalize.less` sets `[hidden] { display: none; }` but bootstrap.min.css set `[hidden] { display: none !important; }` so we also need the `!important` here to be able to override the default hidden behavior on the sphinx rendered scikit-learn.org. See: https://github.com/scikit-learn/scikit-learn/issues/21755 */display: inline-block !important;position: relative;}#sk-container-id-1 div.sk-text-repr-fallback {display: none;}</style><div id=\"sk-container-id-1\" class=\"sk-top-container\"><div class=\"sk-text-repr-fallback\"><pre>Pipeline(steps=[(&#x27;ct&#x27;,\n",
       "                 ColumnTransformer(n_jobs=-1, remainder=&#x27;passthrough&#x27;,\n",
       "                                   transformers=[(&#x27;nums&#x27;,\n",
       "                                                  Pipeline(steps=[(&#x27;num_impute&#x27;,\n",
       "                                                                   SimpleImputer(add_indicator=True)),\n",
       "                                                                  (&#x27;ss&#x27;,\n",
       "                                                                   StandardScaler())]),\n",
       "                                                  [&#x27;amount_tsh&#x27;, &#x27;gps_height&#x27;,\n",
       "                                                   &#x27;longitude&#x27;, &#x27;latitude&#x27;,\n",
       "                                                   &#x27;num_private&#x27;, &#x27;region_code&#x27;,\n",
       "                                                   &#x27;district_code&#x27;,\n",
       "                                                   &#x27;population&#x27;, &#x27;age_years&#x27;]),\n",
       "                                                 (&#x27;cats&#x27;,\n",
       "                                                  Pipeline(steps=[(&#x27;cat_impute&#x27;,\n",
       "                                                                   Simp...\n",
       "                                                                                 strategy=&#x27;most_frequent&#x27;)),\n",
       "                                                                  (&#x27;ohe&#x27;,\n",
       "                                                                   OneHotEncoder(handle_unknown=&#x27;ignore&#x27;))]),\n",
       "                                                  [&#x27;funder&#x27;, &#x27;installer&#x27;,\n",
       "                                                   &#x27;basin&#x27;, &#x27;lga&#x27;,\n",
       "                                                   &#x27;public_meeting&#x27;,\n",
       "                                                   &#x27;scheme_name&#x27;, &#x27;permit&#x27;,\n",
       "                                                   &#x27;extraction_type&#x27;,\n",
       "                                                   &#x27;extraction_type_class&#x27;,\n",
       "                                                   &#x27;management&#x27;, &#x27;payment&#x27;,\n",
       "                                                   &#x27;water_quality&#x27;, &#x27;quantity&#x27;,\n",
       "                                                   &#x27;source&#x27;, &#x27;source_class&#x27;,\n",
       "                                                   &#x27;waterpoint_type&#x27;])])),\n",
       "                (&#x27;model_1&#x27;,\n",
       "                 LogisticRegression(multi_class=&#x27;multinomial&#x27;, n_jobs=-1))])</pre><b>In a Jupyter environment, please rerun this cell to show the HTML representation or trust the notebook. <br />On GitHub, the HTML representation is unable to render, please try loading this page with nbviewer.org.</b></div><div class=\"sk-container\" hidden><div class=\"sk-item sk-dashed-wrapped\"><div class=\"sk-label-container\"><div class=\"sk-label sk-toggleable\"><input class=\"sk-toggleable__control sk-hidden--visually\" id=\"sk-estimator-id-1\" type=\"checkbox\" ><label for=\"sk-estimator-id-1\" class=\"sk-toggleable__label sk-toggleable__label-arrow\">Pipeline</label><div class=\"sk-toggleable__content\"><pre>Pipeline(steps=[(&#x27;ct&#x27;,\n",
       "                 ColumnTransformer(n_jobs=-1, remainder=&#x27;passthrough&#x27;,\n",
       "                                   transformers=[(&#x27;nums&#x27;,\n",
       "                                                  Pipeline(steps=[(&#x27;num_impute&#x27;,\n",
       "                                                                   SimpleImputer(add_indicator=True)),\n",
       "                                                                  (&#x27;ss&#x27;,\n",
       "                                                                   StandardScaler())]),\n",
       "                                                  [&#x27;amount_tsh&#x27;, &#x27;gps_height&#x27;,\n",
       "                                                   &#x27;longitude&#x27;, &#x27;latitude&#x27;,\n",
       "                                                   &#x27;num_private&#x27;, &#x27;region_code&#x27;,\n",
       "                                                   &#x27;district_code&#x27;,\n",
       "                                                   &#x27;population&#x27;, &#x27;age_years&#x27;]),\n",
       "                                                 (&#x27;cats&#x27;,\n",
       "                                                  Pipeline(steps=[(&#x27;cat_impute&#x27;,\n",
       "                                                                   Simp...\n",
       "                                                                                 strategy=&#x27;most_frequent&#x27;)),\n",
       "                                                                  (&#x27;ohe&#x27;,\n",
       "                                                                   OneHotEncoder(handle_unknown=&#x27;ignore&#x27;))]),\n",
       "                                                  [&#x27;funder&#x27;, &#x27;installer&#x27;,\n",
       "                                                   &#x27;basin&#x27;, &#x27;lga&#x27;,\n",
       "                                                   &#x27;public_meeting&#x27;,\n",
       "                                                   &#x27;scheme_name&#x27;, &#x27;permit&#x27;,\n",
       "                                                   &#x27;extraction_type&#x27;,\n",
       "                                                   &#x27;extraction_type_class&#x27;,\n",
       "                                                   &#x27;management&#x27;, &#x27;payment&#x27;,\n",
       "                                                   &#x27;water_quality&#x27;, &#x27;quantity&#x27;,\n",
       "                                                   &#x27;source&#x27;, &#x27;source_class&#x27;,\n",
       "                                                   &#x27;waterpoint_type&#x27;])])),\n",
       "                (&#x27;model_1&#x27;,\n",
       "                 LogisticRegression(multi_class=&#x27;multinomial&#x27;, n_jobs=-1))])</pre></div></div></div><div class=\"sk-serial\"><div class=\"sk-item sk-dashed-wrapped\"><div class=\"sk-label-container\"><div class=\"sk-label sk-toggleable\"><input class=\"sk-toggleable__control sk-hidden--visually\" id=\"sk-estimator-id-2\" type=\"checkbox\" ><label for=\"sk-estimator-id-2\" class=\"sk-toggleable__label sk-toggleable__label-arrow\">ct: ColumnTransformer</label><div class=\"sk-toggleable__content\"><pre>ColumnTransformer(n_jobs=-1, remainder=&#x27;passthrough&#x27;,\n",
       "                  transformers=[(&#x27;nums&#x27;,\n",
       "                                 Pipeline(steps=[(&#x27;num_impute&#x27;,\n",
       "                                                  SimpleImputer(add_indicator=True)),\n",
       "                                                 (&#x27;ss&#x27;, StandardScaler())]),\n",
       "                                 [&#x27;amount_tsh&#x27;, &#x27;gps_height&#x27;, &#x27;longitude&#x27;,\n",
       "                                  &#x27;latitude&#x27;, &#x27;num_private&#x27;, &#x27;region_code&#x27;,\n",
       "                                  &#x27;district_code&#x27;, &#x27;population&#x27;, &#x27;age_years&#x27;]),\n",
       "                                (&#x27;cats&#x27;,\n",
       "                                 Pipeline(steps=[(&#x27;cat_impute&#x27;,\n",
       "                                                  SimpleImputer(add_indicator=True,\n",
       "                                                                strategy=&#x27;most_frequent&#x27;)),\n",
       "                                                 (&#x27;ohe&#x27;,\n",
       "                                                  OneHotEncoder(handle_unknown=&#x27;ignore&#x27;))]),\n",
       "                                 [&#x27;funder&#x27;, &#x27;installer&#x27;, &#x27;basin&#x27;, &#x27;lga&#x27;,\n",
       "                                  &#x27;public_meeting&#x27;, &#x27;scheme_name&#x27;, &#x27;permit&#x27;,\n",
       "                                  &#x27;extraction_type&#x27;, &#x27;extraction_type_class&#x27;,\n",
       "                                  &#x27;management&#x27;, &#x27;payment&#x27;, &#x27;water_quality&#x27;,\n",
       "                                  &#x27;quantity&#x27;, &#x27;source&#x27;, &#x27;source_class&#x27;,\n",
       "                                  &#x27;waterpoint_type&#x27;])])</pre></div></div></div><div class=\"sk-parallel\"><div class=\"sk-parallel-item\"><div class=\"sk-item\"><div class=\"sk-label-container\"><div class=\"sk-label sk-toggleable\"><input class=\"sk-toggleable__control sk-hidden--visually\" id=\"sk-estimator-id-3\" type=\"checkbox\" ><label for=\"sk-estimator-id-3\" class=\"sk-toggleable__label sk-toggleable__label-arrow\">nums</label><div class=\"sk-toggleable__content\"><pre>[&#x27;amount_tsh&#x27;, &#x27;gps_height&#x27;, &#x27;longitude&#x27;, &#x27;latitude&#x27;, &#x27;num_private&#x27;, &#x27;region_code&#x27;, &#x27;district_code&#x27;, &#x27;population&#x27;, &#x27;age_years&#x27;]</pre></div></div></div><div class=\"sk-serial\"><div class=\"sk-item\"><div class=\"sk-serial\"><div class=\"sk-item\"><div class=\"sk-estimator sk-toggleable\"><input class=\"sk-toggleable__control sk-hidden--visually\" id=\"sk-estimator-id-4\" type=\"checkbox\" ><label for=\"sk-estimator-id-4\" class=\"sk-toggleable__label sk-toggleable__label-arrow\">SimpleImputer</label><div class=\"sk-toggleable__content\"><pre>SimpleImputer(add_indicator=True)</pre></div></div></div><div class=\"sk-item\"><div class=\"sk-estimator sk-toggleable\"><input class=\"sk-toggleable__control sk-hidden--visually\" id=\"sk-estimator-id-5\" type=\"checkbox\" ><label for=\"sk-estimator-id-5\" class=\"sk-toggleable__label sk-toggleable__label-arrow\">StandardScaler</label><div class=\"sk-toggleable__content\"><pre>StandardScaler()</pre></div></div></div></div></div></div></div></div><div class=\"sk-parallel-item\"><div class=\"sk-item\"><div class=\"sk-label-container\"><div class=\"sk-label sk-toggleable\"><input class=\"sk-toggleable__control sk-hidden--visually\" id=\"sk-estimator-id-6\" type=\"checkbox\" ><label for=\"sk-estimator-id-6\" class=\"sk-toggleable__label sk-toggleable__label-arrow\">cats</label><div class=\"sk-toggleable__content\"><pre>[&#x27;funder&#x27;, &#x27;installer&#x27;, &#x27;basin&#x27;, &#x27;lga&#x27;, &#x27;public_meeting&#x27;, &#x27;scheme_name&#x27;, &#x27;permit&#x27;, &#x27;extraction_type&#x27;, &#x27;extraction_type_class&#x27;, &#x27;management&#x27;, &#x27;payment&#x27;, &#x27;water_quality&#x27;, &#x27;quantity&#x27;, &#x27;source&#x27;, &#x27;source_class&#x27;, &#x27;waterpoint_type&#x27;]</pre></div></div></div><div class=\"sk-serial\"><div class=\"sk-item\"><div class=\"sk-serial\"><div class=\"sk-item\"><div class=\"sk-estimator sk-toggleable\"><input class=\"sk-toggleable__control sk-hidden--visually\" id=\"sk-estimator-id-7\" type=\"checkbox\" ><label for=\"sk-estimator-id-7\" class=\"sk-toggleable__label sk-toggleable__label-arrow\">SimpleImputer</label><div class=\"sk-toggleable__content\"><pre>SimpleImputer(add_indicator=True, strategy=&#x27;most_frequent&#x27;)</pre></div></div></div><div class=\"sk-item\"><div class=\"sk-estimator sk-toggleable\"><input class=\"sk-toggleable__control sk-hidden--visually\" id=\"sk-estimator-id-8\" type=\"checkbox\" ><label for=\"sk-estimator-id-8\" class=\"sk-toggleable__label sk-toggleable__label-arrow\">OneHotEncoder</label><div class=\"sk-toggleable__content\"><pre>OneHotEncoder(handle_unknown=&#x27;ignore&#x27;)</pre></div></div></div></div></div></div></div></div><div class=\"sk-parallel-item\"><div class=\"sk-item\"><div class=\"sk-label-container\"><div class=\"sk-label sk-toggleable\"><input class=\"sk-toggleable__control sk-hidden--visually\" id=\"sk-estimator-id-9\" type=\"checkbox\" ><label for=\"sk-estimator-id-9\" class=\"sk-toggleable__label sk-toggleable__label-arrow\">remainder</label><div class=\"sk-toggleable__content\"><pre>[]</pre></div></div></div><div class=\"sk-serial\"><div class=\"sk-item\"><div class=\"sk-estimator sk-toggleable\"><input class=\"sk-toggleable__control sk-hidden--visually\" id=\"sk-estimator-id-10\" type=\"checkbox\" ><label for=\"sk-estimator-id-10\" class=\"sk-toggleable__label sk-toggleable__label-arrow\">passthrough</label><div class=\"sk-toggleable__content\"><pre>passthrough</pre></div></div></div></div></div></div></div></div><div class=\"sk-item\"><div class=\"sk-estimator sk-toggleable\"><input class=\"sk-toggleable__control sk-hidden--visually\" id=\"sk-estimator-id-11\" type=\"checkbox\" ><label for=\"sk-estimator-id-11\" class=\"sk-toggleable__label sk-toggleable__label-arrow\">LogisticRegression</label><div class=\"sk-toggleable__content\"><pre>LogisticRegression(multi_class=&#x27;multinomial&#x27;, n_jobs=-1)</pre></div></div></div></div></div></div></div>"
      ],
      "text/plain": [
       "Pipeline(steps=[('ct',\n",
       "                 ColumnTransformer(n_jobs=-1, remainder='passthrough',\n",
       "                                   transformers=[('nums',\n",
       "                                                  Pipeline(steps=[('num_impute',\n",
       "                                                                   SimpleImputer(add_indicator=True)),\n",
       "                                                                  ('ss',\n",
       "                                                                   StandardScaler())]),\n",
       "                                                  ['amount_tsh', 'gps_height',\n",
       "                                                   'longitude', 'latitude',\n",
       "                                                   'num_private', 'region_code',\n",
       "                                                   'district_code',\n",
       "                                                   'population', 'age_years']),\n",
       "                                                 ('cats',\n",
       "                                                  Pipeline(steps=[('cat_impute',\n",
       "                                                                   Simp...\n",
       "                                                                                 strategy='most_frequent')),\n",
       "                                                                  ('ohe',\n",
       "                                                                   OneHotEncoder(handle_unknown='ignore'))]),\n",
       "                                                  ['funder', 'installer',\n",
       "                                                   'basin', 'lga',\n",
       "                                                   'public_meeting',\n",
       "                                                   'scheme_name', 'permit',\n",
       "                                                   'extraction_type',\n",
       "                                                   'extraction_type_class',\n",
       "                                                   'management', 'payment',\n",
       "                                                   'water_quality', 'quantity',\n",
       "                                                   'source', 'source_class',\n",
       "                                                   'waterpoint_type'])])),\n",
       "                ('model_1',\n",
       "                 LogisticRegression(multi_class='multinomial', n_jobs=-1))])"
      ]
     },
     "execution_count": 10,
     "metadata": {},
     "output_type": "execute_result"
    }
   ],
   "source": [
    "# only parameter passed is 'multinomial'\n",
    "\n",
    "model_1 = Pipeline([\n",
    "    ('ct', ct),\n",
    "    ('model_1', LogisticRegression(multi_class='multinomial', n_jobs=-1))\n",
    "])\n",
    "\n",
    "model_1.fit(X_train, y_train)"
   ]
  },
  {
   "cell_type": "code",
   "execution_count": 11,
   "metadata": {
    "ExecuteTime": {
     "end_time": "2023-10-07T03:11:17.129180Z",
     "start_time": "2023-10-07T03:11:14.937820Z"
    },
    "hidden": true
   },
   "outputs": [
    {
     "data": {
      "text/plain": [
       "(0.7829335016835017, 0.7721380471380471)"
      ]
     },
     "execution_count": 11,
     "metadata": {},
     "output_type": "execute_result"
    }
   ],
   "source": [
    "# accuracy scores before grid search\n",
    "model_1.score(X_train, y_train), model_1.score(X_test, y_test)"
   ]
  },
  {
   "cell_type": "markdown",
   "metadata": {
    "ExecuteTime": {
     "end_time": "2023-10-06T04:22:16.170051Z",
     "start_time": "2023-10-06T04:22:16.162044Z"
    },
    "hidden": true
   },
   "source": [
    "- 77.2% accuracy - slightly worse than model_base (-0.3%)."
   ]
  },
  {
   "cell_type": "code",
   "execution_count": 12,
   "metadata": {
    "ExecuteTime": {
     "end_time": "2023-10-07T03:11:18.699208Z",
     "start_time": "2023-10-07T03:11:17.758561Z"
    },
    "hidden": true
   },
   "outputs": [
    {
     "name": "stdout",
     "output_type": "stream",
     "text": [
      "Dysfunctional accuracy: 63.54%\n"
     ]
    }
   ],
   "source": [
    "# get dysfunctional accuracy\n",
    "dys_acc = calc_dys(model_1, X_test, y_test)\n",
    "\n",
    "print(f'Dysfunctional accuracy: {dys_acc*100:.2f}%')"
   ]
  },
  {
   "cell_type": "markdown",
   "metadata": {
    "hidden": true
   },
   "source": [
    "- 63.5% dysfunctional accuracy - also slightly worse than model_base (-0.7%).\n",
    "- Overall, a slightly worse model than model_base."
   ]
  },
  {
   "cell_type": "code",
   "execution_count": 13,
   "metadata": {
    "ExecuteTime": {
     "end_time": "2023-10-07T03:11:32.327370Z",
     "start_time": "2023-10-07T03:11:32.310355Z"
    },
    "hidden": true
   },
   "outputs": [],
   "source": [
    "# large grid search (no SMOTE)\n",
    "# 216 unique models\n",
    "\n",
    "params = {\n",
    "    'ct__nums__num_impute__strategy': ['mean', 'median'],\n",
    "    'model_1__class_weight': [None, {0: 1, 1: 1.5, 2: 1}, {0: 1, 1: 2, 2: 1}],\n",
    "    'model_1__penalty': ['l2'],\n",
    "    'model_1__solver' : ['lbfgs', 'newton-cg', 'sag'],\n",
    "    'model_1__max_iter': [100, 1000],\n",
    "    'model_1__C' : [1e2, 1e3, 1e4],\n",
    "    'model_1__tol' : [0.001, 0.01]\n",
    "}\n",
    "\n",
    "search_1 = GridSearchCV(model_1, params, n_jobs=-1, verbose=2)"
   ]
  },
  {
   "cell_type": "code",
   "execution_count": 14,
   "metadata": {
    "ExecuteTime": {
     "end_time": "2023-10-07T07:56:43.336954Z",
     "start_time": "2023-10-07T03:11:33.252283Z"
    },
    "hidden": true
   },
   "outputs": [
    {
     "name": "stdout",
     "output_type": "stream",
     "text": [
      "Fitting 5 folds for each of 216 candidates, totalling 1080 fits\n"
     ]
    },
    {
     "data": {
      "text/html": [
       "<style>#sk-container-id-2 {color: black;}#sk-container-id-2 pre{padding: 0;}#sk-container-id-2 div.sk-toggleable {background-color: white;}#sk-container-id-2 label.sk-toggleable__label {cursor: pointer;display: block;width: 100%;margin-bottom: 0;padding: 0.3em;box-sizing: border-box;text-align: center;}#sk-container-id-2 label.sk-toggleable__label-arrow:before {content: \"▸\";float: left;margin-right: 0.25em;color: #696969;}#sk-container-id-2 label.sk-toggleable__label-arrow:hover:before {color: black;}#sk-container-id-2 div.sk-estimator:hover label.sk-toggleable__label-arrow:before {color: black;}#sk-container-id-2 div.sk-toggleable__content {max-height: 0;max-width: 0;overflow: hidden;text-align: left;background-color: #f0f8ff;}#sk-container-id-2 div.sk-toggleable__content pre {margin: 0.2em;color: black;border-radius: 0.25em;background-color: #f0f8ff;}#sk-container-id-2 input.sk-toggleable__control:checked~div.sk-toggleable__content {max-height: 200px;max-width: 100%;overflow: auto;}#sk-container-id-2 input.sk-toggleable__control:checked~label.sk-toggleable__label-arrow:before {content: \"▾\";}#sk-container-id-2 div.sk-estimator input.sk-toggleable__control:checked~label.sk-toggleable__label {background-color: #d4ebff;}#sk-container-id-2 div.sk-label input.sk-toggleable__control:checked~label.sk-toggleable__label {background-color: #d4ebff;}#sk-container-id-2 input.sk-hidden--visually {border: 0;clip: rect(1px 1px 1px 1px);clip: rect(1px, 1px, 1px, 1px);height: 1px;margin: -1px;overflow: hidden;padding: 0;position: absolute;width: 1px;}#sk-container-id-2 div.sk-estimator {font-family: monospace;background-color: #f0f8ff;border: 1px dotted black;border-radius: 0.25em;box-sizing: border-box;margin-bottom: 0.5em;}#sk-container-id-2 div.sk-estimator:hover {background-color: #d4ebff;}#sk-container-id-2 div.sk-parallel-item::after {content: \"\";width: 100%;border-bottom: 1px solid gray;flex-grow: 1;}#sk-container-id-2 div.sk-label:hover label.sk-toggleable__label {background-color: #d4ebff;}#sk-container-id-2 div.sk-serial::before {content: \"\";position: absolute;border-left: 1px solid gray;box-sizing: border-box;top: 0;bottom: 0;left: 50%;z-index: 0;}#sk-container-id-2 div.sk-serial {display: flex;flex-direction: column;align-items: center;background-color: white;padding-right: 0.2em;padding-left: 0.2em;position: relative;}#sk-container-id-2 div.sk-item {position: relative;z-index: 1;}#sk-container-id-2 div.sk-parallel {display: flex;align-items: stretch;justify-content: center;background-color: white;position: relative;}#sk-container-id-2 div.sk-item::before, #sk-container-id-2 div.sk-parallel-item::before {content: \"\";position: absolute;border-left: 1px solid gray;box-sizing: border-box;top: 0;bottom: 0;left: 50%;z-index: -1;}#sk-container-id-2 div.sk-parallel-item {display: flex;flex-direction: column;z-index: 1;position: relative;background-color: white;}#sk-container-id-2 div.sk-parallel-item:first-child::after {align-self: flex-end;width: 50%;}#sk-container-id-2 div.sk-parallel-item:last-child::after {align-self: flex-start;width: 50%;}#sk-container-id-2 div.sk-parallel-item:only-child::after {width: 0;}#sk-container-id-2 div.sk-dashed-wrapped {border: 1px dashed gray;margin: 0 0.4em 0.5em 0.4em;box-sizing: border-box;padding-bottom: 0.4em;background-color: white;}#sk-container-id-2 div.sk-label label {font-family: monospace;font-weight: bold;display: inline-block;line-height: 1.2em;}#sk-container-id-2 div.sk-label-container {text-align: center;}#sk-container-id-2 div.sk-container {/* jupyter's `normalize.less` sets `[hidden] { display: none; }` but bootstrap.min.css set `[hidden] { display: none !important; }` so we also need the `!important` here to be able to override the default hidden behavior on the sphinx rendered scikit-learn.org. See: https://github.com/scikit-learn/scikit-learn/issues/21755 */display: inline-block !important;position: relative;}#sk-container-id-2 div.sk-text-repr-fallback {display: none;}</style><div id=\"sk-container-id-2\" class=\"sk-top-container\"><div class=\"sk-text-repr-fallback\"><pre>GridSearchCV(estimator=Pipeline(steps=[(&#x27;ct&#x27;,\n",
       "                                        ColumnTransformer(n_jobs=-1,\n",
       "                                                          remainder=&#x27;passthrough&#x27;,\n",
       "                                                          transformers=[(&#x27;nums&#x27;,\n",
       "                                                                         Pipeline(steps=[(&#x27;num_impute&#x27;,\n",
       "                                                                                          SimpleImputer(add_indicator=True)),\n",
       "                                                                                         (&#x27;ss&#x27;,\n",
       "                                                                                          StandardScaler())]),\n",
       "                                                                         [&#x27;amount_tsh&#x27;,\n",
       "                                                                          &#x27;gps_height&#x27;,\n",
       "                                                                          &#x27;longitude&#x27;,\n",
       "                                                                          &#x27;latitude&#x27;,\n",
       "                                                                          &#x27;num_private&#x27;,\n",
       "                                                                          &#x27;region_code&#x27;,\n",
       "                                                                          &#x27;district_code&#x27;,\n",
       "                                                                          &#x27;population&#x27;,\n",
       "                                                                          &#x27;age_years&#x27;]),\n",
       "                                                                        (&#x27;cats&#x27;,\n",
       "                                                                         Pipeline(st...\n",
       "                                        LogisticRegression(multi_class=&#x27;multinomial&#x27;,\n",
       "                                                           n_jobs=-1))]),\n",
       "             n_jobs=-1,\n",
       "             param_grid={&#x27;ct__nums__num_impute__strategy&#x27;: [&#x27;mean&#x27;, &#x27;median&#x27;],\n",
       "                         &#x27;model_1__C&#x27;: [100.0, 1000.0, 10000.0],\n",
       "                         &#x27;model_1__class_weight&#x27;: [None, {0: 1, 1: 1.5, 2: 1},\n",
       "                                                   {0: 1, 1: 2, 2: 1}],\n",
       "                         &#x27;model_1__max_iter&#x27;: [100, 1000],\n",
       "                         &#x27;model_1__penalty&#x27;: [&#x27;l2&#x27;],\n",
       "                         &#x27;model_1__solver&#x27;: [&#x27;lbfgs&#x27;, &#x27;newton-cg&#x27;, &#x27;sag&#x27;],\n",
       "                         &#x27;model_1__tol&#x27;: [0.001, 0.01]},\n",
       "             verbose=2)</pre><b>In a Jupyter environment, please rerun this cell to show the HTML representation or trust the notebook. <br />On GitHub, the HTML representation is unable to render, please try loading this page with nbviewer.org.</b></div><div class=\"sk-container\" hidden><div class=\"sk-item sk-dashed-wrapped\"><div class=\"sk-label-container\"><div class=\"sk-label sk-toggleable\"><input class=\"sk-toggleable__control sk-hidden--visually\" id=\"sk-estimator-id-12\" type=\"checkbox\" ><label for=\"sk-estimator-id-12\" class=\"sk-toggleable__label sk-toggleable__label-arrow\">GridSearchCV</label><div class=\"sk-toggleable__content\"><pre>GridSearchCV(estimator=Pipeline(steps=[(&#x27;ct&#x27;,\n",
       "                                        ColumnTransformer(n_jobs=-1,\n",
       "                                                          remainder=&#x27;passthrough&#x27;,\n",
       "                                                          transformers=[(&#x27;nums&#x27;,\n",
       "                                                                         Pipeline(steps=[(&#x27;num_impute&#x27;,\n",
       "                                                                                          SimpleImputer(add_indicator=True)),\n",
       "                                                                                         (&#x27;ss&#x27;,\n",
       "                                                                                          StandardScaler())]),\n",
       "                                                                         [&#x27;amount_tsh&#x27;,\n",
       "                                                                          &#x27;gps_height&#x27;,\n",
       "                                                                          &#x27;longitude&#x27;,\n",
       "                                                                          &#x27;latitude&#x27;,\n",
       "                                                                          &#x27;num_private&#x27;,\n",
       "                                                                          &#x27;region_code&#x27;,\n",
       "                                                                          &#x27;district_code&#x27;,\n",
       "                                                                          &#x27;population&#x27;,\n",
       "                                                                          &#x27;age_years&#x27;]),\n",
       "                                                                        (&#x27;cats&#x27;,\n",
       "                                                                         Pipeline(st...\n",
       "                                        LogisticRegression(multi_class=&#x27;multinomial&#x27;,\n",
       "                                                           n_jobs=-1))]),\n",
       "             n_jobs=-1,\n",
       "             param_grid={&#x27;ct__nums__num_impute__strategy&#x27;: [&#x27;mean&#x27;, &#x27;median&#x27;],\n",
       "                         &#x27;model_1__C&#x27;: [100.0, 1000.0, 10000.0],\n",
       "                         &#x27;model_1__class_weight&#x27;: [None, {0: 1, 1: 1.5, 2: 1},\n",
       "                                                   {0: 1, 1: 2, 2: 1}],\n",
       "                         &#x27;model_1__max_iter&#x27;: [100, 1000],\n",
       "                         &#x27;model_1__penalty&#x27;: [&#x27;l2&#x27;],\n",
       "                         &#x27;model_1__solver&#x27;: [&#x27;lbfgs&#x27;, &#x27;newton-cg&#x27;, &#x27;sag&#x27;],\n",
       "                         &#x27;model_1__tol&#x27;: [0.001, 0.01]},\n",
       "             verbose=2)</pre></div></div></div><div class=\"sk-parallel\"><div class=\"sk-parallel-item\"><div class=\"sk-item\"><div class=\"sk-label-container\"><div class=\"sk-label sk-toggleable\"><input class=\"sk-toggleable__control sk-hidden--visually\" id=\"sk-estimator-id-13\" type=\"checkbox\" ><label for=\"sk-estimator-id-13\" class=\"sk-toggleable__label sk-toggleable__label-arrow\">estimator: Pipeline</label><div class=\"sk-toggleable__content\"><pre>Pipeline(steps=[(&#x27;ct&#x27;,\n",
       "                 ColumnTransformer(n_jobs=-1, remainder=&#x27;passthrough&#x27;,\n",
       "                                   transformers=[(&#x27;nums&#x27;,\n",
       "                                                  Pipeline(steps=[(&#x27;num_impute&#x27;,\n",
       "                                                                   SimpleImputer(add_indicator=True)),\n",
       "                                                                  (&#x27;ss&#x27;,\n",
       "                                                                   StandardScaler())]),\n",
       "                                                  [&#x27;amount_tsh&#x27;, &#x27;gps_height&#x27;,\n",
       "                                                   &#x27;longitude&#x27;, &#x27;latitude&#x27;,\n",
       "                                                   &#x27;num_private&#x27;, &#x27;region_code&#x27;,\n",
       "                                                   &#x27;district_code&#x27;,\n",
       "                                                   &#x27;population&#x27;, &#x27;age_years&#x27;]),\n",
       "                                                 (&#x27;cats&#x27;,\n",
       "                                                  Pipeline(steps=[(&#x27;cat_impute&#x27;,\n",
       "                                                                   Simp...\n",
       "                                                                                 strategy=&#x27;most_frequent&#x27;)),\n",
       "                                                                  (&#x27;ohe&#x27;,\n",
       "                                                                   OneHotEncoder(handle_unknown=&#x27;ignore&#x27;))]),\n",
       "                                                  [&#x27;funder&#x27;, &#x27;installer&#x27;,\n",
       "                                                   &#x27;basin&#x27;, &#x27;lga&#x27;,\n",
       "                                                   &#x27;public_meeting&#x27;,\n",
       "                                                   &#x27;scheme_name&#x27;, &#x27;permit&#x27;,\n",
       "                                                   &#x27;extraction_type&#x27;,\n",
       "                                                   &#x27;extraction_type_class&#x27;,\n",
       "                                                   &#x27;management&#x27;, &#x27;payment&#x27;,\n",
       "                                                   &#x27;water_quality&#x27;, &#x27;quantity&#x27;,\n",
       "                                                   &#x27;source&#x27;, &#x27;source_class&#x27;,\n",
       "                                                   &#x27;waterpoint_type&#x27;])])),\n",
       "                (&#x27;model_1&#x27;,\n",
       "                 LogisticRegression(multi_class=&#x27;multinomial&#x27;, n_jobs=-1))])</pre></div></div></div><div class=\"sk-serial\"><div class=\"sk-item\"><div class=\"sk-serial\"><div class=\"sk-item sk-dashed-wrapped\"><div class=\"sk-label-container\"><div class=\"sk-label sk-toggleable\"><input class=\"sk-toggleable__control sk-hidden--visually\" id=\"sk-estimator-id-14\" type=\"checkbox\" ><label for=\"sk-estimator-id-14\" class=\"sk-toggleable__label sk-toggleable__label-arrow\">ct: ColumnTransformer</label><div class=\"sk-toggleable__content\"><pre>ColumnTransformer(n_jobs=-1, remainder=&#x27;passthrough&#x27;,\n",
       "                  transformers=[(&#x27;nums&#x27;,\n",
       "                                 Pipeline(steps=[(&#x27;num_impute&#x27;,\n",
       "                                                  SimpleImputer(add_indicator=True)),\n",
       "                                                 (&#x27;ss&#x27;, StandardScaler())]),\n",
       "                                 [&#x27;amount_tsh&#x27;, &#x27;gps_height&#x27;, &#x27;longitude&#x27;,\n",
       "                                  &#x27;latitude&#x27;, &#x27;num_private&#x27;, &#x27;region_code&#x27;,\n",
       "                                  &#x27;district_code&#x27;, &#x27;population&#x27;, &#x27;age_years&#x27;]),\n",
       "                                (&#x27;cats&#x27;,\n",
       "                                 Pipeline(steps=[(&#x27;cat_impute&#x27;,\n",
       "                                                  SimpleImputer(add_indicator=True,\n",
       "                                                                strategy=&#x27;most_frequent&#x27;)),\n",
       "                                                 (&#x27;ohe&#x27;,\n",
       "                                                  OneHotEncoder(handle_unknown=&#x27;ignore&#x27;))]),\n",
       "                                 [&#x27;funder&#x27;, &#x27;installer&#x27;, &#x27;basin&#x27;, &#x27;lga&#x27;,\n",
       "                                  &#x27;public_meeting&#x27;, &#x27;scheme_name&#x27;, &#x27;permit&#x27;,\n",
       "                                  &#x27;extraction_type&#x27;, &#x27;extraction_type_class&#x27;,\n",
       "                                  &#x27;management&#x27;, &#x27;payment&#x27;, &#x27;water_quality&#x27;,\n",
       "                                  &#x27;quantity&#x27;, &#x27;source&#x27;, &#x27;source_class&#x27;,\n",
       "                                  &#x27;waterpoint_type&#x27;])])</pre></div></div></div><div class=\"sk-parallel\"><div class=\"sk-parallel-item\"><div class=\"sk-item\"><div class=\"sk-label-container\"><div class=\"sk-label sk-toggleable\"><input class=\"sk-toggleable__control sk-hidden--visually\" id=\"sk-estimator-id-15\" type=\"checkbox\" ><label for=\"sk-estimator-id-15\" class=\"sk-toggleable__label sk-toggleable__label-arrow\">nums</label><div class=\"sk-toggleable__content\"><pre>[&#x27;amount_tsh&#x27;, &#x27;gps_height&#x27;, &#x27;longitude&#x27;, &#x27;latitude&#x27;, &#x27;num_private&#x27;, &#x27;region_code&#x27;, &#x27;district_code&#x27;, &#x27;population&#x27;, &#x27;age_years&#x27;]</pre></div></div></div><div class=\"sk-serial\"><div class=\"sk-item\"><div class=\"sk-serial\"><div class=\"sk-item\"><div class=\"sk-estimator sk-toggleable\"><input class=\"sk-toggleable__control sk-hidden--visually\" id=\"sk-estimator-id-16\" type=\"checkbox\" ><label for=\"sk-estimator-id-16\" class=\"sk-toggleable__label sk-toggleable__label-arrow\">SimpleImputer</label><div class=\"sk-toggleable__content\"><pre>SimpleImputer(add_indicator=True)</pre></div></div></div><div class=\"sk-item\"><div class=\"sk-estimator sk-toggleable\"><input class=\"sk-toggleable__control sk-hidden--visually\" id=\"sk-estimator-id-17\" type=\"checkbox\" ><label for=\"sk-estimator-id-17\" class=\"sk-toggleable__label sk-toggleable__label-arrow\">StandardScaler</label><div class=\"sk-toggleable__content\"><pre>StandardScaler()</pre></div></div></div></div></div></div></div></div><div class=\"sk-parallel-item\"><div class=\"sk-item\"><div class=\"sk-label-container\"><div class=\"sk-label sk-toggleable\"><input class=\"sk-toggleable__control sk-hidden--visually\" id=\"sk-estimator-id-18\" type=\"checkbox\" ><label for=\"sk-estimator-id-18\" class=\"sk-toggleable__label sk-toggleable__label-arrow\">cats</label><div class=\"sk-toggleable__content\"><pre>[&#x27;funder&#x27;, &#x27;installer&#x27;, &#x27;basin&#x27;, &#x27;lga&#x27;, &#x27;public_meeting&#x27;, &#x27;scheme_name&#x27;, &#x27;permit&#x27;, &#x27;extraction_type&#x27;, &#x27;extraction_type_class&#x27;, &#x27;management&#x27;, &#x27;payment&#x27;, &#x27;water_quality&#x27;, &#x27;quantity&#x27;, &#x27;source&#x27;, &#x27;source_class&#x27;, &#x27;waterpoint_type&#x27;]</pre></div></div></div><div class=\"sk-serial\"><div class=\"sk-item\"><div class=\"sk-serial\"><div class=\"sk-item\"><div class=\"sk-estimator sk-toggleable\"><input class=\"sk-toggleable__control sk-hidden--visually\" id=\"sk-estimator-id-19\" type=\"checkbox\" ><label for=\"sk-estimator-id-19\" class=\"sk-toggleable__label sk-toggleable__label-arrow\">SimpleImputer</label><div class=\"sk-toggleable__content\"><pre>SimpleImputer(add_indicator=True, strategy=&#x27;most_frequent&#x27;)</pre></div></div></div><div class=\"sk-item\"><div class=\"sk-estimator sk-toggleable\"><input class=\"sk-toggleable__control sk-hidden--visually\" id=\"sk-estimator-id-20\" type=\"checkbox\" ><label for=\"sk-estimator-id-20\" class=\"sk-toggleable__label sk-toggleable__label-arrow\">OneHotEncoder</label><div class=\"sk-toggleable__content\"><pre>OneHotEncoder(handle_unknown=&#x27;ignore&#x27;)</pre></div></div></div></div></div></div></div></div><div class=\"sk-parallel-item\"><div class=\"sk-item\"><div class=\"sk-label-container\"><div class=\"sk-label sk-toggleable\"><input class=\"sk-toggleable__control sk-hidden--visually\" id=\"sk-estimator-id-21\" type=\"checkbox\" ><label for=\"sk-estimator-id-21\" class=\"sk-toggleable__label sk-toggleable__label-arrow\">remainder</label><div class=\"sk-toggleable__content\"><pre>[]</pre></div></div></div><div class=\"sk-serial\"><div class=\"sk-item\"><div class=\"sk-estimator sk-toggleable\"><input class=\"sk-toggleable__control sk-hidden--visually\" id=\"sk-estimator-id-22\" type=\"checkbox\" ><label for=\"sk-estimator-id-22\" class=\"sk-toggleable__label sk-toggleable__label-arrow\">passthrough</label><div class=\"sk-toggleable__content\"><pre>passthrough</pre></div></div></div></div></div></div></div></div><div class=\"sk-item\"><div class=\"sk-estimator sk-toggleable\"><input class=\"sk-toggleable__control sk-hidden--visually\" id=\"sk-estimator-id-23\" type=\"checkbox\" ><label for=\"sk-estimator-id-23\" class=\"sk-toggleable__label sk-toggleable__label-arrow\">LogisticRegression</label><div class=\"sk-toggleable__content\"><pre>LogisticRegression(multi_class=&#x27;multinomial&#x27;, n_jobs=-1)</pre></div></div></div></div></div></div></div></div></div></div></div></div>"
      ],
      "text/plain": [
       "GridSearchCV(estimator=Pipeline(steps=[('ct',\n",
       "                                        ColumnTransformer(n_jobs=-1,\n",
       "                                                          remainder='passthrough',\n",
       "                                                          transformers=[('nums',\n",
       "                                                                         Pipeline(steps=[('num_impute',\n",
       "                                                                                          SimpleImputer(add_indicator=True)),\n",
       "                                                                                         ('ss',\n",
       "                                                                                          StandardScaler())]),\n",
       "                                                                         ['amount_tsh',\n",
       "                                                                          'gps_height',\n",
       "                                                                          'longitude',\n",
       "                                                                          'latitude',\n",
       "                                                                          'num_private',\n",
       "                                                                          'region_code',\n",
       "                                                                          'district_code',\n",
       "                                                                          'population',\n",
       "                                                                          'age_years']),\n",
       "                                                                        ('cats',\n",
       "                                                                         Pipeline(st...\n",
       "                                        LogisticRegression(multi_class='multinomial',\n",
       "                                                           n_jobs=-1))]),\n",
       "             n_jobs=-1,\n",
       "             param_grid={'ct__nums__num_impute__strategy': ['mean', 'median'],\n",
       "                         'model_1__C': [100.0, 1000.0, 10000.0],\n",
       "                         'model_1__class_weight': [None, {0: 1, 1: 1.5, 2: 1},\n",
       "                                                   {0: 1, 1: 2, 2: 1}],\n",
       "                         'model_1__max_iter': [100, 1000],\n",
       "                         'model_1__penalty': ['l2'],\n",
       "                         'model_1__solver': ['lbfgs', 'newton-cg', 'sag'],\n",
       "                         'model_1__tol': [0.001, 0.01]},\n",
       "             verbose=2)"
      ]
     },
     "execution_count": 14,
     "metadata": {},
     "output_type": "execute_result"
    }
   ],
   "source": [
    "# DO NOT RUN THIS CELL\n",
    "\n",
    "# perform grid search\n",
    "# search_1.fit(X_train, y_train)"
   ]
  },
  {
   "cell_type": "code",
   "execution_count": 23,
   "metadata": {
    "ExecuteTime": {
     "end_time": "2023-10-07T20:03:53.396347Z",
     "start_time": "2023-10-07T20:03:53.374327Z"
    },
    "hidden": true
   },
   "outputs": [
    {
     "data": {
      "text/html": [
       "<div>\n",
       "<style scoped>\n",
       "    .dataframe tbody tr th:only-of-type {\n",
       "        vertical-align: middle;\n",
       "    }\n",
       "\n",
       "    .dataframe tbody tr th {\n",
       "        vertical-align: top;\n",
       "    }\n",
       "\n",
       "    .dataframe thead th {\n",
       "        text-align: right;\n",
       "    }\n",
       "</style>\n",
       "<table border=\"1\" class=\"dataframe\">\n",
       "  <thead>\n",
       "    <tr style=\"text-align: right;\">\n",
       "      <th></th>\n",
       "      <th>params</th>\n",
       "      <th>test_score</th>\n",
       "      <th>dys_acc</th>\n",
       "      <th>smote</th>\n",
       "    </tr>\n",
       "  </thead>\n",
       "  <tbody>\n",
       "    <tr>\n",
       "      <th>8</th>\n",
       "      <td>{'ct__nums__num_impute__strategy': 'mean', 'mo...</td>\n",
       "      <td>0.775631</td>\n",
       "      <td>0.646983</td>\n",
       "      <td>0</td>\n",
       "    </tr>\n",
       "    <tr>\n",
       "      <th>9</th>\n",
       "      <td>{'ct__nums__num_impute__strategy': 'mean', 'mo...</td>\n",
       "      <td>0.775631</td>\n",
       "      <td>0.646983</td>\n",
       "      <td>0</td>\n",
       "    </tr>\n",
       "    <tr>\n",
       "      <th>6</th>\n",
       "      <td>{'ct__nums__num_impute__strategy': 'mean', 'mo...</td>\n",
       "      <td>0.775652</td>\n",
       "      <td>0.646615</td>\n",
       "      <td>0</td>\n",
       "    </tr>\n",
       "    <tr>\n",
       "      <th>7</th>\n",
       "      <td>{'ct__nums__num_impute__strategy': 'mean', 'mo...</td>\n",
       "      <td>0.775652</td>\n",
       "      <td>0.646615</td>\n",
       "      <td>0</td>\n",
       "    </tr>\n",
       "    <tr>\n",
       "      <th>12</th>\n",
       "      <td>{'ct__nums__num_impute__strategy': 'median', '...</td>\n",
       "      <td>0.775779</td>\n",
       "      <td>0.646431</td>\n",
       "      <td>0</td>\n",
       "    </tr>\n",
       "    <tr>\n",
       "      <th>13</th>\n",
       "      <td>{'ct__nums__num_impute__strategy': 'median', '...</td>\n",
       "      <td>0.775779</td>\n",
       "      <td>0.646431</td>\n",
       "      <td>0</td>\n",
       "    </tr>\n",
       "    <tr>\n",
       "      <th>2</th>\n",
       "      <td>{'ct__nums__num_impute__strategy': 'mean', 'mo...</td>\n",
       "      <td>0.775800</td>\n",
       "      <td>0.646247</td>\n",
       "      <td>0</td>\n",
       "    </tr>\n",
       "    <tr>\n",
       "      <th>3</th>\n",
       "      <td>{'ct__nums__num_impute__strategy': 'mean', 'mo...</td>\n",
       "      <td>0.775800</td>\n",
       "      <td>0.646247</td>\n",
       "      <td>0</td>\n",
       "    </tr>\n",
       "    <tr>\n",
       "      <th>19</th>\n",
       "      <td>{'ct__nums__num_impute__strategy': 'median', '...</td>\n",
       "      <td>0.775084</td>\n",
       "      <td>0.645327</td>\n",
       "      <td>0</td>\n",
       "    </tr>\n",
       "    <tr>\n",
       "      <th>18</th>\n",
       "      <td>{'ct__nums__num_impute__strategy': 'median', '...</td>\n",
       "      <td>0.775084</td>\n",
       "      <td>0.645327</td>\n",
       "      <td>0</td>\n",
       "    </tr>\n",
       "    <tr>\n",
       "      <th>17</th>\n",
       "      <td>{'ct__nums__num_impute__strategy': 'median', '...</td>\n",
       "      <td>0.775295</td>\n",
       "      <td>0.644592</td>\n",
       "      <td>0</td>\n",
       "    </tr>\n",
       "    <tr>\n",
       "      <th>16</th>\n",
       "      <td>{'ct__nums__num_impute__strategy': 'median', '...</td>\n",
       "      <td>0.775295</td>\n",
       "      <td>0.644592</td>\n",
       "      <td>0</td>\n",
       "    </tr>\n",
       "    <tr>\n",
       "      <th>14</th>\n",
       "      <td>{'ct__nums__num_impute__strategy': 'median', '...</td>\n",
       "      <td>0.775168</td>\n",
       "      <td>0.643304</td>\n",
       "      <td>0</td>\n",
       "    </tr>\n",
       "    <tr>\n",
       "      <th>15</th>\n",
       "      <td>{'ct__nums__num_impute__strategy': 'median', '...</td>\n",
       "      <td>0.775168</td>\n",
       "      <td>0.643304</td>\n",
       "      <td>0</td>\n",
       "    </tr>\n",
       "    <tr>\n",
       "      <th>0</th>\n",
       "      <td>{'ct__nums__num_impute__strategy': 'mean', 'mo...</td>\n",
       "      <td>0.775168</td>\n",
       "      <td>0.643304</td>\n",
       "      <td>0</td>\n",
       "    </tr>\n",
       "    <tr>\n",
       "      <th>11</th>\n",
       "      <td>{'ct__nums__num_impute__strategy': 'median', '...</td>\n",
       "      <td>0.775168</td>\n",
       "      <td>0.643304</td>\n",
       "      <td>0</td>\n",
       "    </tr>\n",
       "    <tr>\n",
       "      <th>1</th>\n",
       "      <td>{'ct__nums__num_impute__strategy': 'mean', 'mo...</td>\n",
       "      <td>0.775168</td>\n",
       "      <td>0.643304</td>\n",
       "      <td>0</td>\n",
       "    </tr>\n",
       "    <tr>\n",
       "      <th>5</th>\n",
       "      <td>{'ct__nums__num_impute__strategy': 'mean', 'mo...</td>\n",
       "      <td>0.775168</td>\n",
       "      <td>0.643304</td>\n",
       "      <td>0</td>\n",
       "    </tr>\n",
       "    <tr>\n",
       "      <th>4</th>\n",
       "      <td>{'ct__nums__num_impute__strategy': 'mean', 'mo...</td>\n",
       "      <td>0.775168</td>\n",
       "      <td>0.643304</td>\n",
       "      <td>0</td>\n",
       "    </tr>\n",
       "    <tr>\n",
       "      <th>10</th>\n",
       "      <td>{'ct__nums__num_impute__strategy': 'median', '...</td>\n",
       "      <td>0.775168</td>\n",
       "      <td>0.643304</td>\n",
       "      <td>0</td>\n",
       "    </tr>\n",
       "  </tbody>\n",
       "</table>\n",
       "</div>"
      ],
      "text/plain": [
       "                                               params  test_score   dys_acc  \\\n",
       "8   {'ct__nums__num_impute__strategy': 'mean', 'mo...    0.775631  0.646983   \n",
       "9   {'ct__nums__num_impute__strategy': 'mean', 'mo...    0.775631  0.646983   \n",
       "6   {'ct__nums__num_impute__strategy': 'mean', 'mo...    0.775652  0.646615   \n",
       "7   {'ct__nums__num_impute__strategy': 'mean', 'mo...    0.775652  0.646615   \n",
       "12  {'ct__nums__num_impute__strategy': 'median', '...    0.775779  0.646431   \n",
       "13  {'ct__nums__num_impute__strategy': 'median', '...    0.775779  0.646431   \n",
       "2   {'ct__nums__num_impute__strategy': 'mean', 'mo...    0.775800  0.646247   \n",
       "3   {'ct__nums__num_impute__strategy': 'mean', 'mo...    0.775800  0.646247   \n",
       "19  {'ct__nums__num_impute__strategy': 'median', '...    0.775084  0.645327   \n",
       "18  {'ct__nums__num_impute__strategy': 'median', '...    0.775084  0.645327   \n",
       "17  {'ct__nums__num_impute__strategy': 'median', '...    0.775295  0.644592   \n",
       "16  {'ct__nums__num_impute__strategy': 'median', '...    0.775295  0.644592   \n",
       "14  {'ct__nums__num_impute__strategy': 'median', '...    0.775168  0.643304   \n",
       "15  {'ct__nums__num_impute__strategy': 'median', '...    0.775168  0.643304   \n",
       "0   {'ct__nums__num_impute__strategy': 'mean', 'mo...    0.775168  0.643304   \n",
       "11  {'ct__nums__num_impute__strategy': 'median', '...    0.775168  0.643304   \n",
       "1   {'ct__nums__num_impute__strategy': 'mean', 'mo...    0.775168  0.643304   \n",
       "5   {'ct__nums__num_impute__strategy': 'mean', 'mo...    0.775168  0.643304   \n",
       "4   {'ct__nums__num_impute__strategy': 'mean', 'mo...    0.775168  0.643304   \n",
       "10  {'ct__nums__num_impute__strategy': 'median', '...    0.775168  0.643304   \n",
       "\n",
       "    smote  \n",
       "8       0  \n",
       "9       0  \n",
       "6       0  \n",
       "7       0  \n",
       "12      0  \n",
       "13      0  \n",
       "2       0  \n",
       "3       0  \n",
       "19      0  \n",
       "18      0  \n",
       "17      0  \n",
       "16      0  \n",
       "14      0  \n",
       "15      0  \n",
       "0       0  \n",
       "11      0  \n",
       "1       0  \n",
       "5       0  \n",
       "4       0  \n",
       "10      0  "
      ]
     },
     "execution_count": 23,
     "metadata": {},
     "output_type": "execute_result"
    }
   ],
   "source": [
    "# use get_df for multiclass grid search 1\n",
    "multi_df_1 = get_df(grid_search=search_1, model_name='model_1')\n",
    "multi_df_1['smote'] = 0\n",
    "\n",
    "# 20 highest overall accs sorted by the dys_acc\n",
    "multi_df_1.sort_values('dys_acc', ascending=False)"
   ]
  },
  {
   "cell_type": "code",
   "execution_count": 19,
   "metadata": {
    "ExecuteTime": {
     "end_time": "2023-10-07T20:00:05.905226Z",
     "start_time": "2023-10-07T20:00:05.882205Z"
    },
    "hidden": true
   },
   "outputs": [
    {
     "data": {
      "text/html": [
       "<div>\n",
       "<style scoped>\n",
       "    .dataframe tbody tr th:only-of-type {\n",
       "        vertical-align: middle;\n",
       "    }\n",
       "\n",
       "    .dataframe tbody tr th {\n",
       "        vertical-align: top;\n",
       "    }\n",
       "\n",
       "    .dataframe thead th {\n",
       "        text-align: right;\n",
       "    }\n",
       "</style>\n",
       "<table border=\"1\" class=\"dataframe\">\n",
       "  <thead>\n",
       "    <tr style=\"text-align: right;\">\n",
       "      <th></th>\n",
       "      <th>params</th>\n",
       "      <th>test_score</th>\n",
       "      <th>dys_acc</th>\n",
       "      <th>smote</th>\n",
       "    </tr>\n",
       "  </thead>\n",
       "  <tbody>\n",
       "    <tr>\n",
       "      <th>8</th>\n",
       "      <td>{'ct__nums__num_impute__strategy': 'mean', 'mo...</td>\n",
       "      <td>0.775631</td>\n",
       "      <td>0.646983</td>\n",
       "      <td>0</td>\n",
       "    </tr>\n",
       "  </tbody>\n",
       "</table>\n",
       "</div>"
      ],
      "text/plain": [
       "                                              params  test_score   dys_acc  \\\n",
       "8  {'ct__nums__num_impute__strategy': 'mean', 'mo...    0.775631  0.646983   \n",
       "\n",
       "   smote  \n",
       "8      0  "
      ]
     },
     "execution_count": 19,
     "metadata": {},
     "output_type": "execute_result"
    }
   ],
   "source": [
    "# create df for our best models, add the best model from above\n",
    "best_models = multi_df_1.sort_values('dys_acc', ascending=False).head(1)\n",
    "best_models"
   ]
  },
  {
   "cell_type": "markdown",
   "metadata": {
    "hidden": true
   },
   "source": [
    "- Our best model from grid search 1 had an CV test accuracy of 77.5% and a dysfunctional acc of 64.7%.\n",
    "- A full point higher in dysfunctional acc (+1.2%) than our benchmark model."
   ]
  },
  {
   "cell_type": "markdown",
   "metadata": {
    "hidden": true
   },
   "source": [
    "Parameters of our best model:\n",
    "- impute__strategy: 'mean'\n",
    "- C: 10000.0\n",
    "- class_weight: None\n",
    "- max_iter: 1000\n",
    "- penalty: 'l2'\n",
    "- solver: 'lbfgs'\n",
    "- tol: 0.001"
   ]
  },
  {
   "cell_type": "code",
   "execution_count": 70,
   "metadata": {
    "ExecuteTime": {
     "end_time": "2023-10-09T03:46:33.325924Z",
     "start_time": "2023-10-09T03:46:15.779975Z"
    },
    "hidden": true
   },
   "outputs": [
    {
     "data": {
      "text/plain": [
       "(0.7985058922558923, 0.7765993265993266)"
      ]
     },
     "execution_count": 70,
     "metadata": {},
     "output_type": "execute_result"
    }
   ],
   "source": [
    "# accuracy scores for the best model from above\n",
    "\n",
    "best_model = Pipeline([\n",
    "    ('ct', ct),\n",
    "    ('best_model', LogisticRegression(multi_class='multinomial', C=10000, max_iter=1000, solver='lbfgs', tol=0.001, n_jobs=-1))\n",
    "])\n",
    "\n",
    "best_model.fit(X_train, y_train)\n",
    "best_model.score(X_train, y_train), best_model.score(X_test, y_test)"
   ]
  },
  {
   "cell_type": "markdown",
   "metadata": {
    "hidden": true
   },
   "source": [
    "- Test set acc of 77.8%.\n",
    "- This is now the best recommendation, as it beats the benchmark logreg model in both test acc and dys acc.\n",
    "- New scores to beat are overall acc of 77.8% and dys acc of 64.7%."
   ]
  },
  {
   "cell_type": "code",
   "execution_count": 72,
   "metadata": {
    "ExecuteTime": {
     "end_time": "2023-10-09T03:46:40.983238Z",
     "start_time": "2023-10-09T03:46:40.031372Z"
    },
    "hidden": true
   },
   "outputs": [
    {
     "name": "stdout",
     "output_type": "stream",
     "text": [
      "              precision    recall  f1-score   support\n",
      "\n",
      "           0       0.77      0.89      0.82      6444\n",
      "           1       0.56      0.27      0.36       867\n",
      "           2       0.82      0.72      0.76      4569\n",
      "\n",
      "    accuracy                           0.78     11880\n",
      "   macro avg       0.71      0.62      0.65     11880\n",
      "weighted avg       0.77      0.78      0.77     11880\n",
      "\n"
     ]
    }
   ],
   "source": [
    "# classification report\n",
    "print(classification_report(y_test, best_model.predict(X_test)))"
   ]
  },
  {
   "cell_type": "markdown",
   "metadata": {
    "hidden": true
   },
   "source": [
    "- 89% acc on functional wells.\n",
    "- 27% acc on need repair wells (still quite poor).\n",
    "- 72% acc on non-functional wells."
   ]
  },
  {
   "cell_type": "code",
   "execution_count": 21,
   "metadata": {
    "ExecuteTime": {
     "end_time": "2023-10-07T20:03:08.895336Z",
     "start_time": "2023-10-07T20:03:08.885329Z"
    },
    "hidden": true
   },
   "outputs": [
    {
     "data": {
      "text/plain": [
       "[{'ct__nums__num_impute__strategy': 'mean',\n",
       "  'model_1__C': 100.0,\n",
       "  'model_1__class_weight': None,\n",
       "  'model_1__max_iter': 100,\n",
       "  'model_1__penalty': 'l2',\n",
       "  'model_1__solver': 'newton-cg',\n",
       "  'model_1__tol': 0.001},\n",
       " {'ct__nums__num_impute__strategy': 'mean',\n",
       "  'model_1__C': 100.0,\n",
       "  'model_1__class_weight': None,\n",
       "  'model_1__max_iter': 100,\n",
       "  'model_1__penalty': 'l2',\n",
       "  'model_1__solver': 'newton-cg',\n",
       "  'model_1__tol': 0.01},\n",
       " {'ct__nums__num_impute__strategy': 'mean',\n",
       "  'model_1__C': 100.0,\n",
       "  'model_1__class_weight': None,\n",
       "  'model_1__max_iter': 1000,\n",
       "  'model_1__penalty': 'l2',\n",
       "  'model_1__solver': 'lbfgs',\n",
       "  'model_1__tol': 0.001},\n",
       " {'ct__nums__num_impute__strategy': 'mean',\n",
       "  'model_1__C': 100.0,\n",
       "  'model_1__class_weight': None,\n",
       "  'model_1__max_iter': 1000,\n",
       "  'model_1__penalty': 'l2',\n",
       "  'model_1__solver': 'lbfgs',\n",
       "  'model_1__tol': 0.01},\n",
       " {'ct__nums__num_impute__strategy': 'mean',\n",
       "  'model_1__C': 100.0,\n",
       "  'model_1__class_weight': None,\n",
       "  'model_1__max_iter': 1000,\n",
       "  'model_1__penalty': 'l2',\n",
       "  'model_1__solver': 'newton-cg',\n",
       "  'model_1__tol': 0.001},\n",
       " {'ct__nums__num_impute__strategy': 'mean',\n",
       "  'model_1__C': 100.0,\n",
       "  'model_1__class_weight': None,\n",
       "  'model_1__max_iter': 1000,\n",
       "  'model_1__penalty': 'l2',\n",
       "  'model_1__solver': 'newton-cg',\n",
       "  'model_1__tol': 0.01},\n",
       " {'ct__nums__num_impute__strategy': 'mean',\n",
       "  'model_1__C': 1000.0,\n",
       "  'model_1__class_weight': None,\n",
       "  'model_1__max_iter': 1000,\n",
       "  'model_1__penalty': 'l2',\n",
       "  'model_1__solver': 'lbfgs',\n",
       "  'model_1__tol': 0.001},\n",
       " {'ct__nums__num_impute__strategy': 'mean',\n",
       "  'model_1__C': 1000.0,\n",
       "  'model_1__class_weight': None,\n",
       "  'model_1__max_iter': 1000,\n",
       "  'model_1__penalty': 'l2',\n",
       "  'model_1__solver': 'lbfgs',\n",
       "  'model_1__tol': 0.01},\n",
       " {'ct__nums__num_impute__strategy': 'mean',\n",
       "  'model_1__C': 10000.0,\n",
       "  'model_1__class_weight': None,\n",
       "  'model_1__max_iter': 1000,\n",
       "  'model_1__penalty': 'l2',\n",
       "  'model_1__solver': 'lbfgs',\n",
       "  'model_1__tol': 0.001},\n",
       " {'ct__nums__num_impute__strategy': 'mean',\n",
       "  'model_1__C': 10000.0,\n",
       "  'model_1__class_weight': None,\n",
       "  'model_1__max_iter': 1000,\n",
       "  'model_1__penalty': 'l2',\n",
       "  'model_1__solver': 'lbfgs',\n",
       "  'model_1__tol': 0.01},\n",
       " {'ct__nums__num_impute__strategy': 'median',\n",
       "  'model_1__C': 100.0,\n",
       "  'model_1__class_weight': None,\n",
       "  'model_1__max_iter': 100,\n",
       "  'model_1__penalty': 'l2',\n",
       "  'model_1__solver': 'newton-cg',\n",
       "  'model_1__tol': 0.001},\n",
       " {'ct__nums__num_impute__strategy': 'median',\n",
       "  'model_1__C': 100.0,\n",
       "  'model_1__class_weight': None,\n",
       "  'model_1__max_iter': 100,\n",
       "  'model_1__penalty': 'l2',\n",
       "  'model_1__solver': 'newton-cg',\n",
       "  'model_1__tol': 0.01},\n",
       " {'ct__nums__num_impute__strategy': 'median',\n",
       "  'model_1__C': 100.0,\n",
       "  'model_1__class_weight': None,\n",
       "  'model_1__max_iter': 1000,\n",
       "  'model_1__penalty': 'l2',\n",
       "  'model_1__solver': 'lbfgs',\n",
       "  'model_1__tol': 0.001},\n",
       " {'ct__nums__num_impute__strategy': 'median',\n",
       "  'model_1__C': 100.0,\n",
       "  'model_1__class_weight': None,\n",
       "  'model_1__max_iter': 1000,\n",
       "  'model_1__penalty': 'l2',\n",
       "  'model_1__solver': 'lbfgs',\n",
       "  'model_1__tol': 0.01},\n",
       " {'ct__nums__num_impute__strategy': 'median',\n",
       "  'model_1__C': 100.0,\n",
       "  'model_1__class_weight': None,\n",
       "  'model_1__max_iter': 1000,\n",
       "  'model_1__penalty': 'l2',\n",
       "  'model_1__solver': 'newton-cg',\n",
       "  'model_1__tol': 0.001},\n",
       " {'ct__nums__num_impute__strategy': 'median',\n",
       "  'model_1__C': 100.0,\n",
       "  'model_1__class_weight': None,\n",
       "  'model_1__max_iter': 1000,\n",
       "  'model_1__penalty': 'l2',\n",
       "  'model_1__solver': 'newton-cg',\n",
       "  'model_1__tol': 0.01},\n",
       " {'ct__nums__num_impute__strategy': 'median',\n",
       "  'model_1__C': 1000.0,\n",
       "  'model_1__class_weight': None,\n",
       "  'model_1__max_iter': 1000,\n",
       "  'model_1__penalty': 'l2',\n",
       "  'model_1__solver': 'lbfgs',\n",
       "  'model_1__tol': 0.001},\n",
       " {'ct__nums__num_impute__strategy': 'median',\n",
       "  'model_1__C': 1000.0,\n",
       "  'model_1__class_weight': None,\n",
       "  'model_1__max_iter': 1000,\n",
       "  'model_1__penalty': 'l2',\n",
       "  'model_1__solver': 'lbfgs',\n",
       "  'model_1__tol': 0.01},\n",
       " {'ct__nums__num_impute__strategy': 'median',\n",
       "  'model_1__C': 10000.0,\n",
       "  'model_1__class_weight': None,\n",
       "  'model_1__max_iter': 1000,\n",
       "  'model_1__penalty': 'l2',\n",
       "  'model_1__solver': 'lbfgs',\n",
       "  'model_1__tol': 0.001},\n",
       " {'ct__nums__num_impute__strategy': 'median',\n",
       "  'model_1__C': 10000.0,\n",
       "  'model_1__class_weight': None,\n",
       "  'model_1__max_iter': 1000,\n",
       "  'model_1__penalty': 'l2',\n",
       "  'model_1__solver': 'lbfgs',\n",
       "  'model_1__tol': 0.01}]"
      ]
     },
     "execution_count": 21,
     "metadata": {},
     "output_type": "execute_result"
    }
   ],
   "source": [
    "# quick look at hyperparameters to use for next search\n",
    "multi_df_1['params'].tolist()"
   ]
  },
  {
   "cell_type": "markdown",
   "metadata": {
    "hidden": true
   },
   "source": [
    "Hyperparameters for the top 20 models from search 1:\n",
    "- All models had no class weight.\n",
    "- Only two solvers present were 'newton-cg' and 'lbfgs'.\n",
    "- Higher C-values were better (less regularization).\n",
    "- max_iter and tolerance were quite varied."
   ]
  },
  {
   "cell_type": "markdown",
   "metadata": {
    "heading_collapsed": true
   },
   "source": [
    "# SMOTE:"
   ]
  },
  {
   "cell_type": "code",
   "execution_count": 11,
   "metadata": {
    "ExecuteTime": {
     "end_time": "2023-10-07T20:35:42.202158Z",
     "start_time": "2023-10-07T20:35:23.198275Z"
    },
    "hidden": true
   },
   "outputs": [
    {
     "data": {
      "text/html": [
       "<style>#sk-container-id-1 {color: black;}#sk-container-id-1 pre{padding: 0;}#sk-container-id-1 div.sk-toggleable {background-color: white;}#sk-container-id-1 label.sk-toggleable__label {cursor: pointer;display: block;width: 100%;margin-bottom: 0;padding: 0.3em;box-sizing: border-box;text-align: center;}#sk-container-id-1 label.sk-toggleable__label-arrow:before {content: \"▸\";float: left;margin-right: 0.25em;color: #696969;}#sk-container-id-1 label.sk-toggleable__label-arrow:hover:before {color: black;}#sk-container-id-1 div.sk-estimator:hover label.sk-toggleable__label-arrow:before {color: black;}#sk-container-id-1 div.sk-toggleable__content {max-height: 0;max-width: 0;overflow: hidden;text-align: left;background-color: #f0f8ff;}#sk-container-id-1 div.sk-toggleable__content pre {margin: 0.2em;color: black;border-radius: 0.25em;background-color: #f0f8ff;}#sk-container-id-1 input.sk-toggleable__control:checked~div.sk-toggleable__content {max-height: 200px;max-width: 100%;overflow: auto;}#sk-container-id-1 input.sk-toggleable__control:checked~label.sk-toggleable__label-arrow:before {content: \"▾\";}#sk-container-id-1 div.sk-estimator input.sk-toggleable__control:checked~label.sk-toggleable__label {background-color: #d4ebff;}#sk-container-id-1 div.sk-label input.sk-toggleable__control:checked~label.sk-toggleable__label {background-color: #d4ebff;}#sk-container-id-1 input.sk-hidden--visually {border: 0;clip: rect(1px 1px 1px 1px);clip: rect(1px, 1px, 1px, 1px);height: 1px;margin: -1px;overflow: hidden;padding: 0;position: absolute;width: 1px;}#sk-container-id-1 div.sk-estimator {font-family: monospace;background-color: #f0f8ff;border: 1px dotted black;border-radius: 0.25em;box-sizing: border-box;margin-bottom: 0.5em;}#sk-container-id-1 div.sk-estimator:hover {background-color: #d4ebff;}#sk-container-id-1 div.sk-parallel-item::after {content: \"\";width: 100%;border-bottom: 1px solid gray;flex-grow: 1;}#sk-container-id-1 div.sk-label:hover label.sk-toggleable__label {background-color: #d4ebff;}#sk-container-id-1 div.sk-serial::before {content: \"\";position: absolute;border-left: 1px solid gray;box-sizing: border-box;top: 0;bottom: 0;left: 50%;z-index: 0;}#sk-container-id-1 div.sk-serial {display: flex;flex-direction: column;align-items: center;background-color: white;padding-right: 0.2em;padding-left: 0.2em;position: relative;}#sk-container-id-1 div.sk-item {position: relative;z-index: 1;}#sk-container-id-1 div.sk-parallel {display: flex;align-items: stretch;justify-content: center;background-color: white;position: relative;}#sk-container-id-1 div.sk-item::before, #sk-container-id-1 div.sk-parallel-item::before {content: \"\";position: absolute;border-left: 1px solid gray;box-sizing: border-box;top: 0;bottom: 0;left: 50%;z-index: -1;}#sk-container-id-1 div.sk-parallel-item {display: flex;flex-direction: column;z-index: 1;position: relative;background-color: white;}#sk-container-id-1 div.sk-parallel-item:first-child::after {align-self: flex-end;width: 50%;}#sk-container-id-1 div.sk-parallel-item:last-child::after {align-self: flex-start;width: 50%;}#sk-container-id-1 div.sk-parallel-item:only-child::after {width: 0;}#sk-container-id-1 div.sk-dashed-wrapped {border: 1px dashed gray;margin: 0 0.4em 0.5em 0.4em;box-sizing: border-box;padding-bottom: 0.4em;background-color: white;}#sk-container-id-1 div.sk-label label {font-family: monospace;font-weight: bold;display: inline-block;line-height: 1.2em;}#sk-container-id-1 div.sk-label-container {text-align: center;}#sk-container-id-1 div.sk-container {/* jupyter's `normalize.less` sets `[hidden] { display: none; }` but bootstrap.min.css set `[hidden] { display: none !important; }` so we also need the `!important` here to be able to override the default hidden behavior on the sphinx rendered scikit-learn.org. See: https://github.com/scikit-learn/scikit-learn/issues/21755 */display: inline-block !important;position: relative;}#sk-container-id-1 div.sk-text-repr-fallback {display: none;}</style><div id=\"sk-container-id-1\" class=\"sk-top-container\"><div class=\"sk-text-repr-fallback\"><pre>Pipeline(steps=[(&#x27;ct&#x27;,\n",
       "                 ColumnTransformer(n_jobs=-1, remainder=&#x27;passthrough&#x27;,\n",
       "                                   transformers=[(&#x27;nums&#x27;,\n",
       "                                                  Pipeline(steps=[(&#x27;num_impute&#x27;,\n",
       "                                                                   SimpleImputer(add_indicator=True)),\n",
       "                                                                  (&#x27;ss&#x27;,\n",
       "                                                                   StandardScaler())]),\n",
       "                                                  [&#x27;amount_tsh&#x27;, &#x27;gps_height&#x27;,\n",
       "                                                   &#x27;longitude&#x27;, &#x27;latitude&#x27;,\n",
       "                                                   &#x27;num_private&#x27;, &#x27;region_code&#x27;,\n",
       "                                                   &#x27;district_code&#x27;,\n",
       "                                                   &#x27;population&#x27;, &#x27;age_years&#x27;]),\n",
       "                                                 (&#x27;cats&#x27;,\n",
       "                                                  Pipeline(steps=[(&#x27;cat_impute&#x27;,\n",
       "                                                                   Simp...\n",
       "                                                                  (&#x27;ohe&#x27;,\n",
       "                                                                   OneHotEncoder(handle_unknown=&#x27;ignore&#x27;))]),\n",
       "                                                  [&#x27;funder&#x27;, &#x27;installer&#x27;,\n",
       "                                                   &#x27;basin&#x27;, &#x27;lga&#x27;,\n",
       "                                                   &#x27;public_meeting&#x27;,\n",
       "                                                   &#x27;scheme_name&#x27;, &#x27;permit&#x27;,\n",
       "                                                   &#x27;extraction_type&#x27;,\n",
       "                                                   &#x27;extraction_type_class&#x27;,\n",
       "                                                   &#x27;management&#x27;, &#x27;payment&#x27;,\n",
       "                                                   &#x27;water_quality&#x27;, &#x27;quantity&#x27;,\n",
       "                                                   &#x27;source&#x27;, &#x27;source_class&#x27;,\n",
       "                                                   &#x27;waterpoint_type&#x27;])])),\n",
       "                (&#x27;smote&#x27;, SMOTE()),\n",
       "                (&#x27;model_2&#x27;,\n",
       "                 LogisticRegression(multi_class=&#x27;multinomial&#x27;, n_jobs=-1))])</pre><b>In a Jupyter environment, please rerun this cell to show the HTML representation or trust the notebook. <br />On GitHub, the HTML representation is unable to render, please try loading this page with nbviewer.org.</b></div><div class=\"sk-container\" hidden><div class=\"sk-item sk-dashed-wrapped\"><div class=\"sk-label-container\"><div class=\"sk-label sk-toggleable\"><input class=\"sk-toggleable__control sk-hidden--visually\" id=\"sk-estimator-id-1\" type=\"checkbox\" ><label for=\"sk-estimator-id-1\" class=\"sk-toggleable__label sk-toggleable__label-arrow\">Pipeline</label><div class=\"sk-toggleable__content\"><pre>Pipeline(steps=[(&#x27;ct&#x27;,\n",
       "                 ColumnTransformer(n_jobs=-1, remainder=&#x27;passthrough&#x27;,\n",
       "                                   transformers=[(&#x27;nums&#x27;,\n",
       "                                                  Pipeline(steps=[(&#x27;num_impute&#x27;,\n",
       "                                                                   SimpleImputer(add_indicator=True)),\n",
       "                                                                  (&#x27;ss&#x27;,\n",
       "                                                                   StandardScaler())]),\n",
       "                                                  [&#x27;amount_tsh&#x27;, &#x27;gps_height&#x27;,\n",
       "                                                   &#x27;longitude&#x27;, &#x27;latitude&#x27;,\n",
       "                                                   &#x27;num_private&#x27;, &#x27;region_code&#x27;,\n",
       "                                                   &#x27;district_code&#x27;,\n",
       "                                                   &#x27;population&#x27;, &#x27;age_years&#x27;]),\n",
       "                                                 (&#x27;cats&#x27;,\n",
       "                                                  Pipeline(steps=[(&#x27;cat_impute&#x27;,\n",
       "                                                                   Simp...\n",
       "                                                                  (&#x27;ohe&#x27;,\n",
       "                                                                   OneHotEncoder(handle_unknown=&#x27;ignore&#x27;))]),\n",
       "                                                  [&#x27;funder&#x27;, &#x27;installer&#x27;,\n",
       "                                                   &#x27;basin&#x27;, &#x27;lga&#x27;,\n",
       "                                                   &#x27;public_meeting&#x27;,\n",
       "                                                   &#x27;scheme_name&#x27;, &#x27;permit&#x27;,\n",
       "                                                   &#x27;extraction_type&#x27;,\n",
       "                                                   &#x27;extraction_type_class&#x27;,\n",
       "                                                   &#x27;management&#x27;, &#x27;payment&#x27;,\n",
       "                                                   &#x27;water_quality&#x27;, &#x27;quantity&#x27;,\n",
       "                                                   &#x27;source&#x27;, &#x27;source_class&#x27;,\n",
       "                                                   &#x27;waterpoint_type&#x27;])])),\n",
       "                (&#x27;smote&#x27;, SMOTE()),\n",
       "                (&#x27;model_2&#x27;,\n",
       "                 LogisticRegression(multi_class=&#x27;multinomial&#x27;, n_jobs=-1))])</pre></div></div></div><div class=\"sk-serial\"><div class=\"sk-item sk-dashed-wrapped\"><div class=\"sk-label-container\"><div class=\"sk-label sk-toggleable\"><input class=\"sk-toggleable__control sk-hidden--visually\" id=\"sk-estimator-id-2\" type=\"checkbox\" ><label for=\"sk-estimator-id-2\" class=\"sk-toggleable__label sk-toggleable__label-arrow\">ct: ColumnTransformer</label><div class=\"sk-toggleable__content\"><pre>ColumnTransformer(n_jobs=-1, remainder=&#x27;passthrough&#x27;,\n",
       "                  transformers=[(&#x27;nums&#x27;,\n",
       "                                 Pipeline(steps=[(&#x27;num_impute&#x27;,\n",
       "                                                  SimpleImputer(add_indicator=True)),\n",
       "                                                 (&#x27;ss&#x27;, StandardScaler())]),\n",
       "                                 [&#x27;amount_tsh&#x27;, &#x27;gps_height&#x27;, &#x27;longitude&#x27;,\n",
       "                                  &#x27;latitude&#x27;, &#x27;num_private&#x27;, &#x27;region_code&#x27;,\n",
       "                                  &#x27;district_code&#x27;, &#x27;population&#x27;, &#x27;age_years&#x27;]),\n",
       "                                (&#x27;cats&#x27;,\n",
       "                                 Pipeline(steps=[(&#x27;cat_impute&#x27;,\n",
       "                                                  SimpleImputer(add_indicator=True,\n",
       "                                                                strategy=&#x27;most_frequent&#x27;)),\n",
       "                                                 (&#x27;ohe&#x27;,\n",
       "                                                  OneHotEncoder(handle_unknown=&#x27;ignore&#x27;))]),\n",
       "                                 [&#x27;funder&#x27;, &#x27;installer&#x27;, &#x27;basin&#x27;, &#x27;lga&#x27;,\n",
       "                                  &#x27;public_meeting&#x27;, &#x27;scheme_name&#x27;, &#x27;permit&#x27;,\n",
       "                                  &#x27;extraction_type&#x27;, &#x27;extraction_type_class&#x27;,\n",
       "                                  &#x27;management&#x27;, &#x27;payment&#x27;, &#x27;water_quality&#x27;,\n",
       "                                  &#x27;quantity&#x27;, &#x27;source&#x27;, &#x27;source_class&#x27;,\n",
       "                                  &#x27;waterpoint_type&#x27;])])</pre></div></div></div><div class=\"sk-parallel\"><div class=\"sk-parallel-item\"><div class=\"sk-item\"><div class=\"sk-label-container\"><div class=\"sk-label sk-toggleable\"><input class=\"sk-toggleable__control sk-hidden--visually\" id=\"sk-estimator-id-3\" type=\"checkbox\" ><label for=\"sk-estimator-id-3\" class=\"sk-toggleable__label sk-toggleable__label-arrow\">nums</label><div class=\"sk-toggleable__content\"><pre>[&#x27;amount_tsh&#x27;, &#x27;gps_height&#x27;, &#x27;longitude&#x27;, &#x27;latitude&#x27;, &#x27;num_private&#x27;, &#x27;region_code&#x27;, &#x27;district_code&#x27;, &#x27;population&#x27;, &#x27;age_years&#x27;]</pre></div></div></div><div class=\"sk-serial\"><div class=\"sk-item\"><div class=\"sk-serial\"><div class=\"sk-item\"><div class=\"sk-estimator sk-toggleable\"><input class=\"sk-toggleable__control sk-hidden--visually\" id=\"sk-estimator-id-4\" type=\"checkbox\" ><label for=\"sk-estimator-id-4\" class=\"sk-toggleable__label sk-toggleable__label-arrow\">SimpleImputer</label><div class=\"sk-toggleable__content\"><pre>SimpleImputer(add_indicator=True)</pre></div></div></div><div class=\"sk-item\"><div class=\"sk-estimator sk-toggleable\"><input class=\"sk-toggleable__control sk-hidden--visually\" id=\"sk-estimator-id-5\" type=\"checkbox\" ><label for=\"sk-estimator-id-5\" class=\"sk-toggleable__label sk-toggleable__label-arrow\">StandardScaler</label><div class=\"sk-toggleable__content\"><pre>StandardScaler()</pre></div></div></div></div></div></div></div></div><div class=\"sk-parallel-item\"><div class=\"sk-item\"><div class=\"sk-label-container\"><div class=\"sk-label sk-toggleable\"><input class=\"sk-toggleable__control sk-hidden--visually\" id=\"sk-estimator-id-6\" type=\"checkbox\" ><label for=\"sk-estimator-id-6\" class=\"sk-toggleable__label sk-toggleable__label-arrow\">cats</label><div class=\"sk-toggleable__content\"><pre>[&#x27;funder&#x27;, &#x27;installer&#x27;, &#x27;basin&#x27;, &#x27;lga&#x27;, &#x27;public_meeting&#x27;, &#x27;scheme_name&#x27;, &#x27;permit&#x27;, &#x27;extraction_type&#x27;, &#x27;extraction_type_class&#x27;, &#x27;management&#x27;, &#x27;payment&#x27;, &#x27;water_quality&#x27;, &#x27;quantity&#x27;, &#x27;source&#x27;, &#x27;source_class&#x27;, &#x27;waterpoint_type&#x27;]</pre></div></div></div><div class=\"sk-serial\"><div class=\"sk-item\"><div class=\"sk-serial\"><div class=\"sk-item\"><div class=\"sk-estimator sk-toggleable\"><input class=\"sk-toggleable__control sk-hidden--visually\" id=\"sk-estimator-id-7\" type=\"checkbox\" ><label for=\"sk-estimator-id-7\" class=\"sk-toggleable__label sk-toggleable__label-arrow\">SimpleImputer</label><div class=\"sk-toggleable__content\"><pre>SimpleImputer(add_indicator=True, strategy=&#x27;most_frequent&#x27;)</pre></div></div></div><div class=\"sk-item\"><div class=\"sk-estimator sk-toggleable\"><input class=\"sk-toggleable__control sk-hidden--visually\" id=\"sk-estimator-id-8\" type=\"checkbox\" ><label for=\"sk-estimator-id-8\" class=\"sk-toggleable__label sk-toggleable__label-arrow\">OneHotEncoder</label><div class=\"sk-toggleable__content\"><pre>OneHotEncoder(handle_unknown=&#x27;ignore&#x27;)</pre></div></div></div></div></div></div></div></div><div class=\"sk-parallel-item\"><div class=\"sk-item\"><div class=\"sk-label-container\"><div class=\"sk-label sk-toggleable\"><input class=\"sk-toggleable__control sk-hidden--visually\" id=\"sk-estimator-id-9\" type=\"checkbox\" ><label for=\"sk-estimator-id-9\" class=\"sk-toggleable__label sk-toggleable__label-arrow\">remainder</label><div class=\"sk-toggleable__content\"><pre>[]</pre></div></div></div><div class=\"sk-serial\"><div class=\"sk-item\"><div class=\"sk-estimator sk-toggleable\"><input class=\"sk-toggleable__control sk-hidden--visually\" id=\"sk-estimator-id-10\" type=\"checkbox\" ><label for=\"sk-estimator-id-10\" class=\"sk-toggleable__label sk-toggleable__label-arrow\">passthrough</label><div class=\"sk-toggleable__content\"><pre>passthrough</pre></div></div></div></div></div></div></div></div><div class=\"sk-item\"><div class=\"sk-estimator sk-toggleable\"><input class=\"sk-toggleable__control sk-hidden--visually\" id=\"sk-estimator-id-11\" type=\"checkbox\" ><label for=\"sk-estimator-id-11\" class=\"sk-toggleable__label sk-toggleable__label-arrow\">SMOTE</label><div class=\"sk-toggleable__content\"><pre>SMOTE()</pre></div></div></div><div class=\"sk-item\"><div class=\"sk-estimator sk-toggleable\"><input class=\"sk-toggleable__control sk-hidden--visually\" id=\"sk-estimator-id-12\" type=\"checkbox\" ><label for=\"sk-estimator-id-12\" class=\"sk-toggleable__label sk-toggleable__label-arrow\">LogisticRegression</label><div class=\"sk-toggleable__content\"><pre>LogisticRegression(multi_class=&#x27;multinomial&#x27;, n_jobs=-1)</pre></div></div></div></div></div></div></div>"
      ],
      "text/plain": [
       "Pipeline(steps=[('ct',\n",
       "                 ColumnTransformer(n_jobs=-1, remainder='passthrough',\n",
       "                                   transformers=[('nums',\n",
       "                                                  Pipeline(steps=[('num_impute',\n",
       "                                                                   SimpleImputer(add_indicator=True)),\n",
       "                                                                  ('ss',\n",
       "                                                                   StandardScaler())]),\n",
       "                                                  ['amount_tsh', 'gps_height',\n",
       "                                                   'longitude', 'latitude',\n",
       "                                                   'num_private', 'region_code',\n",
       "                                                   'district_code',\n",
       "                                                   'population', 'age_years']),\n",
       "                                                 ('cats',\n",
       "                                                  Pipeline(steps=[('cat_impute',\n",
       "                                                                   Simp...\n",
       "                                                                  ('ohe',\n",
       "                                                                   OneHotEncoder(handle_unknown='ignore'))]),\n",
       "                                                  ['funder', 'installer',\n",
       "                                                   'basin', 'lga',\n",
       "                                                   'public_meeting',\n",
       "                                                   'scheme_name', 'permit',\n",
       "                                                   'extraction_type',\n",
       "                                                   'extraction_type_class',\n",
       "                                                   'management', 'payment',\n",
       "                                                   'water_quality', 'quantity',\n",
       "                                                   'source', 'source_class',\n",
       "                                                   'waterpoint_type'])])),\n",
       "                ('smote', SMOTE()),\n",
       "                ('model_2',\n",
       "                 LogisticRegression(multi_class='multinomial', n_jobs=-1))])"
      ]
     },
     "execution_count": 11,
     "metadata": {},
     "output_type": "execute_result"
    }
   ],
   "source": [
    "# smote pipeline\n",
    "model_2 = Pipeline([\n",
    "    ('ct', ct),\n",
    "    ('smote', SMOTE()),\n",
    "    ('model_2', LogisticRegression(multi_class='multinomial', n_jobs=-1))\n",
    "])\n",
    "\n",
    "model_2.fit(X_train, y_train)"
   ]
  },
  {
   "cell_type": "code",
   "execution_count": 12,
   "metadata": {
    "ExecuteTime": {
     "end_time": "2023-10-07T20:35:42.218172Z",
     "start_time": "2023-10-07T20:35:42.203158Z"
    },
    "hidden": true
   },
   "outputs": [],
   "source": [
    "# large grid search 2 (with SMOTE)\n",
    "# 320 models\n",
    "\n",
    "# using the hyperparameter intuitions from search 1\n",
    "params = {\n",
    "    'ct__nums__num_impute__strategy': ['mean', 'median'],\n",
    "    'smote__sampling_strategy': ['auto', {1: 0.25, 2: 0.8}, {1: 0.5,2: 0.8}, {1: 0.25, 2: 1}, {1: 0.5,2: 1}], \n",
    "    'model_2__class_weight': [None],\n",
    "    'model_2__penalty': ['l2'],\n",
    "    'model_2__solver' : ['lbfgs', 'newton-cg'],\n",
    "    'model_2__max_iter': [100, 1000],\n",
    "    'model_2__C' : [1e4, 1e5, 1e6, 1e7],\n",
    "    'model_2__tol' : [0.001, 0.01]\n",
    "}\n",
    "\n",
    "search_2 = GridSearchCV(model_2, params, n_jobs=-1)"
   ]
  },
  {
   "cell_type": "code",
   "execution_count": 13,
   "metadata": {
    "ExecuteTime": {
     "end_time": "2023-10-08T07:40:05.298457Z",
     "start_time": "2023-10-07T20:37:40.969340Z"
    },
    "hidden": true
   },
   "outputs": [
    {
     "name": "stderr",
     "output_type": "stream",
     "text": [
      "C:\\Users\\heefj\\anaconda3\\envs\\learn-env\\lib\\site-packages\\sklearn\\model_selection\\_validation.py:425: FitFailedWarning: \n",
      "1280 fits failed out of a total of 1600.\n",
      "The score on these train-test partitions for these parameters will be set to nan.\n",
      "If these failures are not expected, you can try to debug them by setting error_score='raise'.\n",
      "\n",
      "Below are more details about the failures:\n",
      "--------------------------------------------------------------------------------\n",
      "640 fits failed with the following error:\n",
      "Traceback (most recent call last):\n",
      "  File \"C:\\Users\\heefj\\anaconda3\\envs\\learn-env\\lib\\site-packages\\sklearn\\model_selection\\_validation.py\", line 729, in _fit_and_score\n",
      "    estimator.fit(X_train, y_train, **fit_params)\n",
      "  File \"C:\\Users\\heefj\\anaconda3\\envs\\learn-env\\lib\\site-packages\\imblearn\\pipeline.py\", line 293, in fit\n",
      "    Xt, yt = self._fit(X, y, **fit_params_steps)\n",
      "  File \"C:\\Users\\heefj\\anaconda3\\envs\\learn-env\\lib\\site-packages\\imblearn\\pipeline.py\", line 250, in _fit\n",
      "    X, y, fitted_transformer = fit_resample_one_cached(\n",
      "  File \"C:\\Users\\heefj\\anaconda3\\envs\\learn-env\\lib\\site-packages\\joblib\\memory.py\", line 353, in __call__\n",
      "    return self.func(*args, **kwargs)\n",
      "  File \"C:\\Users\\heefj\\anaconda3\\envs\\learn-env\\lib\\site-packages\\imblearn\\pipeline.py\", line 422, in _fit_resample_one\n",
      "    X_res, y_res = sampler.fit_resample(X, y, **fit_params)\n",
      "  File \"C:\\Users\\heefj\\anaconda3\\envs\\learn-env\\lib\\site-packages\\imblearn\\base.py\", line 208, in fit_resample\n",
      "    return super().fit_resample(X, y)\n",
      "  File \"C:\\Users\\heefj\\anaconda3\\envs\\learn-env\\lib\\site-packages\\imblearn\\base.py\", line 108, in fit_resample\n",
      "    self.sampling_strategy_ = check_sampling_strategy(\n",
      "  File \"C:\\Users\\heefj\\anaconda3\\envs\\learn-env\\lib\\site-packages\\imblearn\\utils\\_validation.py\", line 536, in check_sampling_strategy\n",
      "    sorted(_sampling_strategy_dict(sampling_strategy, y, sampling_type).items())\n",
      "  File \"C:\\Users\\heefj\\anaconda3\\envs\\learn-env\\lib\\site-packages\\imblearn\\utils\\_validation.py\", line 314, in _sampling_strategy_dict\n",
      "    raise ValueError(\n",
      "ValueError: With over-sampling methods, the number of samples in a class should be greater or equal to the original number of samples. Originally, there is 2760 samples and 0.25 samples are asked.\n",
      "\n",
      "--------------------------------------------------------------------------------\n",
      "640 fits failed with the following error:\n",
      "Traceback (most recent call last):\n",
      "  File \"C:\\Users\\heefj\\anaconda3\\envs\\learn-env\\lib\\site-packages\\sklearn\\model_selection\\_validation.py\", line 729, in _fit_and_score\n",
      "    estimator.fit(X_train, y_train, **fit_params)\n",
      "  File \"C:\\Users\\heefj\\anaconda3\\envs\\learn-env\\lib\\site-packages\\imblearn\\pipeline.py\", line 293, in fit\n",
      "    Xt, yt = self._fit(X, y, **fit_params_steps)\n",
      "  File \"C:\\Users\\heefj\\anaconda3\\envs\\learn-env\\lib\\site-packages\\imblearn\\pipeline.py\", line 250, in _fit\n",
      "    X, y, fitted_transformer = fit_resample_one_cached(\n",
      "  File \"C:\\Users\\heefj\\anaconda3\\envs\\learn-env\\lib\\site-packages\\joblib\\memory.py\", line 353, in __call__\n",
      "    return self.func(*args, **kwargs)\n",
      "  File \"C:\\Users\\heefj\\anaconda3\\envs\\learn-env\\lib\\site-packages\\imblearn\\pipeline.py\", line 422, in _fit_resample_one\n",
      "    X_res, y_res = sampler.fit_resample(X, y, **fit_params)\n",
      "  File \"C:\\Users\\heefj\\anaconda3\\envs\\learn-env\\lib\\site-packages\\imblearn\\base.py\", line 208, in fit_resample\n",
      "    return super().fit_resample(X, y)\n",
      "  File \"C:\\Users\\heefj\\anaconda3\\envs\\learn-env\\lib\\site-packages\\imblearn\\base.py\", line 108, in fit_resample\n",
      "    self.sampling_strategy_ = check_sampling_strategy(\n",
      "  File \"C:\\Users\\heefj\\anaconda3\\envs\\learn-env\\lib\\site-packages\\imblearn\\utils\\_validation.py\", line 536, in check_sampling_strategy\n",
      "    sorted(_sampling_strategy_dict(sampling_strategy, y, sampling_type).items())\n",
      "  File \"C:\\Users\\heefj\\anaconda3\\envs\\learn-env\\lib\\site-packages\\imblearn\\utils\\_validation.py\", line 314, in _sampling_strategy_dict\n",
      "    raise ValueError(\n",
      "ValueError: With over-sampling methods, the number of samples in a class should be greater or equal to the original number of samples. Originally, there is 2760 samples and 0.5 samples are asked.\n",
      "\n",
      "  warnings.warn(some_fits_failed_message, FitFailedWarning)\n",
      "C:\\Users\\heefj\\anaconda3\\envs\\learn-env\\lib\\site-packages\\sklearn\\model_selection\\_search.py:979: UserWarning: One or more of the test scores are non-finite: [0.67805135        nan        nan        nan        nan 0.67908249\n",
      "        nan        nan        nan        nan 0.69189815        nan\n",
      "        nan        nan        nan 0.69267677        nan        nan\n",
      "        nan        nan 0.69305556        nan        nan        nan\n",
      "        nan 0.69465488        nan        nan        nan        nan\n",
      " 0.69301347        nan        nan        nan        nan 0.69280303\n",
      "        nan        nan        nan        nan 0.67885101        nan\n",
      "        nan        nan        nan 0.67962963        nan        nan\n",
      "        nan        nan 0.69271886        nan        nan        nan\n",
      "        nan 0.69290825        nan        nan        nan        nan\n",
      " 0.69478114        nan        nan        nan        nan 0.69457071\n",
      "        nan        nan        nan        nan 0.69372896        nan\n",
      "        nan        nan        nan 0.69124579        nan        nan\n",
      "        nan        nan 0.67918771        nan        nan        nan\n",
      "        nan 0.67933502        nan        nan        nan        nan\n",
      " 0.69311869        nan        nan        nan        nan 0.69322391\n",
      "        nan        nan        nan        nan 0.69520202        nan\n",
      "        nan        nan        nan 0.69398148        nan        nan\n",
      "        nan        nan 0.69177189        nan        nan        nan\n",
      "        nan 0.69215067        nan        nan        nan        nan\n",
      " 0.68034512        nan        nan        nan        nan 0.68068182\n",
      "        nan        nan        nan        nan 0.69147727        nan\n",
      "        nan        nan        nan 0.69290825        nan        nan\n",
      "        nan        nan 0.69414983        nan        nan        nan\n",
      "        nan 0.69366582        nan        nan        nan        nan\n",
      " 0.69078283        nan        nan        nan        nan 0.69267677\n",
      "        nan        nan        nan        nan 0.67973485        nan\n",
      "        nan        nan        nan 0.68188131        nan        nan\n",
      "        nan        nan 0.69181397        nan        nan        nan\n",
      "        nan 0.69196128        nan        nan        nan        nan\n",
      " 0.69417088        nan        nan        nan        nan 0.69257155\n",
      "        nan        nan        nan        nan 0.69267677        nan\n",
      "        nan        nan        nan 0.69236111        nan        nan\n",
      "        nan        nan 0.67758838        nan        nan        nan\n",
      "        nan 0.67992424        nan        nan        nan        nan\n",
      " 0.69114057        nan        nan        nan        nan 0.69244529\n",
      "        nan        nan        nan        nan 0.69541246        nan\n",
      "        nan        nan        nan 0.69204545        nan        nan\n",
      "        nan        nan 0.69025673        nan        nan        nan\n",
      "        nan 0.69084596        nan        nan        nan        nan\n",
      " 0.67925084        nan        nan        nan        nan 0.67887205\n",
      "        nan        nan        nan        nan 0.69305556        nan\n",
      "        nan        nan        nan 0.69181397        nan        nan\n",
      "        nan        nan 0.6944234         nan        nan        nan\n",
      "        nan 0.69429714        nan        nan        nan        nan\n",
      " 0.69175084        nan        nan        nan        nan 0.68968855\n",
      "        nan        nan        nan        nan 0.67813552        nan\n",
      "        nan        nan        nan 0.67853535        nan        nan\n",
      "        nan        nan 0.69385522        nan        nan        nan\n",
      "        nan 0.69076178        nan        nan        nan        nan\n",
      " 0.69436027        nan        nan        nan        nan 0.69572811\n",
      "        nan        nan        nan        nan 0.68924663        nan\n",
      "        nan        nan        nan 0.69200337        nan        nan\n",
      "        nan        nan]\n",
      "  warnings.warn(\n"
     ]
    },
    {
     "data": {
      "text/html": [
       "<style>#sk-container-id-2 {color: black;}#sk-container-id-2 pre{padding: 0;}#sk-container-id-2 div.sk-toggleable {background-color: white;}#sk-container-id-2 label.sk-toggleable__label {cursor: pointer;display: block;width: 100%;margin-bottom: 0;padding: 0.3em;box-sizing: border-box;text-align: center;}#sk-container-id-2 label.sk-toggleable__label-arrow:before {content: \"▸\";float: left;margin-right: 0.25em;color: #696969;}#sk-container-id-2 label.sk-toggleable__label-arrow:hover:before {color: black;}#sk-container-id-2 div.sk-estimator:hover label.sk-toggleable__label-arrow:before {color: black;}#sk-container-id-2 div.sk-toggleable__content {max-height: 0;max-width: 0;overflow: hidden;text-align: left;background-color: #f0f8ff;}#sk-container-id-2 div.sk-toggleable__content pre {margin: 0.2em;color: black;border-radius: 0.25em;background-color: #f0f8ff;}#sk-container-id-2 input.sk-toggleable__control:checked~div.sk-toggleable__content {max-height: 200px;max-width: 100%;overflow: auto;}#sk-container-id-2 input.sk-toggleable__control:checked~label.sk-toggleable__label-arrow:before {content: \"▾\";}#sk-container-id-2 div.sk-estimator input.sk-toggleable__control:checked~label.sk-toggleable__label {background-color: #d4ebff;}#sk-container-id-2 div.sk-label input.sk-toggleable__control:checked~label.sk-toggleable__label {background-color: #d4ebff;}#sk-container-id-2 input.sk-hidden--visually {border: 0;clip: rect(1px 1px 1px 1px);clip: rect(1px, 1px, 1px, 1px);height: 1px;margin: -1px;overflow: hidden;padding: 0;position: absolute;width: 1px;}#sk-container-id-2 div.sk-estimator {font-family: monospace;background-color: #f0f8ff;border: 1px dotted black;border-radius: 0.25em;box-sizing: border-box;margin-bottom: 0.5em;}#sk-container-id-2 div.sk-estimator:hover {background-color: #d4ebff;}#sk-container-id-2 div.sk-parallel-item::after {content: \"\";width: 100%;border-bottom: 1px solid gray;flex-grow: 1;}#sk-container-id-2 div.sk-label:hover label.sk-toggleable__label {background-color: #d4ebff;}#sk-container-id-2 div.sk-serial::before {content: \"\";position: absolute;border-left: 1px solid gray;box-sizing: border-box;top: 0;bottom: 0;left: 50%;z-index: 0;}#sk-container-id-2 div.sk-serial {display: flex;flex-direction: column;align-items: center;background-color: white;padding-right: 0.2em;padding-left: 0.2em;position: relative;}#sk-container-id-2 div.sk-item {position: relative;z-index: 1;}#sk-container-id-2 div.sk-parallel {display: flex;align-items: stretch;justify-content: center;background-color: white;position: relative;}#sk-container-id-2 div.sk-item::before, #sk-container-id-2 div.sk-parallel-item::before {content: \"\";position: absolute;border-left: 1px solid gray;box-sizing: border-box;top: 0;bottom: 0;left: 50%;z-index: -1;}#sk-container-id-2 div.sk-parallel-item {display: flex;flex-direction: column;z-index: 1;position: relative;background-color: white;}#sk-container-id-2 div.sk-parallel-item:first-child::after {align-self: flex-end;width: 50%;}#sk-container-id-2 div.sk-parallel-item:last-child::after {align-self: flex-start;width: 50%;}#sk-container-id-2 div.sk-parallel-item:only-child::after {width: 0;}#sk-container-id-2 div.sk-dashed-wrapped {border: 1px dashed gray;margin: 0 0.4em 0.5em 0.4em;box-sizing: border-box;padding-bottom: 0.4em;background-color: white;}#sk-container-id-2 div.sk-label label {font-family: monospace;font-weight: bold;display: inline-block;line-height: 1.2em;}#sk-container-id-2 div.sk-label-container {text-align: center;}#sk-container-id-2 div.sk-container {/* jupyter's `normalize.less` sets `[hidden] { display: none; }` but bootstrap.min.css set `[hidden] { display: none !important; }` so we also need the `!important` here to be able to override the default hidden behavior on the sphinx rendered scikit-learn.org. See: https://github.com/scikit-learn/scikit-learn/issues/21755 */display: inline-block !important;position: relative;}#sk-container-id-2 div.sk-text-repr-fallback {display: none;}</style><div id=\"sk-container-id-2\" class=\"sk-top-container\"><div class=\"sk-text-repr-fallback\"><pre>GridSearchCV(estimator=Pipeline(steps=[(&#x27;ct&#x27;,\n",
       "                                        ColumnTransformer(n_jobs=-1,\n",
       "                                                          remainder=&#x27;passthrough&#x27;,\n",
       "                                                          transformers=[(&#x27;nums&#x27;,\n",
       "                                                                         Pipeline(steps=[(&#x27;num_impute&#x27;,\n",
       "                                                                                          SimpleImputer(add_indicator=True)),\n",
       "                                                                                         (&#x27;ss&#x27;,\n",
       "                                                                                          StandardScaler())]),\n",
       "                                                                         [&#x27;amount_tsh&#x27;,\n",
       "                                                                          &#x27;gps_height&#x27;,\n",
       "                                                                          &#x27;longitude&#x27;,\n",
       "                                                                          &#x27;latitude&#x27;,\n",
       "                                                                          &#x27;num_private&#x27;,\n",
       "                                                                          &#x27;region_code&#x27;,\n",
       "                                                                          &#x27;district_code&#x27;,\n",
       "                                                                          &#x27;population&#x27;,\n",
       "                                                                          &#x27;age_years&#x27;]),\n",
       "                                                                        (&#x27;cats&#x27;,\n",
       "                                                                         Pipeline(st...\n",
       "             param_grid={&#x27;ct__nums__num_impute__strategy&#x27;: [&#x27;mean&#x27;, &#x27;median&#x27;],\n",
       "                         &#x27;model_2__C&#x27;: [10000.0, 100000.0, 1000000.0,\n",
       "                                        10000000.0],\n",
       "                         &#x27;model_2__class_weight&#x27;: [None],\n",
       "                         &#x27;model_2__max_iter&#x27;: [100, 1000],\n",
       "                         &#x27;model_2__penalty&#x27;: [&#x27;l2&#x27;],\n",
       "                         &#x27;model_2__solver&#x27;: [&#x27;lbfgs&#x27;, &#x27;newton-cg&#x27;],\n",
       "                         &#x27;model_2__tol&#x27;: [0.001, 0.01],\n",
       "                         &#x27;smote__sampling_strategy&#x27;: [&#x27;auto&#x27;, {1: 0.25, 2: 0.8},\n",
       "                                                      {1: 0.5, 2: 0.8},\n",
       "                                                      {1: 0.25, 2: 1},\n",
       "                                                      {1: 0.5, 2: 1}]})</pre><b>In a Jupyter environment, please rerun this cell to show the HTML representation or trust the notebook. <br />On GitHub, the HTML representation is unable to render, please try loading this page with nbviewer.org.</b></div><div class=\"sk-container\" hidden><div class=\"sk-item sk-dashed-wrapped\"><div class=\"sk-label-container\"><div class=\"sk-label sk-toggleable\"><input class=\"sk-toggleable__control sk-hidden--visually\" id=\"sk-estimator-id-13\" type=\"checkbox\" ><label for=\"sk-estimator-id-13\" class=\"sk-toggleable__label sk-toggleable__label-arrow\">GridSearchCV</label><div class=\"sk-toggleable__content\"><pre>GridSearchCV(estimator=Pipeline(steps=[(&#x27;ct&#x27;,\n",
       "                                        ColumnTransformer(n_jobs=-1,\n",
       "                                                          remainder=&#x27;passthrough&#x27;,\n",
       "                                                          transformers=[(&#x27;nums&#x27;,\n",
       "                                                                         Pipeline(steps=[(&#x27;num_impute&#x27;,\n",
       "                                                                                          SimpleImputer(add_indicator=True)),\n",
       "                                                                                         (&#x27;ss&#x27;,\n",
       "                                                                                          StandardScaler())]),\n",
       "                                                                         [&#x27;amount_tsh&#x27;,\n",
       "                                                                          &#x27;gps_height&#x27;,\n",
       "                                                                          &#x27;longitude&#x27;,\n",
       "                                                                          &#x27;latitude&#x27;,\n",
       "                                                                          &#x27;num_private&#x27;,\n",
       "                                                                          &#x27;region_code&#x27;,\n",
       "                                                                          &#x27;district_code&#x27;,\n",
       "                                                                          &#x27;population&#x27;,\n",
       "                                                                          &#x27;age_years&#x27;]),\n",
       "                                                                        (&#x27;cats&#x27;,\n",
       "                                                                         Pipeline(st...\n",
       "             param_grid={&#x27;ct__nums__num_impute__strategy&#x27;: [&#x27;mean&#x27;, &#x27;median&#x27;],\n",
       "                         &#x27;model_2__C&#x27;: [10000.0, 100000.0, 1000000.0,\n",
       "                                        10000000.0],\n",
       "                         &#x27;model_2__class_weight&#x27;: [None],\n",
       "                         &#x27;model_2__max_iter&#x27;: [100, 1000],\n",
       "                         &#x27;model_2__penalty&#x27;: [&#x27;l2&#x27;],\n",
       "                         &#x27;model_2__solver&#x27;: [&#x27;lbfgs&#x27;, &#x27;newton-cg&#x27;],\n",
       "                         &#x27;model_2__tol&#x27;: [0.001, 0.01],\n",
       "                         &#x27;smote__sampling_strategy&#x27;: [&#x27;auto&#x27;, {1: 0.25, 2: 0.8},\n",
       "                                                      {1: 0.5, 2: 0.8},\n",
       "                                                      {1: 0.25, 2: 1},\n",
       "                                                      {1: 0.5, 2: 1}]})</pre></div></div></div><div class=\"sk-parallel\"><div class=\"sk-parallel-item\"><div class=\"sk-item\"><div class=\"sk-label-container\"><div class=\"sk-label sk-toggleable\"><input class=\"sk-toggleable__control sk-hidden--visually\" id=\"sk-estimator-id-14\" type=\"checkbox\" ><label for=\"sk-estimator-id-14\" class=\"sk-toggleable__label sk-toggleable__label-arrow\">estimator: Pipeline</label><div class=\"sk-toggleable__content\"><pre>Pipeline(steps=[(&#x27;ct&#x27;,\n",
       "                 ColumnTransformer(n_jobs=-1, remainder=&#x27;passthrough&#x27;,\n",
       "                                   transformers=[(&#x27;nums&#x27;,\n",
       "                                                  Pipeline(steps=[(&#x27;num_impute&#x27;,\n",
       "                                                                   SimpleImputer(add_indicator=True)),\n",
       "                                                                  (&#x27;ss&#x27;,\n",
       "                                                                   StandardScaler())]),\n",
       "                                                  [&#x27;amount_tsh&#x27;, &#x27;gps_height&#x27;,\n",
       "                                                   &#x27;longitude&#x27;, &#x27;latitude&#x27;,\n",
       "                                                   &#x27;num_private&#x27;, &#x27;region_code&#x27;,\n",
       "                                                   &#x27;district_code&#x27;,\n",
       "                                                   &#x27;population&#x27;, &#x27;age_years&#x27;]),\n",
       "                                                 (&#x27;cats&#x27;,\n",
       "                                                  Pipeline(steps=[(&#x27;cat_impute&#x27;,\n",
       "                                                                   Simp...\n",
       "                                                                  (&#x27;ohe&#x27;,\n",
       "                                                                   OneHotEncoder(handle_unknown=&#x27;ignore&#x27;))]),\n",
       "                                                  [&#x27;funder&#x27;, &#x27;installer&#x27;,\n",
       "                                                   &#x27;basin&#x27;, &#x27;lga&#x27;,\n",
       "                                                   &#x27;public_meeting&#x27;,\n",
       "                                                   &#x27;scheme_name&#x27;, &#x27;permit&#x27;,\n",
       "                                                   &#x27;extraction_type&#x27;,\n",
       "                                                   &#x27;extraction_type_class&#x27;,\n",
       "                                                   &#x27;management&#x27;, &#x27;payment&#x27;,\n",
       "                                                   &#x27;water_quality&#x27;, &#x27;quantity&#x27;,\n",
       "                                                   &#x27;source&#x27;, &#x27;source_class&#x27;,\n",
       "                                                   &#x27;waterpoint_type&#x27;])])),\n",
       "                (&#x27;smote&#x27;, SMOTE()),\n",
       "                (&#x27;model_2&#x27;,\n",
       "                 LogisticRegression(multi_class=&#x27;multinomial&#x27;, n_jobs=-1))])</pre></div></div></div><div class=\"sk-serial\"><div class=\"sk-item\"><div class=\"sk-serial\"><div class=\"sk-item sk-dashed-wrapped\"><div class=\"sk-label-container\"><div class=\"sk-label sk-toggleable\"><input class=\"sk-toggleable__control sk-hidden--visually\" id=\"sk-estimator-id-15\" type=\"checkbox\" ><label for=\"sk-estimator-id-15\" class=\"sk-toggleable__label sk-toggleable__label-arrow\">ct: ColumnTransformer</label><div class=\"sk-toggleable__content\"><pre>ColumnTransformer(n_jobs=-1, remainder=&#x27;passthrough&#x27;,\n",
       "                  transformers=[(&#x27;nums&#x27;,\n",
       "                                 Pipeline(steps=[(&#x27;num_impute&#x27;,\n",
       "                                                  SimpleImputer(add_indicator=True)),\n",
       "                                                 (&#x27;ss&#x27;, StandardScaler())]),\n",
       "                                 [&#x27;amount_tsh&#x27;, &#x27;gps_height&#x27;, &#x27;longitude&#x27;,\n",
       "                                  &#x27;latitude&#x27;, &#x27;num_private&#x27;, &#x27;region_code&#x27;,\n",
       "                                  &#x27;district_code&#x27;, &#x27;population&#x27;, &#x27;age_years&#x27;]),\n",
       "                                (&#x27;cats&#x27;,\n",
       "                                 Pipeline(steps=[(&#x27;cat_impute&#x27;,\n",
       "                                                  SimpleImputer(add_indicator=True,\n",
       "                                                                strategy=&#x27;most_frequent&#x27;)),\n",
       "                                                 (&#x27;ohe&#x27;,\n",
       "                                                  OneHotEncoder(handle_unknown=&#x27;ignore&#x27;))]),\n",
       "                                 [&#x27;funder&#x27;, &#x27;installer&#x27;, &#x27;basin&#x27;, &#x27;lga&#x27;,\n",
       "                                  &#x27;public_meeting&#x27;, &#x27;scheme_name&#x27;, &#x27;permit&#x27;,\n",
       "                                  &#x27;extraction_type&#x27;, &#x27;extraction_type_class&#x27;,\n",
       "                                  &#x27;management&#x27;, &#x27;payment&#x27;, &#x27;water_quality&#x27;,\n",
       "                                  &#x27;quantity&#x27;, &#x27;source&#x27;, &#x27;source_class&#x27;,\n",
       "                                  &#x27;waterpoint_type&#x27;])])</pre></div></div></div><div class=\"sk-parallel\"><div class=\"sk-parallel-item\"><div class=\"sk-item\"><div class=\"sk-label-container\"><div class=\"sk-label sk-toggleable\"><input class=\"sk-toggleable__control sk-hidden--visually\" id=\"sk-estimator-id-16\" type=\"checkbox\" ><label for=\"sk-estimator-id-16\" class=\"sk-toggleable__label sk-toggleable__label-arrow\">nums</label><div class=\"sk-toggleable__content\"><pre>[&#x27;amount_tsh&#x27;, &#x27;gps_height&#x27;, &#x27;longitude&#x27;, &#x27;latitude&#x27;, &#x27;num_private&#x27;, &#x27;region_code&#x27;, &#x27;district_code&#x27;, &#x27;population&#x27;, &#x27;age_years&#x27;]</pre></div></div></div><div class=\"sk-serial\"><div class=\"sk-item\"><div class=\"sk-serial\"><div class=\"sk-item\"><div class=\"sk-estimator sk-toggleable\"><input class=\"sk-toggleable__control sk-hidden--visually\" id=\"sk-estimator-id-17\" type=\"checkbox\" ><label for=\"sk-estimator-id-17\" class=\"sk-toggleable__label sk-toggleable__label-arrow\">SimpleImputer</label><div class=\"sk-toggleable__content\"><pre>SimpleImputer(add_indicator=True)</pre></div></div></div><div class=\"sk-item\"><div class=\"sk-estimator sk-toggleable\"><input class=\"sk-toggleable__control sk-hidden--visually\" id=\"sk-estimator-id-18\" type=\"checkbox\" ><label for=\"sk-estimator-id-18\" class=\"sk-toggleable__label sk-toggleable__label-arrow\">StandardScaler</label><div class=\"sk-toggleable__content\"><pre>StandardScaler()</pre></div></div></div></div></div></div></div></div><div class=\"sk-parallel-item\"><div class=\"sk-item\"><div class=\"sk-label-container\"><div class=\"sk-label sk-toggleable\"><input class=\"sk-toggleable__control sk-hidden--visually\" id=\"sk-estimator-id-19\" type=\"checkbox\" ><label for=\"sk-estimator-id-19\" class=\"sk-toggleable__label sk-toggleable__label-arrow\">cats</label><div class=\"sk-toggleable__content\"><pre>[&#x27;funder&#x27;, &#x27;installer&#x27;, &#x27;basin&#x27;, &#x27;lga&#x27;, &#x27;public_meeting&#x27;, &#x27;scheme_name&#x27;, &#x27;permit&#x27;, &#x27;extraction_type&#x27;, &#x27;extraction_type_class&#x27;, &#x27;management&#x27;, &#x27;payment&#x27;, &#x27;water_quality&#x27;, &#x27;quantity&#x27;, &#x27;source&#x27;, &#x27;source_class&#x27;, &#x27;waterpoint_type&#x27;]</pre></div></div></div><div class=\"sk-serial\"><div class=\"sk-item\"><div class=\"sk-serial\"><div class=\"sk-item\"><div class=\"sk-estimator sk-toggleable\"><input class=\"sk-toggleable__control sk-hidden--visually\" id=\"sk-estimator-id-20\" type=\"checkbox\" ><label for=\"sk-estimator-id-20\" class=\"sk-toggleable__label sk-toggleable__label-arrow\">SimpleImputer</label><div class=\"sk-toggleable__content\"><pre>SimpleImputer(add_indicator=True, strategy=&#x27;most_frequent&#x27;)</pre></div></div></div><div class=\"sk-item\"><div class=\"sk-estimator sk-toggleable\"><input class=\"sk-toggleable__control sk-hidden--visually\" id=\"sk-estimator-id-21\" type=\"checkbox\" ><label for=\"sk-estimator-id-21\" class=\"sk-toggleable__label sk-toggleable__label-arrow\">OneHotEncoder</label><div class=\"sk-toggleable__content\"><pre>OneHotEncoder(handle_unknown=&#x27;ignore&#x27;)</pre></div></div></div></div></div></div></div></div><div class=\"sk-parallel-item\"><div class=\"sk-item\"><div class=\"sk-label-container\"><div class=\"sk-label sk-toggleable\"><input class=\"sk-toggleable__control sk-hidden--visually\" id=\"sk-estimator-id-22\" type=\"checkbox\" ><label for=\"sk-estimator-id-22\" class=\"sk-toggleable__label sk-toggleable__label-arrow\">remainder</label><div class=\"sk-toggleable__content\"><pre>[]</pre></div></div></div><div class=\"sk-serial\"><div class=\"sk-item\"><div class=\"sk-estimator sk-toggleable\"><input class=\"sk-toggleable__control sk-hidden--visually\" id=\"sk-estimator-id-23\" type=\"checkbox\" ><label for=\"sk-estimator-id-23\" class=\"sk-toggleable__label sk-toggleable__label-arrow\">passthrough</label><div class=\"sk-toggleable__content\"><pre>passthrough</pre></div></div></div></div></div></div></div></div><div class=\"sk-item\"><div class=\"sk-estimator sk-toggleable\"><input class=\"sk-toggleable__control sk-hidden--visually\" id=\"sk-estimator-id-24\" type=\"checkbox\" ><label for=\"sk-estimator-id-24\" class=\"sk-toggleable__label sk-toggleable__label-arrow\">SMOTE</label><div class=\"sk-toggleable__content\"><pre>SMOTE()</pre></div></div></div><div class=\"sk-item\"><div class=\"sk-estimator sk-toggleable\"><input class=\"sk-toggleable__control sk-hidden--visually\" id=\"sk-estimator-id-25\" type=\"checkbox\" ><label for=\"sk-estimator-id-25\" class=\"sk-toggleable__label sk-toggleable__label-arrow\">LogisticRegression</label><div class=\"sk-toggleable__content\"><pre>LogisticRegression(multi_class=&#x27;multinomial&#x27;, n_jobs=-1)</pre></div></div></div></div></div></div></div></div></div></div></div></div>"
      ],
      "text/plain": [
       "GridSearchCV(estimator=Pipeline(steps=[('ct',\n",
       "                                        ColumnTransformer(n_jobs=-1,\n",
       "                                                          remainder='passthrough',\n",
       "                                                          transformers=[('nums',\n",
       "                                                                         Pipeline(steps=[('num_impute',\n",
       "                                                                                          SimpleImputer(add_indicator=True)),\n",
       "                                                                                         ('ss',\n",
       "                                                                                          StandardScaler())]),\n",
       "                                                                         ['amount_tsh',\n",
       "                                                                          'gps_height',\n",
       "                                                                          'longitude',\n",
       "                                                                          'latitude',\n",
       "                                                                          'num_private',\n",
       "                                                                          'region_code',\n",
       "                                                                          'district_code',\n",
       "                                                                          'population',\n",
       "                                                                          'age_years']),\n",
       "                                                                        ('cats',\n",
       "                                                                         Pipeline(st...\n",
       "             param_grid={'ct__nums__num_impute__strategy': ['mean', 'median'],\n",
       "                         'model_2__C': [10000.0, 100000.0, 1000000.0,\n",
       "                                        10000000.0],\n",
       "                         'model_2__class_weight': [None],\n",
       "                         'model_2__max_iter': [100, 1000],\n",
       "                         'model_2__penalty': ['l2'],\n",
       "                         'model_2__solver': ['lbfgs', 'newton-cg'],\n",
       "                         'model_2__tol': [0.001, 0.01],\n",
       "                         'smote__sampling_strategy': ['auto', {1: 0.25, 2: 0.8},\n",
       "                                                      {1: 0.5, 2: 0.8},\n",
       "                                                      {1: 0.25, 2: 1},\n",
       "                                                      {1: 0.5, 2: 1}]})"
      ]
     },
     "execution_count": 13,
     "metadata": {},
     "output_type": "execute_result"
    }
   ],
   "source": [
    "# DO NOT RUN THIS CELL\n",
    "\n",
    "# search_2.fit(X_train, y_train)"
   ]
  },
  {
   "cell_type": "code",
   "execution_count": 19,
   "metadata": {
    "ExecuteTime": {
     "end_time": "2023-10-08T23:13:13.779933Z",
     "start_time": "2023-10-08T23:13:13.777930Z"
    },
    "hidden": true
   },
   "outputs": [],
   "source": [
    "# get_df was not working for the smote cv_results\n",
    "\n",
    "# use get_df for multiclass grid search 2\n",
    "# multi_df_2 = get_df(grid_search=search_2, model_name='model_2', smote=True)\n",
    "# add smote col\n",
    "# multi_df_2['smote'] = 1\n",
    "\n",
    "# top 10 dys_accs\n",
    "# multi_df_2.sort_values('dys_acc', ascending=False)"
   ]
  },
  {
   "cell_type": "code",
   "execution_count": 21,
   "metadata": {
    "ExecuteTime": {
     "end_time": "2023-10-08T23:13:41.356943Z",
     "start_time": "2023-10-08T23:13:41.342930Z"
    },
    "hidden": true
   },
   "outputs": [
    {
     "data": {
      "text/plain": [
       "{'ct__nums__num_impute__strategy': 'median',\n",
       " 'model_2__C': 10000000.0,\n",
       " 'model_2__class_weight': None,\n",
       " 'model_2__max_iter': 1000,\n",
       " 'model_2__penalty': 'l2',\n",
       " 'model_2__solver': 'lbfgs',\n",
       " 'model_2__tol': 0.01,\n",
       " 'smote__sampling_strategy': 'auto'}"
      ]
     },
     "execution_count": 21,
     "metadata": {},
     "output_type": "execute_result"
    }
   ],
   "source": [
    "# get_df was not working for the smote cv_results so i manually got the best smote model\n",
    "\n",
    "search_2.best_params_"
   ]
  },
  {
   "cell_type": "markdown",
   "metadata": {
    "hidden": true
   },
   "source": [
    "Parameters of best smote model:\n",
    "- impute__strategy: 'median'\n",
    "- C: 10,000,000\n",
    "- class_weight: None\n",
    "- max_iter: 1000\n",
    "- penalty: 'l2'\n",
    "- solver: 'lbfgs'\n",
    "- tol: 0.01\n",
    "- smote__sampling_strategy: 'auto'"
   ]
  },
  {
   "cell_type": "code",
   "execution_count": 25,
   "metadata": {
    "ExecuteTime": {
     "end_time": "2023-10-08T23:18:05.563885Z",
     "start_time": "2023-10-08T23:17:24.548387Z"
    },
    "hidden": true
   },
   "outputs": [
    {
     "data": {
      "text/plain": [
       "(0.7195496632996633, 0.6918350168350168)"
      ]
     },
     "execution_count": 25,
     "metadata": {},
     "output_type": "execute_result"
    }
   ],
   "source": [
    "# accuracy scores for SMOTE best model\n",
    "\n",
    "best_model = Pipeline([\n",
    "    ('ct', ct),\n",
    "    ('smote', SMOTE()),\n",
    "    ('best_model', LogisticRegression(\n",
    "        multi_class='multinomial', C=10000000, max_iter=1000, solver='lbfgs', tol=0.01, n_jobs=-1))\n",
    "])\n",
    "\n",
    "best_model.fit(X_train, y_train)\n",
    "best_model.score(X_train, y_train), best_model.score(X_test, y_test)"
   ]
  },
  {
   "cell_type": "markdown",
   "metadata": {
    "hidden": true
   },
   "source": [
    "- Overall accuracy at 69.2%. This is 8.6% lower than the best model from search 1."
   ]
  },
  {
   "cell_type": "code",
   "execution_count": 26,
   "metadata": {
    "ExecuteTime": {
     "end_time": "2023-10-08T23:19:37.979799Z",
     "start_time": "2023-10-08T23:19:37.019926Z"
    },
    "hidden": true
   },
   "outputs": [
    {
     "data": {
      "text/plain": [
       "0.7038263428991905"
      ]
     },
     "execution_count": 26,
     "metadata": {},
     "output_type": "execute_result"
    }
   ],
   "source": [
    "dys_acc = calc_dys(best_model, X_test, y_test)\n",
    "dys_acc"
   ]
  },
  {
   "cell_type": "markdown",
   "metadata": {
    "hidden": true
   },
   "source": [
    "- Dysfunctional accuracy at 70.4% is 5.7% higher than the best model from search 1."
   ]
  },
  {
   "cell_type": "markdown",
   "metadata": {
    "heading_collapsed": true
   },
   "source": [
    "# Analyze best multi-class models:"
   ]
  },
  {
   "cell_type": "code",
   "execution_count": 59,
   "metadata": {
    "ExecuteTime": {
     "end_time": "2023-10-09T03:09:35.280948Z",
     "start_time": "2023-10-09T03:09:35.261930Z"
    },
    "hidden": true
   },
   "outputs": [
    {
     "data": {
      "text/html": [
       "<div>\n",
       "<style scoped>\n",
       "    .dataframe tbody tr th:only-of-type {\n",
       "        vertical-align: middle;\n",
       "    }\n",
       "\n",
       "    .dataframe tbody tr th {\n",
       "        vertical-align: top;\n",
       "    }\n",
       "\n",
       "    .dataframe thead th {\n",
       "        text-align: right;\n",
       "    }\n",
       "</style>\n",
       "<table border=\"1\" class=\"dataframe\">\n",
       "  <thead>\n",
       "    <tr style=\"text-align: right;\">\n",
       "      <th></th>\n",
       "      <th>name</th>\n",
       "      <th>test_acc</th>\n",
       "      <th>dys_acc</th>\n",
       "    </tr>\n",
       "  </thead>\n",
       "  <tbody>\n",
       "    <tr>\n",
       "      <th>0</th>\n",
       "      <td>search_1_best</td>\n",
       "      <td>0.7775</td>\n",
       "      <td>0.6469</td>\n",
       "    </tr>\n",
       "    <tr>\n",
       "      <th>1</th>\n",
       "      <td>search_2_best</td>\n",
       "      <td>0.6918</td>\n",
       "      <td>0.7038</td>\n",
       "    </tr>\n",
       "  </tbody>\n",
       "</table>\n",
       "</div>"
      ],
      "text/plain": [
       "            name  test_acc  dys_acc\n",
       "0  search_1_best    0.7775   0.6469\n",
       "1  search_2_best    0.6918   0.7038"
      ]
     },
     "execution_count": 59,
     "metadata": {},
     "output_type": "execute_result"
    }
   ],
   "source": [
    "# look at the best model from each search\n",
    "trinary_best_models = pd.DataFrame({'name': ['search_1_best', 'search_2_best'],\n",
    "                            'test_acc': [0.7775, 0.6918],\n",
    "                            'dys_acc': [0.6469, 0.7038],\n",
    "})\n",
    "\n",
    "trinary_best_models"
   ]
  },
  {
   "cell_type": "markdown",
   "metadata": {
    "hidden": true
   },
   "source": [
    "- I believe the search_1 model is the best. It has much higher overall accuracy on the test data.\n",
    "- It had a similar overall accuracy to the benchmark model, but outperformed it on dysfunctial wells by 1.2%"
   ]
  },
  {
   "cell_type": "markdown",
   "metadata": {
    "heading_collapsed": true,
    "hidden": true
   },
   "source": [
    "## First recommendation:\n",
    "Say hello to our first recommendation: __The TriWell Predictor__! It predicts water well functionality with an overall accuracy of 77.8% and a dysfunctional accuracy of 64.7%."
   ]
  },
  {
   "cell_type": "markdown",
   "metadata": {
    "heading_collapsed": true
   },
   "source": [
    "# Binary classification:\n",
    "- Turning this problem from ternary -> binary to see if we can predict dysfunctional wells more accurately."
   ]
  },
  {
   "cell_type": "markdown",
   "metadata": {
    "heading_collapsed": true,
    "hidden": true
   },
   "source": [
    "### Ternary classification:\n",
    "This is the type of multi-class classification we have used thus far.\n",
    "- \"functional\" is class 0.\n",
    "- \"functional needs repair\" is class 1.\n",
    "- \"non functional\" is class 2.\n",
    "\n",
    "### Binary classification:\n",
    "Combining wells that aren't functional into a \"dysfunctional\" category.\n",
    "- \"functional\" is class 0\n",
    "- \"functional needs repair\" and \"non functional\" are class 1"
   ]
  },
  {
   "cell_type": "code",
   "execution_count": 31,
   "metadata": {
    "ExecuteTime": {
     "end_time": "2023-10-08T23:32:32.183955Z",
     "start_time": "2023-10-08T23:32:32.157931Z"
    },
    "hidden": true
   },
   "outputs": [
    {
     "data": {
      "text/plain": [
       "{0, 1}"
      ]
     },
     "execution_count": 31,
     "metadata": {},
     "output_type": "execute_result"
    }
   ],
   "source": [
    "# combining 'functional needs repair' and 'non functional' to get a 2-label binary target\n",
    "y_2_labels = y_encoded.copy()\n",
    "y_2_labels[y_2_labels == 2] = 1\n",
    "\n",
    "# 2-label target\n",
    "set(y_2_labels)"
   ]
  },
  {
   "cell_type": "code",
   "execution_count": 32,
   "metadata": {
    "ExecuteTime": {
     "end_time": "2023-10-08T23:32:32.705924Z",
     "start_time": "2023-10-08T23:32:32.666926Z"
    },
    "hidden": true
   },
   "outputs": [],
   "source": [
    "# split into train and test sets\n",
    "X_train, X_test, y_train, y_test = train_test_split(X, y_2_labels, test_size=0.2, random_state=0)"
   ]
  },
  {
   "cell_type": "code",
   "execution_count": 33,
   "metadata": {
    "ExecuteTime": {
     "end_time": "2023-10-08T23:32:36.901996Z",
     "start_time": "2023-10-08T23:32:33.826929Z"
    },
    "hidden": true
   },
   "outputs": [
    {
     "data": {
      "text/html": [
       "<style>#sk-container-id-5 {color: black;}#sk-container-id-5 pre{padding: 0;}#sk-container-id-5 div.sk-toggleable {background-color: white;}#sk-container-id-5 label.sk-toggleable__label {cursor: pointer;display: block;width: 100%;margin-bottom: 0;padding: 0.3em;box-sizing: border-box;text-align: center;}#sk-container-id-5 label.sk-toggleable__label-arrow:before {content: \"▸\";float: left;margin-right: 0.25em;color: #696969;}#sk-container-id-5 label.sk-toggleable__label-arrow:hover:before {color: black;}#sk-container-id-5 div.sk-estimator:hover label.sk-toggleable__label-arrow:before {color: black;}#sk-container-id-5 div.sk-toggleable__content {max-height: 0;max-width: 0;overflow: hidden;text-align: left;background-color: #f0f8ff;}#sk-container-id-5 div.sk-toggleable__content pre {margin: 0.2em;color: black;border-radius: 0.25em;background-color: #f0f8ff;}#sk-container-id-5 input.sk-toggleable__control:checked~div.sk-toggleable__content {max-height: 200px;max-width: 100%;overflow: auto;}#sk-container-id-5 input.sk-toggleable__control:checked~label.sk-toggleable__label-arrow:before {content: \"▾\";}#sk-container-id-5 div.sk-estimator input.sk-toggleable__control:checked~label.sk-toggleable__label {background-color: #d4ebff;}#sk-container-id-5 div.sk-label input.sk-toggleable__control:checked~label.sk-toggleable__label {background-color: #d4ebff;}#sk-container-id-5 input.sk-hidden--visually {border: 0;clip: rect(1px 1px 1px 1px);clip: rect(1px, 1px, 1px, 1px);height: 1px;margin: -1px;overflow: hidden;padding: 0;position: absolute;width: 1px;}#sk-container-id-5 div.sk-estimator {font-family: monospace;background-color: #f0f8ff;border: 1px dotted black;border-radius: 0.25em;box-sizing: border-box;margin-bottom: 0.5em;}#sk-container-id-5 div.sk-estimator:hover {background-color: #d4ebff;}#sk-container-id-5 div.sk-parallel-item::after {content: \"\";width: 100%;border-bottom: 1px solid gray;flex-grow: 1;}#sk-container-id-5 div.sk-label:hover label.sk-toggleable__label {background-color: #d4ebff;}#sk-container-id-5 div.sk-serial::before {content: \"\";position: absolute;border-left: 1px solid gray;box-sizing: border-box;top: 0;bottom: 0;left: 50%;z-index: 0;}#sk-container-id-5 div.sk-serial {display: flex;flex-direction: column;align-items: center;background-color: white;padding-right: 0.2em;padding-left: 0.2em;position: relative;}#sk-container-id-5 div.sk-item {position: relative;z-index: 1;}#sk-container-id-5 div.sk-parallel {display: flex;align-items: stretch;justify-content: center;background-color: white;position: relative;}#sk-container-id-5 div.sk-item::before, #sk-container-id-5 div.sk-parallel-item::before {content: \"\";position: absolute;border-left: 1px solid gray;box-sizing: border-box;top: 0;bottom: 0;left: 50%;z-index: -1;}#sk-container-id-5 div.sk-parallel-item {display: flex;flex-direction: column;z-index: 1;position: relative;background-color: white;}#sk-container-id-5 div.sk-parallel-item:first-child::after {align-self: flex-end;width: 50%;}#sk-container-id-5 div.sk-parallel-item:last-child::after {align-self: flex-start;width: 50%;}#sk-container-id-5 div.sk-parallel-item:only-child::after {width: 0;}#sk-container-id-5 div.sk-dashed-wrapped {border: 1px dashed gray;margin: 0 0.4em 0.5em 0.4em;box-sizing: border-box;padding-bottom: 0.4em;background-color: white;}#sk-container-id-5 div.sk-label label {font-family: monospace;font-weight: bold;display: inline-block;line-height: 1.2em;}#sk-container-id-5 div.sk-label-container {text-align: center;}#sk-container-id-5 div.sk-container {/* jupyter's `normalize.less` sets `[hidden] { display: none; }` but bootstrap.min.css set `[hidden] { display: none !important; }` so we also need the `!important` here to be able to override the default hidden behavior on the sphinx rendered scikit-learn.org. See: https://github.com/scikit-learn/scikit-learn/issues/21755 */display: inline-block !important;position: relative;}#sk-container-id-5 div.sk-text-repr-fallback {display: none;}</style><div id=\"sk-container-id-5\" class=\"sk-top-container\"><div class=\"sk-text-repr-fallback\"><pre>Pipeline(steps=[(&#x27;ct&#x27;,\n",
       "                 ColumnTransformer(n_jobs=-1, remainder=&#x27;passthrough&#x27;,\n",
       "                                   transformers=[(&#x27;nums&#x27;,\n",
       "                                                  Pipeline(steps=[(&#x27;num_impute&#x27;,\n",
       "                                                                   SimpleImputer(add_indicator=True)),\n",
       "                                                                  (&#x27;ss&#x27;,\n",
       "                                                                   StandardScaler())]),\n",
       "                                                  [&#x27;amount_tsh&#x27;, &#x27;gps_height&#x27;,\n",
       "                                                   &#x27;longitude&#x27;, &#x27;latitude&#x27;,\n",
       "                                                   &#x27;num_private&#x27;, &#x27;region_code&#x27;,\n",
       "                                                   &#x27;district_code&#x27;,\n",
       "                                                   &#x27;population&#x27;, &#x27;age_years&#x27;]),\n",
       "                                                 (&#x27;cats&#x27;,\n",
       "                                                  Pipeline(steps=[(&#x27;cat_impute&#x27;,\n",
       "                                                                   Simp...icator=True,\n",
       "                                                                                 strategy=&#x27;most_frequent&#x27;)),\n",
       "                                                                  (&#x27;ohe&#x27;,\n",
       "                                                                   OneHotEncoder(handle_unknown=&#x27;ignore&#x27;))]),\n",
       "                                                  [&#x27;funder&#x27;, &#x27;installer&#x27;,\n",
       "                                                   &#x27;basin&#x27;, &#x27;lga&#x27;,\n",
       "                                                   &#x27;public_meeting&#x27;,\n",
       "                                                   &#x27;scheme_name&#x27;, &#x27;permit&#x27;,\n",
       "                                                   &#x27;extraction_type&#x27;,\n",
       "                                                   &#x27;extraction_type_class&#x27;,\n",
       "                                                   &#x27;management&#x27;, &#x27;payment&#x27;,\n",
       "                                                   &#x27;water_quality&#x27;, &#x27;quantity&#x27;,\n",
       "                                                   &#x27;source&#x27;, &#x27;source_class&#x27;,\n",
       "                                                   &#x27;waterpoint_type&#x27;])])),\n",
       "                (&#x27;binary_base&#x27;, LogisticRegression(n_jobs=-1))])</pre><b>In a Jupyter environment, please rerun this cell to show the HTML representation or trust the notebook. <br />On GitHub, the HTML representation is unable to render, please try loading this page with nbviewer.org.</b></div><div class=\"sk-container\" hidden><div class=\"sk-item sk-dashed-wrapped\"><div class=\"sk-label-container\"><div class=\"sk-label sk-toggleable\"><input class=\"sk-toggleable__control sk-hidden--visually\" id=\"sk-estimator-id-50\" type=\"checkbox\" ><label for=\"sk-estimator-id-50\" class=\"sk-toggleable__label sk-toggleable__label-arrow\">Pipeline</label><div class=\"sk-toggleable__content\"><pre>Pipeline(steps=[(&#x27;ct&#x27;,\n",
       "                 ColumnTransformer(n_jobs=-1, remainder=&#x27;passthrough&#x27;,\n",
       "                                   transformers=[(&#x27;nums&#x27;,\n",
       "                                                  Pipeline(steps=[(&#x27;num_impute&#x27;,\n",
       "                                                                   SimpleImputer(add_indicator=True)),\n",
       "                                                                  (&#x27;ss&#x27;,\n",
       "                                                                   StandardScaler())]),\n",
       "                                                  [&#x27;amount_tsh&#x27;, &#x27;gps_height&#x27;,\n",
       "                                                   &#x27;longitude&#x27;, &#x27;latitude&#x27;,\n",
       "                                                   &#x27;num_private&#x27;, &#x27;region_code&#x27;,\n",
       "                                                   &#x27;district_code&#x27;,\n",
       "                                                   &#x27;population&#x27;, &#x27;age_years&#x27;]),\n",
       "                                                 (&#x27;cats&#x27;,\n",
       "                                                  Pipeline(steps=[(&#x27;cat_impute&#x27;,\n",
       "                                                                   Simp...icator=True,\n",
       "                                                                                 strategy=&#x27;most_frequent&#x27;)),\n",
       "                                                                  (&#x27;ohe&#x27;,\n",
       "                                                                   OneHotEncoder(handle_unknown=&#x27;ignore&#x27;))]),\n",
       "                                                  [&#x27;funder&#x27;, &#x27;installer&#x27;,\n",
       "                                                   &#x27;basin&#x27;, &#x27;lga&#x27;,\n",
       "                                                   &#x27;public_meeting&#x27;,\n",
       "                                                   &#x27;scheme_name&#x27;, &#x27;permit&#x27;,\n",
       "                                                   &#x27;extraction_type&#x27;,\n",
       "                                                   &#x27;extraction_type_class&#x27;,\n",
       "                                                   &#x27;management&#x27;, &#x27;payment&#x27;,\n",
       "                                                   &#x27;water_quality&#x27;, &#x27;quantity&#x27;,\n",
       "                                                   &#x27;source&#x27;, &#x27;source_class&#x27;,\n",
       "                                                   &#x27;waterpoint_type&#x27;])])),\n",
       "                (&#x27;binary_base&#x27;, LogisticRegression(n_jobs=-1))])</pre></div></div></div><div class=\"sk-serial\"><div class=\"sk-item sk-dashed-wrapped\"><div class=\"sk-label-container\"><div class=\"sk-label sk-toggleable\"><input class=\"sk-toggleable__control sk-hidden--visually\" id=\"sk-estimator-id-51\" type=\"checkbox\" ><label for=\"sk-estimator-id-51\" class=\"sk-toggleable__label sk-toggleable__label-arrow\">ct: ColumnTransformer</label><div class=\"sk-toggleable__content\"><pre>ColumnTransformer(n_jobs=-1, remainder=&#x27;passthrough&#x27;,\n",
       "                  transformers=[(&#x27;nums&#x27;,\n",
       "                                 Pipeline(steps=[(&#x27;num_impute&#x27;,\n",
       "                                                  SimpleImputer(add_indicator=True)),\n",
       "                                                 (&#x27;ss&#x27;, StandardScaler())]),\n",
       "                                 [&#x27;amount_tsh&#x27;, &#x27;gps_height&#x27;, &#x27;longitude&#x27;,\n",
       "                                  &#x27;latitude&#x27;, &#x27;num_private&#x27;, &#x27;region_code&#x27;,\n",
       "                                  &#x27;district_code&#x27;, &#x27;population&#x27;, &#x27;age_years&#x27;]),\n",
       "                                (&#x27;cats&#x27;,\n",
       "                                 Pipeline(steps=[(&#x27;cat_impute&#x27;,\n",
       "                                                  SimpleImputer(add_indicator=True,\n",
       "                                                                strategy=&#x27;most_frequent&#x27;)),\n",
       "                                                 (&#x27;ohe&#x27;,\n",
       "                                                  OneHotEncoder(handle_unknown=&#x27;ignore&#x27;))]),\n",
       "                                 [&#x27;funder&#x27;, &#x27;installer&#x27;, &#x27;basin&#x27;, &#x27;lga&#x27;,\n",
       "                                  &#x27;public_meeting&#x27;, &#x27;scheme_name&#x27;, &#x27;permit&#x27;,\n",
       "                                  &#x27;extraction_type&#x27;, &#x27;extraction_type_class&#x27;,\n",
       "                                  &#x27;management&#x27;, &#x27;payment&#x27;, &#x27;water_quality&#x27;,\n",
       "                                  &#x27;quantity&#x27;, &#x27;source&#x27;, &#x27;source_class&#x27;,\n",
       "                                  &#x27;waterpoint_type&#x27;])])</pre></div></div></div><div class=\"sk-parallel\"><div class=\"sk-parallel-item\"><div class=\"sk-item\"><div class=\"sk-label-container\"><div class=\"sk-label sk-toggleable\"><input class=\"sk-toggleable__control sk-hidden--visually\" id=\"sk-estimator-id-52\" type=\"checkbox\" ><label for=\"sk-estimator-id-52\" class=\"sk-toggleable__label sk-toggleable__label-arrow\">nums</label><div class=\"sk-toggleable__content\"><pre>[&#x27;amount_tsh&#x27;, &#x27;gps_height&#x27;, &#x27;longitude&#x27;, &#x27;latitude&#x27;, &#x27;num_private&#x27;, &#x27;region_code&#x27;, &#x27;district_code&#x27;, &#x27;population&#x27;, &#x27;age_years&#x27;]</pre></div></div></div><div class=\"sk-serial\"><div class=\"sk-item\"><div class=\"sk-serial\"><div class=\"sk-item\"><div class=\"sk-estimator sk-toggleable\"><input class=\"sk-toggleable__control sk-hidden--visually\" id=\"sk-estimator-id-53\" type=\"checkbox\" ><label for=\"sk-estimator-id-53\" class=\"sk-toggleable__label sk-toggleable__label-arrow\">SimpleImputer</label><div class=\"sk-toggleable__content\"><pre>SimpleImputer(add_indicator=True)</pre></div></div></div><div class=\"sk-item\"><div class=\"sk-estimator sk-toggleable\"><input class=\"sk-toggleable__control sk-hidden--visually\" id=\"sk-estimator-id-54\" type=\"checkbox\" ><label for=\"sk-estimator-id-54\" class=\"sk-toggleable__label sk-toggleable__label-arrow\">StandardScaler</label><div class=\"sk-toggleable__content\"><pre>StandardScaler()</pre></div></div></div></div></div></div></div></div><div class=\"sk-parallel-item\"><div class=\"sk-item\"><div class=\"sk-label-container\"><div class=\"sk-label sk-toggleable\"><input class=\"sk-toggleable__control sk-hidden--visually\" id=\"sk-estimator-id-55\" type=\"checkbox\" ><label for=\"sk-estimator-id-55\" class=\"sk-toggleable__label sk-toggleable__label-arrow\">cats</label><div class=\"sk-toggleable__content\"><pre>[&#x27;funder&#x27;, &#x27;installer&#x27;, &#x27;basin&#x27;, &#x27;lga&#x27;, &#x27;public_meeting&#x27;, &#x27;scheme_name&#x27;, &#x27;permit&#x27;, &#x27;extraction_type&#x27;, &#x27;extraction_type_class&#x27;, &#x27;management&#x27;, &#x27;payment&#x27;, &#x27;water_quality&#x27;, &#x27;quantity&#x27;, &#x27;source&#x27;, &#x27;source_class&#x27;, &#x27;waterpoint_type&#x27;]</pre></div></div></div><div class=\"sk-serial\"><div class=\"sk-item\"><div class=\"sk-serial\"><div class=\"sk-item\"><div class=\"sk-estimator sk-toggleable\"><input class=\"sk-toggleable__control sk-hidden--visually\" id=\"sk-estimator-id-56\" type=\"checkbox\" ><label for=\"sk-estimator-id-56\" class=\"sk-toggleable__label sk-toggleable__label-arrow\">SimpleImputer</label><div class=\"sk-toggleable__content\"><pre>SimpleImputer(add_indicator=True, strategy=&#x27;most_frequent&#x27;)</pre></div></div></div><div class=\"sk-item\"><div class=\"sk-estimator sk-toggleable\"><input class=\"sk-toggleable__control sk-hidden--visually\" id=\"sk-estimator-id-57\" type=\"checkbox\" ><label for=\"sk-estimator-id-57\" class=\"sk-toggleable__label sk-toggleable__label-arrow\">OneHotEncoder</label><div class=\"sk-toggleable__content\"><pre>OneHotEncoder(handle_unknown=&#x27;ignore&#x27;)</pre></div></div></div></div></div></div></div></div><div class=\"sk-parallel-item\"><div class=\"sk-item\"><div class=\"sk-label-container\"><div class=\"sk-label sk-toggleable\"><input class=\"sk-toggleable__control sk-hidden--visually\" id=\"sk-estimator-id-58\" type=\"checkbox\" ><label for=\"sk-estimator-id-58\" class=\"sk-toggleable__label sk-toggleable__label-arrow\">remainder</label><div class=\"sk-toggleable__content\"><pre>[]</pre></div></div></div><div class=\"sk-serial\"><div class=\"sk-item\"><div class=\"sk-estimator sk-toggleable\"><input class=\"sk-toggleable__control sk-hidden--visually\" id=\"sk-estimator-id-59\" type=\"checkbox\" ><label for=\"sk-estimator-id-59\" class=\"sk-toggleable__label sk-toggleable__label-arrow\">passthrough</label><div class=\"sk-toggleable__content\"><pre>passthrough</pre></div></div></div></div></div></div></div></div><div class=\"sk-item\"><div class=\"sk-estimator sk-toggleable\"><input class=\"sk-toggleable__control sk-hidden--visually\" id=\"sk-estimator-id-60\" type=\"checkbox\" ><label for=\"sk-estimator-id-60\" class=\"sk-toggleable__label sk-toggleable__label-arrow\">LogisticRegression</label><div class=\"sk-toggleable__content\"><pre>LogisticRegression(n_jobs=-1)</pre></div></div></div></div></div></div></div>"
      ],
      "text/plain": [
       "Pipeline(steps=[('ct',\n",
       "                 ColumnTransformer(n_jobs=-1, remainder='passthrough',\n",
       "                                   transformers=[('nums',\n",
       "                                                  Pipeline(steps=[('num_impute',\n",
       "                                                                   SimpleImputer(add_indicator=True)),\n",
       "                                                                  ('ss',\n",
       "                                                                   StandardScaler())]),\n",
       "                                                  ['amount_tsh', 'gps_height',\n",
       "                                                   'longitude', 'latitude',\n",
       "                                                   'num_private', 'region_code',\n",
       "                                                   'district_code',\n",
       "                                                   'population', 'age_years']),\n",
       "                                                 ('cats',\n",
       "                                                  Pipeline(steps=[('cat_impute',\n",
       "                                                                   Simp...icator=True,\n",
       "                                                                                 strategy='most_frequent')),\n",
       "                                                                  ('ohe',\n",
       "                                                                   OneHotEncoder(handle_unknown='ignore'))]),\n",
       "                                                  ['funder', 'installer',\n",
       "                                                   'basin', 'lga',\n",
       "                                                   'public_meeting',\n",
       "                                                   'scheme_name', 'permit',\n",
       "                                                   'extraction_type',\n",
       "                                                   'extraction_type_class',\n",
       "                                                   'management', 'payment',\n",
       "                                                   'water_quality', 'quantity',\n",
       "                                                   'source', 'source_class',\n",
       "                                                   'waterpoint_type'])])),\n",
       "                ('binary_base', LogisticRegression(n_jobs=-1))])"
      ]
     },
     "execution_count": 33,
     "metadata": {},
     "output_type": "execute_result"
    }
   ],
   "source": [
    "# using default parameters\n",
    "\n",
    "binary_base = Pipeline([\n",
    "    ('ct', ct),\n",
    "    ('binary_base', LogisticRegression(n_jobs=-1))\n",
    "])\n",
    "\n",
    "binary_base.fit(X_train, y_train)"
   ]
  },
  {
   "cell_type": "code",
   "execution_count": 34,
   "metadata": {
    "ExecuteTime": {
     "end_time": "2023-10-08T23:32:39.107807Z",
     "start_time": "2023-10-08T23:32:36.902997Z"
    },
    "hidden": true
   },
   "outputs": [
    {
     "data": {
      "text/plain": [
       "(0.803493265993266, 0.7922558922558922)"
      ]
     },
     "execution_count": 34,
     "metadata": {},
     "output_type": "execute_result"
    }
   ],
   "source": [
    "# accuracy scores\n",
    "binary_base.score(X_train, y_train), binary_base.score(X_test, y_test)"
   ]
  },
  {
   "cell_type": "markdown",
   "metadata": {
    "hidden": true
   },
   "source": [
    "- Base binary model: 80.3% training acc, 79.2% testing acc.\n",
    "- Already on default binary model, we have acheived a nice test score."
   ]
  },
  {
   "cell_type": "code",
   "execution_count": 35,
   "metadata": {
    "ExecuteTime": {
     "end_time": "2023-10-08T23:33:17.657877Z",
     "start_time": "2023-10-08T23:33:16.677987Z"
    },
    "hidden": true
   },
   "outputs": [
    {
     "name": "stdout",
     "output_type": "stream",
     "text": [
      "              precision    recall  f1-score   support\n",
      "\n",
      "           0       0.78      0.86      0.82      6444\n",
      "           1       0.81      0.71      0.76      5436\n",
      "\n",
      "    accuracy                           0.79     11880\n",
      "   macro avg       0.80      0.79      0.79     11880\n",
      "weighted avg       0.79      0.79      0.79     11880\n",
      "\n"
     ]
    }
   ],
   "source": [
    "# analyze f1 scores\n",
    "print(classification_report(y_test, binary_base.predict(X_test)))"
   ]
  },
  {
   "cell_type": "markdown",
   "metadata": {
    "hidden": true
   },
   "source": [
    "- \"Positives\" (class 1) are __dysfunctional__ wells.\n",
    "- \"Negatives\" (class 0) are __functional__ wells.\n",
    "- We want to maximize accuracy for dysfunctional wells, meaning we want to minimize false negatives. This means we want to __maximize recall__ for class 1.\n",
    "- Recall for class 1 is 0.71, and we want to get that up."
   ]
  },
  {
   "cell_type": "code",
   "execution_count": 36,
   "metadata": {
    "ExecuteTime": {
     "end_time": "2023-10-08T23:33:30.788808Z",
     "start_time": "2023-10-08T23:33:29.811924Z"
    },
    "hidden": true
   },
   "outputs": [
    {
     "data": {
      "text/plain": [
       "0.7124724061810155"
      ]
     },
     "execution_count": 36,
     "metadata": {},
     "output_type": "execute_result"
    }
   ],
   "source": [
    "# calculate dysfunctional accuracy\n",
    "calc_dys(binary_base, X_test, y_test)"
   ]
  },
  {
   "cell_type": "markdown",
   "metadata": {
    "hidden": true
   },
   "source": [
    "- calc_dys returns the same value as the recall from class 1."
   ]
  },
  {
   "cell_type": "markdown",
   "metadata": {
    "hidden": true
   },
   "source": [
    "## Binary search 1"
   ]
  },
  {
   "cell_type": "code",
   "execution_count": 37,
   "metadata": {
    "ExecuteTime": {
     "end_time": "2023-10-08T23:34:30.160982Z",
     "start_time": "2023-10-08T23:34:27.704927Z"
    },
    "hidden": true
   },
   "outputs": [
    {
     "data": {
      "text/html": [
       "<style>#sk-container-id-6 {color: black;}#sk-container-id-6 pre{padding: 0;}#sk-container-id-6 div.sk-toggleable {background-color: white;}#sk-container-id-6 label.sk-toggleable__label {cursor: pointer;display: block;width: 100%;margin-bottom: 0;padding: 0.3em;box-sizing: border-box;text-align: center;}#sk-container-id-6 label.sk-toggleable__label-arrow:before {content: \"▸\";float: left;margin-right: 0.25em;color: #696969;}#sk-container-id-6 label.sk-toggleable__label-arrow:hover:before {color: black;}#sk-container-id-6 div.sk-estimator:hover label.sk-toggleable__label-arrow:before {color: black;}#sk-container-id-6 div.sk-toggleable__content {max-height: 0;max-width: 0;overflow: hidden;text-align: left;background-color: #f0f8ff;}#sk-container-id-6 div.sk-toggleable__content pre {margin: 0.2em;color: black;border-radius: 0.25em;background-color: #f0f8ff;}#sk-container-id-6 input.sk-toggleable__control:checked~div.sk-toggleable__content {max-height: 200px;max-width: 100%;overflow: auto;}#sk-container-id-6 input.sk-toggleable__control:checked~label.sk-toggleable__label-arrow:before {content: \"▾\";}#sk-container-id-6 div.sk-estimator input.sk-toggleable__control:checked~label.sk-toggleable__label {background-color: #d4ebff;}#sk-container-id-6 div.sk-label input.sk-toggleable__control:checked~label.sk-toggleable__label {background-color: #d4ebff;}#sk-container-id-6 input.sk-hidden--visually {border: 0;clip: rect(1px 1px 1px 1px);clip: rect(1px, 1px, 1px, 1px);height: 1px;margin: -1px;overflow: hidden;padding: 0;position: absolute;width: 1px;}#sk-container-id-6 div.sk-estimator {font-family: monospace;background-color: #f0f8ff;border: 1px dotted black;border-radius: 0.25em;box-sizing: border-box;margin-bottom: 0.5em;}#sk-container-id-6 div.sk-estimator:hover {background-color: #d4ebff;}#sk-container-id-6 div.sk-parallel-item::after {content: \"\";width: 100%;border-bottom: 1px solid gray;flex-grow: 1;}#sk-container-id-6 div.sk-label:hover label.sk-toggleable__label {background-color: #d4ebff;}#sk-container-id-6 div.sk-serial::before {content: \"\";position: absolute;border-left: 1px solid gray;box-sizing: border-box;top: 0;bottom: 0;left: 50%;z-index: 0;}#sk-container-id-6 div.sk-serial {display: flex;flex-direction: column;align-items: center;background-color: white;padding-right: 0.2em;padding-left: 0.2em;position: relative;}#sk-container-id-6 div.sk-item {position: relative;z-index: 1;}#sk-container-id-6 div.sk-parallel {display: flex;align-items: stretch;justify-content: center;background-color: white;position: relative;}#sk-container-id-6 div.sk-item::before, #sk-container-id-6 div.sk-parallel-item::before {content: \"\";position: absolute;border-left: 1px solid gray;box-sizing: border-box;top: 0;bottom: 0;left: 50%;z-index: -1;}#sk-container-id-6 div.sk-parallel-item {display: flex;flex-direction: column;z-index: 1;position: relative;background-color: white;}#sk-container-id-6 div.sk-parallel-item:first-child::after {align-self: flex-end;width: 50%;}#sk-container-id-6 div.sk-parallel-item:last-child::after {align-self: flex-start;width: 50%;}#sk-container-id-6 div.sk-parallel-item:only-child::after {width: 0;}#sk-container-id-6 div.sk-dashed-wrapped {border: 1px dashed gray;margin: 0 0.4em 0.5em 0.4em;box-sizing: border-box;padding-bottom: 0.4em;background-color: white;}#sk-container-id-6 div.sk-label label {font-family: monospace;font-weight: bold;display: inline-block;line-height: 1.2em;}#sk-container-id-6 div.sk-label-container {text-align: center;}#sk-container-id-6 div.sk-container {/* jupyter's `normalize.less` sets `[hidden] { display: none; }` but bootstrap.min.css set `[hidden] { display: none !important; }` so we also need the `!important` here to be able to override the default hidden behavior on the sphinx rendered scikit-learn.org. See: https://github.com/scikit-learn/scikit-learn/issues/21755 */display: inline-block !important;position: relative;}#sk-container-id-6 div.sk-text-repr-fallback {display: none;}</style><div id=\"sk-container-id-6\" class=\"sk-top-container\"><div class=\"sk-text-repr-fallback\"><pre>Pipeline(steps=[(&#x27;ct&#x27;,\n",
       "                 ColumnTransformer(n_jobs=-1, remainder=&#x27;passthrough&#x27;,\n",
       "                                   transformers=[(&#x27;nums&#x27;,\n",
       "                                                  Pipeline(steps=[(&#x27;num_impute&#x27;,\n",
       "                                                                   SimpleImputer(add_indicator=True)),\n",
       "                                                                  (&#x27;ss&#x27;,\n",
       "                                                                   StandardScaler())]),\n",
       "                                                  [&#x27;amount_tsh&#x27;, &#x27;gps_height&#x27;,\n",
       "                                                   &#x27;longitude&#x27;, &#x27;latitude&#x27;,\n",
       "                                                   &#x27;num_private&#x27;, &#x27;region_code&#x27;,\n",
       "                                                   &#x27;district_code&#x27;,\n",
       "                                                   &#x27;population&#x27;, &#x27;age_years&#x27;]),\n",
       "                                                 (&#x27;cats&#x27;,\n",
       "                                                  Pipeline(steps=[(&#x27;cat_impute&#x27;,\n",
       "                                                                   Simp...indicator=True,\n",
       "                                                                                 strategy=&#x27;most_frequent&#x27;)),\n",
       "                                                                  (&#x27;ohe&#x27;,\n",
       "                                                                   OneHotEncoder(handle_unknown=&#x27;ignore&#x27;))]),\n",
       "                                                  [&#x27;funder&#x27;, &#x27;installer&#x27;,\n",
       "                                                   &#x27;basin&#x27;, &#x27;lga&#x27;,\n",
       "                                                   &#x27;public_meeting&#x27;,\n",
       "                                                   &#x27;scheme_name&#x27;, &#x27;permit&#x27;,\n",
       "                                                   &#x27;extraction_type&#x27;,\n",
       "                                                   &#x27;extraction_type_class&#x27;,\n",
       "                                                   &#x27;management&#x27;, &#x27;payment&#x27;,\n",
       "                                                   &#x27;water_quality&#x27;, &#x27;quantity&#x27;,\n",
       "                                                   &#x27;source&#x27;, &#x27;source_class&#x27;,\n",
       "                                                   &#x27;waterpoint_type&#x27;])])),\n",
       "                (&#x27;binary_1&#x27;, LogisticRegression(n_jobs=-1))])</pre><b>In a Jupyter environment, please rerun this cell to show the HTML representation or trust the notebook. <br />On GitHub, the HTML representation is unable to render, please try loading this page with nbviewer.org.</b></div><div class=\"sk-container\" hidden><div class=\"sk-item sk-dashed-wrapped\"><div class=\"sk-label-container\"><div class=\"sk-label sk-toggleable\"><input class=\"sk-toggleable__control sk-hidden--visually\" id=\"sk-estimator-id-61\" type=\"checkbox\" ><label for=\"sk-estimator-id-61\" class=\"sk-toggleable__label sk-toggleable__label-arrow\">Pipeline</label><div class=\"sk-toggleable__content\"><pre>Pipeline(steps=[(&#x27;ct&#x27;,\n",
       "                 ColumnTransformer(n_jobs=-1, remainder=&#x27;passthrough&#x27;,\n",
       "                                   transformers=[(&#x27;nums&#x27;,\n",
       "                                                  Pipeline(steps=[(&#x27;num_impute&#x27;,\n",
       "                                                                   SimpleImputer(add_indicator=True)),\n",
       "                                                                  (&#x27;ss&#x27;,\n",
       "                                                                   StandardScaler())]),\n",
       "                                                  [&#x27;amount_tsh&#x27;, &#x27;gps_height&#x27;,\n",
       "                                                   &#x27;longitude&#x27;, &#x27;latitude&#x27;,\n",
       "                                                   &#x27;num_private&#x27;, &#x27;region_code&#x27;,\n",
       "                                                   &#x27;district_code&#x27;,\n",
       "                                                   &#x27;population&#x27;, &#x27;age_years&#x27;]),\n",
       "                                                 (&#x27;cats&#x27;,\n",
       "                                                  Pipeline(steps=[(&#x27;cat_impute&#x27;,\n",
       "                                                                   Simp...indicator=True,\n",
       "                                                                                 strategy=&#x27;most_frequent&#x27;)),\n",
       "                                                                  (&#x27;ohe&#x27;,\n",
       "                                                                   OneHotEncoder(handle_unknown=&#x27;ignore&#x27;))]),\n",
       "                                                  [&#x27;funder&#x27;, &#x27;installer&#x27;,\n",
       "                                                   &#x27;basin&#x27;, &#x27;lga&#x27;,\n",
       "                                                   &#x27;public_meeting&#x27;,\n",
       "                                                   &#x27;scheme_name&#x27;, &#x27;permit&#x27;,\n",
       "                                                   &#x27;extraction_type&#x27;,\n",
       "                                                   &#x27;extraction_type_class&#x27;,\n",
       "                                                   &#x27;management&#x27;, &#x27;payment&#x27;,\n",
       "                                                   &#x27;water_quality&#x27;, &#x27;quantity&#x27;,\n",
       "                                                   &#x27;source&#x27;, &#x27;source_class&#x27;,\n",
       "                                                   &#x27;waterpoint_type&#x27;])])),\n",
       "                (&#x27;binary_1&#x27;, LogisticRegression(n_jobs=-1))])</pre></div></div></div><div class=\"sk-serial\"><div class=\"sk-item sk-dashed-wrapped\"><div class=\"sk-label-container\"><div class=\"sk-label sk-toggleable\"><input class=\"sk-toggleable__control sk-hidden--visually\" id=\"sk-estimator-id-62\" type=\"checkbox\" ><label for=\"sk-estimator-id-62\" class=\"sk-toggleable__label sk-toggleable__label-arrow\">ct: ColumnTransformer</label><div class=\"sk-toggleable__content\"><pre>ColumnTransformer(n_jobs=-1, remainder=&#x27;passthrough&#x27;,\n",
       "                  transformers=[(&#x27;nums&#x27;,\n",
       "                                 Pipeline(steps=[(&#x27;num_impute&#x27;,\n",
       "                                                  SimpleImputer(add_indicator=True)),\n",
       "                                                 (&#x27;ss&#x27;, StandardScaler())]),\n",
       "                                 [&#x27;amount_tsh&#x27;, &#x27;gps_height&#x27;, &#x27;longitude&#x27;,\n",
       "                                  &#x27;latitude&#x27;, &#x27;num_private&#x27;, &#x27;region_code&#x27;,\n",
       "                                  &#x27;district_code&#x27;, &#x27;population&#x27;, &#x27;age_years&#x27;]),\n",
       "                                (&#x27;cats&#x27;,\n",
       "                                 Pipeline(steps=[(&#x27;cat_impute&#x27;,\n",
       "                                                  SimpleImputer(add_indicator=True,\n",
       "                                                                strategy=&#x27;most_frequent&#x27;)),\n",
       "                                                 (&#x27;ohe&#x27;,\n",
       "                                                  OneHotEncoder(handle_unknown=&#x27;ignore&#x27;))]),\n",
       "                                 [&#x27;funder&#x27;, &#x27;installer&#x27;, &#x27;basin&#x27;, &#x27;lga&#x27;,\n",
       "                                  &#x27;public_meeting&#x27;, &#x27;scheme_name&#x27;, &#x27;permit&#x27;,\n",
       "                                  &#x27;extraction_type&#x27;, &#x27;extraction_type_class&#x27;,\n",
       "                                  &#x27;management&#x27;, &#x27;payment&#x27;, &#x27;water_quality&#x27;,\n",
       "                                  &#x27;quantity&#x27;, &#x27;source&#x27;, &#x27;source_class&#x27;,\n",
       "                                  &#x27;waterpoint_type&#x27;])])</pre></div></div></div><div class=\"sk-parallel\"><div class=\"sk-parallel-item\"><div class=\"sk-item\"><div class=\"sk-label-container\"><div class=\"sk-label sk-toggleable\"><input class=\"sk-toggleable__control sk-hidden--visually\" id=\"sk-estimator-id-63\" type=\"checkbox\" ><label for=\"sk-estimator-id-63\" class=\"sk-toggleable__label sk-toggleable__label-arrow\">nums</label><div class=\"sk-toggleable__content\"><pre>[&#x27;amount_tsh&#x27;, &#x27;gps_height&#x27;, &#x27;longitude&#x27;, &#x27;latitude&#x27;, &#x27;num_private&#x27;, &#x27;region_code&#x27;, &#x27;district_code&#x27;, &#x27;population&#x27;, &#x27;age_years&#x27;]</pre></div></div></div><div class=\"sk-serial\"><div class=\"sk-item\"><div class=\"sk-serial\"><div class=\"sk-item\"><div class=\"sk-estimator sk-toggleable\"><input class=\"sk-toggleable__control sk-hidden--visually\" id=\"sk-estimator-id-64\" type=\"checkbox\" ><label for=\"sk-estimator-id-64\" class=\"sk-toggleable__label sk-toggleable__label-arrow\">SimpleImputer</label><div class=\"sk-toggleable__content\"><pre>SimpleImputer(add_indicator=True)</pre></div></div></div><div class=\"sk-item\"><div class=\"sk-estimator sk-toggleable\"><input class=\"sk-toggleable__control sk-hidden--visually\" id=\"sk-estimator-id-65\" type=\"checkbox\" ><label for=\"sk-estimator-id-65\" class=\"sk-toggleable__label sk-toggleable__label-arrow\">StandardScaler</label><div class=\"sk-toggleable__content\"><pre>StandardScaler()</pre></div></div></div></div></div></div></div></div><div class=\"sk-parallel-item\"><div class=\"sk-item\"><div class=\"sk-label-container\"><div class=\"sk-label sk-toggleable\"><input class=\"sk-toggleable__control sk-hidden--visually\" id=\"sk-estimator-id-66\" type=\"checkbox\" ><label for=\"sk-estimator-id-66\" class=\"sk-toggleable__label sk-toggleable__label-arrow\">cats</label><div class=\"sk-toggleable__content\"><pre>[&#x27;funder&#x27;, &#x27;installer&#x27;, &#x27;basin&#x27;, &#x27;lga&#x27;, &#x27;public_meeting&#x27;, &#x27;scheme_name&#x27;, &#x27;permit&#x27;, &#x27;extraction_type&#x27;, &#x27;extraction_type_class&#x27;, &#x27;management&#x27;, &#x27;payment&#x27;, &#x27;water_quality&#x27;, &#x27;quantity&#x27;, &#x27;source&#x27;, &#x27;source_class&#x27;, &#x27;waterpoint_type&#x27;]</pre></div></div></div><div class=\"sk-serial\"><div class=\"sk-item\"><div class=\"sk-serial\"><div class=\"sk-item\"><div class=\"sk-estimator sk-toggleable\"><input class=\"sk-toggleable__control sk-hidden--visually\" id=\"sk-estimator-id-67\" type=\"checkbox\" ><label for=\"sk-estimator-id-67\" class=\"sk-toggleable__label sk-toggleable__label-arrow\">SimpleImputer</label><div class=\"sk-toggleable__content\"><pre>SimpleImputer(add_indicator=True, strategy=&#x27;most_frequent&#x27;)</pre></div></div></div><div class=\"sk-item\"><div class=\"sk-estimator sk-toggleable\"><input class=\"sk-toggleable__control sk-hidden--visually\" id=\"sk-estimator-id-68\" type=\"checkbox\" ><label for=\"sk-estimator-id-68\" class=\"sk-toggleable__label sk-toggleable__label-arrow\">OneHotEncoder</label><div class=\"sk-toggleable__content\"><pre>OneHotEncoder(handle_unknown=&#x27;ignore&#x27;)</pre></div></div></div></div></div></div></div></div><div class=\"sk-parallel-item\"><div class=\"sk-item\"><div class=\"sk-label-container\"><div class=\"sk-label sk-toggleable\"><input class=\"sk-toggleable__control sk-hidden--visually\" id=\"sk-estimator-id-69\" type=\"checkbox\" ><label for=\"sk-estimator-id-69\" class=\"sk-toggleable__label sk-toggleable__label-arrow\">remainder</label><div class=\"sk-toggleable__content\"><pre>[]</pre></div></div></div><div class=\"sk-serial\"><div class=\"sk-item\"><div class=\"sk-estimator sk-toggleable\"><input class=\"sk-toggleable__control sk-hidden--visually\" id=\"sk-estimator-id-70\" type=\"checkbox\" ><label for=\"sk-estimator-id-70\" class=\"sk-toggleable__label sk-toggleable__label-arrow\">passthrough</label><div class=\"sk-toggleable__content\"><pre>passthrough</pre></div></div></div></div></div></div></div></div><div class=\"sk-item\"><div class=\"sk-estimator sk-toggleable\"><input class=\"sk-toggleable__control sk-hidden--visually\" id=\"sk-estimator-id-71\" type=\"checkbox\" ><label for=\"sk-estimator-id-71\" class=\"sk-toggleable__label sk-toggleable__label-arrow\">LogisticRegression</label><div class=\"sk-toggleable__content\"><pre>LogisticRegression(n_jobs=-1)</pre></div></div></div></div></div></div></div>"
      ],
      "text/plain": [
       "Pipeline(steps=[('ct',\n",
       "                 ColumnTransformer(n_jobs=-1, remainder='passthrough',\n",
       "                                   transformers=[('nums',\n",
       "                                                  Pipeline(steps=[('num_impute',\n",
       "                                                                   SimpleImputer(add_indicator=True)),\n",
       "                                                                  ('ss',\n",
       "                                                                   StandardScaler())]),\n",
       "                                                  ['amount_tsh', 'gps_height',\n",
       "                                                   'longitude', 'latitude',\n",
       "                                                   'num_private', 'region_code',\n",
       "                                                   'district_code',\n",
       "                                                   'population', 'age_years']),\n",
       "                                                 ('cats',\n",
       "                                                  Pipeline(steps=[('cat_impute',\n",
       "                                                                   Simp...indicator=True,\n",
       "                                                                                 strategy='most_frequent')),\n",
       "                                                                  ('ohe',\n",
       "                                                                   OneHotEncoder(handle_unknown='ignore'))]),\n",
       "                                                  ['funder', 'installer',\n",
       "                                                   'basin', 'lga',\n",
       "                                                   'public_meeting',\n",
       "                                                   'scheme_name', 'permit',\n",
       "                                                   'extraction_type',\n",
       "                                                   'extraction_type_class',\n",
       "                                                   'management', 'payment',\n",
       "                                                   'water_quality', 'quantity',\n",
       "                                                   'source', 'source_class',\n",
       "                                                   'waterpoint_type'])])),\n",
       "                ('binary_1', LogisticRegression(n_jobs=-1))])"
      ]
     },
     "execution_count": 37,
     "metadata": {},
     "output_type": "execute_result"
    }
   ],
   "source": [
    "# using default parameters\n",
    "\n",
    "binary_1 = Pipeline([\n",
    "    ('ct', ct),\n",
    "    ('binary_1', LogisticRegression(n_jobs=-1))\n",
    "])\n",
    "\n",
    "binary_1.fit(X_train, y_train)"
   ]
  },
  {
   "cell_type": "code",
   "execution_count": 38,
   "metadata": {
    "ExecuteTime": {
     "end_time": "2023-10-08T23:34:30.176995Z",
     "start_time": "2023-10-08T23:34:30.161983Z"
    },
    "hidden": true
   },
   "outputs": [],
   "source": [
    "# first binary grid search\n",
    "# 54 unique models\n",
    "\n",
    "params = {\n",
    "    'ct__nums__num_impute__strategy': ['mean', 'median'],\n",
    "    'binary_1__class_weight': [None, {0: 1, 1: 1.25}, {0: 1, 1: 1.5}],\n",
    "    'binary_1__penalty': ['l2'],\n",
    "    'binary_1__solver' : ['liblinear', 'lbfgs', 'newton-cg'],\n",
    "    'binary_1__max_iter': [100],\n",
    "    'binary_1__C' : [1e2, 1e3, 1e4],\n",
    "    'binary_1__tol' : [0.001]\n",
    "}\n",
    "\n",
    "binary_search_1 = GridSearchCV(binary_1, params, n_jobs=12, verbose=2)"
   ]
  },
  {
   "cell_type": "code",
   "execution_count": 39,
   "metadata": {
    "ExecuteTime": {
     "end_time": "2023-10-08T23:59:03.078970Z",
     "start_time": "2023-10-08T23:34:30.197014Z"
    },
    "hidden": true
   },
   "outputs": [
    {
     "name": "stdout",
     "output_type": "stream",
     "text": [
      "Fitting 5 folds for each of 54 candidates, totalling 270 fits\n"
     ]
    },
    {
     "name": "stderr",
     "output_type": "stream",
     "text": [
      "C:\\Users\\heefj\\anaconda3\\envs\\learn-env\\lib\\site-packages\\sklearn\\linear_model\\_logistic.py:1223: UserWarning: 'n_jobs' > 1 does not have any effect when 'solver' is set to 'liblinear'. Got 'n_jobs' = 24.\n",
      "  warnings.warn(\n"
     ]
    },
    {
     "data": {
      "text/html": [
       "<style>#sk-container-id-7 {color: black;}#sk-container-id-7 pre{padding: 0;}#sk-container-id-7 div.sk-toggleable {background-color: white;}#sk-container-id-7 label.sk-toggleable__label {cursor: pointer;display: block;width: 100%;margin-bottom: 0;padding: 0.3em;box-sizing: border-box;text-align: center;}#sk-container-id-7 label.sk-toggleable__label-arrow:before {content: \"▸\";float: left;margin-right: 0.25em;color: #696969;}#sk-container-id-7 label.sk-toggleable__label-arrow:hover:before {color: black;}#sk-container-id-7 div.sk-estimator:hover label.sk-toggleable__label-arrow:before {color: black;}#sk-container-id-7 div.sk-toggleable__content {max-height: 0;max-width: 0;overflow: hidden;text-align: left;background-color: #f0f8ff;}#sk-container-id-7 div.sk-toggleable__content pre {margin: 0.2em;color: black;border-radius: 0.25em;background-color: #f0f8ff;}#sk-container-id-7 input.sk-toggleable__control:checked~div.sk-toggleable__content {max-height: 200px;max-width: 100%;overflow: auto;}#sk-container-id-7 input.sk-toggleable__control:checked~label.sk-toggleable__label-arrow:before {content: \"▾\";}#sk-container-id-7 div.sk-estimator input.sk-toggleable__control:checked~label.sk-toggleable__label {background-color: #d4ebff;}#sk-container-id-7 div.sk-label input.sk-toggleable__control:checked~label.sk-toggleable__label {background-color: #d4ebff;}#sk-container-id-7 input.sk-hidden--visually {border: 0;clip: rect(1px 1px 1px 1px);clip: rect(1px, 1px, 1px, 1px);height: 1px;margin: -1px;overflow: hidden;padding: 0;position: absolute;width: 1px;}#sk-container-id-7 div.sk-estimator {font-family: monospace;background-color: #f0f8ff;border: 1px dotted black;border-radius: 0.25em;box-sizing: border-box;margin-bottom: 0.5em;}#sk-container-id-7 div.sk-estimator:hover {background-color: #d4ebff;}#sk-container-id-7 div.sk-parallel-item::after {content: \"\";width: 100%;border-bottom: 1px solid gray;flex-grow: 1;}#sk-container-id-7 div.sk-label:hover label.sk-toggleable__label {background-color: #d4ebff;}#sk-container-id-7 div.sk-serial::before {content: \"\";position: absolute;border-left: 1px solid gray;box-sizing: border-box;top: 0;bottom: 0;left: 50%;z-index: 0;}#sk-container-id-7 div.sk-serial {display: flex;flex-direction: column;align-items: center;background-color: white;padding-right: 0.2em;padding-left: 0.2em;position: relative;}#sk-container-id-7 div.sk-item {position: relative;z-index: 1;}#sk-container-id-7 div.sk-parallel {display: flex;align-items: stretch;justify-content: center;background-color: white;position: relative;}#sk-container-id-7 div.sk-item::before, #sk-container-id-7 div.sk-parallel-item::before {content: \"\";position: absolute;border-left: 1px solid gray;box-sizing: border-box;top: 0;bottom: 0;left: 50%;z-index: -1;}#sk-container-id-7 div.sk-parallel-item {display: flex;flex-direction: column;z-index: 1;position: relative;background-color: white;}#sk-container-id-7 div.sk-parallel-item:first-child::after {align-self: flex-end;width: 50%;}#sk-container-id-7 div.sk-parallel-item:last-child::after {align-self: flex-start;width: 50%;}#sk-container-id-7 div.sk-parallel-item:only-child::after {width: 0;}#sk-container-id-7 div.sk-dashed-wrapped {border: 1px dashed gray;margin: 0 0.4em 0.5em 0.4em;box-sizing: border-box;padding-bottom: 0.4em;background-color: white;}#sk-container-id-7 div.sk-label label {font-family: monospace;font-weight: bold;display: inline-block;line-height: 1.2em;}#sk-container-id-7 div.sk-label-container {text-align: center;}#sk-container-id-7 div.sk-container {/* jupyter's `normalize.less` sets `[hidden] { display: none; }` but bootstrap.min.css set `[hidden] { display: none !important; }` so we also need the `!important` here to be able to override the default hidden behavior on the sphinx rendered scikit-learn.org. See: https://github.com/scikit-learn/scikit-learn/issues/21755 */display: inline-block !important;position: relative;}#sk-container-id-7 div.sk-text-repr-fallback {display: none;}</style><div id=\"sk-container-id-7\" class=\"sk-top-container\"><div class=\"sk-text-repr-fallback\"><pre>GridSearchCV(estimator=Pipeline(steps=[(&#x27;ct&#x27;,\n",
       "                                        ColumnTransformer(n_jobs=-1,\n",
       "                                                          remainder=&#x27;passthrough&#x27;,\n",
       "                                                          transformers=[(&#x27;nums&#x27;,\n",
       "                                                                         Pipeline(steps=[(&#x27;num_impute&#x27;,\n",
       "                                                                                          SimpleImputer(add_indicator=True)),\n",
       "                                                                                         (&#x27;ss&#x27;,\n",
       "                                                                                          StandardScaler())]),\n",
       "                                                                         [&#x27;amount_tsh&#x27;,\n",
       "                                                                          &#x27;gps_height&#x27;,\n",
       "                                                                          &#x27;longitude&#x27;,\n",
       "                                                                          &#x27;latitude&#x27;,\n",
       "                                                                          &#x27;num_private&#x27;,\n",
       "                                                                          &#x27;region_code&#x27;,\n",
       "                                                                          &#x27;district_code&#x27;,\n",
       "                                                                          &#x27;population&#x27;,\n",
       "                                                                          &#x27;age_years&#x27;]),\n",
       "                                                                        (&#x27;cats&#x27;,\n",
       "                                                                         Pipeline(st...\n",
       "                                       (&#x27;binary_1&#x27;,\n",
       "                                        LogisticRegression(n_jobs=-1))]),\n",
       "             n_jobs=12,\n",
       "             param_grid={&#x27;binary_1__C&#x27;: [100.0, 1000.0, 10000.0],\n",
       "                         &#x27;binary_1__class_weight&#x27;: [None, {0: 1, 1: 1.25},\n",
       "                                                    {0: 1, 1: 1.5}],\n",
       "                         &#x27;binary_1__max_iter&#x27;: [100],\n",
       "                         &#x27;binary_1__penalty&#x27;: [&#x27;l2&#x27;],\n",
       "                         &#x27;binary_1__solver&#x27;: [&#x27;liblinear&#x27;, &#x27;lbfgs&#x27;,\n",
       "                                              &#x27;newton-cg&#x27;],\n",
       "                         &#x27;binary_1__tol&#x27;: [0.001],\n",
       "                         &#x27;ct__nums__num_impute__strategy&#x27;: [&#x27;mean&#x27;, &#x27;median&#x27;]},\n",
       "             verbose=2)</pre><b>In a Jupyter environment, please rerun this cell to show the HTML representation or trust the notebook. <br />On GitHub, the HTML representation is unable to render, please try loading this page with nbviewer.org.</b></div><div class=\"sk-container\" hidden><div class=\"sk-item sk-dashed-wrapped\"><div class=\"sk-label-container\"><div class=\"sk-label sk-toggleable\"><input class=\"sk-toggleable__control sk-hidden--visually\" id=\"sk-estimator-id-72\" type=\"checkbox\" ><label for=\"sk-estimator-id-72\" class=\"sk-toggleable__label sk-toggleable__label-arrow\">GridSearchCV</label><div class=\"sk-toggleable__content\"><pre>GridSearchCV(estimator=Pipeline(steps=[(&#x27;ct&#x27;,\n",
       "                                        ColumnTransformer(n_jobs=-1,\n",
       "                                                          remainder=&#x27;passthrough&#x27;,\n",
       "                                                          transformers=[(&#x27;nums&#x27;,\n",
       "                                                                         Pipeline(steps=[(&#x27;num_impute&#x27;,\n",
       "                                                                                          SimpleImputer(add_indicator=True)),\n",
       "                                                                                         (&#x27;ss&#x27;,\n",
       "                                                                                          StandardScaler())]),\n",
       "                                                                         [&#x27;amount_tsh&#x27;,\n",
       "                                                                          &#x27;gps_height&#x27;,\n",
       "                                                                          &#x27;longitude&#x27;,\n",
       "                                                                          &#x27;latitude&#x27;,\n",
       "                                                                          &#x27;num_private&#x27;,\n",
       "                                                                          &#x27;region_code&#x27;,\n",
       "                                                                          &#x27;district_code&#x27;,\n",
       "                                                                          &#x27;population&#x27;,\n",
       "                                                                          &#x27;age_years&#x27;]),\n",
       "                                                                        (&#x27;cats&#x27;,\n",
       "                                                                         Pipeline(st...\n",
       "                                       (&#x27;binary_1&#x27;,\n",
       "                                        LogisticRegression(n_jobs=-1))]),\n",
       "             n_jobs=12,\n",
       "             param_grid={&#x27;binary_1__C&#x27;: [100.0, 1000.0, 10000.0],\n",
       "                         &#x27;binary_1__class_weight&#x27;: [None, {0: 1, 1: 1.25},\n",
       "                                                    {0: 1, 1: 1.5}],\n",
       "                         &#x27;binary_1__max_iter&#x27;: [100],\n",
       "                         &#x27;binary_1__penalty&#x27;: [&#x27;l2&#x27;],\n",
       "                         &#x27;binary_1__solver&#x27;: [&#x27;liblinear&#x27;, &#x27;lbfgs&#x27;,\n",
       "                                              &#x27;newton-cg&#x27;],\n",
       "                         &#x27;binary_1__tol&#x27;: [0.001],\n",
       "                         &#x27;ct__nums__num_impute__strategy&#x27;: [&#x27;mean&#x27;, &#x27;median&#x27;]},\n",
       "             verbose=2)</pre></div></div></div><div class=\"sk-parallel\"><div class=\"sk-parallel-item\"><div class=\"sk-item\"><div class=\"sk-label-container\"><div class=\"sk-label sk-toggleable\"><input class=\"sk-toggleable__control sk-hidden--visually\" id=\"sk-estimator-id-73\" type=\"checkbox\" ><label for=\"sk-estimator-id-73\" class=\"sk-toggleable__label sk-toggleable__label-arrow\">estimator: Pipeline</label><div class=\"sk-toggleable__content\"><pre>Pipeline(steps=[(&#x27;ct&#x27;,\n",
       "                 ColumnTransformer(n_jobs=-1, remainder=&#x27;passthrough&#x27;,\n",
       "                                   transformers=[(&#x27;nums&#x27;,\n",
       "                                                  Pipeline(steps=[(&#x27;num_impute&#x27;,\n",
       "                                                                   SimpleImputer(add_indicator=True)),\n",
       "                                                                  (&#x27;ss&#x27;,\n",
       "                                                                   StandardScaler())]),\n",
       "                                                  [&#x27;amount_tsh&#x27;, &#x27;gps_height&#x27;,\n",
       "                                                   &#x27;longitude&#x27;, &#x27;latitude&#x27;,\n",
       "                                                   &#x27;num_private&#x27;, &#x27;region_code&#x27;,\n",
       "                                                   &#x27;district_code&#x27;,\n",
       "                                                   &#x27;population&#x27;, &#x27;age_years&#x27;]),\n",
       "                                                 (&#x27;cats&#x27;,\n",
       "                                                  Pipeline(steps=[(&#x27;cat_impute&#x27;,\n",
       "                                                                   Simp...indicator=True,\n",
       "                                                                                 strategy=&#x27;most_frequent&#x27;)),\n",
       "                                                                  (&#x27;ohe&#x27;,\n",
       "                                                                   OneHotEncoder(handle_unknown=&#x27;ignore&#x27;))]),\n",
       "                                                  [&#x27;funder&#x27;, &#x27;installer&#x27;,\n",
       "                                                   &#x27;basin&#x27;, &#x27;lga&#x27;,\n",
       "                                                   &#x27;public_meeting&#x27;,\n",
       "                                                   &#x27;scheme_name&#x27;, &#x27;permit&#x27;,\n",
       "                                                   &#x27;extraction_type&#x27;,\n",
       "                                                   &#x27;extraction_type_class&#x27;,\n",
       "                                                   &#x27;management&#x27;, &#x27;payment&#x27;,\n",
       "                                                   &#x27;water_quality&#x27;, &#x27;quantity&#x27;,\n",
       "                                                   &#x27;source&#x27;, &#x27;source_class&#x27;,\n",
       "                                                   &#x27;waterpoint_type&#x27;])])),\n",
       "                (&#x27;binary_1&#x27;, LogisticRegression(n_jobs=-1))])</pre></div></div></div><div class=\"sk-serial\"><div class=\"sk-item\"><div class=\"sk-serial\"><div class=\"sk-item sk-dashed-wrapped\"><div class=\"sk-label-container\"><div class=\"sk-label sk-toggleable\"><input class=\"sk-toggleable__control sk-hidden--visually\" id=\"sk-estimator-id-74\" type=\"checkbox\" ><label for=\"sk-estimator-id-74\" class=\"sk-toggleable__label sk-toggleable__label-arrow\">ct: ColumnTransformer</label><div class=\"sk-toggleable__content\"><pre>ColumnTransformer(n_jobs=-1, remainder=&#x27;passthrough&#x27;,\n",
       "                  transformers=[(&#x27;nums&#x27;,\n",
       "                                 Pipeline(steps=[(&#x27;num_impute&#x27;,\n",
       "                                                  SimpleImputer(add_indicator=True)),\n",
       "                                                 (&#x27;ss&#x27;, StandardScaler())]),\n",
       "                                 [&#x27;amount_tsh&#x27;, &#x27;gps_height&#x27;, &#x27;longitude&#x27;,\n",
       "                                  &#x27;latitude&#x27;, &#x27;num_private&#x27;, &#x27;region_code&#x27;,\n",
       "                                  &#x27;district_code&#x27;, &#x27;population&#x27;, &#x27;age_years&#x27;]),\n",
       "                                (&#x27;cats&#x27;,\n",
       "                                 Pipeline(steps=[(&#x27;cat_impute&#x27;,\n",
       "                                                  SimpleImputer(add_indicator=True,\n",
       "                                                                strategy=&#x27;most_frequent&#x27;)),\n",
       "                                                 (&#x27;ohe&#x27;,\n",
       "                                                  OneHotEncoder(handle_unknown=&#x27;ignore&#x27;))]),\n",
       "                                 [&#x27;funder&#x27;, &#x27;installer&#x27;, &#x27;basin&#x27;, &#x27;lga&#x27;,\n",
       "                                  &#x27;public_meeting&#x27;, &#x27;scheme_name&#x27;, &#x27;permit&#x27;,\n",
       "                                  &#x27;extraction_type&#x27;, &#x27;extraction_type_class&#x27;,\n",
       "                                  &#x27;management&#x27;, &#x27;payment&#x27;, &#x27;water_quality&#x27;,\n",
       "                                  &#x27;quantity&#x27;, &#x27;source&#x27;, &#x27;source_class&#x27;,\n",
       "                                  &#x27;waterpoint_type&#x27;])])</pre></div></div></div><div class=\"sk-parallel\"><div class=\"sk-parallel-item\"><div class=\"sk-item\"><div class=\"sk-label-container\"><div class=\"sk-label sk-toggleable\"><input class=\"sk-toggleable__control sk-hidden--visually\" id=\"sk-estimator-id-75\" type=\"checkbox\" ><label for=\"sk-estimator-id-75\" class=\"sk-toggleable__label sk-toggleable__label-arrow\">nums</label><div class=\"sk-toggleable__content\"><pre>[&#x27;amount_tsh&#x27;, &#x27;gps_height&#x27;, &#x27;longitude&#x27;, &#x27;latitude&#x27;, &#x27;num_private&#x27;, &#x27;region_code&#x27;, &#x27;district_code&#x27;, &#x27;population&#x27;, &#x27;age_years&#x27;]</pre></div></div></div><div class=\"sk-serial\"><div class=\"sk-item\"><div class=\"sk-serial\"><div class=\"sk-item\"><div class=\"sk-estimator sk-toggleable\"><input class=\"sk-toggleable__control sk-hidden--visually\" id=\"sk-estimator-id-76\" type=\"checkbox\" ><label for=\"sk-estimator-id-76\" class=\"sk-toggleable__label sk-toggleable__label-arrow\">SimpleImputer</label><div class=\"sk-toggleable__content\"><pre>SimpleImputer(add_indicator=True)</pre></div></div></div><div class=\"sk-item\"><div class=\"sk-estimator sk-toggleable\"><input class=\"sk-toggleable__control sk-hidden--visually\" id=\"sk-estimator-id-77\" type=\"checkbox\" ><label for=\"sk-estimator-id-77\" class=\"sk-toggleable__label sk-toggleable__label-arrow\">StandardScaler</label><div class=\"sk-toggleable__content\"><pre>StandardScaler()</pre></div></div></div></div></div></div></div></div><div class=\"sk-parallel-item\"><div class=\"sk-item\"><div class=\"sk-label-container\"><div class=\"sk-label sk-toggleable\"><input class=\"sk-toggleable__control sk-hidden--visually\" id=\"sk-estimator-id-78\" type=\"checkbox\" ><label for=\"sk-estimator-id-78\" class=\"sk-toggleable__label sk-toggleable__label-arrow\">cats</label><div class=\"sk-toggleable__content\"><pre>[&#x27;funder&#x27;, &#x27;installer&#x27;, &#x27;basin&#x27;, &#x27;lga&#x27;, &#x27;public_meeting&#x27;, &#x27;scheme_name&#x27;, &#x27;permit&#x27;, &#x27;extraction_type&#x27;, &#x27;extraction_type_class&#x27;, &#x27;management&#x27;, &#x27;payment&#x27;, &#x27;water_quality&#x27;, &#x27;quantity&#x27;, &#x27;source&#x27;, &#x27;source_class&#x27;, &#x27;waterpoint_type&#x27;]</pre></div></div></div><div class=\"sk-serial\"><div class=\"sk-item\"><div class=\"sk-serial\"><div class=\"sk-item\"><div class=\"sk-estimator sk-toggleable\"><input class=\"sk-toggleable__control sk-hidden--visually\" id=\"sk-estimator-id-79\" type=\"checkbox\" ><label for=\"sk-estimator-id-79\" class=\"sk-toggleable__label sk-toggleable__label-arrow\">SimpleImputer</label><div class=\"sk-toggleable__content\"><pre>SimpleImputer(add_indicator=True, strategy=&#x27;most_frequent&#x27;)</pre></div></div></div><div class=\"sk-item\"><div class=\"sk-estimator sk-toggleable\"><input class=\"sk-toggleable__control sk-hidden--visually\" id=\"sk-estimator-id-80\" type=\"checkbox\" ><label for=\"sk-estimator-id-80\" class=\"sk-toggleable__label sk-toggleable__label-arrow\">OneHotEncoder</label><div class=\"sk-toggleable__content\"><pre>OneHotEncoder(handle_unknown=&#x27;ignore&#x27;)</pre></div></div></div></div></div></div></div></div><div class=\"sk-parallel-item\"><div class=\"sk-item\"><div class=\"sk-label-container\"><div class=\"sk-label sk-toggleable\"><input class=\"sk-toggleable__control sk-hidden--visually\" id=\"sk-estimator-id-81\" type=\"checkbox\" ><label for=\"sk-estimator-id-81\" class=\"sk-toggleable__label sk-toggleable__label-arrow\">remainder</label><div class=\"sk-toggleable__content\"><pre>[]</pre></div></div></div><div class=\"sk-serial\"><div class=\"sk-item\"><div class=\"sk-estimator sk-toggleable\"><input class=\"sk-toggleable__control sk-hidden--visually\" id=\"sk-estimator-id-82\" type=\"checkbox\" ><label for=\"sk-estimator-id-82\" class=\"sk-toggleable__label sk-toggleable__label-arrow\">passthrough</label><div class=\"sk-toggleable__content\"><pre>passthrough</pre></div></div></div></div></div></div></div></div><div class=\"sk-item\"><div class=\"sk-estimator sk-toggleable\"><input class=\"sk-toggleable__control sk-hidden--visually\" id=\"sk-estimator-id-83\" type=\"checkbox\" ><label for=\"sk-estimator-id-83\" class=\"sk-toggleable__label sk-toggleable__label-arrow\">LogisticRegression</label><div class=\"sk-toggleable__content\"><pre>LogisticRegression(n_jobs=-1)</pre></div></div></div></div></div></div></div></div></div></div></div></div>"
      ],
      "text/plain": [
       "GridSearchCV(estimator=Pipeline(steps=[('ct',\n",
       "                                        ColumnTransformer(n_jobs=-1,\n",
       "                                                          remainder='passthrough',\n",
       "                                                          transformers=[('nums',\n",
       "                                                                         Pipeline(steps=[('num_impute',\n",
       "                                                                                          SimpleImputer(add_indicator=True)),\n",
       "                                                                                         ('ss',\n",
       "                                                                                          StandardScaler())]),\n",
       "                                                                         ['amount_tsh',\n",
       "                                                                          'gps_height',\n",
       "                                                                          'longitude',\n",
       "                                                                          'latitude',\n",
       "                                                                          'num_private',\n",
       "                                                                          'region_code',\n",
       "                                                                          'district_code',\n",
       "                                                                          'population',\n",
       "                                                                          'age_years']),\n",
       "                                                                        ('cats',\n",
       "                                                                         Pipeline(st...\n",
       "                                       ('binary_1',\n",
       "                                        LogisticRegression(n_jobs=-1))]),\n",
       "             n_jobs=12,\n",
       "             param_grid={'binary_1__C': [100.0, 1000.0, 10000.0],\n",
       "                         'binary_1__class_weight': [None, {0: 1, 1: 1.25},\n",
       "                                                    {0: 1, 1: 1.5}],\n",
       "                         'binary_1__max_iter': [100],\n",
       "                         'binary_1__penalty': ['l2'],\n",
       "                         'binary_1__solver': ['liblinear', 'lbfgs',\n",
       "                                              'newton-cg'],\n",
       "                         'binary_1__tol': [0.001],\n",
       "                         'ct__nums__num_impute__strategy': ['mean', 'median']},\n",
       "             verbose=2)"
      ]
     },
     "execution_count": 39,
     "metadata": {},
     "output_type": "execute_result"
    }
   ],
   "source": [
    "# DO NOT RUN THIS CELL\n",
    "\n",
    "# perform grid search\n",
    "binary_search_1.fit(X_train, y_train)"
   ]
  },
  {
   "cell_type": "markdown",
   "metadata": {
    "ExecuteTime": {
     "end_time": "2023-10-06T19:52:20.072207Z",
     "start_time": "2023-10-06T19:52:20.068205Z"
    },
    "hidden": true
   },
   "source": [
    "best params:\n",
    "{'binary_2__C': 100.0,\n",
    " 'binary_2__class_weight': None,\n",
    " 'binary_2__max_iter': 100,\n",
    " 'binary_2__penalty': 'l2',\n",
    " 'binary_2__solver': 'liblinear',\n",
    " 'binary_2__tol': 0.001,\n",
    " 'ct__nums__num_impute__strategy': 'median'}"
   ]
  },
  {
   "cell_type": "code",
   "execution_count": 41,
   "metadata": {
    "ExecuteTime": {
     "end_time": "2023-10-09T00:08:11.512563Z",
     "start_time": "2023-10-09T00:06:56.973876Z"
    },
    "hidden": true
   },
   "outputs": [
    {
     "name": "stderr",
     "output_type": "stream",
     "text": [
      "C:\\Users\\heefj\\anaconda3\\envs\\learn-env\\lib\\site-packages\\sklearn\\linear_model\\_logistic.py:1223: UserWarning: 'n_jobs' > 1 does not have any effect when 'solver' is set to 'liblinear'. Got 'n_jobs' = 24.\n",
      "  warnings.warn(\n",
      "C:\\Users\\heefj\\anaconda3\\envs\\learn-env\\lib\\site-packages\\sklearn\\linear_model\\_logistic.py:1223: UserWarning: 'n_jobs' > 1 does not have any effect when 'solver' is set to 'liblinear'. Got 'n_jobs' = 24.\n",
      "  warnings.warn(\n",
      "C:\\Users\\heefj\\anaconda3\\envs\\learn-env\\lib\\site-packages\\sklearn\\linear_model\\_logistic.py:1223: UserWarning: 'n_jobs' > 1 does not have any effect when 'solver' is set to 'liblinear'. Got 'n_jobs' = 24.\n",
      "  warnings.warn(\n"
     ]
    }
   ],
   "source": [
    "# use get_df for binary grid search 1\n",
    "binary_df_1 = get_df(grid_search=binary_search_1, model_name='binary_1')"
   ]
  },
  {
   "cell_type": "code",
   "execution_count": 48,
   "metadata": {
    "ExecuteTime": {
     "end_time": "2023-10-09T02:52:26.759693Z",
     "start_time": "2023-10-09T02:52:26.741677Z"
    },
    "hidden": true,
    "scrolled": false
   },
   "outputs": [
    {
     "data": {
      "text/html": [
       "<div>\n",
       "<style scoped>\n",
       "    .dataframe tbody tr th:only-of-type {\n",
       "        vertical-align: middle;\n",
       "    }\n",
       "\n",
       "    .dataframe tbody tr th {\n",
       "        vertical-align: top;\n",
       "    }\n",
       "\n",
       "    .dataframe thead th {\n",
       "        text-align: right;\n",
       "    }\n",
       "</style>\n",
       "<table border=\"1\" class=\"dataframe\">\n",
       "  <thead>\n",
       "    <tr style=\"text-align: right;\">\n",
       "      <th></th>\n",
       "      <th>params</th>\n",
       "      <th>test_score</th>\n",
       "      <th>dys_acc</th>\n",
       "    </tr>\n",
       "  </thead>\n",
       "  <tbody>\n",
       "    <tr>\n",
       "      <th>2</th>\n",
       "      <td>{'binary_1__C': 100.0, 'binary_1__class_weight...</td>\n",
       "      <td>0.794108</td>\n",
       "      <td>0.712840</td>\n",
       "    </tr>\n",
       "    <tr>\n",
       "      <th>3</th>\n",
       "      <td>{'binary_1__C': 100.0, 'binary_1__class_weight...</td>\n",
       "      <td>0.794108</td>\n",
       "      <td>0.712840</td>\n",
       "    </tr>\n",
       "    <tr>\n",
       "      <th>0</th>\n",
       "      <td>{'binary_1__C': 100.0, 'binary_1__class_weight...</td>\n",
       "      <td>0.794066</td>\n",
       "      <td>0.712656</td>\n",
       "    </tr>\n",
       "    <tr>\n",
       "      <th>1</th>\n",
       "      <td>{'binary_1__C': 100.0, 'binary_1__class_weight...</td>\n",
       "      <td>0.794234</td>\n",
       "      <td>0.712472</td>\n",
       "    </tr>\n",
       "    <tr>\n",
       "      <th>4</th>\n",
       "      <td>{'binary_1__C': 1000.0, 'binary_1__class_weigh...</td>\n",
       "      <td>0.793056</td>\n",
       "      <td>0.711737</td>\n",
       "    </tr>\n",
       "  </tbody>\n",
       "</table>\n",
       "</div>"
      ],
      "text/plain": [
       "                                              params  test_score   dys_acc\n",
       "2  {'binary_1__C': 100.0, 'binary_1__class_weight...    0.794108  0.712840\n",
       "3  {'binary_1__C': 100.0, 'binary_1__class_weight...    0.794108  0.712840\n",
       "0  {'binary_1__C': 100.0, 'binary_1__class_weight...    0.794066  0.712656\n",
       "1  {'binary_1__C': 100.0, 'binary_1__class_weight...    0.794234  0.712472\n",
       "4  {'binary_1__C': 1000.0, 'binary_1__class_weigh...    0.793056  0.711737"
      ]
     },
     "execution_count": 48,
     "metadata": {},
     "output_type": "execute_result"
    }
   ],
   "source": [
    "# top 5 dys_accs\n",
    "best_models = binary_df_1.sort_values('dys_acc', ascending=False)\n",
    "best_models"
   ]
  },
  {
   "cell_type": "code",
   "execution_count": 53,
   "metadata": {
    "ExecuteTime": {
     "end_time": "2023-10-09T02:53:09.360933Z",
     "start_time": "2023-10-09T02:53:09.353926Z"
    },
    "hidden": true
   },
   "outputs": [
    {
     "data": {
      "text/html": [
       "<div>\n",
       "<style scoped>\n",
       "    .dataframe tbody tr th:only-of-type {\n",
       "        vertical-align: middle;\n",
       "    }\n",
       "\n",
       "    .dataframe tbody tr th {\n",
       "        vertical-align: top;\n",
       "    }\n",
       "\n",
       "    .dataframe thead th {\n",
       "        text-align: right;\n",
       "    }\n",
       "</style>\n",
       "<table border=\"1\" class=\"dataframe\">\n",
       "  <thead>\n",
       "    <tr style=\"text-align: right;\">\n",
       "      <th></th>\n",
       "      <th>params</th>\n",
       "      <th>test_score</th>\n",
       "      <th>dys_acc</th>\n",
       "    </tr>\n",
       "  </thead>\n",
       "  <tbody>\n",
       "    <tr>\n",
       "      <th>2</th>\n",
       "      <td>{'binary_1__C': 100.0, 'binary_1__class_weight...</td>\n",
       "      <td>0.794108</td>\n",
       "      <td>0.71284</td>\n",
       "    </tr>\n",
       "  </tbody>\n",
       "</table>\n",
       "</div>"
      ],
      "text/plain": [
       "                                              params  test_score  dys_acc\n",
       "2  {'binary_1__C': 100.0, 'binary_1__class_weight...    0.794108  0.71284"
      ]
     },
     "execution_count": 53,
     "metadata": {},
     "output_type": "execute_result"
    }
   ],
   "source": [
    "# get the top model\n",
    "best_model = best_models.iloc[[0]]\n",
    "best_model"
   ]
  },
  {
   "cell_type": "markdown",
   "metadata": {
    "hidden": true
   },
   "source": [
    "- Our best model from the first binary search has an overall acc of 79.4% paired with a dys_acc of 71.2%."
   ]
  },
  {
   "cell_type": "markdown",
   "metadata": {
    "heading_collapsed": true,
    "hidden": true
   },
   "source": [
    "## Analyze binary search 1 hyperparameters:"
   ]
  },
  {
   "cell_type": "markdown",
   "metadata": {
    "heading_collapsed": true,
    "hidden": true
   },
   "source": [
    "### Impute strategy:"
   ]
  },
  {
   "cell_type": "code",
   "execution_count": 98,
   "metadata": {
    "ExecuteTime": {
     "end_time": "2023-10-06T02:40:44.297381Z",
     "start_time": "2023-10-06T02:40:44.275361Z"
    },
    "hidden": true
   },
   "outputs": [
    {
     "data": {
      "text/html": [
       "<div>\n",
       "<style scoped>\n",
       "    .dataframe tbody tr th:only-of-type {\n",
       "        vertical-align: middle;\n",
       "    }\n",
       "\n",
       "    .dataframe tbody tr th {\n",
       "        vertical-align: top;\n",
       "    }\n",
       "\n",
       "    .dataframe thead th {\n",
       "        text-align: right;\n",
       "    }\n",
       "</style>\n",
       "<table border=\"1\" class=\"dataframe\">\n",
       "  <thead>\n",
       "    <tr style=\"text-align: right;\">\n",
       "      <th></th>\n",
       "      <th>mean_test_score_x</th>\n",
       "      <th>mean_test_score_y</th>\n",
       "    </tr>\n",
       "    <tr>\n",
       "      <th>param_ct__nums__num_impute__strategy</th>\n",
       "      <th></th>\n",
       "      <th></th>\n",
       "    </tr>\n",
       "  </thead>\n",
       "  <tbody>\n",
       "    <tr>\n",
       "      <th>mean</th>\n",
       "      <td>0.767151</td>\n",
       "      <td>0.767172</td>\n",
       "    </tr>\n",
       "    <tr>\n",
       "      <th>median</th>\n",
       "      <td>0.767131</td>\n",
       "      <td>0.767277</td>\n",
       "    </tr>\n",
       "  </tbody>\n",
       "</table>\n",
       "</div>"
      ],
      "text/plain": [
       "                                      mean_test_score_x  mean_test_score_y\n",
       "param_ct__nums__num_impute__strategy                                      \n",
       "mean                                           0.767151           0.767172\n",
       "median                                         0.767131           0.767277"
      ]
     },
     "execution_count": 98,
     "metadata": {},
     "output_type": "execute_result"
    }
   ],
   "source": [
    "# look at mean and median test scores for all impute strategies\n",
    "binary_search_1_df.groupby(['param_ct__nums__num_impute__strategy']).mean().merge(binary_search_1_df.groupby(['param_ct__nums__num_impute__strategy']).median(), on='param_ct__nums__num_impute__strategy')"
   ]
  },
  {
   "cell_type": "markdown",
   "metadata": {
    "hidden": true
   },
   "source": [
    "- No real difference. I will use both in binary_search_2."
   ]
  },
  {
   "cell_type": "markdown",
   "metadata": {
    "heading_collapsed": true,
    "hidden": true
   },
   "source": [
    "### Class weight:"
   ]
  },
  {
   "cell_type": "code",
   "execution_count": 104,
   "metadata": {
    "ExecuteTime": {
     "end_time": "2023-10-06T02:47:30.269342Z",
     "start_time": "2023-10-06T02:47:30.242317Z"
    },
    "hidden": true
   },
   "outputs": [
    {
     "data": {
      "text/html": [
       "<div>\n",
       "<style scoped>\n",
       "    .dataframe tbody tr th:only-of-type {\n",
       "        vertical-align: middle;\n",
       "    }\n",
       "\n",
       "    .dataframe tbody tr th {\n",
       "        vertical-align: top;\n",
       "    }\n",
       "\n",
       "    .dataframe thead th {\n",
       "        text-align: right;\n",
       "    }\n",
       "</style>\n",
       "<table border=\"1\" class=\"dataframe\">\n",
       "  <thead>\n",
       "    <tr style=\"text-align: right;\">\n",
       "      <th></th>\n",
       "      <th>mean_test_score_x</th>\n",
       "      <th>mean_test_score_y</th>\n",
       "    </tr>\n",
       "    <tr>\n",
       "      <th>param_binary_2__class_weight</th>\n",
       "      <th></th>\n",
       "      <th></th>\n",
       "    </tr>\n",
       "  </thead>\n",
       "  <tbody>\n",
       "    <tr>\n",
       "      <th>nan</th>\n",
       "      <td>0.781428</td>\n",
       "      <td>0.780766</td>\n",
       "    </tr>\n",
       "    <tr>\n",
       "      <th>{0: 1, 1: 1.5}</th>\n",
       "      <td>0.770396</td>\n",
       "      <td>0.769402</td>\n",
       "    </tr>\n",
       "    <tr>\n",
       "      <th>{0: 1, 1: 2}</th>\n",
       "      <td>0.749599</td>\n",
       "      <td>0.746517</td>\n",
       "    </tr>\n",
       "  </tbody>\n",
       "</table>\n",
       "</div>"
      ],
      "text/plain": [
       "                              mean_test_score_x  mean_test_score_y\n",
       "param_binary_2__class_weight                                      \n",
       "nan                                    0.781428           0.780766\n",
       "{0: 1, 1: 1.5}                         0.770396           0.769402\n",
       "{0: 1, 1: 2}                           0.749599           0.746517"
      ]
     },
     "execution_count": 104,
     "metadata": {},
     "output_type": "execute_result"
    }
   ],
   "source": [
    "# convert class weights from dict -> str\n",
    "binary_search_1_df['param_binary_1__class_weight'] = binary_search_1_df['param_binary_1__class_weight'].astype(str)\n",
    "\n",
    "# look at mean and median test scores for all class weight values\n",
    "binary_search_1_df.groupby(['param_binary_1__class_weight']).mean().merge(binary_search_1_df.groupby(['param_binary_1__class_weight']).median(), on='param_binary_1__class_weight')"
   ]
  },
  {
   "cell_type": "markdown",
   "metadata": {
    "hidden": true
   },
   "source": [
    "- No class weight performed the best."
   ]
  },
  {
   "cell_type": "markdown",
   "metadata": {
    "hidden": true
   },
   "source": [
    "### Solver:"
   ]
  },
  {
   "cell_type": "code",
   "execution_count": 105,
   "metadata": {
    "ExecuteTime": {
     "end_time": "2023-10-06T02:50:24.420365Z",
     "start_time": "2023-10-06T02:50:24.408354Z"
    },
    "hidden": true
   },
   "outputs": [
    {
     "data": {
      "text/html": [
       "<div>\n",
       "<style scoped>\n",
       "    .dataframe tbody tr th:only-of-type {\n",
       "        vertical-align: middle;\n",
       "    }\n",
       "\n",
       "    .dataframe tbody tr th {\n",
       "        vertical-align: top;\n",
       "    }\n",
       "\n",
       "    .dataframe thead th {\n",
       "        text-align: right;\n",
       "    }\n",
       "</style>\n",
       "<table border=\"1\" class=\"dataframe\">\n",
       "  <thead>\n",
       "    <tr style=\"text-align: right;\">\n",
       "      <th></th>\n",
       "      <th>mean_test_score_x</th>\n",
       "      <th>mean_test_score_y</th>\n",
       "    </tr>\n",
       "    <tr>\n",
       "      <th>param_binary_2__solver</th>\n",
       "      <th></th>\n",
       "      <th></th>\n",
       "    </tr>\n",
       "  </thead>\n",
       "  <tbody>\n",
       "    <tr>\n",
       "      <th>lbfgs</th>\n",
       "      <td>0.770979</td>\n",
       "      <td>0.773716</td>\n",
       "    </tr>\n",
       "    <tr>\n",
       "      <th>liblinear</th>\n",
       "      <td>0.775630</td>\n",
       "      <td>0.780577</td>\n",
       "    </tr>\n",
       "    <tr>\n",
       "      <th>newton-cg</th>\n",
       "      <td>0.775628</td>\n",
       "      <td>0.780492</td>\n",
       "    </tr>\n",
       "    <tr>\n",
       "      <th>sag</th>\n",
       "      <td>0.758865</td>\n",
       "      <td>0.762774</td>\n",
       "    </tr>\n",
       "    <tr>\n",
       "      <th>saga</th>\n",
       "      <td>0.754602</td>\n",
       "      <td>0.760911</td>\n",
       "    </tr>\n",
       "  </tbody>\n",
       "</table>\n",
       "</div>"
      ],
      "text/plain": [
       "                        mean_test_score_x  mean_test_score_y\n",
       "param_binary_2__solver                                      \n",
       "lbfgs                            0.770979           0.773716\n",
       "liblinear                        0.775630           0.780577\n",
       "newton-cg                        0.775628           0.780492\n",
       "sag                              0.758865           0.762774\n",
       "saga                             0.754602           0.760911"
      ]
     },
     "execution_count": 105,
     "metadata": {},
     "output_type": "execute_result"
    }
   ],
   "source": [
    "# look at mean and median test scores for all solvers\n",
    "binary_search_1_df.groupby(['param_binary_1__solver']).mean().merge(binary_search_1_df.groupby(['param_binary_1__solver']).median(), on='param_binary_1__solver')"
   ]
  },
  {
   "cell_type": "markdown",
   "metadata": {
    "hidden": true
   },
   "source": [
    "- 'liblinear' and 'newton-cg' performed the best.\n",
    "- 'sag' and 'saga' performed poorly."
   ]
  },
  {
   "cell_type": "markdown",
   "metadata": {
    "heading_collapsed": true,
    "hidden": true
   },
   "source": [
    "### C:"
   ]
  },
  {
   "cell_type": "code",
   "execution_count": 42,
   "metadata": {
    "ExecuteTime": {
     "end_time": "2023-10-06T00:16:08.399509Z",
     "start_time": "2023-10-06T00:16:08.379491Z"
    },
    "hidden": true
   },
   "outputs": [
    {
     "data": {
      "text/html": [
       "<div>\n",
       "<style scoped>\n",
       "    .dataframe tbody tr th:only-of-type {\n",
       "        vertical-align: middle;\n",
       "    }\n",
       "\n",
       "    .dataframe tbody tr th {\n",
       "        vertical-align: top;\n",
       "    }\n",
       "\n",
       "    .dataframe thead th {\n",
       "        text-align: right;\n",
       "    }\n",
       "</style>\n",
       "<table border=\"1\" class=\"dataframe\">\n",
       "  <thead>\n",
       "    <tr style=\"text-align: right;\">\n",
       "      <th></th>\n",
       "      <th>mean_test_score_x</th>\n",
       "      <th>mean_test_score_y</th>\n",
       "    </tr>\n",
       "    <tr>\n",
       "      <th>param_binary_2__C</th>\n",
       "      <th></th>\n",
       "      <th></th>\n",
       "    </tr>\n",
       "  </thead>\n",
       "  <tbody>\n",
       "    <tr>\n",
       "      <th>0.1</th>\n",
       "      <td>0.761664</td>\n",
       "      <td>0.766067</td>\n",
       "    </tr>\n",
       "    <tr>\n",
       "      <th>1.0</th>\n",
       "      <td>0.768883</td>\n",
       "      <td>0.767224</td>\n",
       "    </tr>\n",
       "    <tr>\n",
       "      <th>100.0</th>\n",
       "      <td>0.769184</td>\n",
       "      <td>0.767266</td>\n",
       "    </tr>\n",
       "    <tr>\n",
       "      <th>1000.0</th>\n",
       "      <td>0.768832</td>\n",
       "      <td>0.767256</td>\n",
       "    </tr>\n",
       "  </tbody>\n",
       "</table>\n",
       "</div>"
      ],
      "text/plain": [
       "                   mean_test_score_x  mean_test_score_y\n",
       "param_binary_2__C                                      \n",
       "0.1                         0.761664           0.766067\n",
       "1.0                         0.768883           0.767224\n",
       "100.0                       0.769184           0.767266\n",
       "1000.0                      0.768832           0.767256"
      ]
     },
     "execution_count": 42,
     "metadata": {},
     "output_type": "execute_result"
    }
   ],
   "source": [
    "# look at mean and median test scores for all C values\n",
    "binary_search_1_df.groupby(['param_binary_2__C']).mean().merge(binary_search_1_df.groupby(['param_binary_2__C']).median(), on='param_binary_2__C')"
   ]
  },
  {
   "cell_type": "markdown",
   "metadata": {
    "hidden": true
   },
   "source": [
    "- Higher C values above 0.1 (less regularization) had better mean and median scores."
   ]
  },
  {
   "cell_type": "markdown",
   "metadata": {
    "heading_collapsed": true,
    "hidden": true
   },
   "source": [
    "## Binary search 2"
   ]
  },
  {
   "cell_type": "code",
   "execution_count": 44,
   "metadata": {
    "ExecuteTime": {
     "end_time": "2023-10-09T00:08:21.748535Z",
     "start_time": "2023-10-09T00:08:19.507275Z"
    },
    "hidden": true
   },
   "outputs": [
    {
     "data": {
      "text/html": [
       "<style>#sk-container-id-8 {color: black;}#sk-container-id-8 pre{padding: 0;}#sk-container-id-8 div.sk-toggleable {background-color: white;}#sk-container-id-8 label.sk-toggleable__label {cursor: pointer;display: block;width: 100%;margin-bottom: 0;padding: 0.3em;box-sizing: border-box;text-align: center;}#sk-container-id-8 label.sk-toggleable__label-arrow:before {content: \"▸\";float: left;margin-right: 0.25em;color: #696969;}#sk-container-id-8 label.sk-toggleable__label-arrow:hover:before {color: black;}#sk-container-id-8 div.sk-estimator:hover label.sk-toggleable__label-arrow:before {color: black;}#sk-container-id-8 div.sk-toggleable__content {max-height: 0;max-width: 0;overflow: hidden;text-align: left;background-color: #f0f8ff;}#sk-container-id-8 div.sk-toggleable__content pre {margin: 0.2em;color: black;border-radius: 0.25em;background-color: #f0f8ff;}#sk-container-id-8 input.sk-toggleable__control:checked~div.sk-toggleable__content {max-height: 200px;max-width: 100%;overflow: auto;}#sk-container-id-8 input.sk-toggleable__control:checked~label.sk-toggleable__label-arrow:before {content: \"▾\";}#sk-container-id-8 div.sk-estimator input.sk-toggleable__control:checked~label.sk-toggleable__label {background-color: #d4ebff;}#sk-container-id-8 div.sk-label input.sk-toggleable__control:checked~label.sk-toggleable__label {background-color: #d4ebff;}#sk-container-id-8 input.sk-hidden--visually {border: 0;clip: rect(1px 1px 1px 1px);clip: rect(1px, 1px, 1px, 1px);height: 1px;margin: -1px;overflow: hidden;padding: 0;position: absolute;width: 1px;}#sk-container-id-8 div.sk-estimator {font-family: monospace;background-color: #f0f8ff;border: 1px dotted black;border-radius: 0.25em;box-sizing: border-box;margin-bottom: 0.5em;}#sk-container-id-8 div.sk-estimator:hover {background-color: #d4ebff;}#sk-container-id-8 div.sk-parallel-item::after {content: \"\";width: 100%;border-bottom: 1px solid gray;flex-grow: 1;}#sk-container-id-8 div.sk-label:hover label.sk-toggleable__label {background-color: #d4ebff;}#sk-container-id-8 div.sk-serial::before {content: \"\";position: absolute;border-left: 1px solid gray;box-sizing: border-box;top: 0;bottom: 0;left: 50%;z-index: 0;}#sk-container-id-8 div.sk-serial {display: flex;flex-direction: column;align-items: center;background-color: white;padding-right: 0.2em;padding-left: 0.2em;position: relative;}#sk-container-id-8 div.sk-item {position: relative;z-index: 1;}#sk-container-id-8 div.sk-parallel {display: flex;align-items: stretch;justify-content: center;background-color: white;position: relative;}#sk-container-id-8 div.sk-item::before, #sk-container-id-8 div.sk-parallel-item::before {content: \"\";position: absolute;border-left: 1px solid gray;box-sizing: border-box;top: 0;bottom: 0;left: 50%;z-index: -1;}#sk-container-id-8 div.sk-parallel-item {display: flex;flex-direction: column;z-index: 1;position: relative;background-color: white;}#sk-container-id-8 div.sk-parallel-item:first-child::after {align-self: flex-end;width: 50%;}#sk-container-id-8 div.sk-parallel-item:last-child::after {align-self: flex-start;width: 50%;}#sk-container-id-8 div.sk-parallel-item:only-child::after {width: 0;}#sk-container-id-8 div.sk-dashed-wrapped {border: 1px dashed gray;margin: 0 0.4em 0.5em 0.4em;box-sizing: border-box;padding-bottom: 0.4em;background-color: white;}#sk-container-id-8 div.sk-label label {font-family: monospace;font-weight: bold;display: inline-block;line-height: 1.2em;}#sk-container-id-8 div.sk-label-container {text-align: center;}#sk-container-id-8 div.sk-container {/* jupyter's `normalize.less` sets `[hidden] { display: none; }` but bootstrap.min.css set `[hidden] { display: none !important; }` so we also need the `!important` here to be able to override the default hidden behavior on the sphinx rendered scikit-learn.org. See: https://github.com/scikit-learn/scikit-learn/issues/21755 */display: inline-block !important;position: relative;}#sk-container-id-8 div.sk-text-repr-fallback {display: none;}</style><div id=\"sk-container-id-8\" class=\"sk-top-container\"><div class=\"sk-text-repr-fallback\"><pre>Pipeline(steps=[(&#x27;ct&#x27;,\n",
       "                 ColumnTransformer(n_jobs=-1, remainder=&#x27;passthrough&#x27;,\n",
       "                                   transformers=[(&#x27;nums&#x27;,\n",
       "                                                  Pipeline(steps=[(&#x27;num_impute&#x27;,\n",
       "                                                                   SimpleImputer(add_indicator=True)),\n",
       "                                                                  (&#x27;ss&#x27;,\n",
       "                                                                   StandardScaler())]),\n",
       "                                                  [&#x27;amount_tsh&#x27;, &#x27;gps_height&#x27;,\n",
       "                                                   &#x27;longitude&#x27;, &#x27;latitude&#x27;,\n",
       "                                                   &#x27;num_private&#x27;, &#x27;region_code&#x27;,\n",
       "                                                   &#x27;district_code&#x27;,\n",
       "                                                   &#x27;population&#x27;, &#x27;age_years&#x27;]),\n",
       "                                                 (&#x27;cats&#x27;,\n",
       "                                                  Pipeline(steps=[(&#x27;cat_impute&#x27;,\n",
       "                                                                   Simp...indicator=True,\n",
       "                                                                                 strategy=&#x27;most_frequent&#x27;)),\n",
       "                                                                  (&#x27;ohe&#x27;,\n",
       "                                                                   OneHotEncoder(handle_unknown=&#x27;ignore&#x27;))]),\n",
       "                                                  [&#x27;funder&#x27;, &#x27;installer&#x27;,\n",
       "                                                   &#x27;basin&#x27;, &#x27;lga&#x27;,\n",
       "                                                   &#x27;public_meeting&#x27;,\n",
       "                                                   &#x27;scheme_name&#x27;, &#x27;permit&#x27;,\n",
       "                                                   &#x27;extraction_type&#x27;,\n",
       "                                                   &#x27;extraction_type_class&#x27;,\n",
       "                                                   &#x27;management&#x27;, &#x27;payment&#x27;,\n",
       "                                                   &#x27;water_quality&#x27;, &#x27;quantity&#x27;,\n",
       "                                                   &#x27;source&#x27;, &#x27;source_class&#x27;,\n",
       "                                                   &#x27;waterpoint_type&#x27;])])),\n",
       "                (&#x27;binary_2&#x27;, LogisticRegression(n_jobs=-1))])</pre><b>In a Jupyter environment, please rerun this cell to show the HTML representation or trust the notebook. <br />On GitHub, the HTML representation is unable to render, please try loading this page with nbviewer.org.</b></div><div class=\"sk-container\" hidden><div class=\"sk-item sk-dashed-wrapped\"><div class=\"sk-label-container\"><div class=\"sk-label sk-toggleable\"><input class=\"sk-toggleable__control sk-hidden--visually\" id=\"sk-estimator-id-84\" type=\"checkbox\" ><label for=\"sk-estimator-id-84\" class=\"sk-toggleable__label sk-toggleable__label-arrow\">Pipeline</label><div class=\"sk-toggleable__content\"><pre>Pipeline(steps=[(&#x27;ct&#x27;,\n",
       "                 ColumnTransformer(n_jobs=-1, remainder=&#x27;passthrough&#x27;,\n",
       "                                   transformers=[(&#x27;nums&#x27;,\n",
       "                                                  Pipeline(steps=[(&#x27;num_impute&#x27;,\n",
       "                                                                   SimpleImputer(add_indicator=True)),\n",
       "                                                                  (&#x27;ss&#x27;,\n",
       "                                                                   StandardScaler())]),\n",
       "                                                  [&#x27;amount_tsh&#x27;, &#x27;gps_height&#x27;,\n",
       "                                                   &#x27;longitude&#x27;, &#x27;latitude&#x27;,\n",
       "                                                   &#x27;num_private&#x27;, &#x27;region_code&#x27;,\n",
       "                                                   &#x27;district_code&#x27;,\n",
       "                                                   &#x27;population&#x27;, &#x27;age_years&#x27;]),\n",
       "                                                 (&#x27;cats&#x27;,\n",
       "                                                  Pipeline(steps=[(&#x27;cat_impute&#x27;,\n",
       "                                                                   Simp...indicator=True,\n",
       "                                                                                 strategy=&#x27;most_frequent&#x27;)),\n",
       "                                                                  (&#x27;ohe&#x27;,\n",
       "                                                                   OneHotEncoder(handle_unknown=&#x27;ignore&#x27;))]),\n",
       "                                                  [&#x27;funder&#x27;, &#x27;installer&#x27;,\n",
       "                                                   &#x27;basin&#x27;, &#x27;lga&#x27;,\n",
       "                                                   &#x27;public_meeting&#x27;,\n",
       "                                                   &#x27;scheme_name&#x27;, &#x27;permit&#x27;,\n",
       "                                                   &#x27;extraction_type&#x27;,\n",
       "                                                   &#x27;extraction_type_class&#x27;,\n",
       "                                                   &#x27;management&#x27;, &#x27;payment&#x27;,\n",
       "                                                   &#x27;water_quality&#x27;, &#x27;quantity&#x27;,\n",
       "                                                   &#x27;source&#x27;, &#x27;source_class&#x27;,\n",
       "                                                   &#x27;waterpoint_type&#x27;])])),\n",
       "                (&#x27;binary_2&#x27;, LogisticRegression(n_jobs=-1))])</pre></div></div></div><div class=\"sk-serial\"><div class=\"sk-item sk-dashed-wrapped\"><div class=\"sk-label-container\"><div class=\"sk-label sk-toggleable\"><input class=\"sk-toggleable__control sk-hidden--visually\" id=\"sk-estimator-id-85\" type=\"checkbox\" ><label for=\"sk-estimator-id-85\" class=\"sk-toggleable__label sk-toggleable__label-arrow\">ct: ColumnTransformer</label><div class=\"sk-toggleable__content\"><pre>ColumnTransformer(n_jobs=-1, remainder=&#x27;passthrough&#x27;,\n",
       "                  transformers=[(&#x27;nums&#x27;,\n",
       "                                 Pipeline(steps=[(&#x27;num_impute&#x27;,\n",
       "                                                  SimpleImputer(add_indicator=True)),\n",
       "                                                 (&#x27;ss&#x27;, StandardScaler())]),\n",
       "                                 [&#x27;amount_tsh&#x27;, &#x27;gps_height&#x27;, &#x27;longitude&#x27;,\n",
       "                                  &#x27;latitude&#x27;, &#x27;num_private&#x27;, &#x27;region_code&#x27;,\n",
       "                                  &#x27;district_code&#x27;, &#x27;population&#x27;, &#x27;age_years&#x27;]),\n",
       "                                (&#x27;cats&#x27;,\n",
       "                                 Pipeline(steps=[(&#x27;cat_impute&#x27;,\n",
       "                                                  SimpleImputer(add_indicator=True,\n",
       "                                                                strategy=&#x27;most_frequent&#x27;)),\n",
       "                                                 (&#x27;ohe&#x27;,\n",
       "                                                  OneHotEncoder(handle_unknown=&#x27;ignore&#x27;))]),\n",
       "                                 [&#x27;funder&#x27;, &#x27;installer&#x27;, &#x27;basin&#x27;, &#x27;lga&#x27;,\n",
       "                                  &#x27;public_meeting&#x27;, &#x27;scheme_name&#x27;, &#x27;permit&#x27;,\n",
       "                                  &#x27;extraction_type&#x27;, &#x27;extraction_type_class&#x27;,\n",
       "                                  &#x27;management&#x27;, &#x27;payment&#x27;, &#x27;water_quality&#x27;,\n",
       "                                  &#x27;quantity&#x27;, &#x27;source&#x27;, &#x27;source_class&#x27;,\n",
       "                                  &#x27;waterpoint_type&#x27;])])</pre></div></div></div><div class=\"sk-parallel\"><div class=\"sk-parallel-item\"><div class=\"sk-item\"><div class=\"sk-label-container\"><div class=\"sk-label sk-toggleable\"><input class=\"sk-toggleable__control sk-hidden--visually\" id=\"sk-estimator-id-86\" type=\"checkbox\" ><label for=\"sk-estimator-id-86\" class=\"sk-toggleable__label sk-toggleable__label-arrow\">nums</label><div class=\"sk-toggleable__content\"><pre>[&#x27;amount_tsh&#x27;, &#x27;gps_height&#x27;, &#x27;longitude&#x27;, &#x27;latitude&#x27;, &#x27;num_private&#x27;, &#x27;region_code&#x27;, &#x27;district_code&#x27;, &#x27;population&#x27;, &#x27;age_years&#x27;]</pre></div></div></div><div class=\"sk-serial\"><div class=\"sk-item\"><div class=\"sk-serial\"><div class=\"sk-item\"><div class=\"sk-estimator sk-toggleable\"><input class=\"sk-toggleable__control sk-hidden--visually\" id=\"sk-estimator-id-87\" type=\"checkbox\" ><label for=\"sk-estimator-id-87\" class=\"sk-toggleable__label sk-toggleable__label-arrow\">SimpleImputer</label><div class=\"sk-toggleable__content\"><pre>SimpleImputer(add_indicator=True)</pre></div></div></div><div class=\"sk-item\"><div class=\"sk-estimator sk-toggleable\"><input class=\"sk-toggleable__control sk-hidden--visually\" id=\"sk-estimator-id-88\" type=\"checkbox\" ><label for=\"sk-estimator-id-88\" class=\"sk-toggleable__label sk-toggleable__label-arrow\">StandardScaler</label><div class=\"sk-toggleable__content\"><pre>StandardScaler()</pre></div></div></div></div></div></div></div></div><div class=\"sk-parallel-item\"><div class=\"sk-item\"><div class=\"sk-label-container\"><div class=\"sk-label sk-toggleable\"><input class=\"sk-toggleable__control sk-hidden--visually\" id=\"sk-estimator-id-89\" type=\"checkbox\" ><label for=\"sk-estimator-id-89\" class=\"sk-toggleable__label sk-toggleable__label-arrow\">cats</label><div class=\"sk-toggleable__content\"><pre>[&#x27;funder&#x27;, &#x27;installer&#x27;, &#x27;basin&#x27;, &#x27;lga&#x27;, &#x27;public_meeting&#x27;, &#x27;scheme_name&#x27;, &#x27;permit&#x27;, &#x27;extraction_type&#x27;, &#x27;extraction_type_class&#x27;, &#x27;management&#x27;, &#x27;payment&#x27;, &#x27;water_quality&#x27;, &#x27;quantity&#x27;, &#x27;source&#x27;, &#x27;source_class&#x27;, &#x27;waterpoint_type&#x27;]</pre></div></div></div><div class=\"sk-serial\"><div class=\"sk-item\"><div class=\"sk-serial\"><div class=\"sk-item\"><div class=\"sk-estimator sk-toggleable\"><input class=\"sk-toggleable__control sk-hidden--visually\" id=\"sk-estimator-id-90\" type=\"checkbox\" ><label for=\"sk-estimator-id-90\" class=\"sk-toggleable__label sk-toggleable__label-arrow\">SimpleImputer</label><div class=\"sk-toggleable__content\"><pre>SimpleImputer(add_indicator=True, strategy=&#x27;most_frequent&#x27;)</pre></div></div></div><div class=\"sk-item\"><div class=\"sk-estimator sk-toggleable\"><input class=\"sk-toggleable__control sk-hidden--visually\" id=\"sk-estimator-id-91\" type=\"checkbox\" ><label for=\"sk-estimator-id-91\" class=\"sk-toggleable__label sk-toggleable__label-arrow\">OneHotEncoder</label><div class=\"sk-toggleable__content\"><pre>OneHotEncoder(handle_unknown=&#x27;ignore&#x27;)</pre></div></div></div></div></div></div></div></div><div class=\"sk-parallel-item\"><div class=\"sk-item\"><div class=\"sk-label-container\"><div class=\"sk-label sk-toggleable\"><input class=\"sk-toggleable__control sk-hidden--visually\" id=\"sk-estimator-id-92\" type=\"checkbox\" ><label for=\"sk-estimator-id-92\" class=\"sk-toggleable__label sk-toggleable__label-arrow\">remainder</label><div class=\"sk-toggleable__content\"><pre>[]</pre></div></div></div><div class=\"sk-serial\"><div class=\"sk-item\"><div class=\"sk-estimator sk-toggleable\"><input class=\"sk-toggleable__control sk-hidden--visually\" id=\"sk-estimator-id-93\" type=\"checkbox\" ><label for=\"sk-estimator-id-93\" class=\"sk-toggleable__label sk-toggleable__label-arrow\">passthrough</label><div class=\"sk-toggleable__content\"><pre>passthrough</pre></div></div></div></div></div></div></div></div><div class=\"sk-item\"><div class=\"sk-estimator sk-toggleable\"><input class=\"sk-toggleable__control sk-hidden--visually\" id=\"sk-estimator-id-94\" type=\"checkbox\" ><label for=\"sk-estimator-id-94\" class=\"sk-toggleable__label sk-toggleable__label-arrow\">LogisticRegression</label><div class=\"sk-toggleable__content\"><pre>LogisticRegression(n_jobs=-1)</pre></div></div></div></div></div></div></div>"
      ],
      "text/plain": [
       "Pipeline(steps=[('ct',\n",
       "                 ColumnTransformer(n_jobs=-1, remainder='passthrough',\n",
       "                                   transformers=[('nums',\n",
       "                                                  Pipeline(steps=[('num_impute',\n",
       "                                                                   SimpleImputer(add_indicator=True)),\n",
       "                                                                  ('ss',\n",
       "                                                                   StandardScaler())]),\n",
       "                                                  ['amount_tsh', 'gps_height',\n",
       "                                                   'longitude', 'latitude',\n",
       "                                                   'num_private', 'region_code',\n",
       "                                                   'district_code',\n",
       "                                                   'population', 'age_years']),\n",
       "                                                 ('cats',\n",
       "                                                  Pipeline(steps=[('cat_impute',\n",
       "                                                                   Simp...indicator=True,\n",
       "                                                                                 strategy='most_frequent')),\n",
       "                                                                  ('ohe',\n",
       "                                                                   OneHotEncoder(handle_unknown='ignore'))]),\n",
       "                                                  ['funder', 'installer',\n",
       "                                                   'basin', 'lga',\n",
       "                                                   'public_meeting',\n",
       "                                                   'scheme_name', 'permit',\n",
       "                                                   'extraction_type',\n",
       "                                                   'extraction_type_class',\n",
       "                                                   'management', 'payment',\n",
       "                                                   'water_quality', 'quantity',\n",
       "                                                   'source', 'source_class',\n",
       "                                                   'waterpoint_type'])])),\n",
       "                ('binary_2', LogisticRegression(n_jobs=-1))])"
      ]
     },
     "execution_count": 44,
     "metadata": {},
     "output_type": "execute_result"
    }
   ],
   "source": [
    "# using default parameters\n",
    "\n",
    "binary_2 = Pipeline([\n",
    "    ('ct', ct),\n",
    "    ('binary_2', LogisticRegression(n_jobs=-1))\n",
    "])\n",
    "\n",
    "binary_2.fit(X_train, y_train)"
   ]
  },
  {
   "cell_type": "code",
   "execution_count": 45,
   "metadata": {
    "ExecuteTime": {
     "end_time": "2023-10-09T00:08:21.764549Z",
     "start_time": "2023-10-09T00:08:21.749535Z"
    },
    "hidden": true
   },
   "outputs": [],
   "source": [
    "# using parameters found from above analysis\n",
    "# second binary grid search, 240 unique models\n",
    "\n",
    "params = {\n",
    "    'ct__nums__num_impute__strategy': ['mean', 'median'],\n",
    "    'binary_2__class_weight': [None],\n",
    "    'binary_2__penalty': ['l2'],\n",
    "    'binary_2__solver' : ['liblinear', 'newton-cg', 'lbfgs'],\n",
    "    'binary_2__max_iter': [1000],\n",
    "    'binary_2__C' : [1e4, 1e5, 1e6, 1e7],\n",
    "    'binary_2__tol' : [0.001]\n",
    "}\n",
    "\n",
    "binary_search_2 = GridSearchCV(binary_2, params, n_jobs=6, verbose=2)"
   ]
  },
  {
   "cell_type": "code",
   "execution_count": 46,
   "metadata": {
    "ExecuteTime": {
     "end_time": "2023-10-09T01:24:36.970936Z",
     "start_time": "2023-10-09T00:08:21.765550Z"
    },
    "hidden": true
   },
   "outputs": [
    {
     "name": "stdout",
     "output_type": "stream",
     "text": [
      "Fitting 5 folds for each of 24 candidates, totalling 120 fits\n"
     ]
    },
    {
     "data": {
      "text/html": [
       "<style>#sk-container-id-9 {color: black;}#sk-container-id-9 pre{padding: 0;}#sk-container-id-9 div.sk-toggleable {background-color: white;}#sk-container-id-9 label.sk-toggleable__label {cursor: pointer;display: block;width: 100%;margin-bottom: 0;padding: 0.3em;box-sizing: border-box;text-align: center;}#sk-container-id-9 label.sk-toggleable__label-arrow:before {content: \"▸\";float: left;margin-right: 0.25em;color: #696969;}#sk-container-id-9 label.sk-toggleable__label-arrow:hover:before {color: black;}#sk-container-id-9 div.sk-estimator:hover label.sk-toggleable__label-arrow:before {color: black;}#sk-container-id-9 div.sk-toggleable__content {max-height: 0;max-width: 0;overflow: hidden;text-align: left;background-color: #f0f8ff;}#sk-container-id-9 div.sk-toggleable__content pre {margin: 0.2em;color: black;border-radius: 0.25em;background-color: #f0f8ff;}#sk-container-id-9 input.sk-toggleable__control:checked~div.sk-toggleable__content {max-height: 200px;max-width: 100%;overflow: auto;}#sk-container-id-9 input.sk-toggleable__control:checked~label.sk-toggleable__label-arrow:before {content: \"▾\";}#sk-container-id-9 div.sk-estimator input.sk-toggleable__control:checked~label.sk-toggleable__label {background-color: #d4ebff;}#sk-container-id-9 div.sk-label input.sk-toggleable__control:checked~label.sk-toggleable__label {background-color: #d4ebff;}#sk-container-id-9 input.sk-hidden--visually {border: 0;clip: rect(1px 1px 1px 1px);clip: rect(1px, 1px, 1px, 1px);height: 1px;margin: -1px;overflow: hidden;padding: 0;position: absolute;width: 1px;}#sk-container-id-9 div.sk-estimator {font-family: monospace;background-color: #f0f8ff;border: 1px dotted black;border-radius: 0.25em;box-sizing: border-box;margin-bottom: 0.5em;}#sk-container-id-9 div.sk-estimator:hover {background-color: #d4ebff;}#sk-container-id-9 div.sk-parallel-item::after {content: \"\";width: 100%;border-bottom: 1px solid gray;flex-grow: 1;}#sk-container-id-9 div.sk-label:hover label.sk-toggleable__label {background-color: #d4ebff;}#sk-container-id-9 div.sk-serial::before {content: \"\";position: absolute;border-left: 1px solid gray;box-sizing: border-box;top: 0;bottom: 0;left: 50%;z-index: 0;}#sk-container-id-9 div.sk-serial {display: flex;flex-direction: column;align-items: center;background-color: white;padding-right: 0.2em;padding-left: 0.2em;position: relative;}#sk-container-id-9 div.sk-item {position: relative;z-index: 1;}#sk-container-id-9 div.sk-parallel {display: flex;align-items: stretch;justify-content: center;background-color: white;position: relative;}#sk-container-id-9 div.sk-item::before, #sk-container-id-9 div.sk-parallel-item::before {content: \"\";position: absolute;border-left: 1px solid gray;box-sizing: border-box;top: 0;bottom: 0;left: 50%;z-index: -1;}#sk-container-id-9 div.sk-parallel-item {display: flex;flex-direction: column;z-index: 1;position: relative;background-color: white;}#sk-container-id-9 div.sk-parallel-item:first-child::after {align-self: flex-end;width: 50%;}#sk-container-id-9 div.sk-parallel-item:last-child::after {align-self: flex-start;width: 50%;}#sk-container-id-9 div.sk-parallel-item:only-child::after {width: 0;}#sk-container-id-9 div.sk-dashed-wrapped {border: 1px dashed gray;margin: 0 0.4em 0.5em 0.4em;box-sizing: border-box;padding-bottom: 0.4em;background-color: white;}#sk-container-id-9 div.sk-label label {font-family: monospace;font-weight: bold;display: inline-block;line-height: 1.2em;}#sk-container-id-9 div.sk-label-container {text-align: center;}#sk-container-id-9 div.sk-container {/* jupyter's `normalize.less` sets `[hidden] { display: none; }` but bootstrap.min.css set `[hidden] { display: none !important; }` so we also need the `!important` here to be able to override the default hidden behavior on the sphinx rendered scikit-learn.org. See: https://github.com/scikit-learn/scikit-learn/issues/21755 */display: inline-block !important;position: relative;}#sk-container-id-9 div.sk-text-repr-fallback {display: none;}</style><div id=\"sk-container-id-9\" class=\"sk-top-container\"><div class=\"sk-text-repr-fallback\"><pre>GridSearchCV(estimator=Pipeline(steps=[(&#x27;ct&#x27;,\n",
       "                                        ColumnTransformer(n_jobs=-1,\n",
       "                                                          remainder=&#x27;passthrough&#x27;,\n",
       "                                                          transformers=[(&#x27;nums&#x27;,\n",
       "                                                                         Pipeline(steps=[(&#x27;num_impute&#x27;,\n",
       "                                                                                          SimpleImputer(add_indicator=True)),\n",
       "                                                                                         (&#x27;ss&#x27;,\n",
       "                                                                                          StandardScaler())]),\n",
       "                                                                         [&#x27;amount_tsh&#x27;,\n",
       "                                                                          &#x27;gps_height&#x27;,\n",
       "                                                                          &#x27;longitude&#x27;,\n",
       "                                                                          &#x27;latitude&#x27;,\n",
       "                                                                          &#x27;num_private&#x27;,\n",
       "                                                                          &#x27;region_code&#x27;,\n",
       "                                                                          &#x27;district_code&#x27;,\n",
       "                                                                          &#x27;population&#x27;,\n",
       "                                                                          &#x27;age_years&#x27;]),\n",
       "                                                                        (&#x27;cats&#x27;,\n",
       "                                                                         Pipeline(st...\n",
       "                                                                          &#x27;waterpoint_type&#x27;])])),\n",
       "                                       (&#x27;binary_2&#x27;,\n",
       "                                        LogisticRegression(n_jobs=-1))]),\n",
       "             n_jobs=6,\n",
       "             param_grid={&#x27;binary_2__C&#x27;: [10000.0, 100000.0, 1000000.0,\n",
       "                                         10000000.0],\n",
       "                         &#x27;binary_2__class_weight&#x27;: [None],\n",
       "                         &#x27;binary_2__max_iter&#x27;: [1000],\n",
       "                         &#x27;binary_2__penalty&#x27;: [&#x27;l2&#x27;],\n",
       "                         &#x27;binary_2__solver&#x27;: [&#x27;liblinear&#x27;, &#x27;newton-cg&#x27;,\n",
       "                                              &#x27;lbfgs&#x27;],\n",
       "                         &#x27;binary_2__tol&#x27;: [0.001],\n",
       "                         &#x27;ct__nums__num_impute__strategy&#x27;: [&#x27;mean&#x27;, &#x27;median&#x27;]},\n",
       "             verbose=2)</pre><b>In a Jupyter environment, please rerun this cell to show the HTML representation or trust the notebook. <br />On GitHub, the HTML representation is unable to render, please try loading this page with nbviewer.org.</b></div><div class=\"sk-container\" hidden><div class=\"sk-item sk-dashed-wrapped\"><div class=\"sk-label-container\"><div class=\"sk-label sk-toggleable\"><input class=\"sk-toggleable__control sk-hidden--visually\" id=\"sk-estimator-id-95\" type=\"checkbox\" ><label for=\"sk-estimator-id-95\" class=\"sk-toggleable__label sk-toggleable__label-arrow\">GridSearchCV</label><div class=\"sk-toggleable__content\"><pre>GridSearchCV(estimator=Pipeline(steps=[(&#x27;ct&#x27;,\n",
       "                                        ColumnTransformer(n_jobs=-1,\n",
       "                                                          remainder=&#x27;passthrough&#x27;,\n",
       "                                                          transformers=[(&#x27;nums&#x27;,\n",
       "                                                                         Pipeline(steps=[(&#x27;num_impute&#x27;,\n",
       "                                                                                          SimpleImputer(add_indicator=True)),\n",
       "                                                                                         (&#x27;ss&#x27;,\n",
       "                                                                                          StandardScaler())]),\n",
       "                                                                         [&#x27;amount_tsh&#x27;,\n",
       "                                                                          &#x27;gps_height&#x27;,\n",
       "                                                                          &#x27;longitude&#x27;,\n",
       "                                                                          &#x27;latitude&#x27;,\n",
       "                                                                          &#x27;num_private&#x27;,\n",
       "                                                                          &#x27;region_code&#x27;,\n",
       "                                                                          &#x27;district_code&#x27;,\n",
       "                                                                          &#x27;population&#x27;,\n",
       "                                                                          &#x27;age_years&#x27;]),\n",
       "                                                                        (&#x27;cats&#x27;,\n",
       "                                                                         Pipeline(st...\n",
       "                                                                          &#x27;waterpoint_type&#x27;])])),\n",
       "                                       (&#x27;binary_2&#x27;,\n",
       "                                        LogisticRegression(n_jobs=-1))]),\n",
       "             n_jobs=6,\n",
       "             param_grid={&#x27;binary_2__C&#x27;: [10000.0, 100000.0, 1000000.0,\n",
       "                                         10000000.0],\n",
       "                         &#x27;binary_2__class_weight&#x27;: [None],\n",
       "                         &#x27;binary_2__max_iter&#x27;: [1000],\n",
       "                         &#x27;binary_2__penalty&#x27;: [&#x27;l2&#x27;],\n",
       "                         &#x27;binary_2__solver&#x27;: [&#x27;liblinear&#x27;, &#x27;newton-cg&#x27;,\n",
       "                                              &#x27;lbfgs&#x27;],\n",
       "                         &#x27;binary_2__tol&#x27;: [0.001],\n",
       "                         &#x27;ct__nums__num_impute__strategy&#x27;: [&#x27;mean&#x27;, &#x27;median&#x27;]},\n",
       "             verbose=2)</pre></div></div></div><div class=\"sk-parallel\"><div class=\"sk-parallel-item\"><div class=\"sk-item\"><div class=\"sk-label-container\"><div class=\"sk-label sk-toggleable\"><input class=\"sk-toggleable__control sk-hidden--visually\" id=\"sk-estimator-id-96\" type=\"checkbox\" ><label for=\"sk-estimator-id-96\" class=\"sk-toggleable__label sk-toggleable__label-arrow\">estimator: Pipeline</label><div class=\"sk-toggleable__content\"><pre>Pipeline(steps=[(&#x27;ct&#x27;,\n",
       "                 ColumnTransformer(n_jobs=-1, remainder=&#x27;passthrough&#x27;,\n",
       "                                   transformers=[(&#x27;nums&#x27;,\n",
       "                                                  Pipeline(steps=[(&#x27;num_impute&#x27;,\n",
       "                                                                   SimpleImputer(add_indicator=True)),\n",
       "                                                                  (&#x27;ss&#x27;,\n",
       "                                                                   StandardScaler())]),\n",
       "                                                  [&#x27;amount_tsh&#x27;, &#x27;gps_height&#x27;,\n",
       "                                                   &#x27;longitude&#x27;, &#x27;latitude&#x27;,\n",
       "                                                   &#x27;num_private&#x27;, &#x27;region_code&#x27;,\n",
       "                                                   &#x27;district_code&#x27;,\n",
       "                                                   &#x27;population&#x27;, &#x27;age_years&#x27;]),\n",
       "                                                 (&#x27;cats&#x27;,\n",
       "                                                  Pipeline(steps=[(&#x27;cat_impute&#x27;,\n",
       "                                                                   Simp...indicator=True,\n",
       "                                                                                 strategy=&#x27;most_frequent&#x27;)),\n",
       "                                                                  (&#x27;ohe&#x27;,\n",
       "                                                                   OneHotEncoder(handle_unknown=&#x27;ignore&#x27;))]),\n",
       "                                                  [&#x27;funder&#x27;, &#x27;installer&#x27;,\n",
       "                                                   &#x27;basin&#x27;, &#x27;lga&#x27;,\n",
       "                                                   &#x27;public_meeting&#x27;,\n",
       "                                                   &#x27;scheme_name&#x27;, &#x27;permit&#x27;,\n",
       "                                                   &#x27;extraction_type&#x27;,\n",
       "                                                   &#x27;extraction_type_class&#x27;,\n",
       "                                                   &#x27;management&#x27;, &#x27;payment&#x27;,\n",
       "                                                   &#x27;water_quality&#x27;, &#x27;quantity&#x27;,\n",
       "                                                   &#x27;source&#x27;, &#x27;source_class&#x27;,\n",
       "                                                   &#x27;waterpoint_type&#x27;])])),\n",
       "                (&#x27;binary_2&#x27;, LogisticRegression(n_jobs=-1))])</pre></div></div></div><div class=\"sk-serial\"><div class=\"sk-item\"><div class=\"sk-serial\"><div class=\"sk-item sk-dashed-wrapped\"><div class=\"sk-label-container\"><div class=\"sk-label sk-toggleable\"><input class=\"sk-toggleable__control sk-hidden--visually\" id=\"sk-estimator-id-97\" type=\"checkbox\" ><label for=\"sk-estimator-id-97\" class=\"sk-toggleable__label sk-toggleable__label-arrow\">ct: ColumnTransformer</label><div class=\"sk-toggleable__content\"><pre>ColumnTransformer(n_jobs=-1, remainder=&#x27;passthrough&#x27;,\n",
       "                  transformers=[(&#x27;nums&#x27;,\n",
       "                                 Pipeline(steps=[(&#x27;num_impute&#x27;,\n",
       "                                                  SimpleImputer(add_indicator=True)),\n",
       "                                                 (&#x27;ss&#x27;, StandardScaler())]),\n",
       "                                 [&#x27;amount_tsh&#x27;, &#x27;gps_height&#x27;, &#x27;longitude&#x27;,\n",
       "                                  &#x27;latitude&#x27;, &#x27;num_private&#x27;, &#x27;region_code&#x27;,\n",
       "                                  &#x27;district_code&#x27;, &#x27;population&#x27;, &#x27;age_years&#x27;]),\n",
       "                                (&#x27;cats&#x27;,\n",
       "                                 Pipeline(steps=[(&#x27;cat_impute&#x27;,\n",
       "                                                  SimpleImputer(add_indicator=True,\n",
       "                                                                strategy=&#x27;most_frequent&#x27;)),\n",
       "                                                 (&#x27;ohe&#x27;,\n",
       "                                                  OneHotEncoder(handle_unknown=&#x27;ignore&#x27;))]),\n",
       "                                 [&#x27;funder&#x27;, &#x27;installer&#x27;, &#x27;basin&#x27;, &#x27;lga&#x27;,\n",
       "                                  &#x27;public_meeting&#x27;, &#x27;scheme_name&#x27;, &#x27;permit&#x27;,\n",
       "                                  &#x27;extraction_type&#x27;, &#x27;extraction_type_class&#x27;,\n",
       "                                  &#x27;management&#x27;, &#x27;payment&#x27;, &#x27;water_quality&#x27;,\n",
       "                                  &#x27;quantity&#x27;, &#x27;source&#x27;, &#x27;source_class&#x27;,\n",
       "                                  &#x27;waterpoint_type&#x27;])])</pre></div></div></div><div class=\"sk-parallel\"><div class=\"sk-parallel-item\"><div class=\"sk-item\"><div class=\"sk-label-container\"><div class=\"sk-label sk-toggleable\"><input class=\"sk-toggleable__control sk-hidden--visually\" id=\"sk-estimator-id-98\" type=\"checkbox\" ><label for=\"sk-estimator-id-98\" class=\"sk-toggleable__label sk-toggleable__label-arrow\">nums</label><div class=\"sk-toggleable__content\"><pre>[&#x27;amount_tsh&#x27;, &#x27;gps_height&#x27;, &#x27;longitude&#x27;, &#x27;latitude&#x27;, &#x27;num_private&#x27;, &#x27;region_code&#x27;, &#x27;district_code&#x27;, &#x27;population&#x27;, &#x27;age_years&#x27;]</pre></div></div></div><div class=\"sk-serial\"><div class=\"sk-item\"><div class=\"sk-serial\"><div class=\"sk-item\"><div class=\"sk-estimator sk-toggleable\"><input class=\"sk-toggleable__control sk-hidden--visually\" id=\"sk-estimator-id-99\" type=\"checkbox\" ><label for=\"sk-estimator-id-99\" class=\"sk-toggleable__label sk-toggleable__label-arrow\">SimpleImputer</label><div class=\"sk-toggleable__content\"><pre>SimpleImputer(add_indicator=True)</pre></div></div></div><div class=\"sk-item\"><div class=\"sk-estimator sk-toggleable\"><input class=\"sk-toggleable__control sk-hidden--visually\" id=\"sk-estimator-id-100\" type=\"checkbox\" ><label for=\"sk-estimator-id-100\" class=\"sk-toggleable__label sk-toggleable__label-arrow\">StandardScaler</label><div class=\"sk-toggleable__content\"><pre>StandardScaler()</pre></div></div></div></div></div></div></div></div><div class=\"sk-parallel-item\"><div class=\"sk-item\"><div class=\"sk-label-container\"><div class=\"sk-label sk-toggleable\"><input class=\"sk-toggleable__control sk-hidden--visually\" id=\"sk-estimator-id-101\" type=\"checkbox\" ><label for=\"sk-estimator-id-101\" class=\"sk-toggleable__label sk-toggleable__label-arrow\">cats</label><div class=\"sk-toggleable__content\"><pre>[&#x27;funder&#x27;, &#x27;installer&#x27;, &#x27;basin&#x27;, &#x27;lga&#x27;, &#x27;public_meeting&#x27;, &#x27;scheme_name&#x27;, &#x27;permit&#x27;, &#x27;extraction_type&#x27;, &#x27;extraction_type_class&#x27;, &#x27;management&#x27;, &#x27;payment&#x27;, &#x27;water_quality&#x27;, &#x27;quantity&#x27;, &#x27;source&#x27;, &#x27;source_class&#x27;, &#x27;waterpoint_type&#x27;]</pre></div></div></div><div class=\"sk-serial\"><div class=\"sk-item\"><div class=\"sk-serial\"><div class=\"sk-item\"><div class=\"sk-estimator sk-toggleable\"><input class=\"sk-toggleable__control sk-hidden--visually\" id=\"sk-estimator-id-102\" type=\"checkbox\" ><label for=\"sk-estimator-id-102\" class=\"sk-toggleable__label sk-toggleable__label-arrow\">SimpleImputer</label><div class=\"sk-toggleable__content\"><pre>SimpleImputer(add_indicator=True, strategy=&#x27;most_frequent&#x27;)</pre></div></div></div><div class=\"sk-item\"><div class=\"sk-estimator sk-toggleable\"><input class=\"sk-toggleable__control sk-hidden--visually\" id=\"sk-estimator-id-103\" type=\"checkbox\" ><label for=\"sk-estimator-id-103\" class=\"sk-toggleable__label sk-toggleable__label-arrow\">OneHotEncoder</label><div class=\"sk-toggleable__content\"><pre>OneHotEncoder(handle_unknown=&#x27;ignore&#x27;)</pre></div></div></div></div></div></div></div></div><div class=\"sk-parallel-item\"><div class=\"sk-item\"><div class=\"sk-label-container\"><div class=\"sk-label sk-toggleable\"><input class=\"sk-toggleable__control sk-hidden--visually\" id=\"sk-estimator-id-104\" type=\"checkbox\" ><label for=\"sk-estimator-id-104\" class=\"sk-toggleable__label sk-toggleable__label-arrow\">remainder</label><div class=\"sk-toggleable__content\"><pre>[]</pre></div></div></div><div class=\"sk-serial\"><div class=\"sk-item\"><div class=\"sk-estimator sk-toggleable\"><input class=\"sk-toggleable__control sk-hidden--visually\" id=\"sk-estimator-id-105\" type=\"checkbox\" ><label for=\"sk-estimator-id-105\" class=\"sk-toggleable__label sk-toggleable__label-arrow\">passthrough</label><div class=\"sk-toggleable__content\"><pre>passthrough</pre></div></div></div></div></div></div></div></div><div class=\"sk-item\"><div class=\"sk-estimator sk-toggleable\"><input class=\"sk-toggleable__control sk-hidden--visually\" id=\"sk-estimator-id-106\" type=\"checkbox\" ><label for=\"sk-estimator-id-106\" class=\"sk-toggleable__label sk-toggleable__label-arrow\">LogisticRegression</label><div class=\"sk-toggleable__content\"><pre>LogisticRegression(n_jobs=-1)</pre></div></div></div></div></div></div></div></div></div></div></div></div>"
      ],
      "text/plain": [
       "GridSearchCV(estimator=Pipeline(steps=[('ct',\n",
       "                                        ColumnTransformer(n_jobs=-1,\n",
       "                                                          remainder='passthrough',\n",
       "                                                          transformers=[('nums',\n",
       "                                                                         Pipeline(steps=[('num_impute',\n",
       "                                                                                          SimpleImputer(add_indicator=True)),\n",
       "                                                                                         ('ss',\n",
       "                                                                                          StandardScaler())]),\n",
       "                                                                         ['amount_tsh',\n",
       "                                                                          'gps_height',\n",
       "                                                                          'longitude',\n",
       "                                                                          'latitude',\n",
       "                                                                          'num_private',\n",
       "                                                                          'region_code',\n",
       "                                                                          'district_code',\n",
       "                                                                          'population',\n",
       "                                                                          'age_years']),\n",
       "                                                                        ('cats',\n",
       "                                                                         Pipeline(st...\n",
       "                                                                          'waterpoint_type'])])),\n",
       "                                       ('binary_2',\n",
       "                                        LogisticRegression(n_jobs=-1))]),\n",
       "             n_jobs=6,\n",
       "             param_grid={'binary_2__C': [10000.0, 100000.0, 1000000.0,\n",
       "                                         10000000.0],\n",
       "                         'binary_2__class_weight': [None],\n",
       "                         'binary_2__max_iter': [1000],\n",
       "                         'binary_2__penalty': ['l2'],\n",
       "                         'binary_2__solver': ['liblinear', 'newton-cg',\n",
       "                                              'lbfgs'],\n",
       "                         'binary_2__tol': [0.001],\n",
       "                         'ct__nums__num_impute__strategy': ['mean', 'median']},\n",
       "             verbose=2)"
      ]
     },
     "execution_count": 46,
     "metadata": {},
     "output_type": "execute_result"
    }
   ],
   "source": [
    "# DO NOT RUN THIS CELL\n",
    "\n",
    "# perform grid search\n",
    "binary_search_2.fit(X_train, y_train)"
   ]
  },
  {
   "cell_type": "code",
   "execution_count": 47,
   "metadata": {
    "ExecuteTime": {
     "end_time": "2023-10-09T01:24:53.142123Z",
     "start_time": "2023-10-09T01:24:36.971937Z"
    },
    "hidden": true
   },
   "outputs": [
    {
     "data": {
      "text/html": [
       "<div>\n",
       "<style scoped>\n",
       "    .dataframe tbody tr th:only-of-type {\n",
       "        vertical-align: middle;\n",
       "    }\n",
       "\n",
       "    .dataframe tbody tr th {\n",
       "        vertical-align: top;\n",
       "    }\n",
       "\n",
       "    .dataframe thead th {\n",
       "        text-align: right;\n",
       "    }\n",
       "</style>\n",
       "<table border=\"1\" class=\"dataframe\">\n",
       "  <thead>\n",
       "    <tr style=\"text-align: right;\">\n",
       "      <th></th>\n",
       "      <th>params</th>\n",
       "      <th>test_score</th>\n",
       "      <th>dys_acc</th>\n",
       "    </tr>\n",
       "  </thead>\n",
       "  <tbody>\n",
       "    <tr>\n",
       "      <th>1</th>\n",
       "      <td>{'binary_2__C': 100000.0, 'binary_2__class_wei...</td>\n",
       "      <td>0.793981</td>\n",
       "      <td>0.711553</td>\n",
       "    </tr>\n",
       "    <tr>\n",
       "      <th>0</th>\n",
       "      <td>{'binary_2__C': 10000.0, 'binary_2__class_weig...</td>\n",
       "      <td>0.794024</td>\n",
       "      <td>0.711185</td>\n",
       "    </tr>\n",
       "  </tbody>\n",
       "</table>\n",
       "</div>"
      ],
      "text/plain": [
       "                                              params  test_score   dys_acc\n",
       "1  {'binary_2__C': 100000.0, 'binary_2__class_wei...    0.793981  0.711553\n",
       "0  {'binary_2__C': 10000.0, 'binary_2__class_weig...    0.794024  0.711185"
      ]
     },
     "execution_count": 47,
     "metadata": {},
     "output_type": "execute_result"
    }
   ],
   "source": [
    "# use get_df for binaryclass grid search 2\n",
    "binary_df_2 = get_df(grid_search=binary_search_2, model_name='binary_2')\n",
    "\n",
    "# top 10 dys_accs\n",
    "binary_df_2.sort_values('dys_acc', ascending=False)"
   ]
  },
  {
   "cell_type": "markdown",
   "metadata": {
    "hidden": true
   },
   "source": [
    "- The bottom model is the better of the 2, but it still isn't better than our best model from search 1."
   ]
  },
  {
   "cell_type": "code",
   "execution_count": 54,
   "metadata": {
    "ExecuteTime": {
     "end_time": "2023-10-09T03:01:38.388239Z",
     "start_time": "2023-10-09T03:01:38.374225Z"
    },
    "hidden": true
   },
   "outputs": [
    {
     "data": {
      "text/html": [
       "<div>\n",
       "<style scoped>\n",
       "    .dataframe tbody tr th:only-of-type {\n",
       "        vertical-align: middle;\n",
       "    }\n",
       "\n",
       "    .dataframe tbody tr th {\n",
       "        vertical-align: top;\n",
       "    }\n",
       "\n",
       "    .dataframe thead th {\n",
       "        text-align: right;\n",
       "    }\n",
       "</style>\n",
       "<table border=\"1\" class=\"dataframe\">\n",
       "  <thead>\n",
       "    <tr style=\"text-align: right;\">\n",
       "      <th></th>\n",
       "      <th>params</th>\n",
       "      <th>test_score</th>\n",
       "      <th>dys_acc</th>\n",
       "    </tr>\n",
       "  </thead>\n",
       "  <tbody>\n",
       "    <tr>\n",
       "      <th>2</th>\n",
       "      <td>{'binary_1__C': 100.0, 'binary_1__class_weight...</td>\n",
       "      <td>0.794108</td>\n",
       "      <td>0.71284</td>\n",
       "    </tr>\n",
       "  </tbody>\n",
       "</table>\n",
       "</div>"
      ],
      "text/plain": [
       "                                              params  test_score  dys_acc\n",
       "2  {'binary_1__C': 100.0, 'binary_1__class_weight...    0.794108  0.71284"
      ]
     },
     "execution_count": 54,
     "metadata": {},
     "output_type": "execute_result"
    }
   ],
   "source": [
    "best_model"
   ]
  },
  {
   "cell_type": "markdown",
   "metadata": {
    "heading_collapsed": true,
    "hidden": true
   },
   "source": [
    "## Second recommendation:\n",
    "Say hello to our second recommendation: __The AquaClassify Pro__! It predicts water well functionality with an overall accuracy of 79.4% and a dysfunctional accuracy of 71.3%."
   ]
  },
  {
   "cell_type": "markdown",
   "metadata": {},
   "source": [
    "# Compare final 2 models:"
   ]
  },
  {
   "cell_type": "code",
   "execution_count": 61,
   "metadata": {
    "ExecuteTime": {
     "end_time": "2023-10-09T03:09:49.570594Z",
     "start_time": "2023-10-09T03:09:49.556582Z"
    }
   },
   "outputs": [
    {
     "data": {
      "text/html": [
       "<div>\n",
       "<style scoped>\n",
       "    .dataframe tbody tr th:only-of-type {\n",
       "        vertical-align: middle;\n",
       "    }\n",
       "\n",
       "    .dataframe tbody tr th {\n",
       "        vertical-align: top;\n",
       "    }\n",
       "\n",
       "    .dataframe thead th {\n",
       "        text-align: right;\n",
       "    }\n",
       "</style>\n",
       "<table border=\"1\" class=\"dataframe\">\n",
       "  <thead>\n",
       "    <tr style=\"text-align: right;\">\n",
       "      <th></th>\n",
       "      <th>name</th>\n",
       "      <th>test_acc</th>\n",
       "      <th>dys_acc</th>\n",
       "    </tr>\n",
       "  </thead>\n",
       "  <tbody>\n",
       "    <tr>\n",
       "      <th>0</th>\n",
       "      <td>search_1_best</td>\n",
       "      <td>0.7775</td>\n",
       "      <td>0.6469</td>\n",
       "    </tr>\n",
       "  </tbody>\n",
       "</table>\n",
       "</div>"
      ],
      "text/plain": [
       "            name  test_acc  dys_acc\n",
       "0  search_1_best    0.7775   0.6469"
      ]
     },
     "execution_count": 61,
     "metadata": {},
     "output_type": "execute_result"
    }
   ],
   "source": [
    "# show the TW Predictor\n",
    "trinary_best_models.iloc[[0]]"
   ]
  },
  {
   "cell_type": "code",
   "execution_count": 62,
   "metadata": {
    "ExecuteTime": {
     "end_time": "2023-10-09T03:10:04.856825Z",
     "start_time": "2023-10-09T03:10:04.849820Z"
    }
   },
   "outputs": [
    {
     "data": {
      "text/html": [
       "<div>\n",
       "<style scoped>\n",
       "    .dataframe tbody tr th:only-of-type {\n",
       "        vertical-align: middle;\n",
       "    }\n",
       "\n",
       "    .dataframe tbody tr th {\n",
       "        vertical-align: top;\n",
       "    }\n",
       "\n",
       "    .dataframe thead th {\n",
       "        text-align: right;\n",
       "    }\n",
       "</style>\n",
       "<table border=\"1\" class=\"dataframe\">\n",
       "  <thead>\n",
       "    <tr style=\"text-align: right;\">\n",
       "      <th></th>\n",
       "      <th>params</th>\n",
       "      <th>test_score</th>\n",
       "      <th>dys_acc</th>\n",
       "    </tr>\n",
       "  </thead>\n",
       "  <tbody>\n",
       "    <tr>\n",
       "      <th>2</th>\n",
       "      <td>{'binary_1__C': 100.0, 'binary_1__class_weight...</td>\n",
       "      <td>0.794108</td>\n",
       "      <td>0.71284</td>\n",
       "    </tr>\n",
       "  </tbody>\n",
       "</table>\n",
       "</div>"
      ],
      "text/plain": [
       "                                              params  test_score  dys_acc\n",
       "2  {'binary_1__C': 100.0, 'binary_1__class_weight...    0.794108  0.71284"
      ]
     },
     "execution_count": 62,
     "metadata": {},
     "output_type": "execute_result"
    }
   ],
   "source": [
    "# show the AC Pro\n",
    "best_model"
   ]
  },
  {
   "cell_type": "markdown",
   "metadata": {},
   "source": [
    "- The Ac Pro outperforms the TW Predictor with a 1.7% higher test set acc and a 6.6% higher acc at identifying dysfunctional wells.\n",
    "- It does lose the ability to classify \"needs repair\" wells, but I believe that this extra information is less important the the suppremely higher accuracy score and the ability to identify wells that are really in need of visiting."
   ]
  },
  {
   "cell_type": "markdown",
   "metadata": {
    "heading_collapsed": true
   },
   "source": [
    "# Conclusion:"
   ]
  },
  {
   "cell_type": "markdown",
   "metadata": {
    "hidden": true
   },
   "source": [
    "After cleaning the dataset and iterative model-tuning, we recommend the __The AquaClassify Pro__, a binary logistic regression that identifies new wells with 79.4% accuracy and dysfunctional wells with 71.3% accuracy. Both of these accuracies were the highest values we found from any model. It performs remarkably well at identifying wells that aren't functional. This really is our primary goal: to identify dysfunctional wells so we can repair them and hopefully save human lives in a country that ."
   ]
  },
  {
   "cell_type": "code",
   "execution_count": 57,
   "metadata": {
    "ExecuteTime": {
     "end_time": "2023-10-09T03:04:32.767934Z",
     "start_time": "2023-10-09T03:04:32.758926Z"
    },
    "hidden": true
   },
   "outputs": [
    {
     "data": {
      "text/plain": [
       "[{'binary_1__C': 100.0,\n",
       "  'binary_1__class_weight': None,\n",
       "  'binary_1__max_iter': 100,\n",
       "  'binary_1__penalty': 'l2',\n",
       "  'binary_1__solver': 'newton-cg',\n",
       "  'binary_1__tol': 0.001,\n",
       "  'ct__nums__num_impute__strategy': 'mean'}]"
      ]
     },
     "execution_count": 57,
     "metadata": {},
     "output_type": "execute_result"
    }
   ],
   "source": [
    "# params\n",
    "best_model.params.tolist()"
   ]
  },
  {
   "cell_type": "code",
   "execution_count": null,
   "metadata": {
    "hidden": true
   },
   "outputs": [],
   "source": []
  }
 ],
 "metadata": {
  "kernelspec": {
   "display_name": "Python (learn-env)",
   "language": "python",
   "name": "learn-env"
  },
  "language_info": {
   "codemirror_mode": {
    "name": "ipython",
    "version": 3
   },
   "file_extension": ".py",
   "mimetype": "text/x-python",
   "name": "python",
   "nbconvert_exporter": "python",
   "pygments_lexer": "ipython3",
   "version": "3.8.5"
  },
  "toc": {
   "base_numbering": 1,
   "nav_menu": {},
   "number_sections": true,
   "sideBar": true,
   "skip_h1_title": false,
   "title_cell": "Table of Contents",
   "title_sidebar": "Contents",
   "toc_cell": false,
   "toc_position": {},
   "toc_section_display": true,
   "toc_window_display": false
  }
 },
 "nbformat": 4,
 "nbformat_minor": 4
}
